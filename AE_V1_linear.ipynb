{
  "nbformat": 4,
  "nbformat_minor": 0,
  "metadata": {
    "colab": {
      "provenance": [],
      "authorship_tag": "ABX9TyOB//EKXwtzWgEibIOmaJGR",
      "include_colab_link": true
    },
    "kernelspec": {
      "name": "python3",
      "display_name": "Python 3"
    },
    "language_info": {
      "name": "python"
    },
    "widgets": {
      "application/vnd.jupyter.widget-state+json": {
        "cba1c9910c134c00a21f5e57c0f7fea7": {
          "model_module": "@jupyter-widgets/controls",
          "model_name": "HBoxModel",
          "model_module_version": "1.5.0",
          "state": {
            "_dom_classes": [],
            "_model_module": "@jupyter-widgets/controls",
            "_model_module_version": "1.5.0",
            "_model_name": "HBoxModel",
            "_view_count": null,
            "_view_module": "@jupyter-widgets/controls",
            "_view_module_version": "1.5.0",
            "_view_name": "HBoxView",
            "box_style": "",
            "children": [
              "IPY_MODEL_7c5903081c574d62b7a2d6d80ece31dd",
              "IPY_MODEL_ec58e340b64d4e8bb6d9260b38a43785",
              "IPY_MODEL_5a2dd32325bf424e93bf1009968fdd4c"
            ],
            "layout": "IPY_MODEL_a8ad2661448241e3867eae4413af0709"
          }
        },
        "7c5903081c574d62b7a2d6d80ece31dd": {
          "model_module": "@jupyter-widgets/controls",
          "model_name": "HTMLModel",
          "model_module_version": "1.5.0",
          "state": {
            "_dom_classes": [],
            "_model_module": "@jupyter-widgets/controls",
            "_model_module_version": "1.5.0",
            "_model_name": "HTMLModel",
            "_view_count": null,
            "_view_module": "@jupyter-widgets/controls",
            "_view_module_version": "1.5.0",
            "_view_name": "HTMLView",
            "description": "",
            "description_tooltip": null,
            "layout": "IPY_MODEL_25359f5d6bd342a283daf19ddfd5fdf6",
            "placeholder": "​",
            "style": "IPY_MODEL_d397ee0b13274672848fc68d9ba55a06",
            "value": "100%"
          }
        },
        "ec58e340b64d4e8bb6d9260b38a43785": {
          "model_module": "@jupyter-widgets/controls",
          "model_name": "FloatProgressModel",
          "model_module_version": "1.5.0",
          "state": {
            "_dom_classes": [],
            "_model_module": "@jupyter-widgets/controls",
            "_model_module_version": "1.5.0",
            "_model_name": "FloatProgressModel",
            "_view_count": null,
            "_view_module": "@jupyter-widgets/controls",
            "_view_module_version": "1.5.0",
            "_view_name": "ProgressView",
            "bar_style": "success",
            "description": "",
            "description_tooltip": null,
            "layout": "IPY_MODEL_a8c1693ccfb94133901cdf38771e73fe",
            "max": 20,
            "min": 0,
            "orientation": "horizontal",
            "style": "IPY_MODEL_aac9f26a00984905b3866df5ea121ca0",
            "value": 20
          }
        },
        "5a2dd32325bf424e93bf1009968fdd4c": {
          "model_module": "@jupyter-widgets/controls",
          "model_name": "HTMLModel",
          "model_module_version": "1.5.0",
          "state": {
            "_dom_classes": [],
            "_model_module": "@jupyter-widgets/controls",
            "_model_module_version": "1.5.0",
            "_model_name": "HTMLModel",
            "_view_count": null,
            "_view_module": "@jupyter-widgets/controls",
            "_view_module_version": "1.5.0",
            "_view_name": "HTMLView",
            "description": "",
            "description_tooltip": null,
            "layout": "IPY_MODEL_f69db0e75a294aa8b701fe967a966711",
            "placeholder": "​",
            "style": "IPY_MODEL_c92d8569436b465b965e3e5d80444be8",
            "value": " 20/20 [03:25&lt;00:00, 10.22s/it]"
          }
        },
        "a8ad2661448241e3867eae4413af0709": {
          "model_module": "@jupyter-widgets/base",
          "model_name": "LayoutModel",
          "model_module_version": "1.2.0",
          "state": {
            "_model_module": "@jupyter-widgets/base",
            "_model_module_version": "1.2.0",
            "_model_name": "LayoutModel",
            "_view_count": null,
            "_view_module": "@jupyter-widgets/base",
            "_view_module_version": "1.2.0",
            "_view_name": "LayoutView",
            "align_content": null,
            "align_items": null,
            "align_self": null,
            "border": null,
            "bottom": null,
            "display": null,
            "flex": null,
            "flex_flow": null,
            "grid_area": null,
            "grid_auto_columns": null,
            "grid_auto_flow": null,
            "grid_auto_rows": null,
            "grid_column": null,
            "grid_gap": null,
            "grid_row": null,
            "grid_template_areas": null,
            "grid_template_columns": null,
            "grid_template_rows": null,
            "height": null,
            "justify_content": null,
            "justify_items": null,
            "left": null,
            "margin": null,
            "max_height": null,
            "max_width": null,
            "min_height": null,
            "min_width": null,
            "object_fit": null,
            "object_position": null,
            "order": null,
            "overflow": null,
            "overflow_x": null,
            "overflow_y": null,
            "padding": null,
            "right": null,
            "top": null,
            "visibility": null,
            "width": null
          }
        },
        "25359f5d6bd342a283daf19ddfd5fdf6": {
          "model_module": "@jupyter-widgets/base",
          "model_name": "LayoutModel",
          "model_module_version": "1.2.0",
          "state": {
            "_model_module": "@jupyter-widgets/base",
            "_model_module_version": "1.2.0",
            "_model_name": "LayoutModel",
            "_view_count": null,
            "_view_module": "@jupyter-widgets/base",
            "_view_module_version": "1.2.0",
            "_view_name": "LayoutView",
            "align_content": null,
            "align_items": null,
            "align_self": null,
            "border": null,
            "bottom": null,
            "display": null,
            "flex": null,
            "flex_flow": null,
            "grid_area": null,
            "grid_auto_columns": null,
            "grid_auto_flow": null,
            "grid_auto_rows": null,
            "grid_column": null,
            "grid_gap": null,
            "grid_row": null,
            "grid_template_areas": null,
            "grid_template_columns": null,
            "grid_template_rows": null,
            "height": null,
            "justify_content": null,
            "justify_items": null,
            "left": null,
            "margin": null,
            "max_height": null,
            "max_width": null,
            "min_height": null,
            "min_width": null,
            "object_fit": null,
            "object_position": null,
            "order": null,
            "overflow": null,
            "overflow_x": null,
            "overflow_y": null,
            "padding": null,
            "right": null,
            "top": null,
            "visibility": null,
            "width": null
          }
        },
        "d397ee0b13274672848fc68d9ba55a06": {
          "model_module": "@jupyter-widgets/controls",
          "model_name": "DescriptionStyleModel",
          "model_module_version": "1.5.0",
          "state": {
            "_model_module": "@jupyter-widgets/controls",
            "_model_module_version": "1.5.0",
            "_model_name": "DescriptionStyleModel",
            "_view_count": null,
            "_view_module": "@jupyter-widgets/base",
            "_view_module_version": "1.2.0",
            "_view_name": "StyleView",
            "description_width": ""
          }
        },
        "a8c1693ccfb94133901cdf38771e73fe": {
          "model_module": "@jupyter-widgets/base",
          "model_name": "LayoutModel",
          "model_module_version": "1.2.0",
          "state": {
            "_model_module": "@jupyter-widgets/base",
            "_model_module_version": "1.2.0",
            "_model_name": "LayoutModel",
            "_view_count": null,
            "_view_module": "@jupyter-widgets/base",
            "_view_module_version": "1.2.0",
            "_view_name": "LayoutView",
            "align_content": null,
            "align_items": null,
            "align_self": null,
            "border": null,
            "bottom": null,
            "display": null,
            "flex": null,
            "flex_flow": null,
            "grid_area": null,
            "grid_auto_columns": null,
            "grid_auto_flow": null,
            "grid_auto_rows": null,
            "grid_column": null,
            "grid_gap": null,
            "grid_row": null,
            "grid_template_areas": null,
            "grid_template_columns": null,
            "grid_template_rows": null,
            "height": null,
            "justify_content": null,
            "justify_items": null,
            "left": null,
            "margin": null,
            "max_height": null,
            "max_width": null,
            "min_height": null,
            "min_width": null,
            "object_fit": null,
            "object_position": null,
            "order": null,
            "overflow": null,
            "overflow_x": null,
            "overflow_y": null,
            "padding": null,
            "right": null,
            "top": null,
            "visibility": null,
            "width": null
          }
        },
        "aac9f26a00984905b3866df5ea121ca0": {
          "model_module": "@jupyter-widgets/controls",
          "model_name": "ProgressStyleModel",
          "model_module_version": "1.5.0",
          "state": {
            "_model_module": "@jupyter-widgets/controls",
            "_model_module_version": "1.5.0",
            "_model_name": "ProgressStyleModel",
            "_view_count": null,
            "_view_module": "@jupyter-widgets/base",
            "_view_module_version": "1.2.0",
            "_view_name": "StyleView",
            "bar_color": null,
            "description_width": ""
          }
        },
        "f69db0e75a294aa8b701fe967a966711": {
          "model_module": "@jupyter-widgets/base",
          "model_name": "LayoutModel",
          "model_module_version": "1.2.0",
          "state": {
            "_model_module": "@jupyter-widgets/base",
            "_model_module_version": "1.2.0",
            "_model_name": "LayoutModel",
            "_view_count": null,
            "_view_module": "@jupyter-widgets/base",
            "_view_module_version": "1.2.0",
            "_view_name": "LayoutView",
            "align_content": null,
            "align_items": null,
            "align_self": null,
            "border": null,
            "bottom": null,
            "display": null,
            "flex": null,
            "flex_flow": null,
            "grid_area": null,
            "grid_auto_columns": null,
            "grid_auto_flow": null,
            "grid_auto_rows": null,
            "grid_column": null,
            "grid_gap": null,
            "grid_row": null,
            "grid_template_areas": null,
            "grid_template_columns": null,
            "grid_template_rows": null,
            "height": null,
            "justify_content": null,
            "justify_items": null,
            "left": null,
            "margin": null,
            "max_height": null,
            "max_width": null,
            "min_height": null,
            "min_width": null,
            "object_fit": null,
            "object_position": null,
            "order": null,
            "overflow": null,
            "overflow_x": null,
            "overflow_y": null,
            "padding": null,
            "right": null,
            "top": null,
            "visibility": null,
            "width": null
          }
        },
        "c92d8569436b465b965e3e5d80444be8": {
          "model_module": "@jupyter-widgets/controls",
          "model_name": "DescriptionStyleModel",
          "model_module_version": "1.5.0",
          "state": {
            "_model_module": "@jupyter-widgets/controls",
            "_model_module_version": "1.5.0",
            "_model_name": "DescriptionStyleModel",
            "_view_count": null,
            "_view_module": "@jupyter-widgets/base",
            "_view_module_version": "1.2.0",
            "_view_name": "StyleView",
            "description_width": ""
          }
        }
      }
    }
  },
  "cells": [
    {
      "cell_type": "markdown",
      "metadata": {
        "id": "view-in-github",
        "colab_type": "text"
      },
      "source": [
        "<a href=\"https://colab.research.google.com/github/t-willi/Simula/blob/main/AE_V1_linear.ipynb\" target=\"_parent\"><img src=\"https://colab.research.google.com/assets/colab-badge.svg\" alt=\"Open In Colab\"/></a>"
      ]
    },
    {
      "cell_type": "code",
      "execution_count": 481,
      "metadata": {
        "id": "8eUpzrSTCodl"
      },
      "outputs": [],
      "source": [
        "import torch\n",
        "from torch import nn\n",
        "import matplotlib.pyplot as plt\n",
        "import torchvision\n",
        "from torchvision import datasets, models, transforms\n",
        "from torchvision.transforms import ToTensor\n",
        "import pandas as pd\n",
        "import numpy as np\n",
        "from torch.utils.data import Dataset, DataLoader\n",
        "from timeit import default_timer as timer \n",
        "import glob\n",
        "import torch.optim as optim\n",
        "\n",
        "\n",
        "if torch.cuda.is_available()==True:\n",
        "  device=\"cuda:0\"\n",
        "else:\n",
        "  device =\"cpu\""
      ]
    },
    {
      "cell_type": "code",
      "source": [
        "# t1 = torch.rand(1,2,3)\n",
        "# t1.shape\n",
        "# t1=t1.permute(2,1,0)\n",
        "# t1.shape"
      ],
      "metadata": {
        "id": "AcUwTfSGn0yC"
      },
      "execution_count": 482,
      "outputs": []
    },
    {
      "cell_type": "code",
      "source": [
        "# data_dir=\"/content/CSV_data\"\n",
        "# Data = []\n",
        "# #turn list of dataframes into Tensor\n",
        "# files = glob.glob(data_dir + '/*.csv')\n",
        "# for f in files:\n",
        "#   temp_df=pd.read_csv(f,sep=\" \")\n",
        "#   #print(temp_df)\n",
        "#   temp_list_in=temp_df.iloc[:,1]\n",
        "#   #print(temp_list_in)\n",
        "#   temp_tensor_in = torch.tensor(temp_list_in,dtype=torch.int32)\n",
        "#   #print(temp_tensor_in.dtype)\n",
        "#   temp_list_out=temp_df.iloc[:,2].values\n",
        "#   #print(temp_list_out)\n",
        "#   temp_tensor_out=torch.tensor(temp_list_out,dtype=torch.int32)\n",
        "#   #print(temp_tensor_out.dtype)\n",
        "#   temp_tensor_pair=[temp_tensor_in,temp_tensor_out]\n",
        "#   #print(temp_tensor_pair.dtype)\n",
        "#   Data.append(temp_tensor_pair)\n",
        "\n",
        "# X,y=Data[0]\n",
        "# X.dtype"
      ],
      "metadata": {
        "id": "CQMLS-Jben-2"
      },
      "execution_count": 483,
      "outputs": []
    },
    {
      "cell_type": "code",
      "source": [
        "# def get_tensors(data_dir=\"/content/CSV_data\"):\n",
        "#   Data = []\n",
        "#   #turn list of dataframes into Tensor\n",
        "#   files = glob.glob(data_dir + '/*.csv')\n",
        "#   for f in files:\n",
        "#     temp_df=pd.read_csv(f,sep=\" \")\n",
        "#     #print(temp_df)\n",
        "#     temp_list_in=temp_df.iloc[:,1]\n",
        "#     #print(temp_list_in)\n",
        "#     temp_tensor_in = torch.tensor(temp_list_in,dtype=torch.int32)\n",
        "#     #print(temp_tensor_in.dtype)\n",
        "#     temp_list_out=temp_df.iloc[:,2].values\n",
        "#     #print(temp_list_out)\n",
        "#     temp_tensor_out=torch.tensor(temp_list_out,dtype=torch.int32)\n",
        "#     #print(temp_tensor_out.dtype)\n",
        "#     temp_tensor_pair=[temp_tensor_in,temp_tensor_out]\n",
        "#     #print(temp_tensor_pair.dtype)\n",
        "#     Data.append(temp_tensor_pair)\n",
        "#   return Data"
      ],
      "metadata": {
        "id": "tNobyic6WS_7"
      },
      "execution_count": 484,
      "outputs": []
    },
    {
      "cell_type": "code",
      "source": [
        "# Create custom dataset class to load ECG data into dataset, containing \n",
        "# input tensor with lead 1 and output tensor with desired other leads\n",
        "class Custom_dataset(Dataset):\n",
        "    def __init__(self, data_dir):\n",
        "      #get all files from directory loaded in all_files list\n",
        "      self.all_files = []\n",
        "      self.files = glob.glob(data_dir + '/*.csv')\n",
        "      for f in self.files:\n",
        "        temp_df = pd.read_csv(f,sep=\" \")\n",
        "        self.all_files.append(temp_df)\n",
        "\n",
        "    def __len__(self):\n",
        "      return len(self.all_files)\n",
        "\n",
        "    def __getitem__(self,idx):\n",
        "      Data = []\n",
        "      #turn list of dataframes into Tensor\n",
        "      for f in self.files:\n",
        "        temp_df=pd.read_csv(f,sep=\" \")\n",
        "        #print(temp_df)\n",
        "        temp_list_in=temp_df.iloc[:,1]\n",
        "        #print(temp_list_in)\n",
        "        temp_tensor_in = torch.tensor(temp_list_in,dtype=torch.float32)\n",
        "        temp_tensor_in=temp_tensor_in.unsqueeze(0)\n",
        "        #print(temp_tensor_in.dtype)\n",
        "        temp_list_out=temp_df.iloc[:,2].values\n",
        "        #print(temp_list_out)\n",
        "        temp_tensor_out=torch.tensor(temp_list_out,dtype=torch.float32)\n",
        "        temp_tensor_out=temp_tensor_out.unsqueeze(0)\n",
        "        #temp_tensor_out=temp_tensor_out.permute(1,0)\n",
        "        #print(temp_tensor_out.dtype)\n",
        "        temp_tensor_pair= temp_tensor_in,temp_tensor_out\n",
        "        #print(temp_tensor_pair.dtype)\n",
        "        #Data.append(temp_tensor_pair)\n",
        "      return temp_tensor_pair\n"
      ],
      "metadata": {
        "id": "cal55bVVRw1N"
      },
      "execution_count": 485,
      "outputs": []
    },
    {
      "cell_type": "code",
      "source": [
        "train_dataset = Custom_dataset(data_dir=\"/content/train_CSV_data\")\n",
        "test_dataset = Custom_dataset(data_dir=\"/content/test_CSV_data\")\n",
        "\n"
      ],
      "metadata": {
        "id": "lNtnRLsjUMIp"
      },
      "execution_count": 486,
      "outputs": []
    },
    {
      "cell_type": "code",
      "source": [
        "x,y=train_dataset[0]\n",
        "x"
      ],
      "metadata": {
        "colab": {
          "base_uri": "https://localhost:8080/"
        },
        "id": "UP88T4BDvW0e",
        "outputId": "a5dde5a9-5691-4543-c74c-dbef2afe16a4"
      },
      "execution_count": 532,
      "outputs": [
        {
          "output_type": "execute_result",
          "data": {
            "text/plain": [
              "tensor([[-137., -106.,  -54.,  ...,   82.,  100.,   64.]])"
            ]
          },
          "metadata": {},
          "execution_count": 532
        }
      ]
    },
    {
      "cell_type": "code",
      "source": [
        "from torch.utils.data.dataloader import DataLoader\n",
        "BATCH_SIZE = 10\n",
        "#turn datasets into iterables\n",
        "train_dataloader = DataLoader(train_dataset,\n",
        "                              batch_size=BATCH_SIZE,\n",
        "                              shuffle=True\n",
        "                              )\n",
        "test_dataloader = DataLoader(test_dataset,\n",
        "                              batch_size=BATCH_SIZE,\n",
        "                              shuffle=True\n",
        "                              )"
      ],
      "metadata": {
        "id": "sA756IN7LuVK"
      },
      "execution_count": 487,
      "outputs": []
    },
    {
      "cell_type": "code",
      "source": [
        "\"\"\"\n",
        "Here, we define the autoencoder model.This model is taken from \"https://github.com/L1aoXingyu/pytorch-beginner/blob/master/08-AutoEncoder/simple_autoencoder.py\"\n",
        "\"\"\"\n",
        "class ECG_AE_v1(nn.Module):\n",
        "    def __init__(self):\n",
        "        super(ECG_AE_v1, self).__init__()\n",
        "        self.AE = nn.Sequential(\n",
        "            nn.Linear(4999, 128),\n",
        "            nn.ReLU(),\n",
        "            nn.Linear(128,20),\n",
        "            nn.ReLU(),\n",
        "            nn.Linear(20,10),\n",
        "            nn.ReLU(),\n",
        "            nn.Linear(10,20),\n",
        "            nn.ReLU(),\n",
        "            nn.Linear(20,128),\n",
        "            nn.ReLU(),\n",
        "            nn.Linear(128,4999),\n",
        "        )\n",
        "\n",
        "\n",
        "    def forward(self, x):\n",
        "        x = self.AE(x)\n",
        "        return x\n",
        "\n",
        "\n",
        "model = ECG_AE_v1().to(device)\n",
        "criterion = nn.MSELoss()\n",
        "optimizer = torch.optim.Adam(model.parameters(), lr=0.001)\n",
        "\n"
      ],
      "metadata": {
        "id": "t5WfPAwVIWSB"
      },
      "execution_count": 538,
      "outputs": []
    },
    {
      "cell_type": "code",
      "source": [
        "model"
      ],
      "metadata": {
        "colab": {
          "base_uri": "https://localhost:8080/"
        },
        "id": "eYaklXRV8FkT",
        "outputId": "8293de6b-5944-4b7c-9995-842581d158f6"
      },
      "execution_count": 489,
      "outputs": [
        {
          "output_type": "execute_result",
          "data": {
            "text/plain": [
              "ECG_AE_v1(\n",
              "  (AE): Sequential(\n",
              "    (0): Linear(in_features=4999, out_features=128, bias=True)\n",
              "    (1): ReLU()\n",
              "    (2): Linear(in_features=128, out_features=20, bias=True)\n",
              "    (3): ReLU()\n",
              "    (4): Linear(in_features=20, out_features=10, bias=True)\n",
              "    (5): ReLU()\n",
              "    (6): Linear(in_features=10, out_features=20, bias=True)\n",
              "    (7): ReLU()\n",
              "    (8): Linear(in_features=20, out_features=128, bias=True)\n",
              "    (9): ReLU()\n",
              "    (10): Linear(in_features=128, out_features=4999, bias=True)\n",
              "  )\n",
              ")"
            ]
          },
          "metadata": {},
          "execution_count": 489
        }
      ]
    },
    {
      "cell_type": "code",
      "source": [
        "X,y=next(iter(train_dataloader))\n",
        "X.shape"
      ],
      "metadata": {
        "colab": {
          "base_uri": "https://localhost:8080/"
        },
        "id": "WOxxoaE0g5xn",
        "outputId": "54cb0bf4-8d5b-4d3b-8789-4baebf2bde52"
      },
      "execution_count": 490,
      "outputs": [
        {
          "output_type": "execute_result",
          "data": {
            "text/plain": [
              "torch.Size([10, 1, 4999])"
            ]
          },
          "metadata": {},
          "execution_count": 490
        }
      ]
    },
    {
      "cell_type": "code",
      "source": [
        "# X,y = train_dataset[0]\n",
        "# X"
      ],
      "metadata": {
        "id": "J0IvpJAl_niF"
      },
      "execution_count": 491,
      "outputs": []
    },
    {
      "cell_type": "code",
      "source": [
        "output = model(X)\n",
        "output.shape\n"
      ],
      "metadata": {
        "colab": {
          "base_uri": "https://localhost:8080/"
        },
        "id": "z1DdGj-Q_e8C",
        "outputId": "8491370b-b7b9-4638-bb82-4462c94dcc27"
      },
      "execution_count": 492,
      "outputs": [
        {
          "output_type": "execute_result",
          "data": {
            "text/plain": [
              "torch.Size([10, 1, 4999])"
            ]
          },
          "metadata": {},
          "execution_count": 492
        }
      ]
    },
    {
      "cell_type": "code",
      "source": [
        "y.shape\n"
      ],
      "metadata": {
        "colab": {
          "base_uri": "https://localhost:8080/"
        },
        "id": "hw_p1P3aKHqZ",
        "outputId": "dbb5112b-3b72-4375-b9bf-31aeb4322750"
      },
      "execution_count": 493,
      "outputs": [
        {
          "output_type": "execute_result",
          "data": {
            "text/plain": [
              "torch.Size([10, 1, 4999])"
            ]
          },
          "metadata": {},
          "execution_count": 493
        }
      ]
    },
    {
      "cell_type": "code",
      "source": [
        "X.shape"
      ],
      "metadata": {
        "colab": {
          "base_uri": "https://localhost:8080/"
        },
        "id": "nC1ZABFWKLTD",
        "outputId": "7c41557c-a131-48f3-c263-b6ce6b3f9bd9"
      },
      "execution_count": 494,
      "outputs": [
        {
          "output_type": "execute_result",
          "data": {
            "text/plain": [
              "torch.Size([10, 1, 4999])"
            ]
          },
          "metadata": {},
          "execution_count": 494
        }
      ]
    },
    {
      "cell_type": "code",
      "source": [],
      "metadata": {
        "id": "qFydq9zYLydh"
      },
      "execution_count": 494,
      "outputs": []
    },
    {
      "cell_type": "code",
      "source": [
        "try: \n",
        "    import torchinfo\n",
        "except:\n",
        "    !pip install torchinfo\n",
        "    import torchinfo\n",
        "\n",
        "from torchinfo import summary\n",
        "summary(model, input_size=[1,4999]) # do a test pass through of an example input size "
      ],
      "metadata": {
        "colab": {
          "base_uri": "https://localhost:8080/"
        },
        "id": "QD39NrScQxlq",
        "outputId": "dd404b40-ca1d-4999-d40f-44f2ef15ff88"
      },
      "execution_count": 495,
      "outputs": [
        {
          "output_type": "execute_result",
          "data": {
            "text/plain": [
              "==========================================================================================\n",
              "Layer (type:depth-idx)                   Output Shape              Param #\n",
              "==========================================================================================\n",
              "ECG_AE_v1                                [1, 4999]                 --\n",
              "├─Sequential: 1-1                        [1, 4999]                 --\n",
              "│    └─Linear: 2-1                       [1, 128]                  640,000\n",
              "│    └─ReLU: 2-2                         [1, 128]                  --\n",
              "│    └─Linear: 2-3                       [1, 20]                   2,580\n",
              "│    └─ReLU: 2-4                         [1, 20]                   --\n",
              "│    └─Linear: 2-5                       [1, 10]                   210\n",
              "│    └─ReLU: 2-6                         [1, 10]                   --\n",
              "│    └─Linear: 2-7                       [1, 20]                   220\n",
              "│    └─ReLU: 2-8                         [1, 20]                   --\n",
              "│    └─Linear: 2-9                       [1, 128]                  2,688\n",
              "│    └─ReLU: 2-10                        [1, 128]                  --\n",
              "│    └─Linear: 2-11                      [1, 4999]                 644,871\n",
              "==========================================================================================\n",
              "Total params: 1,290,569\n",
              "Trainable params: 1,290,569\n",
              "Non-trainable params: 0\n",
              "Total mult-adds (M): 1.29\n",
              "==========================================================================================\n",
              "Input size (MB): 0.02\n",
              "Forward/backward pass size (MB): 0.04\n",
              "Params size (MB): 5.16\n",
              "Estimated Total Size (MB): 5.22\n",
              "=========================================================================================="
            ]
          },
          "metadata": {},
          "execution_count": 495
        }
      ]
    },
    {
      "cell_type": "code",
      "source": [
        "from tqdm.auto import tqdm\n",
        "torch.manual_seed(42)\n",
        "#train and test loop\n",
        "Epochs = 20\n",
        "for epoch in tqdm(range(Epochs)):\n",
        "  print(f\"Epoch:{epoch}\")\n",
        "  train_loss=0\n",
        "  for batch, (X,y) in enumerate(train_dataloader):  \n",
        "    model.train()\n",
        "    output=model(X)\n",
        "    loss = criterion(output,y)\n",
        "    train_loss += loss\n",
        "    optimizer.zero_grad()\n",
        "    loss.backward()\n",
        "    optimizer.step()\n",
        "  #average loss per batch\n",
        "  train_loss /= len(train_dataloader)\n",
        "  #start testing\n",
        "  test_loss = 0\n",
        "  model.eval()\n",
        "  with torch.inference_mode():\n",
        "    for X,y in test_dataloader:\n",
        "      test_pred = model(X)\n",
        "      test_loss += criterion(test_pred,y)    \n",
        "    test_loss /= len(test_dataloader)\n",
        "\n",
        "  ##print what is happening\n",
        "  print(f\"\\nTrain loss: {train_loss:.5f} | Test loss: {test_loss:.5f}\")\n",
        "    \n",
        "\n",
        "\n"
      ],
      "metadata": {
        "colab": {
          "base_uri": "https://localhost:8080/",
          "height": 1000,
          "referenced_widgets": [
            "cba1c9910c134c00a21f5e57c0f7fea7",
            "7c5903081c574d62b7a2d6d80ece31dd",
            "ec58e340b64d4e8bb6d9260b38a43785",
            "5a2dd32325bf424e93bf1009968fdd4c",
            "a8ad2661448241e3867eae4413af0709",
            "25359f5d6bd342a283daf19ddfd5fdf6",
            "d397ee0b13274672848fc68d9ba55a06",
            "a8c1693ccfb94133901cdf38771e73fe",
            "aac9f26a00984905b3866df5ea121ca0",
            "f69db0e75a294aa8b701fe967a966711",
            "c92d8569436b465b965e3e5d80444be8"
          ]
        },
        "id": "3uMREYqwckwg",
        "outputId": "699e9ef4-c436-4cf2-b5ab-0c60d220ecd8"
      },
      "execution_count": 543,
      "outputs": [
        {
          "output_type": "display_data",
          "data": {
            "text/plain": [
              "  0%|          | 0/20 [00:00<?, ?it/s]"
            ],
            "application/vnd.jupyter.widget-view+json": {
              "version_major": 2,
              "version_minor": 0,
              "model_id": "cba1c9910c134c00a21f5e57c0f7fea7"
            }
          },
          "metadata": {}
        },
        {
          "output_type": "stream",
          "name": "stdout",
          "text": [
            "Epoch:0\n",
            "\n",
            "Train loss: 13972.85547 | Test loss: 14060.51855\n",
            "Epoch:1\n",
            "\n",
            "Train loss: 10102.03223 | Test loss: 14062.77051\n",
            "Epoch:2\n",
            "\n",
            "Train loss: 6032.00977 | Test loss: 14064.44238\n",
            "Epoch:3\n",
            "\n",
            "Train loss: 3480.73267 | Test loss: 14063.74609\n",
            "Epoch:4\n",
            "\n",
            "Train loss: 1747.41614 | Test loss: 14063.75098\n",
            "Epoch:5\n",
            "\n",
            "Train loss: 733.15015 | Test loss: 14063.66113\n",
            "Epoch:6\n",
            "\n",
            "Train loss: 347.59903 | Test loss: 14064.07715\n",
            "Epoch:7\n",
            "\n",
            "Train loss: 179.43135 | Test loss: 14064.67773\n",
            "Epoch:8\n",
            "\n",
            "Train loss: 85.75521 | Test loss: 14064.46191\n",
            "Epoch:9\n",
            "\n",
            "Train loss: 45.30025 | Test loss: 14064.12109\n",
            "Epoch:10\n",
            "\n",
            "Train loss: 24.79506 | Test loss: 14064.13379\n",
            "Epoch:11\n",
            "\n",
            "Train loss: 12.79756 | Test loss: 14064.16602\n",
            "Epoch:12\n",
            "\n",
            "Train loss: 7.12266 | Test loss: 14064.26270\n",
            "Epoch:13\n",
            "\n",
            "Train loss: 3.91577 | Test loss: 14064.31934\n",
            "Epoch:14\n",
            "\n",
            "Train loss: 2.16624 | Test loss: 14064.28906\n",
            "Epoch:15\n",
            "\n",
            "Train loss: 1.16974 | Test loss: 14064.26172\n",
            "Epoch:16\n",
            "\n",
            "Train loss: 0.59651 | Test loss: 14064.26074\n",
            "Epoch:17\n",
            "\n",
            "Train loss: 0.33089 | Test loss: 14064.28320\n",
            "Epoch:18\n",
            "\n",
            "Train loss: 0.18462 | Test loss: 14064.29297\n",
            "Epoch:19\n",
            "\n",
            "Train loss: 0.20657 | Test loss: 14064.29492\n"
          ]
        }
      ]
    },
    {
      "cell_type": "code",
      "source": [
        "input,output = train_dataset[0]\n",
        "input=input.tolist()\n",
        "data=input[0]\n",
        "data\n",
        "plt.plot(data)\n",
        "plt.title(\"Input ECG lead1\")"
      ],
      "metadata": {
        "colab": {
          "base_uri": "https://localhost:8080/",
          "height": 298
        },
        "id": "X1iZv_5gFGh3",
        "outputId": "6676fa82-5fc5-4ad5-ca7c-4faf3c47bddf"
      },
      "execution_count": 548,
      "outputs": [
        {
          "output_type": "execute_result",
          "data": {
            "text/plain": [
              "Text(0.5, 1.0, 'Input ECG lead1')"
            ]
          },
          "metadata": {},
          "execution_count": 548
        },
        {
          "output_type": "display_data",
          "data": {
            "text/plain": [
              "<Figure size 432x288 with 1 Axes>"
            ],
            "image/png": "[encoded data removed]"
          },
          "metadata": {
            "needs_background": "light"
          }
        }
      ]
    },
    {
      "cell_type": "code",
      "source": [
        "X,y=test_dataset[0]\n",
        "model.eval()\n",
        "with torch.inference_mode():\n",
        "  output=model(X)\n",
        "output=output.tolist()\n",
        "data=output[0]\n",
        "plt.plot(data)\n",
        "plt.title(\"Output ECG trained for 20epochs on 50 datapoints\")"
      ],
      "metadata": {
        "colab": {
          "base_uri": "https://localhost:8080/",
          "height": 298
        },
        "id": "Nx5cRtALrX_4",
        "outputId": "4a06c573-b8c9-48f4-e862-d7ad0c9e3df8"
      },
      "execution_count": 545,
      "outputs": [
        {
          "output_type": "execute_result",
          "data": {
            "text/plain": [
              "Text(0.5, 1.0, 'Output ECG trained for 20epochs on 50 datapoints')"
            ]
          },
          "metadata": {},
          "execution_count": 545
        },
        {
          "output_type": "display_data",
          "data": {
            "text/plain": [
              "<Figure size 432x288 with 1 Axes>"
            ],
            "image/png": "[encoded data removed]"
          },
          "metadata": {
            "needs_background": "light"
          }
        }
      ]
    },
    {
      "cell_type": "code",
      "source": [],
      "metadata": {
        "id": "scCSpwBAwHNk"
      },
      "execution_count": null,
      "outputs": []
    }
  ]
}