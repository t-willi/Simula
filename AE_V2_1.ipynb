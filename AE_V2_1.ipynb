{
  "cells": [
    {
      "cell_type": "markdown",
      "metadata": {
        "id": "view-in-github",
        "colab_type": "text"
      },
      "source": [
        "<a href=\"https://colab.research.google.com/github/t-willi/Simula/blob/main/AE_V2_1.ipynb\" target=\"_parent\"><img src=\"https://colab.research.google.com/assets/colab-badge.svg\" alt=\"Open In Colab\"/></a>"
      ]
    },
    {
      "cell_type": "code",
      "execution_count": 79,
      "metadata": {
        "id": "8eUpzrSTCodl"
      },
      "outputs": [],
      "source": [
        "import torch\n",
        "from torch import nn\n",
        "import matplotlib.pyplot as plt\n",
        "import torchvision\n",
        "from torchvision import datasets, models, transforms\n",
        "from torchvision.transforms import ToTensor\n",
        "import pandas as pd\n",
        "import numpy as np\n",
        "from torch.utils.data import Dataset, DataLoader\n",
        "from timeit import default_timer as timer \n",
        "import glob\n",
        "import torch.optim as optim\n",
        "from sklearn.preprocessing import normalize\n",
        "\n",
        "\n",
        "if torch.cuda.is_available()==True:\n",
        "  device=\"cuda:0\"\n",
        "else:\n",
        "  device =\"cpu\""
      ]
    },
    {
      "cell_type": "code",
      "source": [
        "k = [1,2,3,4]\n",
        "k=np.array(k)\n",
        "t = ToTensor()"
      ],
      "metadata": {
        "id": "mFoek6yJawH6"
      },
      "execution_count": 80,
      "outputs": []
    },
    {
      "cell_type": "code",
      "execution_count": 81,
      "metadata": {
        "id": "Veu-bkI8hXSr"
      },
      "outputs": [],
      "source": [
        "def normalize_df_per_column(df):\n",
        "  for i,k in enumerate(df.columns):\n",
        "    max=df.iloc[:,i].max()\n",
        "    min=df.iloc[:,i].min()\n",
        "    df.iloc[:,i] = df.iloc[:,i].apply(lambda x: ((x-min)/(max-min)))\n",
        "  return df\n"
      ]
    },
    {
      "cell_type": "code",
      "source": [
        "# from pathlib import Path\n",
        "# data_dir=\"/content/train_CSV_data\"\n",
        "# train_data_dir_normal=\"/content/train_CSV_data_normal\"\n",
        "# files = glob.glob(data_dir + '/*.csv')\n",
        "# for f in files:\n",
        "#   temp_df = pd.read_csv(f,sep=\" \")\n",
        "#   normal_df = normalize_df_per_column(temp_df)\n",
        "#   if train_data_dir_normal.is_dir():\n",
        "#     print(f\"{train_data_dir_normal} directory exists.\")\n",
        "#   else:\n",
        "#     print(f\"Did not find {train_data_dir_normal} directory, creating one...\")\n",
        "#     train_data_dir_normal.mkdir(parents=True, exist_ok=True)\n",
        "\n",
        "\n",
        "\n"
      ],
      "metadata": {
        "id": "9ekFz_d0Y1vl"
      },
      "execution_count": 82,
      "outputs": []
    },
    {
      "cell_type": "code",
      "execution_count": 83,
      "metadata": {
        "id": "08x5FggUn7DU"
      },
      "outputs": [],
      "source": [
        "# import requests\n",
        "# import zipfile\n",
        "# from pathlib import Path\n",
        "# #load data to directory from github\n",
        "# # Setup path to data folder\n",
        "# data_path = Path(\"data/\")\n",
        "# train_path = data_path / \"small_train\"\n",
        "# #test_path = data_path / \"train_CSV_data\"\n",
        "\n",
        "# if train_path.is_dir():\n",
        "#     print(f\"{train_path} directory exists.\")\n",
        "# else:\n",
        "#     print(f\"Did not find {train_path} directory, creating one...\")\n",
        "#     train_path.mkdir(parents=True, exist_ok=True)\n",
        "    \n",
        "#     # Download train data\n",
        "#     with open(data_path / \"small_train.zip\", \"wb\") as f:\n",
        "#         request = requests.get(\"https://github.com/t-willi/Simula/blob/main/small_train.zip\")\n",
        "#         print(\"Downloading train data\")\n",
        "#         f.write(request.content)\n",
        "\n",
        "#    # Unzip pizza, steak, sushi data\n",
        "#     with zipfile.ZipFile(data_path / \"small_train.zip\", \"r\") as zip_ref:\n",
        "#         print(\"Unzipping \") \n",
        "#         zip_ref.extractall(train_path)\n"
      ]
    },
    {
      "cell_type": "code",
      "execution_count": 84,
      "metadata": {
        "id": "cal55bVVRw1N"
      },
      "outputs": [],
      "source": [
        "# Create custom dataset class to load ECG data into dataset, containing \n",
        "# input tensor with lead 1 and output tensor with desired other leads\n",
        "class Custom_dataset(Dataset):\n",
        "    def __init__(self, data_dir):\n",
        "      #get all files from directory loaded in all_files list\n",
        "      self.all_files = []\n",
        "      self.files = glob.glob(data_dir + '/*.csv')\n",
        "      for f in self.files:\n",
        "        temp_df = pd.read_csv(f,sep=\" \")\n",
        "        self.all_files.append(temp_df)\n",
        "        # self.normalize=Normalize\n",
        "        # self.transform=Transform\n",
        "\n",
        "    def __len__(self):\n",
        "      return len(self.all_files)\n",
        "\n",
        "    def __getitem__(self,idx):\n",
        "      Data = []\n",
        "      #turn list of dataframes into Tensor\n",
        "      for f in self.files:\n",
        "        temp_df=pd.read_csv(f,sep=\" \")\n",
        "        #temp_df=normalize_df_per_column(temp_df)\n",
        "        #print(temp_df)\n",
        "        temp_list_in=temp_df.iloc[:,1]\n",
        "        temp_list_in=normalize([temp_list_in], norm=\"max\")\n",
        "        #print(temp_list_in)\n",
        "        temp_tensor_in = torch.tensor(temp_list_in,dtype=torch.float32)\n",
        "        temp_tensor_in=temp_tensor_in.unsqueeze(0)\n",
        "        #print(temp_tensor_in.dtype)\n",
        "        temp_list_out=temp_df.iloc[:,3].values\n",
        "        temp_list_out=normalize([temp_list_out], norm=\"max\")\n",
        "        #print(temp_list_out)\n",
        "        temp_tensor_out=torch.tensor(temp_list_out,dtype=torch.float32)\n",
        "        temp_tensor_out=temp_tensor_out.unsqueeze(0)\n",
        "        #temp_tensor_out=temp_tensor_out.permute(1,0)\n",
        "        #print(temp_tensor_out.dtype)\n",
        "        temp_tensor_pair= temp_tensor_in,temp_tensor_out\n",
        "        #print(temp_tensor_pair.dtype)\n",
        "        #Data.append(temp_tensor_pair)\n",
        "      return temp_tensor_pair\n"
      ]
    },
    {
      "cell_type": "code",
      "execution_count": 85,
      "metadata": {
        "id": "lNtnRLsjUMIp"
      },
      "outputs": [],
      "source": [
        "train_dataset = Custom_dataset(data_dir=\"/content/train_CSV_data\")\n",
        "test_dataset = Custom_dataset(data_dir=\"/content/test_CSV_data\")\n",
        "\n"
      ]
    },
    {
      "cell_type": "code",
      "execution_count": 86,
      "metadata": {
        "colab": {
          "base_uri": "https://localhost:8080/"
        },
        "id": "UP88T4BDvW0e",
        "outputId": "2b878f2e-d3ad-4bea-e51b-be6c2189f879"
      },
      "outputs": [
        {
          "output_type": "execute_result",
          "data": {
            "text/plain": [
              "torch.Size([1, 1, 4999])"
            ]
          },
          "metadata": {},
          "execution_count": 86
        }
      ],
      "source": [
        "x,y=train_dataset[0]\n",
        "y.shape"
      ]
    },
    {
      "cell_type": "code",
      "execution_count": 86,
      "metadata": {
        "id": "L4np7A8uWPuR"
      },
      "outputs": [],
      "source": []
    },
    {
      "cell_type": "code",
      "execution_count": 87,
      "metadata": {
        "id": "sA756IN7LuVK"
      },
      "outputs": [],
      "source": [
        "from torch.utils.data.dataloader import DataLoader\n",
        "BATCH_SIZE = 10\n",
        "#turn datasets into iterables\n",
        "train_dataloader = DataLoader(train_dataset,\n",
        "                              batch_size=BATCH_SIZE,\n",
        "                              shuffle=True\n",
        "                              )\n",
        "test_dataloader = DataLoader(test_dataset,\n",
        "                              batch_size=BATCH_SIZE,\n",
        "                              shuffle=True\n",
        "                              )"
      ]
    },
    {
      "cell_type": "code",
      "execution_count": 88,
      "metadata": {
        "id": "t5WfPAwVIWSB"
      },
      "outputs": [],
      "source": [
        "\"\"\"\n",
        "Here, we define the autoencoder model.This model is taken from \"https://github.com/L1aoXingyu/pytorch-beginner/blob/master/08-AutoEncoder/simple_autoencoder.py\"\n",
        "\"\"\"\n",
        "class ECG_AE_v1(nn.Module):\n",
        "    def __init__(self):\n",
        "        super(ECG_AE_v1, self).__init__()\n",
        "        self.AE = nn.Sequential(\n",
        "            nn.Linear(4999, 128),\n",
        "            nn.ReLU(),\n",
        "            nn.Linear(128,20),\n",
        "            nn.ReLU(),\n",
        "            nn.Linear(20,10),\n",
        "            nn.ReLU(),\n",
        "            nn.Linear(10,20),\n",
        "            nn.ReLU(),\n",
        "            nn.Linear(20,128),\n",
        "            nn.ReLU(),\n",
        "            nn.Linear(128,4999),\n",
        "        )\n",
        "\n",
        "\n",
        "    def forward(self, x):\n",
        "        x = self.AE(x)\n",
        "        return x\n",
        "\n",
        "\n",
        "model = ECG_AE_v1().to(device)\n",
        "criterion = nn.MSELoss()\n",
        "optimizer = torch.optim.Adam(model.parameters(), lr=0.001)\n",
        "\n"
      ]
    },
    {
      "cell_type": "code",
      "execution_count": 89,
      "metadata": {
        "colab": {
          "base_uri": "https://localhost:8080/"
        },
        "id": "eYaklXRV8FkT",
        "outputId": "87196167-40d3-46b3-f968-0081ba6a2390"
      },
      "outputs": [
        {
          "output_type": "execute_result",
          "data": {
            "text/plain": [
              "ECG_AE_v1(\n",
              "  (AE): Sequential(\n",
              "    (0): Linear(in_features=4999, out_features=128, bias=True)\n",
              "    (1): ReLU()\n",
              "    (2): Linear(in_features=128, out_features=20, bias=True)\n",
              "    (3): ReLU()\n",
              "    (4): Linear(in_features=20, out_features=10, bias=True)\n",
              "    (5): ReLU()\n",
              "    (6): Linear(in_features=10, out_features=20, bias=True)\n",
              "    (7): ReLU()\n",
              "    (8): Linear(in_features=20, out_features=128, bias=True)\n",
              "    (9): ReLU()\n",
              "    (10): Linear(in_features=128, out_features=4999, bias=True)\n",
              "  )\n",
              ")"
            ]
          },
          "metadata": {},
          "execution_count": 89
        }
      ],
      "source": [
        "model"
      ]
    },
    {
      "cell_type": "code",
      "execution_count": 90,
      "metadata": {
        "colab": {
          "base_uri": "https://localhost:8080/"
        },
        "id": "QD39NrScQxlq",
        "outputId": "2ecb4419-d5ad-46be-f0b0-93d9aa88d9ab"
      },
      "outputs": [
        {
          "output_type": "execute_result",
          "data": {
            "text/plain": [
              "==========================================================================================\n",
              "Layer (type:depth-idx)                   Output Shape              Param #\n",
              "==========================================================================================\n",
              "ECG_AE_v1                                [1, 4999]                 --\n",
              "├─Sequential: 1-1                        [1, 4999]                 --\n",
              "│    └─Linear: 2-1                       [1, 128]                  640,000\n",
              "│    └─ReLU: 2-2                         [1, 128]                  --\n",
              "│    └─Linear: 2-3                       [1, 20]                   2,580\n",
              "│    └─ReLU: 2-4                         [1, 20]                   --\n",
              "│    └─Linear: 2-5                       [1, 10]                   210\n",
              "│    └─ReLU: 2-6                         [1, 10]                   --\n",
              "│    └─Linear: 2-7                       [1, 20]                   220\n",
              "│    └─ReLU: 2-8                         [1, 20]                   --\n",
              "│    └─Linear: 2-9                       [1, 128]                  2,688\n",
              "│    └─ReLU: 2-10                        [1, 128]                  --\n",
              "│    └─Linear: 2-11                      [1, 4999]                 644,871\n",
              "==========================================================================================\n",
              "Total params: 1,290,569\n",
              "Trainable params: 1,290,569\n",
              "Non-trainable params: 0\n",
              "Total mult-adds (M): 1.29\n",
              "==========================================================================================\n",
              "Input size (MB): 0.02\n",
              "Forward/backward pass size (MB): 0.04\n",
              "Params size (MB): 5.16\n",
              "Estimated Total Size (MB): 5.22\n",
              "=========================================================================================="
            ]
          },
          "metadata": {},
          "execution_count": 90
        }
      ],
      "source": [
        "try: \n",
        "    import torchinfo\n",
        "except:\n",
        "    !pip install torchinfo\n",
        "    import torchinfo\n",
        "\n",
        "from torchinfo import summary\n",
        "summary(model, input_size=[1,4999]) # do a test pass through of an example input size "
      ]
    },
    {
      "cell_type": "code",
      "source": [
        "t1= torch.rand(1,20)\n",
        "t1.shape\n",
        "t1=torch.reshape(t1,(4,5))\n",
        "t1.shape"
      ],
      "metadata": {
        "colab": {
          "base_uri": "https://localhost:8080/"
        },
        "id": "dWwNbBVbPmbE",
        "outputId": "c40f8a17-650e-4385-84b8-6daaeebff2b7"
      },
      "execution_count": 91,
      "outputs": [
        {
          "output_type": "execute_result",
          "data": {
            "text/plain": [
              "torch.Size([4, 5])"
            ]
          },
          "metadata": {},
          "execution_count": 91
        }
      ]
    },
    {
      "cell_type": "code",
      "source": [],
      "metadata": {
        "id": "8OnVpS3EQIEw"
      },
      "execution_count": 91,
      "outputs": []
    },
    {
      "cell_type": "code",
      "execution_count": 92,
      "metadata": {
        "colab": {
          "base_uri": "https://localhost:8080/",
          "height": 1000,
          "referenced_widgets": [
            "923bbef2baa74baa9b125bfc081a050e",
            "5b7aa29660d14becbd362e4ff98880a3",
            "53560a4f07ed4a08b37e286faf6fba15",
            "70356af68b1a4502acd4824615a944cd",
            "fdef9ccce9ce40be9838a885ae36e5d3",
            "576176296c9c4f249a708b6f2eed4891",
            "d9905455e5fb48f2b582de6ade08592c",
            "fc204950c5a04c328c5582e880c8486a",
            "0cbada71be0f451bac9f2fb527cccc61",
            "3de18565a4424900acf7bf990452aae2",
            "6d1f171ff2514a95bd110bb325f6a82d"
          ]
        },
        "id": "3uMREYqwckwg",
        "outputId": "d9437333-9cdf-46f9-d955-191ed56200d2"
      },
      "outputs": [
        {
          "output_type": "display_data",
          "data": {
            "text/plain": [
              "  0%|          | 0/20 [00:00<?, ?it/s]"
            ],
            "application/vnd.jupyter.widget-view+json": {
              "version_major": 2,
              "version_minor": 0,
              "model_id": "923bbef2baa74baa9b125bfc081a050e"
            }
          },
          "metadata": {}
        },
        {
          "output_type": "stream",
          "name": "stdout",
          "text": [
            "Epoch:0\n",
            "\n",
            "Train loss: 0.02514 | Test loss: 0.02697\n",
            "Epoch:1\n",
            "\n",
            "Train loss: 0.01369 | Test loss: 0.03099\n",
            "Epoch:2\n",
            "\n",
            "Train loss: 0.00480 | Test loss: 0.03267\n",
            "Epoch:3\n",
            "\n",
            "Train loss: 0.00103 | Test loss: 0.03321\n",
            "Epoch:4\n",
            "\n",
            "Train loss: 0.00027 | Test loss: 0.03372\n",
            "Epoch:5\n",
            "\n",
            "Train loss: 0.00008 | Test loss: 0.03395\n",
            "Epoch:6\n",
            "\n",
            "Train loss: 0.00002 | Test loss: 0.03400\n",
            "Epoch:7\n",
            "\n",
            "Train loss: 0.00001 | Test loss: 0.03405\n",
            "Epoch:8\n",
            "\n",
            "Train loss: 0.00000 | Test loss: 0.03407\n",
            "Epoch:9\n",
            "\n",
            "Train loss: 0.00000 | Test loss: 0.03407\n",
            "Epoch:10\n",
            "\n",
            "Train loss: 0.00000 | Test loss: 0.03407\n",
            "Epoch:11\n",
            "\n",
            "Train loss: 0.00000 | Test loss: 0.03407\n",
            "Epoch:12\n",
            "\n",
            "Train loss: 0.00000 | Test loss: 0.03407\n",
            "Epoch:13\n",
            "\n",
            "Train loss: 0.00000 | Test loss: 0.03408\n",
            "Epoch:14\n",
            "\n",
            "Train loss: 0.00000 | Test loss: 0.03407\n",
            "Epoch:15\n",
            "\n",
            "Train loss: 0.00000 | Test loss: 0.03407\n",
            "Epoch:16\n",
            "\n",
            "Train loss: 0.00000 | Test loss: 0.03407\n",
            "Epoch:17\n",
            "\n",
            "Train loss: 0.00000 | Test loss: 0.03407\n",
            "Epoch:18\n",
            "\n",
            "Train loss: 0.00000 | Test loss: 0.03407\n",
            "Epoch:19\n",
            "\n",
            "Train loss: 0.00000 | Test loss: 0.03407\n"
          ]
        }
      ],
      "source": [
        "from tqdm.auto import tqdm\n",
        "torch.manual_seed(42)\n",
        "#train and test loop\n",
        "Epochs = 20\n",
        "for epoch in tqdm(range(Epochs)):\n",
        "  print(f\"Epoch:{epoch}\")\n",
        "  train_loss=0\n",
        "  for batch, (X,y) in enumerate(train_dataloader): \n",
        "    X, y = X.to(device), y.to(device) \n",
        "    model.train()\n",
        "    output=model(X)\n",
        "    ##reshaping output from linear to 2d from 40000 to 8 times 5000\n",
        "    #output=torch.reshape(output,(1,1,8,4999))\n",
        "    ######\n",
        "    loss = criterion(output,y)\n",
        "    train_loss += loss\n",
        "    optimizer.zero_grad()\n",
        "    loss.backward()\n",
        "    optimizer.step()\n",
        "  #average loss per batch\n",
        "  train_loss /= len(train_dataloader)\n",
        "  #start testing\n",
        "  test_loss = 0\n",
        "  model.eval()\n",
        "  with torch.inference_mode():\n",
        "    for X,y in test_dataloader:\n",
        "      X, y = X.to(device), y.to(device) \n",
        "      test_pred = model(X)\n",
        "      ##reshaping output from linear to 2d from 40000 to 8 times 5000\n",
        "      #test_pred=torch.reshape(test_pred,(10,1,8,4999))\n",
        "      ######\n",
        "      test_loss += criterion(test_pred,y)    \n",
        "    test_loss /= len(test_dataloader)\n",
        "\n",
        "  #print what is happening\n",
        "  print(f\"\\nTrain loss: {train_loss:.5f} | Test loss: {test_loss:.5f}\")\n",
        "    \n",
        "\n",
        "\n"
      ]
    },
    {
      "cell_type": "code",
      "execution_count": 95,
      "metadata": {
        "colab": {
          "base_uri": "https://localhost:8080/",
          "height": 282
        },
        "id": "X1iZv_5gFGh3",
        "outputId": "9c56cbc2-0285-4f55-ee7f-a2a0ab53473c"
      },
      "outputs": [
        {
          "output_type": "execute_result",
          "data": {
            "text/plain": [
              "[<matplotlib.lines.Line2D at 0x7f27dfc23910>]"
            ]
          },
          "metadata": {},
          "execution_count": 95
        },
        {
          "output_type": "display_data",
          "data": {
            "text/plain": [
              "<Figure size 432x288 with 1 Axes>"
            ],
            "image/png": "[encoded data removed]"
          },
          "metadata": {
            "needs_background": "light"
          }
        }
      ],
      "source": [
        "input,output = train_dataset[0]\n",
        "input\n",
        "input=input.tolist()\n",
        "data=input[0][0]\n",
        "type(data)\n",
        "plt.plot(data)\n",
        "# plt.title(\"Input ECG lead1\")"
      ]
    },
    {
      "cell_type": "code",
      "execution_count": 96,
      "metadata": {
        "colab": {
          "base_uri": "https://localhost:8080/",
          "height": 298
        },
        "id": "Nx5cRtALrX_4",
        "outputId": "5fa1ce7d-0056-4a6f-94d6-6371d6304ab9"
      },
      "outputs": [
        {
          "output_type": "execute_result",
          "data": {
            "text/plain": [
              "Text(0.5, 1.0, 'Output ECG trained for 20epochs on 50 datapoints')"
            ]
          },
          "metadata": {},
          "execution_count": 96
        },
        {
          "output_type": "display_data",
          "data": {
            "text/plain": [
              "<Figure size 432x288 with 1 Axes>"
            ],
            "image/png": "[encoded data removed]"
          },
          "metadata": {
            "needs_background": "light"
          }
        }
      ],
      "source": [
        "X,y=test_dataset[0]\n",
        "model.to(\"cpu\")\n",
        "model.eval()\n",
        "with torch.inference_mode():\n",
        "  output=model(X)\n",
        "output=output.tolist()\n",
        "data=output[0][0]\n",
        "plt.plot(data)\n",
        "plt.title(\"Output ECG trained for 20epochs on 50 datapoints\")"
      ]
    },
    {
      "cell_type": "code",
      "execution_count": 94,
      "metadata": {
        "id": "scCSpwBAwHNk"
      },
      "outputs": [],
      "source": []
    }
  ],
  "metadata": {
    "colab": {
      "provenance": [],
      "authorship_tag": "ABX9TyNk5buB+46rNgoDjT/G2IKz",
      "include_colab_link": true
    },
    "kernelspec": {
      "display_name": "Python 3",
      "name": "python3"
    },
    "language_info": {
      "name": "python"
    },
    "widgets": {
      "application/vnd.jupyter.widget-state+json": {
        "923bbef2baa74baa9b125bfc081a050e": {
          "model_module": "@jupyter-widgets/controls",
          "model_name": "HBoxModel",
          "model_module_version": "1.5.0",
          "state": {
            "_dom_classes": [],
            "_model_module": "@jupyter-widgets/controls",
            "_model_module_version": "1.5.0",
            "_model_name": "HBoxModel",
            "_view_count": null,
            "_view_module": "@jupyter-widgets/controls",
            "_view_module_version": "1.5.0",
            "_view_name": "HBoxView",
            "box_style": "",
            "children": [
              "IPY_MODEL_5b7aa29660d14becbd362e4ff98880a3",
              "IPY_MODEL_53560a4f07ed4a08b37e286faf6fba15",
              "IPY_MODEL_70356af68b1a4502acd4824615a944cd"
            ],
            "layout": "IPY_MODEL_fdef9ccce9ce40be9838a885ae36e5d3"
          }
        },
        "5b7aa29660d14becbd362e4ff98880a3": {
          "model_module": "@jupyter-widgets/controls",
          "model_name": "HTMLModel",
          "model_module_version": "1.5.0",
          "state": {
            "_dom_classes": [],
            "_model_module": "@jupyter-widgets/controls",
            "_model_module_version": "1.5.0",
            "_model_name": "HTMLModel",
            "_view_count": null,
            "_view_module": "@jupyter-widgets/controls",
            "_view_module_version": "1.5.0",
            "_view_name": "HTMLView",
            "description": "",
            "description_tooltip": null,
            "layout": "IPY_MODEL_576176296c9c4f249a708b6f2eed4891",
            "placeholder": "​",
            "style": "IPY_MODEL_d9905455e5fb48f2b582de6ade08592c",
            "value": "100%"
          }
        },
        "53560a4f07ed4a08b37e286faf6fba15": {
          "model_module": "@jupyter-widgets/controls",
          "model_name": "FloatProgressModel",
          "model_module_version": "1.5.0",
          "state": {
            "_dom_classes": [],
            "_model_module": "@jupyter-widgets/controls",
            "_model_module_version": "1.5.0",
            "_model_name": "FloatProgressModel",
            "_view_count": null,
            "_view_module": "@jupyter-widgets/controls",
            "_view_module_version": "1.5.0",
            "_view_name": "ProgressView",
            "bar_style": "success",
            "description": "",
            "description_tooltip": null,
            "layout": "IPY_MODEL_fc204950c5a04c328c5582e880c8486a",
            "max": 20,
            "min": 0,
            "orientation": "horizontal",
            "style": "IPY_MODEL_0cbada71be0f451bac9f2fb527cccc61",
            "value": 20
          }
        },
        "70356af68b1a4502acd4824615a944cd": {
          "model_module": "@jupyter-widgets/controls",
          "model_name": "HTMLModel",
          "model_module_version": "1.5.0",
          "state": {
            "_dom_classes": [],
            "_model_module": "@jupyter-widgets/controls",
            "_model_module_version": "1.5.0",
            "_model_name": "HTMLModel",
            "_view_count": null,
            "_view_module": "@jupyter-widgets/controls",
            "_view_module_version": "1.5.0",
            "_view_name": "HTMLView",
            "description": "",
            "description_tooltip": null,
            "layout": "IPY_MODEL_3de18565a4424900acf7bf990452aae2",
            "placeholder": "​",
            "style": "IPY_MODEL_6d1f171ff2514a95bd110bb325f6a82d",
            "value": " 20/20 [13:48&lt;00:00, 41.22s/it]"
          }
        },
        "fdef9ccce9ce40be9838a885ae36e5d3": {
          "model_module": "@jupyter-widgets/base",
          "model_name": "LayoutModel",
          "model_module_version": "1.2.0",
          "state": {
            "_model_module": "@jupyter-widgets/base",
            "_model_module_version": "1.2.0",
            "_model_name": "LayoutModel",
            "_view_count": null,
            "_view_module": "@jupyter-widgets/base",
            "_view_module_version": "1.2.0",
            "_view_name": "LayoutView",
            "align_content": null,
            "align_items": null,
            "align_self": null,
            "border": null,
            "bottom": null,
            "display": null,
            "flex": null,
            "flex_flow": null,
            "grid_area": null,
            "grid_auto_columns": null,
            "grid_auto_flow": null,
            "grid_auto_rows": null,
            "grid_column": null,
            "grid_gap": null,
            "grid_row": null,
            "grid_template_areas": null,
            "grid_template_columns": null,
            "grid_template_rows": null,
            "height": null,
            "justify_content": null,
            "justify_items": null,
            "left": null,
            "margin": null,
            "max_height": null,
            "max_width": null,
            "min_height": null,
            "min_width": null,
            "object_fit": null,
            "object_position": null,
            "order": null,
            "overflow": null,
            "overflow_x": null,
            "overflow_y": null,
            "padding": null,
            "right": null,
            "top": null,
            "visibility": null,
            "width": null
          }
        },
        "576176296c9c4f249a708b6f2eed4891": {
          "model_module": "@jupyter-widgets/base",
          "model_name": "LayoutModel",
          "model_module_version": "1.2.0",
          "state": {
            "_model_module": "@jupyter-widgets/base",
            "_model_module_version": "1.2.0",
            "_model_name": "LayoutModel",
            "_view_count": null,
            "_view_module": "@jupyter-widgets/base",
            "_view_module_version": "1.2.0",
            "_view_name": "LayoutView",
            "align_content": null,
            "align_items": null,
            "align_self": null,
            "border": null,
            "bottom": null,
            "display": null,
            "flex": null,
            "flex_flow": null,
            "grid_area": null,
            "grid_auto_columns": null,
            "grid_auto_flow": null,
            "grid_auto_rows": null,
            "grid_column": null,
            "grid_gap": null,
            "grid_row": null,
            "grid_template_areas": null,
            "grid_template_columns": null,
            "grid_template_rows": null,
            "height": null,
            "justify_content": null,
            "justify_items": null,
            "left": null,
            "margin": null,
            "max_height": null,
            "max_width": null,
            "min_height": null,
            "min_width": null,
            "object_fit": null,
            "object_position": null,
            "order": null,
            "overflow": null,
            "overflow_x": null,
            "overflow_y": null,
            "padding": null,
            "right": null,
            "top": null,
            "visibility": null,
            "width": null
          }
        },
        "d9905455e5fb48f2b582de6ade08592c": {
          "model_module": "@jupyter-widgets/controls",
          "model_name": "DescriptionStyleModel",
          "model_module_version": "1.5.0",
          "state": {
            "_model_module": "@jupyter-widgets/controls",
            "_model_module_version": "1.5.0",
            "_model_name": "DescriptionStyleModel",
            "_view_count": null,
            "_view_module": "@jupyter-widgets/base",
            "_view_module_version": "1.2.0",
            "_view_name": "StyleView",
            "description_width": ""
          }
        },
        "fc204950c5a04c328c5582e880c8486a": {
          "model_module": "@jupyter-widgets/base",
          "model_name": "LayoutModel",
          "model_module_version": "1.2.0",
          "state": {
            "_model_module": "@jupyter-widgets/base",
            "_model_module_version": "1.2.0",
            "_model_name": "LayoutModel",
            "_view_count": null,
            "_view_module": "@jupyter-widgets/base",
            "_view_module_version": "1.2.0",
            "_view_name": "LayoutView",
            "align_content": null,
            "align_items": null,
            "align_self": null,
            "border": null,
            "bottom": null,
            "display": null,
            "flex": null,
            "flex_flow": null,
            "grid_area": null,
            "grid_auto_columns": null,
            "grid_auto_flow": null,
            "grid_auto_rows": null,
            "grid_column": null,
            "grid_gap": null,
            "grid_row": null,
            "grid_template_areas": null,
            "grid_template_columns": null,
            "grid_template_rows": null,
            "height": null,
            "justify_content": null,
            "justify_items": null,
            "left": null,
            "margin": null,
            "max_height": null,
            "max_width": null,
            "min_height": null,
            "min_width": null,
            "object_fit": null,
            "object_position": null,
            "order": null,
            "overflow": null,
            "overflow_x": null,
            "overflow_y": null,
            "padding": null,
            "right": null,
            "top": null,
            "visibility": null,
            "width": null
          }
        },
        "0cbada71be0f451bac9f2fb527cccc61": {
          "model_module": "@jupyter-widgets/controls",
          "model_name": "ProgressStyleModel",
          "model_module_version": "1.5.0",
          "state": {
            "_model_module": "@jupyter-widgets/controls",
            "_model_module_version": "1.5.0",
            "_model_name": "ProgressStyleModel",
            "_view_count": null,
            "_view_module": "@jupyter-widgets/base",
            "_view_module_version": "1.2.0",
            "_view_name": "StyleView",
            "bar_color": null,
            "description_width": ""
          }
        },
        "3de18565a4424900acf7bf990452aae2": {
          "model_module": "@jupyter-widgets/base",
          "model_name": "LayoutModel",
          "model_module_version": "1.2.0",
          "state": {
            "_model_module": "@jupyter-widgets/base",
            "_model_module_version": "1.2.0",
            "_model_name": "LayoutModel",
            "_view_count": null,
            "_view_module": "@jupyter-widgets/base",
            "_view_module_version": "1.2.0",
            "_view_name": "LayoutView",
            "align_content": null,
            "align_items": null,
            "align_self": null,
            "border": null,
            "bottom": null,
            "display": null,
            "flex": null,
            "flex_flow": null,
            "grid_area": null,
            "grid_auto_columns": null,
            "grid_auto_flow": null,
            "grid_auto_rows": null,
            "grid_column": null,
            "grid_gap": null,
            "grid_row": null,
            "grid_template_areas": null,
            "grid_template_columns": null,
            "grid_template_rows": null,
            "height": null,
            "justify_content": null,
            "justify_items": null,
            "left": null,
            "margin": null,
            "max_height": null,
            "max_width": null,
            "min_height": null,
            "min_width": null,
            "object_fit": null,
            "object_position": null,
            "order": null,
            "overflow": null,
            "overflow_x": null,
            "overflow_y": null,
            "padding": null,
            "right": null,
            "top": null,
            "visibility": null,
            "width": null
          }
        },
        "6d1f171ff2514a95bd110bb325f6a82d": {
          "model_module": "@jupyter-widgets/controls",
          "model_name": "DescriptionStyleModel",
          "model_module_version": "1.5.0",
          "state": {
            "_model_module": "@jupyter-widgets/controls",
            "_model_module_version": "1.5.0",
            "_model_name": "DescriptionStyleModel",
            "_view_count": null,
            "_view_module": "@jupyter-widgets/base",
            "_view_module_version": "1.2.0",
            "_view_name": "StyleView",
            "description_width": ""
          }
        }
      }
    }
  },
  "nbformat": 4,
  "nbformat_minor": 0
}