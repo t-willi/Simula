{
  "nbformat": 4,
  "nbformat_minor": 0,
  "metadata": {
    "colab": {
      "provenance": [],
      "authorship_tag": "ABX9TyMJrbfSl1lPwvaOQqYvzijN",
      "include_colab_link": true
    },
    "kernelspec": {
      "name": "python3",
      "display_name": "Python 3"
    },
    "language_info": {
      "name": "python"
    },
    "widgets": {
      "application/vnd.jupyter.widget-state+json": {
        "1e0437fccc3442f89be05c8d688072b4": {
          "model_module": "@jupyter-widgets/controls",
          "model_name": "HBoxModel",
          "model_module_version": "1.5.0",
          "state": {
            "_dom_classes": [],
            "_model_module": "@jupyter-widgets/controls",
            "_model_module_version": "1.5.0",
            "_model_name": "HBoxModel",
            "_view_count": null,
            "_view_module": "@jupyter-widgets/controls",
            "_view_module_version": "1.5.0",
            "_view_name": "HBoxView",
            "box_style": "",
            "children": [
              "IPY_MODEL_33ecbe65d02042d89de2dfb6b76469c2",
              "IPY_MODEL_580dde8ac0504a5f8f896962947cb732",
              "IPY_MODEL_d64cc01669fd4515b7f730a6af7139cc"
            ],
            "layout": "IPY_MODEL_6086b6e515f94d248fd32d060bf0f7af"
          }
        },
        "33ecbe65d02042d89de2dfb6b76469c2": {
          "model_module": "@jupyter-widgets/controls",
          "model_name": "HTMLModel",
          "model_module_version": "1.5.0",
          "state": {
            "_dom_classes": [],
            "_model_module": "@jupyter-widgets/controls",
            "_model_module_version": "1.5.0",
            "_model_name": "HTMLModel",
            "_view_count": null,
            "_view_module": "@jupyter-widgets/controls",
            "_view_module_version": "1.5.0",
            "_view_name": "HTMLView",
            "description": "",
            "description_tooltip": null,
            "layout": "IPY_MODEL_63e5bb358da34909ba55e1606a985ea0",
            "placeholder": "​",
            "style": "IPY_MODEL_56259791ae134606a4561d6062d4d390",
            "value": " 85%"
          }
        },
        "580dde8ac0504a5f8f896962947cb732": {
          "model_module": "@jupyter-widgets/controls",
          "model_name": "FloatProgressModel",
          "model_module_version": "1.5.0",
          "state": {
            "_dom_classes": [],
            "_model_module": "@jupyter-widgets/controls",
            "_model_module_version": "1.5.0",
            "_model_name": "FloatProgressModel",
            "_view_count": null,
            "_view_module": "@jupyter-widgets/controls",
            "_view_module_version": "1.5.0",
            "_view_name": "ProgressView",
            "bar_style": "",
            "description": "",
            "description_tooltip": null,
            "layout": "IPY_MODEL_814a931cf9c84f6296a4344d895d2c97",
            "max": 20,
            "min": 0,
            "orientation": "horizontal",
            "style": "IPY_MODEL_e87359bf56224381830156fd73586346",
            "value": 17
          }
        },
        "d64cc01669fd4515b7f730a6af7139cc": {
          "model_module": "@jupyter-widgets/controls",
          "model_name": "HTMLModel",
          "model_module_version": "1.5.0",
          "state": {
            "_dom_classes": [],
            "_model_module": "@jupyter-widgets/controls",
            "_model_module_version": "1.5.0",
            "_model_name": "HTMLModel",
            "_view_count": null,
            "_view_module": "@jupyter-widgets/controls",
            "_view_module_version": "1.5.0",
            "_view_name": "HTMLView",
            "description": "",
            "description_tooltip": null,
            "layout": "IPY_MODEL_567209699b4e471a96e0a5bb2f714539",
            "placeholder": "​",
            "style": "IPY_MODEL_385e6530d7cb4dbfbc3102be6ba920dd",
            "value": " 17/20 [32:56&lt;05:48, 116.17s/it]"
          }
        },
        "6086b6e515f94d248fd32d060bf0f7af": {
          "model_module": "@jupyter-widgets/base",
          "model_name": "LayoutModel",
          "model_module_version": "1.2.0",
          "state": {
            "_model_module": "@jupyter-widgets/base",
            "_model_module_version": "1.2.0",
            "_model_name": "LayoutModel",
            "_view_count": null,
            "_view_module": "@jupyter-widgets/base",
            "_view_module_version": "1.2.0",
            "_view_name": "LayoutView",
            "align_content": null,
            "align_items": null,
            "align_self": null,
            "border": null,
            "bottom": null,
            "display": null,
            "flex": null,
            "flex_flow": null,
            "grid_area": null,
            "grid_auto_columns": null,
            "grid_auto_flow": null,
            "grid_auto_rows": null,
            "grid_column": null,
            "grid_gap": null,
            "grid_row": null,
            "grid_template_areas": null,
            "grid_template_columns": null,
            "grid_template_rows": null,
            "height": null,
            "justify_content": null,
            "justify_items": null,
            "left": null,
            "margin": null,
            "max_height": null,
            "max_width": null,
            "min_height": null,
            "min_width": null,
            "object_fit": null,
            "object_position": null,
            "order": null,
            "overflow": null,
            "overflow_x": null,
            "overflow_y": null,
            "padding": null,
            "right": null,
            "top": null,
            "visibility": null,
            "width": null
          }
        },
        "63e5bb358da34909ba55e1606a985ea0": {
          "model_module": "@jupyter-widgets/base",
          "model_name": "LayoutModel",
          "model_module_version": "1.2.0",
          "state": {
            "_model_module": "@jupyter-widgets/base",
            "_model_module_version": "1.2.0",
            "_model_name": "LayoutModel",
            "_view_count": null,
            "_view_module": "@jupyter-widgets/base",
            "_view_module_version": "1.2.0",
            "_view_name": "LayoutView",
            "align_content": null,
            "align_items": null,
            "align_self": null,
            "border": null,
            "bottom": null,
            "display": null,
            "flex": null,
            "flex_flow": null,
            "grid_area": null,
            "grid_auto_columns": null,
            "grid_auto_flow": null,
            "grid_auto_rows": null,
            "grid_column": null,
            "grid_gap": null,
            "grid_row": null,
            "grid_template_areas": null,
            "grid_template_columns": null,
            "grid_template_rows": null,
            "height": null,
            "justify_content": null,
            "justify_items": null,
            "left": null,
            "margin": null,
            "max_height": null,
            "max_width": null,
            "min_height": null,
            "min_width": null,
            "object_fit": null,
            "object_position": null,
            "order": null,
            "overflow": null,
            "overflow_x": null,
            "overflow_y": null,
            "padding": null,
            "right": null,
            "top": null,
            "visibility": null,
            "width": null
          }
        },
        "56259791ae134606a4561d6062d4d390": {
          "model_module": "@jupyter-widgets/controls",
          "model_name": "DescriptionStyleModel",
          "model_module_version": "1.5.0",
          "state": {
            "_model_module": "@jupyter-widgets/controls",
            "_model_module_version": "1.5.0",
            "_model_name": "DescriptionStyleModel",
            "_view_count": null,
            "_view_module": "@jupyter-widgets/base",
            "_view_module_version": "1.2.0",
            "_view_name": "StyleView",
            "description_width": ""
          }
        },
        "814a931cf9c84f6296a4344d895d2c97": {
          "model_module": "@jupyter-widgets/base",
          "model_name": "LayoutModel",
          "model_module_version": "1.2.0",
          "state": {
            "_model_module": "@jupyter-widgets/base",
            "_model_module_version": "1.2.0",
            "_model_name": "LayoutModel",
            "_view_count": null,
            "_view_module": "@jupyter-widgets/base",
            "_view_module_version": "1.2.0",
            "_view_name": "LayoutView",
            "align_content": null,
            "align_items": null,
            "align_self": null,
            "border": null,
            "bottom": null,
            "display": null,
            "flex": null,
            "flex_flow": null,
            "grid_area": null,
            "grid_auto_columns": null,
            "grid_auto_flow": null,
            "grid_auto_rows": null,
            "grid_column": null,
            "grid_gap": null,
            "grid_row": null,
            "grid_template_areas": null,
            "grid_template_columns": null,
            "grid_template_rows": null,
            "height": null,
            "justify_content": null,
            "justify_items": null,
            "left": null,
            "margin": null,
            "max_height": null,
            "max_width": null,
            "min_height": null,
            "min_width": null,
            "object_fit": null,
            "object_position": null,
            "order": null,
            "overflow": null,
            "overflow_x": null,
            "overflow_y": null,
            "padding": null,
            "right": null,
            "top": null,
            "visibility": null,
            "width": null
          }
        },
        "e87359bf56224381830156fd73586346": {
          "model_module": "@jupyter-widgets/controls",
          "model_name": "ProgressStyleModel",
          "model_module_version": "1.5.0",
          "state": {
            "_model_module": "@jupyter-widgets/controls",
            "_model_module_version": "1.5.0",
            "_model_name": "ProgressStyleModel",
            "_view_count": null,
            "_view_module": "@jupyter-widgets/base",
            "_view_module_version": "1.2.0",
            "_view_name": "StyleView",
            "bar_color": null,
            "description_width": ""
          }
        },
        "567209699b4e471a96e0a5bb2f714539": {
          "model_module": "@jupyter-widgets/base",
          "model_name": "LayoutModel",
          "model_module_version": "1.2.0",
          "state": {
            "_model_module": "@jupyter-widgets/base",
            "_model_module_version": "1.2.0",
            "_model_name": "LayoutModel",
            "_view_count": null,
            "_view_module": "@jupyter-widgets/base",
            "_view_module_version": "1.2.0",
            "_view_name": "LayoutView",
            "align_content": null,
            "align_items": null,
            "align_self": null,
            "border": null,
            "bottom": null,
            "display": null,
            "flex": null,
            "flex_flow": null,
            "grid_area": null,
            "grid_auto_columns": null,
            "grid_auto_flow": null,
            "grid_auto_rows": null,
            "grid_column": null,
            "grid_gap": null,
            "grid_row": null,
            "grid_template_areas": null,
            "grid_template_columns": null,
            "grid_template_rows": null,
            "height": null,
            "justify_content": null,
            "justify_items": null,
            "left": null,
            "margin": null,
            "max_height": null,
            "max_width": null,
            "min_height": null,
            "min_width": null,
            "object_fit": null,
            "object_position": null,
            "order": null,
            "overflow": null,
            "overflow_x": null,
            "overflow_y": null,
            "padding": null,
            "right": null,
            "top": null,
            "visibility": null,
            "width": null
          }
        },
        "385e6530d7cb4dbfbc3102be6ba920dd": {
          "model_module": "@jupyter-widgets/controls",
          "model_name": "DescriptionStyleModel",
          "model_module_version": "1.5.0",
          "state": {
            "_model_module": "@jupyter-widgets/controls",
            "_model_module_version": "1.5.0",
            "_model_name": "DescriptionStyleModel",
            "_view_count": null,
            "_view_module": "@jupyter-widgets/base",
            "_view_module_version": "1.2.0",
            "_view_name": "StyleView",
            "description_width": ""
          }
        }
      }
    }
  },
  "cells": [
    {
      "cell_type": "markdown",
      "metadata": {
        "id": "view-in-github",
        "colab_type": "text"
      },
      "source": [
        "<a href=\"https://colab.research.google.com/github/t-willi/Simula/blob/main/AE_V2.ipynb\" target=\"_parent\"><img src=\"https://colab.research.google.com/assets/colab-badge.svg\" alt=\"Open In Colab\"/></a>"
      ]
    },
    {
      "cell_type": "code",
      "execution_count": null,
      "metadata": {
        "id": "8eUpzrSTCodl"
      },
      "outputs": [],
      "source": [
        "import torch\n",
        "from torch import nn\n",
        "import matplotlib.pyplot as plt\n",
        "import torchvision\n",
        "from torchvision import datasets, models, transforms\n",
        "from torchvision.transforms import ToTensor\n",
        "import pandas as pd\n",
        "import numpy as np\n",
        "from torch.utils.data import Dataset, DataLoader\n",
        "from timeit import default_timer as timer \n",
        "import glob\n",
        "import torch.optim as optim\n",
        "from sklearn.preprocessing import normalize\n",
        "\n",
        "\n",
        "if torch.cuda.is_available()==True:\n",
        "  device=\"cuda:0\"\n",
        "else:\n",
        "  device =\"cpu\""
      ]
    },
    {
      "cell_type": "code",
      "source": [
        "def normalize_df_per_column(df):\n",
        "  for i,k in enumerate(df.columns):\n",
        "    max=df.iloc[:,i].max()\n",
        "    min=df.iloc[:,i].min()\n",
        "    df.iloc[:,i] = df.iloc[:,i].apply(lambda x: ((x-min)/(max-min)))\n",
        "  return df\n"
      ],
      "metadata": {
        "id": "Veu-bkI8hXSr"
      },
      "execution_count": null,
      "outputs": []
    },
    {
      "cell_type": "code",
      "source": [
        "# df = pd.read_csv(\"/content/train_CSV_data/0.csv\",sep=\" \")\n",
        "# df_normal=normalize_df_per_column(df)\n",
        "# df_normal.head()\n"
      ],
      "metadata": {
        "id": "08x5FggUn7DU"
      },
      "execution_count": null,
      "outputs": []
    },
    {
      "cell_type": "code",
      "source": [
        "# Create custom dataset class to load ECG data into dataset, containing \n",
        "# input tensor with lead 1 and output tensor with desired other leads\n",
        "class Custom_dataset(Dataset):\n",
        "    def __init__(self, data_dir):\n",
        "      #get all files from directory loaded in all_files list\n",
        "      self.all_files = []\n",
        "      self.files = glob.glob(data_dir + '/*.csv')\n",
        "      for f in self.files:\n",
        "        temp_df = pd.read_csv(f,sep=\" \")\n",
        "        self.all_files.append(temp_df)\n",
        "        # self.normalize=Normalize\n",
        "        # self.transform=Transform\n",
        "\n",
        "    def __len__(self):\n",
        "      return len(self.all_files)\n",
        "\n",
        "    def __getitem__(self,idx):\n",
        "      Data = []\n",
        "      #turn list of dataframes into Tensor\n",
        "      for f in self.files:\n",
        "        temp_df=pd.read_csv(f,sep=\" \")\n",
        "        temp_df=normalize_df_per_column(temp_df)\n",
        "        #print(temp_df)\n",
        "        temp_list_in=temp_df.iloc[:,1]\n",
        "        #temp_list_in=normalize([temp_list_in], norm=\"max\")\n",
        "        #print(temp_list_in)\n",
        "        temp_tensor_in = torch.tensor(temp_list_in,dtype=torch.float32)\n",
        "        temp_tensor_in=temp_tensor_in.unsqueeze(0)\n",
        "        #print(temp_tensor_in.dtype)\n",
        "        temp_list_out=temp_df.iloc[:,3].values\n",
        "        #temp_list_out=normalize([temp_list_out], norm=\"max\")\n",
        "        #print(temp_list_out)\n",
        "        temp_tensor_out=torch.tensor(temp_list_out,dtype=torch.float32)\n",
        "        temp_tensor_out=temp_tensor_out.unsqueeze(0)\n",
        "        #temp_tensor_out=temp_tensor_out.permute(1,0)\n",
        "        #print(temp_tensor_out.dtype)\n",
        "        temp_tensor_pair= temp_tensor_in,temp_tensor_out\n",
        "        #print(temp_tensor_pair.dtype)\n",
        "        #Data.append(temp_tensor_pair)\n",
        "      return temp_tensor_pair\n"
      ],
      "metadata": {
        "id": "cal55bVVRw1N"
      },
      "execution_count": null,
      "outputs": []
    },
    {
      "cell_type": "code",
      "source": [
        "train_dataset = Custom_dataset(data_dir=\"/content/train_CSV_data\")\n",
        "test_dataset = Custom_dataset(data_dir=\"/content/test_CSV_data\")\n",
        "\n"
      ],
      "metadata": {
        "id": "lNtnRLsjUMIp"
      },
      "execution_count": null,
      "outputs": []
    },
    {
      "cell_type": "code",
      "source": [
        "x,y=train_dataset[0]\n",
        "x"
      ],
      "metadata": {
        "colab": {
          "base_uri": "https://localhost:8080/"
        },
        "id": "UP88T4BDvW0e",
        "outputId": "4b7cdc2e-fed9-441a-f6d5-69e4401bbb8e"
      },
      "execution_count": null,
      "outputs": [
        {
          "output_type": "execute_result",
          "data": {
            "text/plain": [
              "tensor([[0.1871, 0.1969, 0.2066,  ..., 0.7368, 0.8090, 0.7485]])"
            ]
          },
          "metadata": {},
          "execution_count": 115
        }
      ]
    },
    {
      "cell_type": "code",
      "source": [],
      "metadata": {
        "id": "L4np7A8uWPuR"
      },
      "execution_count": null,
      "outputs": []
    },
    {
      "cell_type": "code",
      "source": [
        "from torch.utils.data.dataloader import DataLoader\n",
        "BATCH_SIZE = 10\n",
        "#turn datasets into iterables\n",
        "train_dataloader = DataLoader(train_dataset,\n",
        "                              batch_size=BATCH_SIZE,\n",
        "                              shuffle=True\n",
        "                              )\n",
        "test_dataloader = DataLoader(test_dataset,\n",
        "                              batch_size=BATCH_SIZE,\n",
        "                              shuffle=True\n",
        "                              )"
      ],
      "metadata": {
        "id": "sA756IN7LuVK"
      },
      "execution_count": null,
      "outputs": []
    },
    {
      "cell_type": "code",
      "source": [
        "\"\"\"\n",
        "Here, we define the autoencoder model.This model is taken from \"https://github.com/L1aoXingyu/pytorch-beginner/blob/master/08-AutoEncoder/simple_autoencoder.py\"\n",
        "\"\"\"\n",
        "class ECG_AE_v1(nn.Module):\n",
        "    def __init__(self):\n",
        "        super(ECG_AE_v1, self).__init__()\n",
        "        self.AE = nn.Sequential(\n",
        "            nn.Linear(4999, 128),\n",
        "            nn.ReLU(),\n",
        "            nn.Linear(128,20),\n",
        "            nn.ReLU(),\n",
        "            nn.Linear(20,10),\n",
        "            nn.ReLU(),\n",
        "            nn.Linear(10,20),\n",
        "            nn.ReLU(),\n",
        "            nn.Linear(20,128),\n",
        "            nn.ReLU(),\n",
        "            nn.Linear(128,4999),\n",
        "        )\n",
        "\n",
        "\n",
        "    def forward(self, x):\n",
        "        x = self.AE(x)\n",
        "        return x\n",
        "\n",
        "\n",
        "model = ECG_AE_v1().to(device)\n",
        "criterion = nn.MSELoss()\n",
        "optimizer = torch.optim.Adam(model.parameters(), lr=0.001)\n",
        "\n"
      ],
      "metadata": {
        "id": "t5WfPAwVIWSB"
      },
      "execution_count": null,
      "outputs": []
    },
    {
      "cell_type": "code",
      "source": [
        "model"
      ],
      "metadata": {
        "colab": {
          "base_uri": "https://localhost:8080/"
        },
        "id": "eYaklXRV8FkT",
        "outputId": "4f4966df-bbb9-482a-a021-cd2e6c976705"
      },
      "execution_count": null,
      "outputs": [
        {
          "output_type": "execute_result",
          "data": {
            "text/plain": [
              "ECG_AE_v1(\n",
              "  (AE): Sequential(\n",
              "    (0): Linear(in_features=4999, out_features=128, bias=True)\n",
              "    (1): ReLU()\n",
              "    (2): Linear(in_features=128, out_features=20, bias=True)\n",
              "    (3): ReLU()\n",
              "    (4): Linear(in_features=20, out_features=10, bias=True)\n",
              "    (5): ReLU()\n",
              "    (6): Linear(in_features=10, out_features=20, bias=True)\n",
              "    (7): ReLU()\n",
              "    (8): Linear(in_features=20, out_features=128, bias=True)\n",
              "    (9): ReLU()\n",
              "    (10): Linear(in_features=128, out_features=4999, bias=True)\n",
              "  )\n",
              ")"
            ]
          },
          "metadata": {},
          "execution_count": 118
        }
      ]
    },
    {
      "cell_type": "code",
      "source": [
        "X,y=next(iter(train_dataloader))\n",
        "X.shape"
      ],
      "metadata": {
        "colab": {
          "base_uri": "https://localhost:8080/"
        },
        "id": "WOxxoaE0g5xn",
        "outputId": "d8531b0b-45d4-45e3-f261-5a439e72dba0"
      },
      "execution_count": null,
      "outputs": [
        {
          "output_type": "execute_result",
          "data": {
            "text/plain": [
              "torch.Size([10, 1, 4999])"
            ]
          },
          "metadata": {},
          "execution_count": 119
        }
      ]
    },
    {
      "cell_type": "code",
      "source": [
        "# X,y = train_dataset[0]\n",
        "# X"
      ],
      "metadata": {
        "id": "J0IvpJAl_niF"
      },
      "execution_count": null,
      "outputs": []
    },
    {
      "cell_type": "code",
      "source": [
        "output = model(X)\n",
        "output.shape\n"
      ],
      "metadata": {
        "colab": {
          "base_uri": "https://localhost:8080/"
        },
        "id": "z1DdGj-Q_e8C",
        "outputId": "fe9e0be9-e320-4fc1-c8e5-4dbfc5a65e30"
      },
      "execution_count": null,
      "outputs": [
        {
          "output_type": "execute_result",
          "data": {
            "text/plain": [
              "torch.Size([10, 1, 4999])"
            ]
          },
          "metadata": {},
          "execution_count": 121
        }
      ]
    },
    {
      "cell_type": "code",
      "source": [
        "y.shape\n"
      ],
      "metadata": {
        "colab": {
          "base_uri": "https://localhost:8080/"
        },
        "id": "hw_p1P3aKHqZ",
        "outputId": "ada9667b-d5a9-4801-a91a-5d93d1df0b18"
      },
      "execution_count": null,
      "outputs": [
        {
          "output_type": "execute_result",
          "data": {
            "text/plain": [
              "torch.Size([10, 1, 4999])"
            ]
          },
          "metadata": {},
          "execution_count": 122
        }
      ]
    },
    {
      "cell_type": "code",
      "source": [
        "X.shape"
      ],
      "metadata": {
        "colab": {
          "base_uri": "https://localhost:8080/"
        },
        "id": "nC1ZABFWKLTD",
        "outputId": "fc430650-da1f-4c00-df07-bdc711922c11"
      },
      "execution_count": null,
      "outputs": [
        {
          "output_type": "execute_result",
          "data": {
            "text/plain": [
              "torch.Size([10, 1, 4999])"
            ]
          },
          "metadata": {},
          "execution_count": 123
        }
      ]
    },
    {
      "cell_type": "code",
      "source": [],
      "metadata": {
        "id": "qFydq9zYLydh"
      },
      "execution_count": null,
      "outputs": []
    },
    {
      "cell_type": "code",
      "source": [
        "try: \n",
        "    import torchinfo\n",
        "except:\n",
        "    !pip install torchinfo\n",
        "    import torchinfo\n",
        "\n",
        "from torchinfo import summary\n",
        "summary(model, input_size=[1,4999]) # do a test pass through of an example input size "
      ],
      "metadata": {
        "colab": {
          "base_uri": "https://localhost:8080/"
        },
        "id": "QD39NrScQxlq",
        "outputId": "209cb438-d3de-49a3-ef28-3cb98ae853b6"
      },
      "execution_count": null,
      "outputs": [
        {
          "output_type": "execute_result",
          "data": {
            "text/plain": [
              "==========================================================================================\n",
              "Layer (type:depth-idx)                   Output Shape              Param #\n",
              "==========================================================================================\n",
              "ECG_AE_v1                                [1, 4999]                 --\n",
              "├─Sequential: 1-1                        [1, 4999]                 --\n",
              "│    └─Linear: 2-1                       [1, 128]                  640,000\n",
              "│    └─ReLU: 2-2                         [1, 128]                  --\n",
              "│    └─Linear: 2-3                       [1, 20]                   2,580\n",
              "│    └─ReLU: 2-4                         [1, 20]                   --\n",
              "│    └─Linear: 2-5                       [1, 10]                   210\n",
              "│    └─ReLU: 2-6                         [1, 10]                   --\n",
              "│    └─Linear: 2-7                       [1, 20]                   220\n",
              "│    └─ReLU: 2-8                         [1, 20]                   --\n",
              "│    └─Linear: 2-9                       [1, 128]                  2,688\n",
              "│    └─ReLU: 2-10                        [1, 128]                  --\n",
              "│    └─Linear: 2-11                      [1, 4999]                 644,871\n",
              "==========================================================================================\n",
              "Total params: 1,290,569\n",
              "Trainable params: 1,290,569\n",
              "Non-trainable params: 0\n",
              "Total mult-adds (M): 1.29\n",
              "==========================================================================================\n",
              "Input size (MB): 0.02\n",
              "Forward/backward pass size (MB): 0.04\n",
              "Params size (MB): 5.16\n",
              "Estimated Total Size (MB): 5.22\n",
              "=========================================================================================="
            ]
          },
          "metadata": {},
          "execution_count": 124
        }
      ]
    },
    {
      "cell_type": "code",
      "source": [
        "from tqdm.auto import tqdm\n",
        "torch.manual_seed(42)\n",
        "#train and test loop\n",
        "Epochs = 20\n",
        "for epoch in tqdm(range(Epochs)):\n",
        "  print(f\"Epoch:{epoch}\")\n",
        "  train_loss=0\n",
        "  for batch, (X,y) in enumerate(train_dataloader):  \n",
        "    model.train()\n",
        "    output=model(X)\n",
        "    loss = criterion(output,y)\n",
        "    train_loss += loss\n",
        "    optimizer.zero_grad()\n",
        "    loss.backward()\n",
        "    optimizer.step()\n",
        "  #average loss per batch\n",
        "  train_loss /= len(train_dataloader)\n",
        "  #start testing\n",
        "  test_loss = 0\n",
        "  model.eval()\n",
        "  with torch.inference_mode():\n",
        "    for X,y in test_dataloader:\n",
        "      test_pred = model(X)\n",
        "      test_loss += criterion(test_pred,y)    \n",
        "    test_loss /= len(test_dataloader)\n",
        "\n",
        "  ##print what is happening\n",
        "  print(f\"\\nTrain loss: {train_loss:.5f} | Test loss: {test_loss:.5f}\")\n",
        "    \n",
        "\n",
        "\n"
      ],
      "metadata": {
        "colab": {
          "base_uri": "https://localhost:8080/",
          "height": 951,
          "referenced_widgets": [
            "1e0437fccc3442f89be05c8d688072b4",
            "33ecbe65d02042d89de2dfb6b76469c2",
            "580dde8ac0504a5f8f896962947cb732",
            "d64cc01669fd4515b7f730a6af7139cc",
            "6086b6e515f94d248fd32d060bf0f7af",
            "63e5bb358da34909ba55e1606a985ea0",
            "56259791ae134606a4561d6062d4d390",
            "814a931cf9c84f6296a4344d895d2c97",
            "e87359bf56224381830156fd73586346",
            "567209699b4e471a96e0a5bb2f714539",
            "385e6530d7cb4dbfbc3102be6ba920dd"
          ]
        },
        "id": "3uMREYqwckwg",
        "outputId": "8a1dc303-ce41-402f-a3b2-c0f6409dd9fc"
      },
      "execution_count": null,
      "outputs": [
        {
          "output_type": "display_data",
          "data": {
            "text/plain": [
              "  0%|          | 0/20 [00:00<?, ?it/s]"
            ],
            "application/vnd.jupyter.widget-view+json": {
              "version_major": 2,
              "version_minor": 0,
              "model_id": "1e0437fccc3442f89be05c8d688072b4"
            }
          },
          "metadata": {}
        },
        {
          "output_type": "stream",
          "name": "stdout",
          "text": [
            "Epoch:0\n",
            "\n",
            "Train loss: 0.52356 | Test loss: 0.53877\n",
            "Epoch:1\n",
            "\n",
            "Train loss: 0.38848 | Test loss: 0.32238\n",
            "Epoch:2\n",
            "\n",
            "Train loss: 0.16310 | Test loss: 0.09418\n",
            "Epoch:3\n",
            "\n",
            "Train loss: 0.04822 | Test loss: 0.10115\n",
            "Epoch:4\n",
            "\n",
            "Train loss: 0.01452 | Test loss: 0.06591\n",
            "Epoch:5\n",
            "\n",
            "Train loss: 0.01104 | Test loss: 0.06483\n",
            "Epoch:6\n",
            "\n",
            "Train loss: 0.00579 | Test loss: 0.06941\n",
            "Epoch:7\n",
            "\n",
            "Train loss: 0.00244 | Test loss: 0.05104\n",
            "Epoch:8\n",
            "\n",
            "Train loss: 0.00129 | Test loss: 0.06339\n",
            "Epoch:9\n",
            "\n",
            "Train loss: 0.00080 | Test loss: 0.05476\n",
            "Epoch:10\n",
            "\n",
            "Train loss: 0.00045 | Test loss: 0.05885\n",
            "Epoch:11\n",
            "\n",
            "Train loss: 0.00023 | Test loss: 0.05707\n",
            "Epoch:12\n",
            "\n",
            "Train loss: 0.00012 | Test loss: 0.05700\n",
            "Epoch:13\n",
            "\n",
            "Train loss: 0.00007 | Test loss: 0.05747\n",
            "Epoch:14\n",
            "\n",
            "Train loss: 0.00004 | Test loss: 0.05675\n",
            "Epoch:15\n",
            "\n",
            "Train loss: 0.00002 | Test loss: 0.05741\n",
            "Epoch:16\n",
            "\n",
            "Train loss: 0.00001 | Test loss: 0.05686\n",
            "Epoch:17\n"
          ]
        }
      ]
    },
    {
      "cell_type": "code",
      "source": [
        "input,output = train_dataset[0]\n",
        "input\n",
        "input=input.tolist()\n",
        "data=input[0][0]\n",
        "type(data)\n",
        "plt.plot(data)\n",
        "# plt.title(\"Input ECG lead1\")"
      ],
      "metadata": {
        "id": "X1iZv_5gFGh3"
      },
      "execution_count": null,
      "outputs": []
    },
    {
      "cell_type": "code",
      "source": [
        "X,y=test_dataset[0]\n",
        "model.eval()\n",
        "with torch.inference_mode():\n",
        "  output=model(X)\n",
        "output=output.tolist()\n",
        "data=output[0][0]\n",
        "plt.plot(data)\n",
        "plt.title(\"Output ECG trained for 20epochs on 50 datapoints\")"
      ],
      "metadata": {
        "id": "Nx5cRtALrX_4"
      },
      "execution_count": null,
      "outputs": []
    },
    {
      "cell_type": "code",
      "source": [],
      "metadata": {
        "id": "scCSpwBAwHNk"
      },
      "execution_count": null,
      "outputs": []
    }
  ]
}