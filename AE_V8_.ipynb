{
  "nbformat": 4,
  "nbformat_minor": 0,
  "metadata": {
    "colab": {
      "provenance": [],
      "collapsed_sections": [],
      "authorship_tag": "ABX9TyNNgSNy7eFIMU/2UHLlJwCS",
      "include_colab_link": true
    },
    "kernelspec": {
      "name": "python3",
      "display_name": "Python 3"
    },
    "language_info": {
      "name": "python"
    },
    "widgets": {
      "application/vnd.jupyter.widget-state+json": {
        "57bf62bcfc774c779b33929984d3f6ae": {
          "model_module": "@jupyter-widgets/controls",
          "model_name": "HBoxModel",
          "model_module_version": "1.5.0",
          "state": {
            "_dom_classes": [],
            "_model_module": "@jupyter-widgets/controls",
            "_model_module_version": "1.5.0",
            "_model_name": "HBoxModel",
            "_view_count": null,
            "_view_module": "@jupyter-widgets/controls",
            "_view_module_version": "1.5.0",
            "_view_name": "HBoxView",
            "box_style": "",
            "children": [
              "IPY_MODEL_d060264548a24f51883aa0a8300afbfd",
              "IPY_MODEL_fd81714dbad8461695471c16ae5803e4",
              "IPY_MODEL_a617ff1c2ea04fe795eafea6be56a39a"
            ],
            "layout": "IPY_MODEL_e52ab3adb9074d13a53f1889e29e3ec9"
          }
        },
        "d060264548a24f51883aa0a8300afbfd": {
          "model_module": "@jupyter-widgets/controls",
          "model_name": "HTMLModel",
          "model_module_version": "1.5.0",
          "state": {
            "_dom_classes": [],
            "_model_module": "@jupyter-widgets/controls",
            "_model_module_version": "1.5.0",
            "_model_name": "HTMLModel",
            "_view_count": null,
            "_view_module": "@jupyter-widgets/controls",
            "_view_module_version": "1.5.0",
            "_view_name": "HTMLView",
            "description": "",
            "description_tooltip": null,
            "layout": "IPY_MODEL_1732afcf1d3a48abbf35ae4f74a6f9f7",
            "placeholder": "​",
            "style": "IPY_MODEL_900a501378514621b30c38532bd14fda",
            "value": "  0%"
          }
        },
        "fd81714dbad8461695471c16ae5803e4": {
          "model_module": "@jupyter-widgets/controls",
          "model_name": "FloatProgressModel",
          "model_module_version": "1.5.0",
          "state": {
            "_dom_classes": [],
            "_model_module": "@jupyter-widgets/controls",
            "_model_module_version": "1.5.0",
            "_model_name": "FloatProgressModel",
            "_view_count": null,
            "_view_module": "@jupyter-widgets/controls",
            "_view_module_version": "1.5.0",
            "_view_name": "ProgressView",
            "bar_style": "danger",
            "description": "",
            "description_tooltip": null,
            "layout": "IPY_MODEL_2c780bd1372d47a585d3af0b2b1d7f32",
            "max": 51,
            "min": 0,
            "orientation": "horizontal",
            "style": "IPY_MODEL_cd9b0c705da048ea953a525ea14435a1",
            "value": 0
          }
        },
        "a617ff1c2ea04fe795eafea6be56a39a": {
          "model_module": "@jupyter-widgets/controls",
          "model_name": "HTMLModel",
          "model_module_version": "1.5.0",
          "state": {
            "_dom_classes": [],
            "_model_module": "@jupyter-widgets/controls",
            "_model_module_version": "1.5.0",
            "_model_name": "HTMLModel",
            "_view_count": null,
            "_view_module": "@jupyter-widgets/controls",
            "_view_module_version": "1.5.0",
            "_view_name": "HTMLView",
            "description": "",
            "description_tooltip": null,
            "layout": "IPY_MODEL_90fff4205a3044798ae69aa78dfc20f6",
            "placeholder": "​",
            "style": "IPY_MODEL_77b8b8eac2754d21b6ee3d1aca0ac5c4",
            "value": " 0/51 [00:04&lt;?, ?it/s]"
          }
        },
        "e52ab3adb9074d13a53f1889e29e3ec9": {
          "model_module": "@jupyter-widgets/base",
          "model_name": "LayoutModel",
          "model_module_version": "1.2.0",
          "state": {
            "_model_module": "@jupyter-widgets/base",
            "_model_module_version": "1.2.0",
            "_model_name": "LayoutModel",
            "_view_count": null,
            "_view_module": "@jupyter-widgets/base",
            "_view_module_version": "1.2.0",
            "_view_name": "LayoutView",
            "align_content": null,
            "align_items": null,
            "align_self": null,
            "border": null,
            "bottom": null,
            "display": null,
            "flex": null,
            "flex_flow": null,
            "grid_area": null,
            "grid_auto_columns": null,
            "grid_auto_flow": null,
            "grid_auto_rows": null,
            "grid_column": null,
            "grid_gap": null,
            "grid_row": null,
            "grid_template_areas": null,
            "grid_template_columns": null,
            "grid_template_rows": null,
            "height": null,
            "justify_content": null,
            "justify_items": null,
            "left": null,
            "margin": null,
            "max_height": null,
            "max_width": null,
            "min_height": null,
            "min_width": null,
            "object_fit": null,
            "object_position": null,
            "order": null,
            "overflow": null,
            "overflow_x": null,
            "overflow_y": null,
            "padding": null,
            "right": null,
            "top": null,
            "visibility": null,
            "width": null
          }
        },
        "1732afcf1d3a48abbf35ae4f74a6f9f7": {
          "model_module": "@jupyter-widgets/base",
          "model_name": "LayoutModel",
          "model_module_version": "1.2.0",
          "state": {
            "_model_module": "@jupyter-widgets/base",
            "_model_module_version": "1.2.0",
            "_model_name": "LayoutModel",
            "_view_count": null,
            "_view_module": "@jupyter-widgets/base",
            "_view_module_version": "1.2.0",
            "_view_name": "LayoutView",
            "align_content": null,
            "align_items": null,
            "align_self": null,
            "border": null,
            "bottom": null,
            "display": null,
            "flex": null,
            "flex_flow": null,
            "grid_area": null,
            "grid_auto_columns": null,
            "grid_auto_flow": null,
            "grid_auto_rows": null,
            "grid_column": null,
            "grid_gap": null,
            "grid_row": null,
            "grid_template_areas": null,
            "grid_template_columns": null,
            "grid_template_rows": null,
            "height": null,
            "justify_content": null,
            "justify_items": null,
            "left": null,
            "margin": null,
            "max_height": null,
            "max_width": null,
            "min_height": null,
            "min_width": null,
            "object_fit": null,
            "object_position": null,
            "order": null,
            "overflow": null,
            "overflow_x": null,
            "overflow_y": null,
            "padding": null,
            "right": null,
            "top": null,
            "visibility": null,
            "width": null
          }
        },
        "900a501378514621b30c38532bd14fda": {
          "model_module": "@jupyter-widgets/controls",
          "model_name": "DescriptionStyleModel",
          "model_module_version": "1.5.0",
          "state": {
            "_model_module": "@jupyter-widgets/controls",
            "_model_module_version": "1.5.0",
            "_model_name": "DescriptionStyleModel",
            "_view_count": null,
            "_view_module": "@jupyter-widgets/base",
            "_view_module_version": "1.2.0",
            "_view_name": "StyleView",
            "description_width": ""
          }
        },
        "2c780bd1372d47a585d3af0b2b1d7f32": {
          "model_module": "@jupyter-widgets/base",
          "model_name": "LayoutModel",
          "model_module_version": "1.2.0",
          "state": {
            "_model_module": "@jupyter-widgets/base",
            "_model_module_version": "1.2.0",
            "_model_name": "LayoutModel",
            "_view_count": null,
            "_view_module": "@jupyter-widgets/base",
            "_view_module_version": "1.2.0",
            "_view_name": "LayoutView",
            "align_content": null,
            "align_items": null,
            "align_self": null,
            "border": null,
            "bottom": null,
            "display": null,
            "flex": null,
            "flex_flow": null,
            "grid_area": null,
            "grid_auto_columns": null,
            "grid_auto_flow": null,
            "grid_auto_rows": null,
            "grid_column": null,
            "grid_gap": null,
            "grid_row": null,
            "grid_template_areas": null,
            "grid_template_columns": null,
            "grid_template_rows": null,
            "height": null,
            "justify_content": null,
            "justify_items": null,
            "left": null,
            "margin": null,
            "max_height": null,
            "max_width": null,
            "min_height": null,
            "min_width": null,
            "object_fit": null,
            "object_position": null,
            "order": null,
            "overflow": null,
            "overflow_x": null,
            "overflow_y": null,
            "padding": null,
            "right": null,
            "top": null,
            "visibility": null,
            "width": null
          }
        },
        "cd9b0c705da048ea953a525ea14435a1": {
          "model_module": "@jupyter-widgets/controls",
          "model_name": "ProgressStyleModel",
          "model_module_version": "1.5.0",
          "state": {
            "_model_module": "@jupyter-widgets/controls",
            "_model_module_version": "1.5.0",
            "_model_name": "ProgressStyleModel",
            "_view_count": null,
            "_view_module": "@jupyter-widgets/base",
            "_view_module_version": "1.2.0",
            "_view_name": "StyleView",
            "bar_color": null,
            "description_width": ""
          }
        },
        "90fff4205a3044798ae69aa78dfc20f6": {
          "model_module": "@jupyter-widgets/base",
          "model_name": "LayoutModel",
          "model_module_version": "1.2.0",
          "state": {
            "_model_module": "@jupyter-widgets/base",
            "_model_module_version": "1.2.0",
            "_model_name": "LayoutModel",
            "_view_count": null,
            "_view_module": "@jupyter-widgets/base",
            "_view_module_version": "1.2.0",
            "_view_name": "LayoutView",
            "align_content": null,
            "align_items": null,
            "align_self": null,
            "border": null,
            "bottom": null,
            "display": null,
            "flex": null,
            "flex_flow": null,
            "grid_area": null,
            "grid_auto_columns": null,
            "grid_auto_flow": null,
            "grid_auto_rows": null,
            "grid_column": null,
            "grid_gap": null,
            "grid_row": null,
            "grid_template_areas": null,
            "grid_template_columns": null,
            "grid_template_rows": null,
            "height": null,
            "justify_content": null,
            "justify_items": null,
            "left": null,
            "margin": null,
            "max_height": null,
            "max_width": null,
            "min_height": null,
            "min_width": null,
            "object_fit": null,
            "object_position": null,
            "order": null,
            "overflow": null,
            "overflow_x": null,
            "overflow_y": null,
            "padding": null,
            "right": null,
            "top": null,
            "visibility": null,
            "width": null
          }
        },
        "77b8b8eac2754d21b6ee3d1aca0ac5c4": {
          "model_module": "@jupyter-widgets/controls",
          "model_name": "DescriptionStyleModel",
          "model_module_version": "1.5.0",
          "state": {
            "_model_module": "@jupyter-widgets/controls",
            "_model_module_version": "1.5.0",
            "_model_name": "DescriptionStyleModel",
            "_view_count": null,
            "_view_module": "@jupyter-widgets/base",
            "_view_module_version": "1.2.0",
            "_view_name": "StyleView",
            "description_width": ""
          }
        },
        "32043ac9a858481fb1c3763b42fe948b": {
          "model_module": "@jupyter-widgets/controls",
          "model_name": "HBoxModel",
          "model_module_version": "1.5.0",
          "state": {
            "_dom_classes": [],
            "_model_module": "@jupyter-widgets/controls",
            "_model_module_version": "1.5.0",
            "_model_name": "HBoxModel",
            "_view_count": null,
            "_view_module": "@jupyter-widgets/controls",
            "_view_module_version": "1.5.0",
            "_view_name": "HBoxView",
            "box_style": "",
            "children": [
              "IPY_MODEL_610e6fd67c194c3c9297359ab16bbfe0",
              "IPY_MODEL_8249a4f08eda4eb980fb26cb21187cd6",
              "IPY_MODEL_6e7373c095f94c53b62dee4e3c2646a1"
            ],
            "layout": "IPY_MODEL_69f1757b5a90409081c0532be10213ac"
          }
        },
        "610e6fd67c194c3c9297359ab16bbfe0": {
          "model_module": "@jupyter-widgets/controls",
          "model_name": "HTMLModel",
          "model_module_version": "1.5.0",
          "state": {
            "_dom_classes": [],
            "_model_module": "@jupyter-widgets/controls",
            "_model_module_version": "1.5.0",
            "_model_name": "HTMLModel",
            "_view_count": null,
            "_view_module": "@jupyter-widgets/controls",
            "_view_module_version": "1.5.0",
            "_view_name": "HTMLView",
            "description": "",
            "description_tooltip": null,
            "layout": "IPY_MODEL_ad45535e14e54ee586a91b59998c44c9",
            "placeholder": "​",
            "style": "IPY_MODEL_cc757dbbc45b41fd86a16f0088861f82",
            "value": ""
          }
        },
        "8249a4f08eda4eb980fb26cb21187cd6": {
          "model_module": "@jupyter-widgets/controls",
          "model_name": "FloatProgressModel",
          "model_module_version": "1.5.0",
          "state": {
            "_dom_classes": [],
            "_model_module": "@jupyter-widgets/controls",
            "_model_module_version": "1.5.0",
            "_model_name": "FloatProgressModel",
            "_view_count": null,
            "_view_module": "@jupyter-widgets/controls",
            "_view_module_version": "1.5.0",
            "_view_name": "ProgressView",
            "bar_style": "danger",
            "description": "",
            "description_tooltip": null,
            "layout": "IPY_MODEL_9ec868eb05ba4f39ab869bd07bc30ff7",
            "max": 1,
            "min": 0,
            "orientation": "horizontal",
            "style": "IPY_MODEL_26b4945bfe014c018101ac032a306734",
            "value": 1
          }
        },
        "6e7373c095f94c53b62dee4e3c2646a1": {
          "model_module": "@jupyter-widgets/controls",
          "model_name": "HTMLModel",
          "model_module_version": "1.5.0",
          "state": {
            "_dom_classes": [],
            "_model_module": "@jupyter-widgets/controls",
            "_model_module_version": "1.5.0",
            "_model_name": "HTMLModel",
            "_view_count": null,
            "_view_module": "@jupyter-widgets/controls",
            "_view_module_version": "1.5.0",
            "_view_name": "HTMLView",
            "description": "",
            "description_tooltip": null,
            "layout": "IPY_MODEL_f2538cf5595f454693cc8dfe91f2d6c7",
            "placeholder": "​",
            "style": "IPY_MODEL_daaafb55801349bf99554bbbcc99c6c6",
            "value": " 5/? [00:02&lt;00:00,  2.58it/s]"
          }
        },
        "69f1757b5a90409081c0532be10213ac": {
          "model_module": "@jupyter-widgets/base",
          "model_name": "LayoutModel",
          "model_module_version": "1.2.0",
          "state": {
            "_model_module": "@jupyter-widgets/base",
            "_model_module_version": "1.2.0",
            "_model_name": "LayoutModel",
            "_view_count": null,
            "_view_module": "@jupyter-widgets/base",
            "_view_module_version": "1.2.0",
            "_view_name": "LayoutView",
            "align_content": null,
            "align_items": null,
            "align_self": null,
            "border": null,
            "bottom": null,
            "display": null,
            "flex": null,
            "flex_flow": null,
            "grid_area": null,
            "grid_auto_columns": null,
            "grid_auto_flow": null,
            "grid_auto_rows": null,
            "grid_column": null,
            "grid_gap": null,
            "grid_row": null,
            "grid_template_areas": null,
            "grid_template_columns": null,
            "grid_template_rows": null,
            "height": null,
            "justify_content": null,
            "justify_items": null,
            "left": null,
            "margin": null,
            "max_height": null,
            "max_width": null,
            "min_height": null,
            "min_width": null,
            "object_fit": null,
            "object_position": null,
            "order": null,
            "overflow": null,
            "overflow_x": null,
            "overflow_y": null,
            "padding": null,
            "right": null,
            "top": null,
            "visibility": null,
            "width": null
          }
        },
        "ad45535e14e54ee586a91b59998c44c9": {
          "model_module": "@jupyter-widgets/base",
          "model_name": "LayoutModel",
          "model_module_version": "1.2.0",
          "state": {
            "_model_module": "@jupyter-widgets/base",
            "_model_module_version": "1.2.0",
            "_model_name": "LayoutModel",
            "_view_count": null,
            "_view_module": "@jupyter-widgets/base",
            "_view_module_version": "1.2.0",
            "_view_name": "LayoutView",
            "align_content": null,
            "align_items": null,
            "align_self": null,
            "border": null,
            "bottom": null,
            "display": null,
            "flex": null,
            "flex_flow": null,
            "grid_area": null,
            "grid_auto_columns": null,
            "grid_auto_flow": null,
            "grid_auto_rows": null,
            "grid_column": null,
            "grid_gap": null,
            "grid_row": null,
            "grid_template_areas": null,
            "grid_template_columns": null,
            "grid_template_rows": null,
            "height": null,
            "justify_content": null,
            "justify_items": null,
            "left": null,
            "margin": null,
            "max_height": null,
            "max_width": null,
            "min_height": null,
            "min_width": null,
            "object_fit": null,
            "object_position": null,
            "order": null,
            "overflow": null,
            "overflow_x": null,
            "overflow_y": null,
            "padding": null,
            "right": null,
            "top": null,
            "visibility": null,
            "width": null
          }
        },
        "cc757dbbc45b41fd86a16f0088861f82": {
          "model_module": "@jupyter-widgets/controls",
          "model_name": "DescriptionStyleModel",
          "model_module_version": "1.5.0",
          "state": {
            "_model_module": "@jupyter-widgets/controls",
            "_model_module_version": "1.5.0",
            "_model_name": "DescriptionStyleModel",
            "_view_count": null,
            "_view_module": "@jupyter-widgets/base",
            "_view_module_version": "1.2.0",
            "_view_name": "StyleView",
            "description_width": ""
          }
        },
        "9ec868eb05ba4f39ab869bd07bc30ff7": {
          "model_module": "@jupyter-widgets/base",
          "model_name": "LayoutModel",
          "model_module_version": "1.2.0",
          "state": {
            "_model_module": "@jupyter-widgets/base",
            "_model_module_version": "1.2.0",
            "_model_name": "LayoutModel",
            "_view_count": null,
            "_view_module": "@jupyter-widgets/base",
            "_view_module_version": "1.2.0",
            "_view_name": "LayoutView",
            "align_content": null,
            "align_items": null,
            "align_self": null,
            "border": null,
            "bottom": null,
            "display": null,
            "flex": null,
            "flex_flow": null,
            "grid_area": null,
            "grid_auto_columns": null,
            "grid_auto_flow": null,
            "grid_auto_rows": null,
            "grid_column": null,
            "grid_gap": null,
            "grid_row": null,
            "grid_template_areas": null,
            "grid_template_columns": null,
            "grid_template_rows": null,
            "height": null,
            "justify_content": null,
            "justify_items": null,
            "left": null,
            "margin": null,
            "max_height": null,
            "max_width": null,
            "min_height": null,
            "min_width": null,
            "object_fit": null,
            "object_position": null,
            "order": null,
            "overflow": null,
            "overflow_x": null,
            "overflow_y": null,
            "padding": null,
            "right": null,
            "top": null,
            "visibility": null,
            "width": "20px"
          }
        },
        "26b4945bfe014c018101ac032a306734": {
          "model_module": "@jupyter-widgets/controls",
          "model_name": "ProgressStyleModel",
          "model_module_version": "1.5.0",
          "state": {
            "_model_module": "@jupyter-widgets/controls",
            "_model_module_version": "1.5.0",
            "_model_name": "ProgressStyleModel",
            "_view_count": null,
            "_view_module": "@jupyter-widgets/base",
            "_view_module_version": "1.2.0",
            "_view_name": "StyleView",
            "bar_color": null,
            "description_width": ""
          }
        },
        "f2538cf5595f454693cc8dfe91f2d6c7": {
          "model_module": "@jupyter-widgets/base",
          "model_name": "LayoutModel",
          "model_module_version": "1.2.0",
          "state": {
            "_model_module": "@jupyter-widgets/base",
            "_model_module_version": "1.2.0",
            "_model_name": "LayoutModel",
            "_view_count": null,
            "_view_module": "@jupyter-widgets/base",
            "_view_module_version": "1.2.0",
            "_view_name": "LayoutView",
            "align_content": null,
            "align_items": null,
            "align_self": null,
            "border": null,
            "bottom": null,
            "display": null,
            "flex": null,
            "flex_flow": null,
            "grid_area": null,
            "grid_auto_columns": null,
            "grid_auto_flow": null,
            "grid_auto_rows": null,
            "grid_column": null,
            "grid_gap": null,
            "grid_row": null,
            "grid_template_areas": null,
            "grid_template_columns": null,
            "grid_template_rows": null,
            "height": null,
            "justify_content": null,
            "justify_items": null,
            "left": null,
            "margin": null,
            "max_height": null,
            "max_width": null,
            "min_height": null,
            "min_width": null,
            "object_fit": null,
            "object_position": null,
            "order": null,
            "overflow": null,
            "overflow_x": null,
            "overflow_y": null,
            "padding": null,
            "right": null,
            "top": null,
            "visibility": null,
            "width": null
          }
        },
        "daaafb55801349bf99554bbbcc99c6c6": {
          "model_module": "@jupyter-widgets/controls",
          "model_name": "DescriptionStyleModel",
          "model_module_version": "1.5.0",
          "state": {
            "_model_module": "@jupyter-widgets/controls",
            "_model_module_version": "1.5.0",
            "_model_name": "DescriptionStyleModel",
            "_view_count": null,
            "_view_module": "@jupyter-widgets/base",
            "_view_module_version": "1.2.0",
            "_view_name": "StyleView",
            "description_width": ""
          }
        }
      }
    }
  },
  "cells": [
    {
      "cell_type": "markdown",
      "metadata": {
        "id": "view-in-github",
        "colab_type": "text"
      },
      "source": [
        "<a href=\"https://colab.research.google.com/github/t-willi/Simula/blob/main/AE_V8_.ipynb\" target=\"_parent\"><img src=\"https://colab.research.google.com/assets/colab-badge.svg\" alt=\"Open In Colab\"/></a>"
      ]
    },
    {
      "cell_type": "code",
      "execution_count": null,
      "metadata": {
        "id": "ZJ8RUpYRlqNG"
      },
      "outputs": [],
      "source": []
    },
    {
      "cell_type": "code",
      "execution_count": 1,
      "metadata": {
        "colab": {
          "base_uri": "https://localhost:8080/"
        },
        "id": "s7u8WUctU59p",
        "outputId": "345ac200-64e8-40e7-bcc3-5ca60b0d137e"
      },
      "outputs": [
        {
          "output_type": "stream",
          "name": "stdout",
          "text": [
            "Looking in indexes: https://pypi.org/simple, https://us-python.pkg.dev/colab-wheels/public/simple/\n",
            "Collecting ecg_plot\n",
            "  Downloading ecg_plot-0.2.8-py3-none-any.whl (9.2 kB)\n",
            "Installing collected packages: ecg-plot\n",
            "Successfully installed ecg-plot-0.2.8\n",
            "\u001b[K     |████████████████████████████████| 1.9 MB 8.3 MB/s \n",
            "\u001b[K     |████████████████████████████████| 182 kB 54.9 MB/s \n",
            "\u001b[K     |████████████████████████████████| 166 kB 54.9 MB/s \n",
            "\u001b[K     |████████████████████████████████| 63 kB 1.8 MB/s \n",
            "\u001b[K     |████████████████████████████████| 166 kB 62.9 MB/s \n",
            "\u001b[K     |████████████████████████████████| 162 kB 72.1 MB/s \n",
            "\u001b[K     |████████████████████████████████| 162 kB 68.7 MB/s \n",
            "\u001b[K     |████████████████████████████████| 158 kB 72.1 MB/s \n",
            "\u001b[K     |████████████████████████████████| 157 kB 70.1 MB/s \n",
            "\u001b[K     |████████████████████████████████| 157 kB 58.4 MB/s \n",
            "\u001b[K     |████████████████████████████████| 157 kB 56.6 MB/s \n",
            "\u001b[K     |████████████████████████████████| 157 kB 57.4 MB/s \n",
            "\u001b[K     |████████████████████████████████| 157 kB 55.6 MB/s \n",
            "\u001b[K     |████████████████████████████████| 157 kB 56.3 MB/s \n",
            "\u001b[K     |████████████████████████████████| 157 kB 55.7 MB/s \n",
            "\u001b[K     |████████████████████████████████| 156 kB 50.5 MB/s \n",
            "\u001b[?25h  Building wheel for pathtools (setup.py) ... \u001b[?25l\u001b[?25hdone\n",
            "\u001b[K     |████████████████████████████████| 793 kB 6.6 MB/s \n",
            "\u001b[K     |████████████████████████████████| 1.6 MB 50.5 MB/s \n",
            "\u001b[?25h  Building wheel for ipdb (setup.py) ... \u001b[?25l\u001b[?25hdone\n",
            "\u001b[31mERROR: pip's dependency resolver does not currently take into account all the packages that are installed. This behaviour is the source of the following dependency conflicts.\n",
            "google-colab 1.0.0 requires ipython~=7.9.0, but you have ipython 7.34.0 which is incompatible.\u001b[0m\n"
          ]
        }
      ],
      "source": [
        "import torch\n",
        "from torch import nn\n",
        "import matplotlib.pyplot as plt\n",
        "import torchvision\n",
        "from torchvision import datasets, models, transforms\n",
        "from torchvision.transforms import ToTensor\n",
        "import pandas as pd\n",
        "import numpy as np\n",
        "from torch.utils.data import Dataset, DataLoader\n",
        "from timeit import default_timer as timer \n",
        "import glob\n",
        "import torch.optim as optim\n",
        "from sklearn.preprocessing import normalize\n",
        "from sklearn.preprocessing import MinMaxScaler\n",
        "from random import shuffle\n",
        "from tqdm.auto import tqdm\n",
        "import requests\n",
        "import zipfile\n",
        "from pathlib import Path\n",
        "!pip install ecg_plot\n",
        "!pip install wandb -Uq\n",
        "!pip install -Uqq ipdb\n",
        "import ipdb\n",
        "\n",
        "\n",
        "if torch.cuda.is_available()==True:\n",
        "  device=\"cuda:0\"\n",
        "else:\n",
        "  device =\"cpu\""
      ]
    },
    {
      "cell_type": "code",
      "source": [
        "def request(path=None,name=None):\n",
        "  import requests\n",
        "  from pathlib import Path\n",
        "  request = requests.get(path)\n",
        "  name=name+\".py\"\n",
        "  with open(name,\"wb\") as f:\n",
        "    f.write(request.content)"
      ],
      "metadata": {
        "id": "3AgwuDNhVDNk"
      },
      "execution_count": 2,
      "outputs": []
    },
    {
      "cell_type": "code",
      "source": [
        "import wandb\n",
        "\n",
        "wandb.login()"
      ],
      "metadata": {
        "colab": {
          "base_uri": "https://localhost:8080/",
          "height": 106
        },
        "id": "JayETpOEvw_L",
        "outputId": "de80fb75-5a42-43ed-f66c-bf9bb4385a24"
      },
      "execution_count": 3,
      "outputs": [
        {
          "output_type": "stream",
          "name": "stderr",
          "text": [
            "ERROR:wandb.jupyter:Failed to detect the name of this notebook, you can set it manually with the WANDB_NOTEBOOK_NAME environment variable to enable code saving.\n"
          ]
        },
        {
          "output_type": "display_data",
          "data": {
            "text/plain": [
              "<IPython.core.display.Javascript object>"
            ],
            "application/javascript": [
              "\n",
              "        window._wandbApiKey = new Promise((resolve, reject) => {\n",
              "            function loadScript(url) {\n",
              "            return new Promise(function(resolve, reject) {\n",
              "                let newScript = document.createElement(\"script\");\n",
              "                newScript.onerror = reject;\n",
              "                newScript.onload = resolve;\n",
              "                document.body.appendChild(newScript);\n",
              "                newScript.src = url;\n",
              "            });\n",
              "            }\n",
              "            loadScript(\"https://cdn.jsdelivr.net/npm/postmate/build/postmate.min.js\").then(() => {\n",
              "            const iframe = document.createElement('iframe')\n",
              "            iframe.style.cssText = \"width:0;height:0;border:none\"\n",
              "            document.body.appendChild(iframe)\n",
              "            const handshake = new Postmate({\n",
              "                container: iframe,\n",
              "                url: 'https://wandb.ai/authorize'\n",
              "            });\n",
              "            const timeout = setTimeout(() => reject(\"Couldn't auto authenticate\"), 5000)\n",
              "            handshake.then(function(child) {\n",
              "                child.on('authorize', data => {\n",
              "                    clearTimeout(timeout)\n",
              "                    resolve(data)\n",
              "                });\n",
              "            });\n",
              "            })\n",
              "        });\n",
              "    "
            ]
          },
          "metadata": {}
        },
        {
          "output_type": "stream",
          "name": "stderr",
          "text": [
            "\u001b[34m\u001b[1mwandb\u001b[0m: Appending key for api.wandb.ai to your netrc file: /root/.netrc\n"
          ]
        },
        {
          "output_type": "execute_result",
          "data": {
            "text/plain": [
              "True"
            ]
          },
          "metadata": {},
          "execution_count": 3
        }
      ]
    },
    {
      "cell_type": "code",
      "source": [
        "def unzip(path=None):\n",
        "  # Setup path to data folder\n",
        "  data_path = Path(\"data/\")\n",
        "  train_path = data_path / \"train_data\"\n",
        "  # If the image folder doesn't exist, download it and prepare it... \n",
        "  if train_path.is_dir():\n",
        "      print(f\"{train_path} directory exists.\")\n",
        "  else:\n",
        "      print(f\"Did not find {train_path} directory, creating one...\")\n",
        "      train_path.mkdir(parents=True, exist_ok=True)\n",
        "      # Unzip pizza, steak, sushi data\n",
        "      with zipfile.ZipFile(\"/content/artifacts/ecg_25000.zip:v0/ecg_25000.zip\", \"r\") as zip_ref:\n",
        "          print(f\"Unzipping data to folder...\") \n",
        "          zip_ref.extractall(train_path)"
      ],
      "metadata": {
        "id": "U8V_jkOuWS2J"
      },
      "execution_count": 4,
      "outputs": []
    },
    {
      "cell_type": "code",
      "source": [],
      "metadata": {
        "id": "n3UN46xNV_WB"
      },
      "execution_count": 4,
      "outputs": []
    },
    {
      "cell_type": "code",
      "source": [
        "## Load Custom dataloader\n",
        "Dataloader_git_dir=\"https://raw.githubusercontent.com/t-willi/NeuralNetworks/main/Dataloader.py\"\n",
        "request(Dataloader_git_dir,\"Dataloader\")\n",
        "from Dataloader import Custom_dataset as CD\n",
        "\n",
        "def make_loader(dataset,batch_size):\n",
        "  loader = DataLoader(dataset,\n",
        "                      batch_size=batch_size,\n",
        "                      shuffle=True,\n",
        "                      drop_last=True\n",
        "                      )\n",
        "  return loader"
      ],
      "metadata": {
        "id": "iwGfIps9WmdQ"
      },
      "execution_count": 5,
      "outputs": []
    },
    {
      "cell_type": "code",
      "source": [
        "#Download and instantialize model\n",
        "model_git_dir=\"https://raw.githubusercontent.com/t-willi/NeuralNetworks/main/Networks.py\"\n",
        "request(model_git_dir,\"Networks\")\n",
        "from Networks import ECG_AE_v1\n",
        "model=ECG_AE_v1()\n",
        "model"
      ],
      "metadata": {
        "id": "PXnaDeqSWy1p",
        "colab": {
          "base_uri": "https://localhost:8080/"
        },
        "outputId": "66dc7b33-dafa-4718-c5cb-6fc899a59ad6"
      },
      "execution_count": 6,
      "outputs": [
        {
          "output_type": "execute_result",
          "data": {
            "text/plain": [
              "ECG_AE_v1(\n",
              "  (encoder): Sequential(\n",
              "    (0): Linear(in_features=5000, out_features=128, bias=True)\n",
              "    (1): ReLU()\n",
              "    (2): Linear(in_features=128, out_features=64, bias=True)\n",
              "    (3): ReLU()\n",
              "    (4): Linear(in_features=64, out_features=20, bias=True)\n",
              "    (5): ReLU()\n",
              "  )\n",
              "  (decoder): Sequential(\n",
              "    (0): Linear(in_features=20, out_features=64, bias=True)\n",
              "    (1): ReLU()\n",
              "    (2): Linear(in_features=64, out_features=128, bias=True)\n",
              "    (3): ReLU()\n",
              "    (4): Linear(in_features=128, out_features=35000, bias=True)\n",
              "  )\n",
              ")"
            ]
          },
          "metadata": {},
          "execution_count": 6
        }
      ]
    },
    {
      "cell_type": "code",
      "source": [
        "#download prediction generator\n",
        "get_pred_git_dir=\"https://raw.githubusercontent.com/t-willi/NeuralNetworks/main/get_predictions.py\"\n",
        "request(get_pred_git_dir,\"get_predictions\")\n",
        "from get_predictions import get_pred\n",
        "#download ECG plotter\n",
        "# plt_ECG_git_dir=\"https://raw.githubusercontent.com/t-willi/NeuralNetworks/main/plot_ECG.py\"\n",
        "# request(plt_ECG_git_dir,\"plot_ECG\")\n",
        "# from plot_ECG import plotECG\n",
        "# #input,output=get_pred(dataset=val_dataset,model=model)"
      ],
      "metadata": {
        "id": "yZ92CXH8W8Xy"
      },
      "execution_count": 23,
      "outputs": []
    },
    {
      "cell_type": "code",
      "source": [
        "# 🐝 initialise a wandb run\n",
        "config = dict(\n",
        "    epochs=51,\n",
        "    batch_size=32,\n",
        "    learning_rate=0.001,)\n"
      ],
      "metadata": {
        "id": "9GWE7duKhBOk"
      },
      "execution_count": 9,
      "outputs": []
    },
    {
      "cell_type": "code",
      "source": [
        "def model_pipeline(hyperparameters,model=model):\n",
        "    # tell wandb to get started\n",
        "    artifact = wandb.init(project=\"pytorch-demo\", config=hyperparameters).use_artifact('ecg_simula/setup_weights and biases/ecg_25000.zip:v0', type='raw_data')\n",
        "    artifact_dir = artifact.download()\n",
        "    unzip()\n",
        "    # access all HPs through wandb.config, so logging matches execution!\n",
        "    config = wandb.config\n",
        "    # make the model, data, and optimization problem\n",
        "    train_loader, val_loader, criterion, optimizer,val_dataset = make(config)\n",
        "    # and use them to train the model\n",
        "    train(model, train_loader,val_loader, criterion, optimizer,val_dataset,config)\n",
        "    return model"
      ],
      "metadata": {
        "id": "kb_VpAKpNeoF"
      },
      "execution_count": 10,
      "outputs": []
    },
    {
      "cell_type": "code",
      "source": [
        "def make(config):\n",
        "    # Make the data\n",
        "    data_dir=\"/content/data/train_data\"\n",
        "    train_dataset = CD(data_dir=data_dir,split=True,target=\"train\")\n",
        "    val_dataset = CD(data_dir=data_dir,split=True,target=\"val\")\n",
        "    train_loader = make_loader(train_dataset, batch_size=config.batch_size)\n",
        "    val_loader = make_loader(val_dataset, batch_size=config.batch_size)\n",
        "\n",
        "    # Make the loss and optimizer\n",
        "    criterion = nn.MSELoss()\n",
        "    optimizer = torch.optim.Adam(model.parameters(), lr=config.learning_rate)\n",
        "    \n",
        "    return train_loader, val_loader, criterion, optimizer,val_dataset"
      ],
      "metadata": {
        "id": "vpjHI6FGNmCc"
      },
      "execution_count": 11,
      "outputs": []
    },
    {
      "cell_type": "code",
      "source": [
        "def train(model, train_loader,val_loader, criterion, optimizer,val_dataset, config):\n",
        "  # Tell wandb to watch what the model gets up to: gradients, weights, and more!\n",
        "  wandb.watch(model, criterion, log=\"all\")\n",
        "  for epoch in tqdm(range(config.epochs)):\n",
        "    train_loss=0\n",
        "    for batch,(X,y) in tqdm(enumerate(train_loader)):\n",
        "      # Forward pass ➡\n",
        "      X, y = X.to(device), y.to(device) \n",
        "      model.train()\n",
        "      output=model(X)\n",
        "      output=torch.reshape(output,(config.batch_size, 1, 7, 5000))\n",
        "      loss = criterion(output,y)\n",
        "      train_loss += loss\n",
        "      # Backward pass ⬅\n",
        "      optimizer.zero_grad()\n",
        "      loss.backward()\n",
        "      # Step with optimizer\n",
        "      optimizer.step()\n",
        "      if batch == 5:\n",
        "        break\n",
        "    #average loss per batch\n",
        "    train_loss /= len(train_loader)\n",
        "\n",
        "\n",
        "    val_loss = 0\n",
        "    model.eval()\n",
        "    with torch.inference_mode():\n",
        "      for batch,(X,y) in enumerate(val_loader):\n",
        "        #print(\"doing test loop\")\n",
        "        X, y = X.to(device), y.to(device)\n",
        "        val_pred = model(X)\n",
        "        val_pred=torch.reshape(val_pred,(config.batch_size, 1, 7, 5000))\n",
        "        loss=criterion(val_pred,y)\n",
        "        val_loss += loss\n",
        "        if batch == 5:\n",
        "          break\n",
        "      val_loss /= len(val_loader)  \n",
        "      wandb.log({\"train_loss\": train_loss, \n",
        "                 \"val_loss\": val_loss})\n",
        "      \n",
        "\n",
        "    if epoch % 25==0:\n",
        "      #setup folder for outputs\n",
        "      ecg_path=Path(\"/content/ECG/\")\n",
        "      if ecg_path.is_dir():\n",
        "        print(\"Folder exists\")\n",
        "      else:\n",
        "        ecg_path.mkdir()\n",
        "      df_input,df_output=get_pred(val_dataset,model)\n",
        "      combined_df=plotECG(df_input,df_output,path=\"/content/ECG/\")\n",
        "      png_to_jpg()\n",
        "      wandb.log({\"ECG\": wandb.Image(\"/content/ECG/ECG.jpg\")})\n",
        "      \n",
        "    #if epoch % 1==0:\n",
        "    # #Save the model in the exchangeable ONNX format\n",
        "    #   model_dir=\"/content/saved_model\"\n",
        "    #   model_dir.mkdir(parents=True, exist_ok=True)\n",
        "    #   trained_model_artifact = wandb.Artifact(\"AE\",\n",
        "    #                                           type=\"model\",\n",
        "    #                                           description=\"Simple AE to start with training on ECG data translation\")\n",
        "    #   model.save(model_dir)\n",
        "    #   trained_model_artifact.add_dir(model_dir)\n",
        "    #   artifact.log_artifact(trained_model_artifact)\n"
      ],
      "metadata": {
        "id": "T8HI7EZEXZD7"
      },
      "execution_count": 53,
      "outputs": []
    },
    {
      "cell_type": "code",
      "source": [
        "import cv2 as cv\n",
        "from PIL import Image\n",
        "def png_to_jpg(path=None):\n",
        "  im = cv.imread(\"/content/ECG/ecg.png\")\n",
        "  im = Image.fromarray(im)\n",
        "  im.save(\"/content/ECG/ECG.jpg\")\n"
      ],
      "metadata": {
        "id": "fV8nOkCu2HyT"
      },
      "execution_count": 52,
      "outputs": []
    },
    {
      "cell_type": "code",
      "source": [
        "from plot_ECG import plotECG"
      ],
      "metadata": {
        "id": "f8SMTiOQUc9_"
      },
      "execution_count": 55,
      "outputs": []
    },
    {
      "cell_type": "code",
      "source": [
        "def plotECG(df1=None,df2=None,title=None,pad_df2=True,path=None):\n",
        "  \"\"\"\n",
        "  takes two dataframes with identical columns, concats them and plots them as ecg using ecg_plot\n",
        "  it also takes the first column of df1 and ads it to df1 if pad_df2 is True\n",
        "  \"\"\"\n",
        "  index=[\"real1\",\"realR2\",\"realv1\",\"realv2\",\"realv3\",\"realv4\",\"realv5\",\"realv6\",\"real_lead1\",\n",
        "         \"pred2\",\"predv1\",\"predv2\",\"predv3\",\"predv4\",\"predv5\",\"predv6\"]\n",
        "  import ecg_plot\n",
        "  if pad_df2 is True:\n",
        "    if len(df1.columns)>len(df2.columns):\n",
        "      df2.insert(0, 'real_lead1', df1[\"R1\"])\n",
        "  frames=[df1/1000,df2/1000]\n",
        "  combined_df=pd.concat(frames,axis=1,join=\"outer\",)\n",
        "  ecg_plot.plot(combined_df.values.T, sample_rate = 500,title = title,\n",
        "                     lead_index = index )\n",
        "  print(path)\n",
        "  print(\"this is printing\")\n",
        "  ecg_plot.save_as_png('ecg',path)\n",
        "\n",
        "  return combined_df"
      ],
      "metadata": {
        "id": "W3P0qU4NVVp0"
      },
      "execution_count": 57,
      "outputs": []
    },
    {
      "cell_type": "code",
      "source": [
        "# x,y=get_pred(train_dataset,model)\n",
        "# from pathlib import Path\n",
        "# ecg_path=Path(\"/content/ECG/\")\n",
        "# if ecg_path.is_dir():\n",
        "#   print(\"Folder exists\")\n",
        "# else:\n",
        "#   ecg_path.mkdir()\n",
        "# plotECG(x,y,path=\"/content/ECG/\")"
      ],
      "metadata": {
        "colab": {
          "base_uri": "https://localhost:8080/",
          "height": 520
        },
        "id": "HrvSR-MBxZjs",
        "outputId": "28b53939-c405-480b-f23e-3f21bc72bf95"
      },
      "execution_count": 50,
      "outputs": [
        {
          "output_type": "stream",
          "name": "stdout",
          "text": [
            "Folder exists\n",
            "/content/ECG/\n",
            "this is printing\n"
          ]
        },
        {
          "output_type": "execute_result",
          "data": {
            "text/plain": [
              "         R1     R2    Rv1    Rv2    Rv3    Rv4    Rv5    Rv6  real_lead1  \\\n",
              "0    -0.048 -0.085  0.011  0.004 -0.046 -0.070 -0.085 -0.057      -0.048   \n",
              "1    -0.055 -0.092  0.037 -0.022 -0.047 -0.069 -0.092 -0.059      -0.055   \n",
              "2    -0.046 -0.097  0.041 -0.022 -0.058 -0.055 -0.074 -0.027      -0.046   \n",
              "3    -0.026 -0.108  0.012 -0.039 -0.047 -0.073 -0.079 -0.036      -0.026   \n",
              "4    -0.001 -0.097  0.022 -0.006 -0.028 -0.053 -0.079 -0.028      -0.001   \n",
              "...     ...    ...    ...    ...    ...    ...    ...    ...         ...   \n",
              "4995 -0.052 -0.011 -0.027 -0.064 -0.020 -0.057 -0.053 -0.052      -0.052   \n",
              "4996 -0.051 -0.006 -0.006 -0.053  0.006 -0.067 -0.056 -0.030      -0.051   \n",
              "4997 -0.011 -0.004  0.009 -0.035  0.011 -0.038 -0.070 -0.047      -0.011   \n",
              "4998  0.006 -0.011  0.028 -0.043 -0.011 -0.033 -0.068 -0.046       0.006   \n",
              "4999 -0.006 -0.067  0.031 -0.054 -0.001 -0.046 -0.117 -0.069      -0.006   \n",
              "\n",
              "            F2       Fv1       Fv2       Fv3       Fv4       Fv5       Fv6  \n",
              "0     0.030893  0.001360  0.025647 -0.073351 -0.029461 -0.013480 -0.032219  \n",
              "1    -0.055533  0.002468 -0.051762 -0.005337 -0.036714 -0.034775 -0.028020  \n",
              "2    -0.026096 -0.033284 -0.021345 -0.022979 -0.049490 -0.041122 -0.026209  \n",
              "3    -0.032948 -0.026064 -0.025581 -0.035158 -0.031761 -0.016822  0.035079  \n",
              "4    -0.027496  0.014560 -0.026152 -0.024987 -0.028480  0.024142 -0.034914  \n",
              "...        ...       ...       ...       ...       ...       ...       ...  \n",
              "4995 -0.040690  0.014280  0.015871  0.028314 -0.001692  0.020495 -0.023251  \n",
              "4996  0.000661  0.017487  0.017245  0.014476  0.031354  0.010646  0.052640  \n",
              "4997  0.010029  0.012391  0.019492  0.024205  0.049455  0.007368 -0.019695  \n",
              "4998  0.026549 -0.015719  0.035765  0.036390  0.068729  0.052485  0.012445  \n",
              "4999  0.027210  0.020363  0.017310  0.047196  0.040918  0.040577 -0.010309  \n",
              "\n",
              "[5000 rows x 16 columns]"
            ],
            "text/html": [
              "\n",
              "  <div id=\"df-16c20c0a-91af-4f61-a668-5a4f011f84e5\">\n",
              "    <div class=\"colab-df-container\">\n",
              "      <div>\n",
              "<style scoped>\n",
              "    .dataframe tbody tr th:only-of-type {\n",
              "        vertical-align: middle;\n",
              "    }\n",
              "\n",
              "    .dataframe tbody tr th {\n",
              "        vertical-align: top;\n",
              "    }\n",
              "\n",
              "    .dataframe thead th {\n",
              "        text-align: right;\n",
              "    }\n",
              "</style>\n",
              "<table border=\"1\" class=\"dataframe\">\n",
              "  <thead>\n",
              "    <tr style=\"text-align: right;\">\n",
              "      <th></th>\n",
              "      <th>R1</th>\n",
              "      <th>R2</th>\n",
              "      <th>Rv1</th>\n",
              "      <th>Rv2</th>\n",
              "      <th>Rv3</th>\n",
              "      <th>Rv4</th>\n",
              "      <th>Rv5</th>\n",
              "      <th>Rv6</th>\n",
              "      <th>real_lead1</th>\n",
              "      <th>F2</th>\n",
              "      <th>Fv1</th>\n",
              "      <th>Fv2</th>\n",
              "      <th>Fv3</th>\n",
              "      <th>Fv4</th>\n",
              "      <th>Fv5</th>\n",
              "      <th>Fv6</th>\n",
              "    </tr>\n",
              "  </thead>\n",
              "  <tbody>\n",
              "    <tr>\n",
              "      <th>0</th>\n",
              "      <td>-0.048</td>\n",
              "      <td>-0.085</td>\n",
              "      <td>0.011</td>\n",
              "      <td>0.004</td>\n",
              "      <td>-0.046</td>\n",
              "      <td>-0.070</td>\n",
              "      <td>-0.085</td>\n",
              "      <td>-0.057</td>\n",
              "      <td>-0.048</td>\n",
              "      <td>0.030893</td>\n",
              "      <td>0.001360</td>\n",
              "      <td>0.025647</td>\n",
              "      <td>-0.073351</td>\n",
              "      <td>-0.029461</td>\n",
              "      <td>-0.013480</td>\n",
              "      <td>-0.032219</td>\n",
              "    </tr>\n",
              "    <tr>\n",
              "      <th>1</th>\n",
              "      <td>-0.055</td>\n",
              "      <td>-0.092</td>\n",
              "      <td>0.037</td>\n",
              "      <td>-0.022</td>\n",
              "      <td>-0.047</td>\n",
              "      <td>-0.069</td>\n",
              "      <td>-0.092</td>\n",
              "      <td>-0.059</td>\n",
              "      <td>-0.055</td>\n",
              "      <td>-0.055533</td>\n",
              "      <td>0.002468</td>\n",
              "      <td>-0.051762</td>\n",
              "      <td>-0.005337</td>\n",
              "      <td>-0.036714</td>\n",
              "      <td>-0.034775</td>\n",
              "      <td>-0.028020</td>\n",
              "    </tr>\n",
              "    <tr>\n",
              "      <th>2</th>\n",
              "      <td>-0.046</td>\n",
              "      <td>-0.097</td>\n",
              "      <td>0.041</td>\n",
              "      <td>-0.022</td>\n",
              "      <td>-0.058</td>\n",
              "      <td>-0.055</td>\n",
              "      <td>-0.074</td>\n",
              "      <td>-0.027</td>\n",
              "      <td>-0.046</td>\n",
              "      <td>-0.026096</td>\n",
              "      <td>-0.033284</td>\n",
              "      <td>-0.021345</td>\n",
              "      <td>-0.022979</td>\n",
              "      <td>-0.049490</td>\n",
              "      <td>-0.041122</td>\n",
              "      <td>-0.026209</td>\n",
              "    </tr>\n",
              "    <tr>\n",
              "      <th>3</th>\n",
              "      <td>-0.026</td>\n",
              "      <td>-0.108</td>\n",
              "      <td>0.012</td>\n",
              "      <td>-0.039</td>\n",
              "      <td>-0.047</td>\n",
              "      <td>-0.073</td>\n",
              "      <td>-0.079</td>\n",
              "      <td>-0.036</td>\n",
              "      <td>-0.026</td>\n",
              "      <td>-0.032948</td>\n",
              "      <td>-0.026064</td>\n",
              "      <td>-0.025581</td>\n",
              "      <td>-0.035158</td>\n",
              "      <td>-0.031761</td>\n",
              "      <td>-0.016822</td>\n",
              "      <td>0.035079</td>\n",
              "    </tr>\n",
              "    <tr>\n",
              "      <th>4</th>\n",
              "      <td>-0.001</td>\n",
              "      <td>-0.097</td>\n",
              "      <td>0.022</td>\n",
              "      <td>-0.006</td>\n",
              "      <td>-0.028</td>\n",
              "      <td>-0.053</td>\n",
              "      <td>-0.079</td>\n",
              "      <td>-0.028</td>\n",
              "      <td>-0.001</td>\n",
              "      <td>-0.027496</td>\n",
              "      <td>0.014560</td>\n",
              "      <td>-0.026152</td>\n",
              "      <td>-0.024987</td>\n",
              "      <td>-0.028480</td>\n",
              "      <td>0.024142</td>\n",
              "      <td>-0.034914</td>\n",
              "    </tr>\n",
              "    <tr>\n",
              "      <th>...</th>\n",
              "      <td>...</td>\n",
              "      <td>...</td>\n",
              "      <td>...</td>\n",
              "      <td>...</td>\n",
              "      <td>...</td>\n",
              "      <td>...</td>\n",
              "      <td>...</td>\n",
              "      <td>...</td>\n",
              "      <td>...</td>\n",
              "      <td>...</td>\n",
              "      <td>...</td>\n",
              "      <td>...</td>\n",
              "      <td>...</td>\n",
              "      <td>...</td>\n",
              "      <td>...</td>\n",
              "      <td>...</td>\n",
              "    </tr>\n",
              "    <tr>\n",
              "      <th>4995</th>\n",
              "      <td>-0.052</td>\n",
              "      <td>-0.011</td>\n",
              "      <td>-0.027</td>\n",
              "      <td>-0.064</td>\n",
              "      <td>-0.020</td>\n",
              "      <td>-0.057</td>\n",
              "      <td>-0.053</td>\n",
              "      <td>-0.052</td>\n",
              "      <td>-0.052</td>\n",
              "      <td>-0.040690</td>\n",
              "      <td>0.014280</td>\n",
              "      <td>0.015871</td>\n",
              "      <td>0.028314</td>\n",
              "      <td>-0.001692</td>\n",
              "      <td>0.020495</td>\n",
              "      <td>-0.023251</td>\n",
              "    </tr>\n",
              "    <tr>\n",
              "      <th>4996</th>\n",
              "      <td>-0.051</td>\n",
              "      <td>-0.006</td>\n",
              "      <td>-0.006</td>\n",
              "      <td>-0.053</td>\n",
              "      <td>0.006</td>\n",
              "      <td>-0.067</td>\n",
              "      <td>-0.056</td>\n",
              "      <td>-0.030</td>\n",
              "      <td>-0.051</td>\n",
              "      <td>0.000661</td>\n",
              "      <td>0.017487</td>\n",
              "      <td>0.017245</td>\n",
              "      <td>0.014476</td>\n",
              "      <td>0.031354</td>\n",
              "      <td>0.010646</td>\n",
              "      <td>0.052640</td>\n",
              "    </tr>\n",
              "    <tr>\n",
              "      <th>4997</th>\n",
              "      <td>-0.011</td>\n",
              "      <td>-0.004</td>\n",
              "      <td>0.009</td>\n",
              "      <td>-0.035</td>\n",
              "      <td>0.011</td>\n",
              "      <td>-0.038</td>\n",
              "      <td>-0.070</td>\n",
              "      <td>-0.047</td>\n",
              "      <td>-0.011</td>\n",
              "      <td>0.010029</td>\n",
              "      <td>0.012391</td>\n",
              "      <td>0.019492</td>\n",
              "      <td>0.024205</td>\n",
              "      <td>0.049455</td>\n",
              "      <td>0.007368</td>\n",
              "      <td>-0.019695</td>\n",
              "    </tr>\n",
              "    <tr>\n",
              "      <th>4998</th>\n",
              "      <td>0.006</td>\n",
              "      <td>-0.011</td>\n",
              "      <td>0.028</td>\n",
              "      <td>-0.043</td>\n",
              "      <td>-0.011</td>\n",
              "      <td>-0.033</td>\n",
              "      <td>-0.068</td>\n",
              "      <td>-0.046</td>\n",
              "      <td>0.006</td>\n",
              "      <td>0.026549</td>\n",
              "      <td>-0.015719</td>\n",
              "      <td>0.035765</td>\n",
              "      <td>0.036390</td>\n",
              "      <td>0.068729</td>\n",
              "      <td>0.052485</td>\n",
              "      <td>0.012445</td>\n",
              "    </tr>\n",
              "    <tr>\n",
              "      <th>4999</th>\n",
              "      <td>-0.006</td>\n",
              "      <td>-0.067</td>\n",
              "      <td>0.031</td>\n",
              "      <td>-0.054</td>\n",
              "      <td>-0.001</td>\n",
              "      <td>-0.046</td>\n",
              "      <td>-0.117</td>\n",
              "      <td>-0.069</td>\n",
              "      <td>-0.006</td>\n",
              "      <td>0.027210</td>\n",
              "      <td>0.020363</td>\n",
              "      <td>0.017310</td>\n",
              "      <td>0.047196</td>\n",
              "      <td>0.040918</td>\n",
              "      <td>0.040577</td>\n",
              "      <td>-0.010309</td>\n",
              "    </tr>\n",
              "  </tbody>\n",
              "</table>\n",
              "<p>5000 rows × 16 columns</p>\n",
              "</div>\n",
              "      <button class=\"colab-df-convert\" onclick=\"convertToInteractive('df-16c20c0a-91af-4f61-a668-5a4f011f84e5')\"\n",
              "              title=\"Convert this dataframe to an interactive table.\"\n",
              "              style=\"display:none;\">\n",
              "        \n",
              "  <svg xmlns=\"http://www.w3.org/2000/svg\" height=\"24px\"viewBox=\"0 0 24 24\"\n",
              "       width=\"24px\">\n",
              "    <path d=\"M0 0h24v24H0V0z\" fill=\"none\"/>\n",
              "    <path d=\"M18.56 5.44l.94 2.06.94-2.06 2.06-.94-2.06-.94-.94-2.06-.94 2.06-2.06.94zm-11 1L8.5 8.5l.94-2.06 2.06-.94-2.06-.94L8.5 2.5l-.94 2.06-2.06.94zm10 10l.94 2.06.94-2.06 2.06-.94-2.06-.94-.94-2.06-.94 2.06-2.06.94z\"/><path d=\"M17.41 7.96l-1.37-1.37c-.4-.4-.92-.59-1.43-.59-.52 0-1.04.2-1.43.59L10.3 9.45l-7.72 7.72c-.78.78-.78 2.05 0 2.83L4 21.41c.39.39.9.59 1.41.59.51 0 1.02-.2 1.41-.59l7.78-7.78 2.81-2.81c.8-.78.8-2.07 0-2.86zM5.41 20L4 18.59l7.72-7.72 1.47 1.35L5.41 20z\"/>\n",
              "  </svg>\n",
              "      </button>\n",
              "      \n",
              "  <style>\n",
              "    .colab-df-container {\n",
              "      display:flex;\n",
              "      flex-wrap:wrap;\n",
              "      gap: 12px;\n",
              "    }\n",
              "\n",
              "    .colab-df-convert {\n",
              "      background-color: #E8F0FE;\n",
              "      border: none;\n",
              "      border-radius: 50%;\n",
              "      cursor: pointer;\n",
              "      display: none;\n",
              "      fill: #1967D2;\n",
              "      height: 32px;\n",
              "      padding: 0 0 0 0;\n",
              "      width: 32px;\n",
              "    }\n",
              "\n",
              "    .colab-df-convert:hover {\n",
              "      background-color: #E2EBFA;\n",
              "      box-shadow: 0px 1px 2px rgba(60, 64, 67, 0.3), 0px 1px 3px 1px rgba(60, 64, 67, 0.15);\n",
              "      fill: #174EA6;\n",
              "    }\n",
              "\n",
              "    [theme=dark] .colab-df-convert {\n",
              "      background-color: #3B4455;\n",
              "      fill: #D2E3FC;\n",
              "    }\n",
              "\n",
              "    [theme=dark] .colab-df-convert:hover {\n",
              "      background-color: #434B5C;\n",
              "      box-shadow: 0px 1px 3px 1px rgba(0, 0, 0, 0.15);\n",
              "      filter: drop-shadow(0px 1px 2px rgba(0, 0, 0, 0.3));\n",
              "      fill: #FFFFFF;\n",
              "    }\n",
              "  </style>\n",
              "\n",
              "      <script>\n",
              "        const buttonEl =\n",
              "          document.querySelector('#df-16c20c0a-91af-4f61-a668-5a4f011f84e5 button.colab-df-convert');\n",
              "        buttonEl.style.display =\n",
              "          google.colab.kernel.accessAllowed ? 'block' : 'none';\n",
              "\n",
              "        async function convertToInteractive(key) {\n",
              "          const element = document.querySelector('#df-16c20c0a-91af-4f61-a668-5a4f011f84e5');\n",
              "          const dataTable =\n",
              "            await google.colab.kernel.invokeFunction('convertToInteractive',\n",
              "                                                     [key], {});\n",
              "          if (!dataTable) return;\n",
              "\n",
              "          const docLinkHtml = 'Like what you see? Visit the ' +\n",
              "            '<a target=\"_blank\" href=https://colab.research.google.com/notebooks/data_table.ipynb>data table notebook</a>'\n",
              "            + ' to learn more about interactive tables.';\n",
              "          element.innerHTML = '';\n",
              "          dataTable['output_type'] = 'display_data';\n",
              "          await google.colab.output.renderOutput(dataTable, element);\n",
              "          const docLink = document.createElement('div');\n",
              "          docLink.innerHTML = docLinkHtml;\n",
              "          element.appendChild(docLink);\n",
              "        }\n",
              "      </script>\n",
              "    </div>\n",
              "  </div>\n",
              "  "
            ]
          },
          "metadata": {},
          "execution_count": 50
        }
      ]
    },
    {
      "cell_type": "code",
      "source": [
        "# Build, train and analyze the model with the pipeline\n",
        "model = model_pipeline(config)"
      ],
      "metadata": {
        "colab": {
          "base_uri": "https://localhost:8080/",
          "height": 1000,
          "referenced_widgets": [
            "57bf62bcfc774c779b33929984d3f6ae",
            "d060264548a24f51883aa0a8300afbfd",
            "fd81714dbad8461695471c16ae5803e4",
            "a617ff1c2ea04fe795eafea6be56a39a",
            "e52ab3adb9074d13a53f1889e29e3ec9",
            "1732afcf1d3a48abbf35ae4f74a6f9f7",
            "900a501378514621b30c38532bd14fda",
            "2c780bd1372d47a585d3af0b2b1d7f32",
            "cd9b0c705da048ea953a525ea14435a1",
            "90fff4205a3044798ae69aa78dfc20f6",
            "77b8b8eac2754d21b6ee3d1aca0ac5c4",
            "32043ac9a858481fb1c3763b42fe948b",
            "610e6fd67c194c3c9297359ab16bbfe0",
            "8249a4f08eda4eb980fb26cb21187cd6",
            "6e7373c095f94c53b62dee4e3c2646a1",
            "69f1757b5a90409081c0532be10213ac",
            "ad45535e14e54ee586a91b59998c44c9",
            "cc757dbbc45b41fd86a16f0088861f82",
            "9ec868eb05ba4f39ab869bd07bc30ff7",
            "26b4945bfe014c018101ac032a306734",
            "f2538cf5595f454693cc8dfe91f2d6c7",
            "daaafb55801349bf99554bbbcc99c6c6"
          ]
        },
        "id": "xpkY2SmatuJP",
        "outputId": "f4ef22d1-2435-4cd4-d4af-91865a6bef06"
      },
      "execution_count": 56,
      "outputs": [
        {
          "output_type": "display_data",
          "data": {
            "text/plain": [
              "<IPython.core.display.HTML object>"
            ],
            "text/html": [
              "Finishing last run (ID:2l8fpwm1) before initializing another..."
            ]
          },
          "metadata": {}
        },
        {
          "output_type": "display_data",
          "data": {
            "text/plain": [
              "<IPython.core.display.HTML object>"
            ],
            "text/html": [
              "Waiting for W&B process to finish... <strong style=\"color:green\">(success).</strong>"
            ]
          },
          "metadata": {}
        },
        {
          "output_type": "display_data",
          "data": {
            "text/plain": [
              "<IPython.core.display.HTML object>"
            ],
            "text/html": [
              "<style>\n",
              "    table.wandb td:nth-child(1) { padding: 0 10px; text-align: left ; width: auto;} td:nth-child(2) {text-align: left ; width: 100%}\n",
              "    .wandb-row { display: flex; flex-direction: row; flex-wrap: wrap; justify-content: flex-start; width: 100% }\n",
              "    .wandb-col { display: flex; flex-direction: column; flex-basis: 100%; flex: 1; padding: 10px; }\n",
              "    </style>\n",
              "<div class=\"wandb-row\"><div class=\"wandb-col\"><h3>Run history:</h3><br/><table class=\"wandb\"><tr><td>train_loss</td><td>█▁▅</td></tr><tr><td>val_loss</td><td>▁▄█</td></tr></table><br/></div><div class=\"wandb-col\"><h3>Run summary:</h3><br/><table class=\"wandb\"><tr><td>train_loss</td><td>2e-05</td></tr><tr><td>val_loss</td><td>0.00012</td></tr></table><br/></div></div>"
            ]
          },
          "metadata": {}
        },
        {
          "output_type": "display_data",
          "data": {
            "text/plain": [
              "<IPython.core.display.HTML object>"
            ],
            "text/html": [
              "Synced <strong style=\"color:#cdcd00\">hardy-shadow-70</strong>: <a href=\"https://wandb.ai/ecg_simula/pytorch-demo/runs/2l8fpwm1\" target=\"_blank\">https://wandb.ai/ecg_simula/pytorch-demo/runs/2l8fpwm1</a><br/>Synced 5 W&B file(s), 1 media file(s), 0 artifact file(s) and 0 other file(s)"
            ]
          },
          "metadata": {}
        },
        {
          "output_type": "display_data",
          "data": {
            "text/plain": [
              "<IPython.core.display.HTML object>"
            ],
            "text/html": [
              "Find logs at: <code>./wandb/run-20221021_163342-2l8fpwm1/logs</code>"
            ]
          },
          "metadata": {}
        },
        {
          "output_type": "display_data",
          "data": {
            "text/plain": [
              "<IPython.core.display.HTML object>"
            ],
            "text/html": [
              "Successfully finished last run (ID:2l8fpwm1). Initializing new run:<br/>"
            ]
          },
          "metadata": {}
        },
        {
          "output_type": "display_data",
          "data": {
            "text/plain": [
              "<IPython.core.display.HTML object>"
            ],
            "text/html": [
              "Tracking run with wandb version 0.13.4"
            ]
          },
          "metadata": {}
        },
        {
          "output_type": "display_data",
          "data": {
            "text/plain": [
              "<IPython.core.display.HTML object>"
            ],
            "text/html": [
              "Run data is saved locally in <code>/content/wandb/run-20221021_163513-3sxe6k7j</code>"
            ]
          },
          "metadata": {}
        },
        {
          "output_type": "display_data",
          "data": {
            "text/plain": [
              "<IPython.core.display.HTML object>"
            ],
            "text/html": [
              "Syncing run <strong><a href=\"https://wandb.ai/ecg_simula/pytorch-demo/runs/3sxe6k7j\" target=\"_blank\">usual-dragon-71</a></strong> to <a href=\"https://wandb.ai/ecg_simula/pytorch-demo\" target=\"_blank\">Weights & Biases</a> (<a href=\"https://wandb.me/run\" target=\"_blank\">docs</a>)<br/>"
            ]
          },
          "metadata": {}
        },
        {
          "output_type": "stream",
          "name": "stderr",
          "text": [
            "\u001b[34m\u001b[1mwandb\u001b[0m: Downloading large artifact ecg_25000.zip:v0, 1383.92MB. 1 files... \n",
            "\u001b[34m\u001b[1mwandb\u001b[0m:   1 of 1 files downloaded.  \n",
            "Done. 0:0:0.1\n"
          ]
        },
        {
          "output_type": "stream",
          "name": "stdout",
          "text": [
            "data/train_data directory exists.\n"
          ]
        },
        {
          "output_type": "display_data",
          "data": {
            "text/plain": [
              "  0%|          | 0/51 [00:00<?, ?it/s]"
            ],
            "application/vnd.jupyter.widget-view+json": {
              "version_major": 2,
              "version_minor": 0,
              "model_id": "57bf62bcfc774c779b33929984d3f6ae"
            }
          },
          "metadata": {}
        },
        {
          "output_type": "display_data",
          "data": {
            "text/plain": [
              "0it [00:00, ?it/s]"
            ],
            "application/vnd.jupyter.widget-view+json": {
              "version_major": 2,
              "version_minor": 0,
              "model_id": "32043ac9a858481fb1c3763b42fe948b"
            }
          },
          "metadata": {}
        },
        {
          "output_type": "stream",
          "name": "stdout",
          "text": [
            "Folder exists\n"
          ]
        },
        {
          "output_type": "error",
          "ename": "TypeError",
          "evalue": "ignored",
          "traceback": [
            "\u001b[0;31m---------------------------------------------------------------------------\u001b[0m",
            "\u001b[0;31mTypeError\u001b[0m                                 Traceback (most recent call last)",
            "\u001b[0;32m<ipython-input-56-78fbf03a599a>\u001b[0m in \u001b[0;36m<module>\u001b[0;34m\u001b[0m\n\u001b[1;32m      1\u001b[0m \u001b[0;31m# Build, train and analyze the model with the pipeline\u001b[0m\u001b[0;34m\u001b[0m\u001b[0;34m\u001b[0m\u001b[0;34m\u001b[0m\u001b[0m\n\u001b[0;32m----> 2\u001b[0;31m \u001b[0mmodel\u001b[0m \u001b[0;34m=\u001b[0m \u001b[0mmodel_pipeline\u001b[0m\u001b[0;34m(\u001b[0m\u001b[0mconfig\u001b[0m\u001b[0;34m)\u001b[0m\u001b[0;34m\u001b[0m\u001b[0;34m\u001b[0m\u001b[0m\n\u001b[0m",
            "\u001b[0;32m<ipython-input-10-0fc2cbaa09b3>\u001b[0m in \u001b[0;36mmodel_pipeline\u001b[0;34m(hyperparameters, model)\u001b[0m\n\u001b[1;32m      9\u001b[0m     \u001b[0mtrain_loader\u001b[0m\u001b[0;34m,\u001b[0m \u001b[0mval_loader\u001b[0m\u001b[0;34m,\u001b[0m \u001b[0mcriterion\u001b[0m\u001b[0;34m,\u001b[0m \u001b[0moptimizer\u001b[0m\u001b[0;34m,\u001b[0m\u001b[0mval_dataset\u001b[0m \u001b[0;34m=\u001b[0m \u001b[0mmake\u001b[0m\u001b[0;34m(\u001b[0m\u001b[0mconfig\u001b[0m\u001b[0;34m)\u001b[0m\u001b[0;34m\u001b[0m\u001b[0;34m\u001b[0m\u001b[0m\n\u001b[1;32m     10\u001b[0m     \u001b[0;31m# and use them to train the model\u001b[0m\u001b[0;34m\u001b[0m\u001b[0;34m\u001b[0m\u001b[0;34m\u001b[0m\u001b[0m\n\u001b[0;32m---> 11\u001b[0;31m     \u001b[0mtrain\u001b[0m\u001b[0;34m(\u001b[0m\u001b[0mmodel\u001b[0m\u001b[0;34m,\u001b[0m \u001b[0mtrain_loader\u001b[0m\u001b[0;34m,\u001b[0m\u001b[0mval_loader\u001b[0m\u001b[0;34m,\u001b[0m \u001b[0mcriterion\u001b[0m\u001b[0;34m,\u001b[0m \u001b[0moptimizer\u001b[0m\u001b[0;34m,\u001b[0m\u001b[0mval_dataset\u001b[0m\u001b[0;34m,\u001b[0m\u001b[0mconfig\u001b[0m\u001b[0;34m)\u001b[0m\u001b[0;34m\u001b[0m\u001b[0;34m\u001b[0m\u001b[0m\n\u001b[0m\u001b[1;32m     12\u001b[0m     \u001b[0;32mreturn\u001b[0m \u001b[0mmodel\u001b[0m\u001b[0;34m\u001b[0m\u001b[0;34m\u001b[0m\u001b[0m\n",
            "\u001b[0;32m<ipython-input-53-d5c9da0e0605>\u001b[0m in \u001b[0;36mtrain\u001b[0;34m(model, train_loader, val_loader, criterion, optimizer, val_dataset, config)\u001b[0m\n\u001b[1;32m     48\u001b[0m         \u001b[0mecg_path\u001b[0m\u001b[0;34m.\u001b[0m\u001b[0mmkdir\u001b[0m\u001b[0;34m(\u001b[0m\u001b[0;34m)\u001b[0m\u001b[0;34m\u001b[0m\u001b[0;34m\u001b[0m\u001b[0m\n\u001b[1;32m     49\u001b[0m       \u001b[0mdf_input\u001b[0m\u001b[0;34m,\u001b[0m\u001b[0mdf_output\u001b[0m\u001b[0;34m=\u001b[0m\u001b[0mget_pred\u001b[0m\u001b[0;34m(\u001b[0m\u001b[0mval_dataset\u001b[0m\u001b[0;34m,\u001b[0m\u001b[0mmodel\u001b[0m\u001b[0;34m)\u001b[0m\u001b[0;34m\u001b[0m\u001b[0;34m\u001b[0m\u001b[0m\n\u001b[0;32m---> 50\u001b[0;31m       \u001b[0mcombined_df\u001b[0m\u001b[0;34m=\u001b[0m\u001b[0mplotECG\u001b[0m\u001b[0;34m(\u001b[0m\u001b[0mdf_input\u001b[0m\u001b[0;34m,\u001b[0m\u001b[0mdf_output\u001b[0m\u001b[0;34m,\u001b[0m\u001b[0mpath\u001b[0m\u001b[0;34m=\u001b[0m\u001b[0;34m\"/content/ECG/\"\u001b[0m\u001b[0;34m)\u001b[0m\u001b[0;34m\u001b[0m\u001b[0;34m\u001b[0m\u001b[0m\n\u001b[0m\u001b[1;32m     51\u001b[0m       \u001b[0mpng_to_jpg\u001b[0m\u001b[0;34m(\u001b[0m\u001b[0;34m)\u001b[0m\u001b[0;34m\u001b[0m\u001b[0;34m\u001b[0m\u001b[0m\n\u001b[1;32m     52\u001b[0m       \u001b[0mwandb\u001b[0m\u001b[0;34m.\u001b[0m\u001b[0mlog\u001b[0m\u001b[0;34m(\u001b[0m\u001b[0;34m{\u001b[0m\u001b[0;34m\"ECG\"\u001b[0m\u001b[0;34m:\u001b[0m \u001b[0mwandb\u001b[0m\u001b[0;34m.\u001b[0m\u001b[0mImage\u001b[0m\u001b[0;34m(\u001b[0m\u001b[0;34m\"/content/ECG/ECG.jpg\"\u001b[0m\u001b[0;34m)\u001b[0m\u001b[0;34m}\u001b[0m\u001b[0;34m)\u001b[0m\u001b[0;34m\u001b[0m\u001b[0;34m\u001b[0m\u001b[0m\n",
            "\u001b[0;32m/content/plot_ECG.py\u001b[0m in \u001b[0;36mplotECG\u001b[0;34m(df1, df2, title, pad_df2, path)\u001b[0m\n\u001b[1;32m     21\u001b[0m   \u001b[0mecg_plot\u001b[0m\u001b[0;34m.\u001b[0m\u001b[0msave_as_png\u001b[0m\u001b[0;34m(\u001b[0m\u001b[0;34m'ecg'\u001b[0m\u001b[0;34m,\u001b[0m\u001b[0mpath\u001b[0m\u001b[0;34m)\u001b[0m\u001b[0;34m\u001b[0m\u001b[0;34m\u001b[0m\u001b[0m\n\u001b[1;32m     22\u001b[0m \u001b[0;34m\u001b[0m\u001b[0m\n\u001b[0;32m---> 23\u001b[0;31m   \u001b[0;32mreturn\u001b[0m \u001b[0mcombined_df\u001b[0m\u001b[0;34m\u001b[0m\u001b[0;34m\u001b[0m\u001b[0m\n\u001b[0m\u001b[1;32m     24\u001b[0m \u001b[0;34m\u001b[0m\u001b[0m\n",
            "\u001b[0;31mTypeError\u001b[0m: unsupported operand type(s) for +: 'PosixPath' and 'str'"
          ]
        },
        {
          "output_type": "display_data",
          "data": {
            "text/plain": [
              "<Figure size 1440x691.2 with 1 Axes>"
            ],
            "image/png": "[encoded data removed]"
          },
          "metadata": {
            "needs_background": "light"
          }
        }
      ]
    },
    {
      "cell_type": "code",
      "source": [
        "model\n"
      ],
      "metadata": {
        "id": "Gngnqwb6rN3Y"
      },
      "execution_count": null,
      "outputs": []
    }
  ]
}