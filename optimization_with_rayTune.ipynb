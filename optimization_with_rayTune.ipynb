{
  "nbformat": 4,
  "nbformat_minor": 0,
  "metadata": {
    "colab": {
      "provenance": [],
      "collapsed_sections": [],
      "authorship_tag": "ABX9TyMyWKh3EKqTnLoiDt2uhuZc",
      "include_colab_link": true
    },
    "kernelspec": {
      "name": "python3",
      "display_name": "Python 3"
    },
    "language_info": {
      "name": "python"
    }
  },
  "cells": [
    {
      "cell_type": "markdown",
      "metadata": {
        "id": "view-in-github",
        "colab_type": "text"
      },
      "source": [
        "<a href=\"https://colab.research.google.com/github/t-willi/Simula/blob/main/optimization_with_rayTune.ipynb\" target=\"_parent\"><img src=\"https://colab.research.google.com/assets/colab-badge.svg\" alt=\"Open In Colab\"/></a>"
      ]
    },
    {
      "cell_type": "code",
      "execution_count": 85,
      "metadata": {
        "colab": {
          "base_uri": "https://localhost:8080/"
        },
        "id": "H55HK1xunRLN",
        "outputId": "882fa398-63c2-42ff-bfdd-4f281ac99b40"
      },
      "outputs": [
        {
          "output_type": "stream",
          "name": "stderr",
          "text": [
            "\u001b[2m\u001b[36m(func pid=4866)\u001b[0m \n",
            " 81%|████████  | 506/625 [06:20<01:08,  1.73it/s]\u001b[A\n",
            "\u001b[2m\u001b[36m(func pid=5083)\u001b[0m \n",
            " 54%|█████▎    | 671/1250 [05:19<05:17,  1.82it/s]\u001b[A\n",
            "\u001b[2m\u001b[36m(func pid=4866)\u001b[0m \n",
            " 81%|████████  | 507/625 [06:21<01:13,  1.61it/s]\u001b[A\n",
            "\u001b[2m\u001b[36m(func pid=5083)\u001b[0m \n",
            " 54%|█████▍    | 672/1250 [05:20<06:19,  1.52it/s]\u001b[A\n",
            "\u001b[2m\u001b[36m(func pid=4866)\u001b[0m \n",
            " 81%|████████▏ | 508/625 [06:21<01:20,  1.46it/s]\u001b[A\n",
            "\u001b[2m\u001b[36m(func pid=5083)\u001b[0m \n",
            " 54%|█████▍    | 673/1250 [05:21<06:41,  1.44it/s]\u001b[A\n"
          ]
        },
        {
          "output_type": "stream",
          "name": "stdout",
          "text": [
            "Looking in indexes: https://pypi.org/simple, https://us-python.pkg.dev/colab-wheels/public/simple/\n",
            "Requirement already satisfied: ray in /usr/local/lib/python3.7/dist-packages (2.0.0)\n",
            "Requirement already satisfied: filelock in /usr/local/lib/python3.7/dist-packages (from ray) (3.8.0)\n",
            "Requirement already satisfied: virtualenv in /usr/local/lib/python3.7/dist-packages (from ray) (20.16.5)\n",
            "Requirement already satisfied: requests in /usr/local/lib/python3.7/dist-packages (from ray) (2.23.0)\n",
            "Requirement already satisfied: typing-extensions in /usr/local/lib/python3.7/dist-packages (from ray) (4.1.1)\n",
            "Requirement already satisfied: click<=8.0.4,>=7.0 in /usr/local/lib/python3.7/dist-packages (from ray) (7.1.2)\n",
            "Requirement already satisfied: frozenlist in /usr/local/lib/python3.7/dist-packages (from ray) (1.3.1)\n",
            "Requirement already satisfied: pyyaml in /usr/local/lib/python3.7/dist-packages (from ray) (6.0)\n",
            "Requirement already satisfied: aiosignal in /usr/local/lib/python3.7/dist-packages (from ray) (1.2.0)\n",
            "Requirement already satisfied: protobuf<4.0.0,>=3.15.3 in /usr/local/lib/python3.7/dist-packages (from ray) (3.17.3)\n",
            "Requirement already satisfied: attrs in /usr/local/lib/python3.7/dist-packages (from ray) (22.1.0)\n",
            "Requirement already satisfied: msgpack<2.0.0,>=1.0.0 in /usr/local/lib/python3.7/dist-packages (from ray) (1.0.4)\n",
            "Requirement already satisfied: numpy>=1.16 in /usr/local/lib/python3.7/dist-packages (from ray) (1.21.6)\n",
            "Requirement already satisfied: grpcio<=1.43.0,>=1.28.1 in /usr/local/lib/python3.7/dist-packages (from ray) (1.43.0)\n",
            "Requirement already satisfied: jsonschema in /usr/local/lib/python3.7/dist-packages (from ray) (4.3.3)\n",
            "Requirement already satisfied: six>=1.5.2 in /usr/local/lib/python3.7/dist-packages (from grpcio<=1.43.0,>=1.28.1->ray) (1.15.0)\n",
            "Requirement already satisfied: pyrsistent!=0.17.0,!=0.17.1,!=0.17.2,>=0.14.0 in /usr/local/lib/python3.7/dist-packages (from jsonschema->ray) (0.18.1)\n",
            "Requirement already satisfied: importlib-resources>=1.4.0 in /usr/local/lib/python3.7/dist-packages (from jsonschema->ray) (5.10.0)\n",
            "Requirement already satisfied: importlib-metadata in /usr/local/lib/python3.7/dist-packages (from jsonschema->ray) (5.0.0)\n",
            "Requirement already satisfied: zipp>=3.1.0 in /usr/local/lib/python3.7/dist-packages (from importlib-resources>=1.4.0->jsonschema->ray) (3.9.0)\n",
            "Requirement already satisfied: certifi>=2017.4.17 in /usr/local/lib/python3.7/dist-packages (from requests->ray) (2022.9.24)\n",
            "Requirement already satisfied: urllib3!=1.25.0,!=1.25.1,<1.26,>=1.21.1 in /usr/local/lib/python3.7/dist-packages (from requests->ray) (1.24.3)\n",
            "Requirement already satisfied: idna<3,>=2.5 in /usr/local/lib/python3.7/dist-packages (from requests->ray) (2.10)\n",
            "Requirement already satisfied: chardet<4,>=3.0.2 in /usr/local/lib/python3.7/dist-packages (from requests->ray) (3.0.4)\n",
            "Requirement already satisfied: platformdirs<3,>=2.4 in /usr/local/lib/python3.7/dist-packages (from virtualenv->ray) (2.5.2)\n",
            "Requirement already satisfied: distlib<1,>=0.3.5 in /usr/local/lib/python3.7/dist-packages (from virtualenv->ray) (0.3.6)\n"
          ]
        },
        {
          "output_type": "stream",
          "name": "stderr",
          "text": [
            "\u001b[2m\u001b[36m(func pid=4866)\u001b[0m \n",
            " 81%|████████▏ | 509/625 [06:23<01:40,  1.16it/s]\u001b[A\n",
            "\u001b[2m\u001b[36m(func pid=5083)\u001b[0m \n",
            " 54%|█████▍    | 674/1250 [05:22<07:10,  1.34it/s]\u001b[A\n",
            "\u001b[2m\u001b[36m(func pid=4866)\u001b[0m \n",
            " 82%|████████▏ | 510/625 [06:23<01:38,  1.17it/s]\u001b[A\n",
            "\u001b[2m\u001b[36m(func pid=5083)\u001b[0m \n",
            " 54%|█████▍    | 675/1250 [05:23<07:33,  1.27it/s]\u001b[A\n",
            "\u001b[2m\u001b[36m(func pid=4866)\u001b[0m \n",
            " 82%|████████▏ | 511/625 [06:24<01:37,  1.16it/s]\u001b[A\n",
            "\u001b[2m\u001b[36m(func pid=5083)\u001b[0m \n",
            " 54%|█████▍    | 676/1250 [05:24<08:22,  1.14it/s]\u001b[A\n",
            "\u001b[2m\u001b[36m(func pid=4866)\u001b[0m \n",
            " 82%|████████▏ | 512/625 [06:25<01:39,  1.14it/s]\u001b[A\n",
            "\u001b[2m\u001b[36m(func pid=5083)\u001b[0m \n",
            " 54%|█████▍    | 677/1250 [05:25<08:25,  1.13it/s]\u001b[A\n",
            "\u001b[2m\u001b[36m(func pid=5083)\u001b[0m \n",
            " 54%|█████▍    | 678/1250 [05:25<07:20,  1.30it/s]\u001b[A\n",
            "\u001b[2m\u001b[36m(func pid=5083)\u001b[0m \n",
            " 54%|█████▍    | 679/1250 [05:26<06:31,  1.46it/s]\u001b[A\n",
            "\u001b[2m\u001b[36m(func pid=4866)\u001b[0m \n",
            " 82%|████████▏ | 513/625 [06:27<02:08,  1.15s/it]\u001b[A\n",
            "\u001b[2m\u001b[36m(func pid=5083)\u001b[0m \n",
            " 54%|█████▍    | 680/1250 [05:26<06:18,  1.50it/s]\u001b[A\n",
            "\u001b[2m\u001b[36m(func pid=5083)\u001b[0m \n",
            " 54%|█████▍    | 681/1250 [05:27<06:19,  1.50it/s]\u001b[A\n",
            "\u001b[2m\u001b[36m(func pid=4866)\u001b[0m \n",
            " 82%|████████▏ | 514/625 [06:29<02:24,  1.30s/it]\u001b[A\n",
            "\u001b[2m\u001b[36m(func pid=5083)\u001b[0m \n",
            " 55%|█████▍    | 682/1250 [05:28<06:24,  1.48it/s]\u001b[A\n"
          ]
        }
      ],
      "source": [
        "import torch\n",
        "from torch import nn\n",
        "import matplotlib.pyplot as plt\n",
        "import torchvision\n",
        "from torchvision import datasets, models, transforms\n",
        "from torchvision.transforms import ToTensor\n",
        "import pandas as pd\n",
        "import numpy as np\n",
        "from torch.utils.data import Dataset, DataLoader\n",
        "from timeit import default_timer as timer \n",
        "import glob\n",
        "import torch.optim as optim\n",
        "from sklearn.preprocessing import normalize\n",
        "from sklearn.preprocessing import MinMaxScaler\n",
        "from random import shuffle\n",
        "import os\n",
        "\n",
        "import requests\n",
        "import zipfile\n",
        "from pathlib import Path\n",
        "!pip install ray\n",
        "from ray import tune\n",
        "from ray.tune import CLIReporter\n",
        "from ray.tune.schedulers import ASHAScheduler\n",
        "\n",
        "if torch.cuda.is_available()==True:\n",
        "  device=\"cuda:0\"\n",
        "else:\n",
        "  device =\"cpu\""
      ]
    },
    {
      "cell_type": "code",
      "source": [
        "seed = 123\n",
        "torch.manual_seed(seed)\n",
        "torch.cuda.manual_seed(seed)\n",
        "torch.cuda.manual_seed_all(seed)\n",
        "np.random.seed(seed)\n",
        "torch.backends.cudnn.benchmark = False\n",
        "torch.backends.cudnn.deterministic = True"
      ],
      "metadata": {
        "id": "-tXbdZvKnevC"
      },
      "execution_count": 54,
      "outputs": []
    },
    {
      "cell_type": "code",
      "source": [
        "!pip install wandb -qq\n",
        "import wandb\n",
        "wandb.login()\n",
        "run = wandb.init(project=\"Optimization_with_RayTune\", job_type=\"optimization\")\n"
      ],
      "metadata": {
        "colab": {
          "base_uri": "https://localhost:8080/",
          "height": 419
        },
        "id": "naArcJconiXv",
        "outputId": "ec6e52aa-1375-4b11-c330-bf09adacac4d"
      },
      "execution_count": 55,
      "outputs": [
        {
          "output_type": "stream",
          "name": "stdout",
          "text": [
            "\u001b[K     |████████████████████████████████| 1.9 MB 4.9 MB/s \n",
            "\u001b[K     |████████████████████████████████| 182 kB 54.4 MB/s \n",
            "\u001b[K     |████████████████████████████████| 162 kB 53.4 MB/s \n",
            "\u001b[K     |████████████████████████████████| 63 kB 1.6 MB/s \n",
            "\u001b[K     |████████████████████████████████| 162 kB 59.7 MB/s \n",
            "\u001b[K     |████████████████████████████████| 158 kB 67.9 MB/s \n",
            "\u001b[K     |████████████████████████████████| 157 kB 68.7 MB/s \n",
            "\u001b[K     |████████████████████████████████| 157 kB 58.6 MB/s \n",
            "\u001b[K     |████████████████████████████████| 157 kB 66.3 MB/s \n",
            "\u001b[K     |████████████████████████████████| 157 kB 65.3 MB/s \n",
            "\u001b[K     |████████████████████████████████| 157 kB 69.5 MB/s \n",
            "\u001b[K     |████████████████████████████████| 157 kB 76.7 MB/s \n",
            "\u001b[K     |████████████████████████████████| 157 kB 68.1 MB/s \n",
            "\u001b[K     |████████████████████████████████| 156 kB 64.6 MB/s \n",
            "\u001b[?25h  Building wheel for pathtools (setup.py) ... \u001b[?25l\u001b[?25hdone\n"
          ]
        },
        {
          "output_type": "stream",
          "name": "stderr",
          "text": [
            "ERROR:wandb.jupyter:Failed to detect the name of this notebook, you can set it manually with the WANDB_NOTEBOOK_NAME environment variable to enable code saving.\n"
          ]
        },
        {
          "output_type": "display_data",
          "data": {
            "text/plain": [
              "<IPython.core.display.Javascript object>"
            ],
            "application/javascript": [
              "\n",
              "        window._wandbApiKey = new Promise((resolve, reject) => {\n",
              "            function loadScript(url) {\n",
              "            return new Promise(function(resolve, reject) {\n",
              "                let newScript = document.createElement(\"script\");\n",
              "                newScript.onerror = reject;\n",
              "                newScript.onload = resolve;\n",
              "                document.body.appendChild(newScript);\n",
              "                newScript.src = url;\n",
              "            });\n",
              "            }\n",
              "            loadScript(\"https://cdn.jsdelivr.net/npm/postmate/build/postmate.min.js\").then(() => {\n",
              "            const iframe = document.createElement('iframe')\n",
              "            iframe.style.cssText = \"width:0;height:0;border:none\"\n",
              "            document.body.appendChild(iframe)\n",
              "            const handshake = new Postmate({\n",
              "                container: iframe,\n",
              "                url: 'https://wandb.ai/authorize'\n",
              "            });\n",
              "            const timeout = setTimeout(() => reject(\"Couldn't auto authenticate\"), 5000)\n",
              "            handshake.then(function(child) {\n",
              "                child.on('authorize', data => {\n",
              "                    clearTimeout(timeout)\n",
              "                    resolve(data)\n",
              "                });\n",
              "            });\n",
              "            })\n",
              "        });\n",
              "    "
            ]
          },
          "metadata": {}
        },
        {
          "output_type": "stream",
          "name": "stderr",
          "text": [
            "\u001b[34m\u001b[1mwandb\u001b[0m: Appending key for api.wandb.ai to your netrc file: /root/.netrc\n",
            "\u001b[34m\u001b[1mwandb\u001b[0m: Currently logged in as: \u001b[33mtwilli\u001b[0m (\u001b[33mecg_simula\u001b[0m). Use \u001b[1m`wandb login --relogin`\u001b[0m to force relogin\n"
          ]
        },
        {
          "output_type": "display_data",
          "data": {
            "text/plain": [
              "<IPython.core.display.HTML object>"
            ],
            "text/html": [
              "Tracking run with wandb version 0.13.4"
            ]
          },
          "metadata": {}
        },
        {
          "output_type": "display_data",
          "data": {
            "text/plain": [
              "<IPython.core.display.HTML object>"
            ],
            "text/html": [
              "Run data is saved locally in <code>/content/wandb/run-20221018_155701-3lalytj5</code>"
            ]
          },
          "metadata": {}
        },
        {
          "output_type": "display_data",
          "data": {
            "text/plain": [
              "<IPython.core.display.HTML object>"
            ],
            "text/html": [
              "Syncing run <strong><a href=\"https://wandb.ai/ecg_simula/Optimization_with_RayTune/runs/3lalytj5\" target=\"_blank\">electric-bird-1</a></strong> to <a href=\"https://wandb.ai/ecg_simula/Optimization_with_RayTune\" target=\"_blank\">Weights & Biases</a> (<a href=\"https://wandb.me/run\" target=\"_blank\">docs</a>)<br/>"
            ]
          },
          "metadata": {}
        }
      ]
    },
    {
      "cell_type": "code",
      "source": [
        "data = run.use_artifact('ecg_simula/setup_weights and biases/ecg_25000.zip:v0', type='raw_data')\n",
        "data=data.download()\n",
        "\n",
        "# Setup path to data folder\n",
        "data_path = Path(\"data/\")\n",
        "train_path = data_path / \"train_data\"\n",
        "# If the image folder doesn't exist, download it and prepare it... \n",
        "if train_path.is_dir():\n",
        "    print(f\"{train_path} directory exists.\")\n",
        "else:\n",
        "    print(f\"Did not find {train_path} directory, creating one...\")\n",
        "    train_path.mkdir(parents=True, exist_ok=True)\n",
        "\n",
        "    # Unzip pizza, steak, sushi data\n",
        "with zipfile.ZipFile(\"/content/artifacts/ecg_25000.zip:v0/ecg_25000.zip\", \"r\") as zip_ref:\n",
        "    print(f\"Unzipping data to folder...\") \n",
        "    zip_ref.extractall(train_path)"
      ],
      "metadata": {
        "colab": {
          "base_uri": "https://localhost:8080/"
        },
        "id": "GZm1j3o3ntdu",
        "outputId": "7d9c0bad-16db-4d16-b4f8-e35a71bb7f1d"
      },
      "execution_count": 57,
      "outputs": [
        {
          "output_type": "stream",
          "name": "stderr",
          "text": [
            "\u001b[34m\u001b[1mwandb\u001b[0m: Downloading large artifact ecg_25000.zip:v0, 1383.92MB. 1 files... \n",
            "\u001b[34m\u001b[1mwandb\u001b[0m:   1 of 1 files downloaded.  \n",
            "Done. 0:0:20.5\n"
          ]
        },
        {
          "output_type": "stream",
          "name": "stdout",
          "text": [
            "Did not find data/train_data directory, creating one...\n",
            "Unzipping data to folder...\n"
          ]
        }
      ]
    },
    {
      "cell_type": "code",
      "source": [
        "# Create custom dataset class to load ECG data into dataset, containing \n",
        "# input tensor with lead 1 and output tensor with desired other leads\n",
        "class Custom_dataset(Dataset):\n",
        "    def __init__(self, data_dir,max_value=5011,column=3,split=False,target=\"train\"):\n",
        "      #get all files from directory loaded in all_files list\n",
        "      self.column=column\n",
        "      self.max_value=max_value\n",
        "      #should shuffle the data here?\n",
        "      self.files = glob.glob(data_dir + '/*.asc')\n",
        "      self.len=len(self.files)\n",
        "      self.cut1=int(self.len*0.8)\n",
        "      self.cut2=int(self.len*0.9)\n",
        "      self.train_files=self.files[0:self.cut1]\n",
        "      self.test_files=self.files[self.cut1:self.cut2]\n",
        "      self.val_files=self.files[self.cut2:self.len]\n",
        "      self.target=target\n",
        "      self.split=split\n",
        "\n",
        "    def __len__(self):\n",
        "      if self.split is True:\n",
        "        if self.target is \"train\":\n",
        "          return len(self.train_files)\n",
        "        if self.target is \"test\":\n",
        "          return len(self.test_files)\n",
        "        if self.target is \"val\":\n",
        "          return len(self.val_files)\n",
        "      if self.split is not True:\n",
        "        return len(self.files)\n",
        "\n",
        "    def __getitem__(self,idx):\n",
        "      header = [x for x in range(8)]\n",
        "      #turn list of dataframes into Tensor\n",
        "      if self.split is True:\n",
        "        if self.target is \"train\":\n",
        "          temp_df=pd.read_csv(self.train_files[idx],sep=\" \", names = header)\n",
        "        if self.target is \"test\":\n",
        "          temp_df=pd.read_csv(self.test_files[idx],sep=\" \", names = header)\n",
        "        if self.target is \"val\":\n",
        "          temp_df=pd.read_csv(self.val_files[idx],sep=\" \", names = header)\n",
        "      if self.split is not True:\n",
        "        temp_df=pd.read_csv(self.files[idx],sep=\" \", names = header)\n",
        "      temp_df/=self.max_value\n",
        "      #load input tensor\n",
        "      \n",
        "      temp_list_in=temp_df.iloc[:,0]\n",
        "      #temp_list_in=normalize([temp_list_in], norm=\"max\")\n",
        "      temp_tensor_in = torch.tensor(temp_list_in,dtype=torch.float32)\n",
        "      temp_tensor_in=temp_tensor_in.unsqueeze(0)\n",
        "      #load label Tensor\n",
        "      temp_list_out=temp_df.iloc[:,1:9].values\n",
        "      #temp_list_out=normalize([temp_list_out], norm=\"max\")\n",
        "      temp_tensor_out=torch.tensor(temp_list_out,dtype=torch.float32)\n",
        "      temp_tensor_out=temp_tensor_out.unsqueeze(0)\n",
        "      temp_tensor_out=torch.permute(temp_tensor_out,(0,2,1))\n",
        "      #combine input and label and output\n",
        "      temp_tensor_pair= temp_tensor_in,temp_tensor_out\n",
        "      return temp_tensor_pair"
      ],
      "metadata": {
        "id": "3fs4QBc2n-dE"
      },
      "execution_count": 58,
      "outputs": []
    },
    {
      "cell_type": "code",
      "source": [
        "\"\"\"\n",
        "Here, we define the autoencoder model.This model is taken from \"https://github.com/L1aoXingyu/pytorch-beginner/blob/master/08-AutoEncoder/simple_autoencoder.py\"\n",
        "\"\"\"\n",
        "class ECG_AE_v1(nn.Module):\n",
        "    def __init__(self,step1=128,step2=64,step3=20):\n",
        "        super(ECG_AE_v1, self).__init__()\n",
        "        self.encoder = nn.Sequential(\n",
        "            nn.Linear(5000,step1),\n",
        "            nn.ReLU(),\n",
        "            nn.Linear(step1,step2),\n",
        "            nn.ReLU(),\n",
        "            nn.Linear(step2,step3),\n",
        "            nn.ReLU(),\n",
        "\n",
        "        )\n",
        "        self.decoder = nn.Sequential(\n",
        "\n",
        "            nn.Linear(step3,step2),\n",
        "            nn.ReLU(),\n",
        "            nn.Linear(step2,step1),\n",
        "            nn.ReLU(),\n",
        "            nn.Linear(step1,35000),\n",
        "        )\n",
        "\n",
        "\n",
        "    def forward(self, x):\n",
        "        x = self.encoder(x)\n",
        "        x = self.decoder(x)\n",
        "        return x\n",
        "\n",
        "\n",
        "model = ECG_AE_v1().to(device)\n",
        "\n"
      ],
      "metadata": {
        "id": "73lvsw4roeP4"
      },
      "execution_count": 59,
      "outputs": []
    },
    {
      "cell_type": "code",
      "source": [
        "data_dir=\"/content/data/train_data\""
      ],
      "metadata": {
        "id": "KDX9LdkIym29"
      },
      "execution_count": 53,
      "outputs": []
    },
    {
      "cell_type": "code",
      "source": [],
      "metadata": {
        "id": "NnuNErTM1qHP"
      },
      "execution_count": null,
      "outputs": []
    },
    {
      "cell_type": "code",
      "source": [
        "def train_cifar(config, checkpoint_dir=None, data_dir=None):\n",
        "  Epochs=10\n",
        "  net = ECG_AE_v1(config[\"step1\"], config[\"step2\"], config[\"step3\"])\n",
        "  criterion = nn.MSELoss()\n",
        "  optimizer = torch.optim.Adam(model.parameters(), lr=config[\"lr\"])\n",
        "\n",
        "  if checkpoint_dir:\n",
        "    model_state, optimizer_state = torch.load(\n",
        "      os.path.join(checkpoint_dir, \"checkpoint\"))\n",
        "    net.load_state_dict(model_state)\n",
        "    optimizer.load_state_dict(optimizer_state)\n",
        "  \n",
        "  data_dir=\"/content/data/train_data\"\n",
        "  train_set = Custom_dataset(data_dir=data_dir,split=True,target=\"train\")\n",
        "  val_dataset = Custom_dataset(data_dir=data_dir,split=True,target=\"val\")\n",
        "\n",
        "  from torch.utils.data.dataloader import DataLoader\n",
        "  BATCH_SIZE = int(config[\"batch_size\"])\n",
        "  #turn datasets into iterables\n",
        "  train_dataloader = DataLoader(train_set,\n",
        "                                batch_size=BATCH_SIZE,\n",
        "                                shuffle=True,\n",
        "                                drop_last=True\n",
        "                                )\n",
        "  val_dataloader = DataLoader(val_dataset,\n",
        "                                batch_size=BATCH_SIZE,\n",
        "                                shuffle=True,\n",
        "                              drop_last=True\n",
        "                                )\n",
        "  from tqdm.auto import tqdm\n",
        "  #train and test loop\n",
        "  for epoch in tqdm(range(Epochs)):\n",
        "    print(f\"Epoch:{epoch}\")\n",
        "    train_loss=0\n",
        "    for batch, (X,y) in enumerate(tqdm(train_dataloader)):\n",
        "      #print(\"doing train loop\")\n",
        "      X, y = X.to(device), y.to(device) \n",
        "      model.train()\n",
        "      output=model(X)\n",
        "      output=torch.reshape(output,(BATCH_SIZE, 1, 7, 5000))\n",
        "      #print(output.shape,y.shape)\n",
        "      loss = criterion(output,y)\n",
        "      #print(loss)\n",
        "      train_loss += loss\n",
        "      optimizer.zero_grad()\n",
        "      loss.backward()\n",
        "      optimizer.step()\n",
        "      #print(train_loss)\n",
        "    #average loss per batch\n",
        "    train_loss /= len(train_dataloader)\n",
        "    #start testing\n",
        "    val_loss = 0\n",
        "    model.eval()\n",
        "    with torch.inference_mode():\n",
        "      for batch,(X,y) in enumerate(val_dataloader):\n",
        "        #print(\"doing test loop\")\n",
        "        X, y = X.to(device), y.to(device)\n",
        "        val_pred = model(X)\n",
        "        val_pred=torch.reshape(val_pred,(BATCH_SIZE, 1, 7, 5000))\n",
        "        val_loss += criterion(val_pred,y)   \n",
        "      val_loss /= len(val_dataloader)\n",
        "\n",
        "      with tune.checkpoint_dir(epoch) as checkpoint_dir:\n",
        "        path = os.path.join(checkpoint_dir, \"checkpoint\")\n",
        "        torch.save((net.state_dict(), optimizer.state_dict()), path)\n",
        "\n",
        "      tune.report(loss=val_loss)\n",
        "\n",
        "    print(\"Finished Training\")\n",
        "\n",
        "\n",
        "    \n"
      ],
      "metadata": {
        "colab": {
          "base_uri": "https://localhost:8080/"
        },
        "id": "DuiYbVd9oK8U",
        "outputId": "2cb9c1b3-ded2-4770-f5a2-a1bfb700d33e"
      },
      "execution_count": 95,
      "outputs": [
        {
          "output_type": "stream",
          "name": "stderr",
          "text": [
            "\u001b[2m\u001b[36m(func pid=8110)\u001b[0m \n",
            "\u001b[2m\u001b[36m(func pid=8110)\u001b[0m \r 24%|██▍       | 304/1250 [01:38<04:51,  3.25it/s]\u001b[A\n"
          ]
        }
      ]
    },
    {
      "cell_type": "code",
      "source": [
        "def test_accuracy(net, device=\"cpu\"):\n",
        "  criterion = nn.MSELoss()\n",
        "  test_dataset = Custom_dataset(data_dir=data_dir,split=True,target=\"test\")\n",
        "  testloader = torch.utils.data.DataLoader(\n",
        "        test_dataset, batch_size=4, shuffle=False)\n",
        "  model.eval()\n",
        "  with torch.inference_mode():\n",
        "    for batch,(X,y) in enumerate(testloader):\n",
        "      #print(\"doing test loop\")\n",
        "      X, y = X.to(device), y.to(device)\n",
        "      test_pred = model(X)\n",
        "      test_pred=torch.reshape(test_pred,(128, 1, 7, 5000))\n",
        "      test_pred += criterion(test_pred,y)   \n",
        "    val_loss /= len(testloader)\n",
        "    return val_loss"
      ],
      "metadata": {
        "id": "HAOeQpaWtHjc"
      },
      "execution_count": 64,
      "outputs": []
    },
    {
      "cell_type": "code",
      "source": [
        "config = {\n",
        "    \"step1\": tune.sample_from(lambda _: 2**np.random.randint(2, 9)),\n",
        "    \"step2\": tune.sample_from(lambda _: 2**np.random.randint(2, 9)),\n",
        "    \"step3\": tune.sample_from(lambda _: 2**np.random.randint(2, 9)),\n",
        "    \"lr\": tune.loguniform(1e-4, 1e-1),\n",
        "    \"batch_size\": tune.choice([16,32,64,128,512])\n",
        "}"
      ],
      "metadata": {
        "id": "rYtUWFG_uKsy"
      },
      "execution_count": 67,
      "outputs": []
    },
    {
      "cell_type": "code",
      "source": [
        "from functools import partial"
      ],
      "metadata": {
        "id": "2vy0yGEg5mS3"
      },
      "execution_count": 68,
      "outputs": []
    },
    {
      "cell_type": "code",
      "source": [
        "from ray.tune.trainable.session import checkpoint_dir\n",
        "def main(num_samples=10, max_num_epochs=10, gpus_per_trial=2):\n",
        "  data_dir = os.path.abspath(\"./data2\")\n",
        "  checkpoint_dir=\"/content/checkpoints\"\n",
        "  train_dir=\"/content/data/train_data\"\n",
        "  train_set = Custom_dataset(data_dir=train_dir,split=True,target=\"train\")\n",
        "  val_dataset = Custom_dataset(data_dir=train_dir,split=True,target=\"val\")\n",
        "  config = {\n",
        "    \"step1\": tune.sample_from(lambda _: 2**np.random.randint(2, 9)),\n",
        "    \"step2\": tune.sample_from(lambda _: 2**np.random.randint(2, 9)),\n",
        "    \"step3\": tune.sample_from(lambda _: 2**np.random.randint(2, 9)),\n",
        "    \"lr\": tune.loguniform(1e-4, 1e-1),\n",
        "    \"batch_size\": tune.choice([16,32,64,128,512])\n",
        "}\n",
        "  scheduler = ASHAScheduler(\n",
        "      metric=\"loss\",\n",
        "      mode=\"min\",\n",
        "      max_t=max_num_epochs,\n",
        "      grace_period=1,\n",
        "      reduction_factor=2)\n",
        "  reporter = CLIReporter(\n",
        "      # parameter_columns=[\"l1\", \"l2\", \"lr\", \"batch_size\"],\n",
        "      metric_columns=[\"loss\",\"training_iteration\"])\n",
        "  result = tune.run(\n",
        "      partial(train_cifar, data_dir=data_dir),\n",
        "      resources_per_trial={\"cpu\": 1, \"gpu\": 1},\n",
        "      config=config,\n",
        "      num_samples=num_samples,\n",
        "      scheduler=scheduler,\n",
        "      progress_reporter=reporter)\n",
        "\n",
        "  best_trial = result.get_best_trial(\"loss\", \"min\", \"last\")\n",
        "  print(\"Best trial config: {}\".format(best_trial.config))\n",
        "  print(\"Best trial final validation loss: {}\".format(\n",
        "      best_trial.last_result[\"loss\"]))\n",
        "  print(\"Best trial final validation accuracy: {}\".format(\n",
        "      best_trial.last_result[\"accuracy\"]))\n",
        "\n",
        "  best_trained_model = model(best_trial.config[\"step1\"], best_trial.config[\"step2\"], best_trial.config[\"step3\"])\n",
        "  device = \"cpu\"\n",
        "  if torch.cuda.is_available():\n",
        "      device = \"cuda:0\"\n",
        "      if gpus_per_trial > 1:\n",
        "          best_trained_model = nn.DataParallel(best_trained_model)\n",
        "  best_trained_model.to(device)\n",
        "\n",
        "  best_checkpoint_dir = best_trial.checkpoint.value\n",
        "  model_state, optimizer_state = torch.load(os.path.join(\n",
        "      best_checkpoint_dir, \"checkpoint\"))\n",
        "  best_trained_model.load_state_dict(model_state)\n",
        "\n",
        "  test_acc = test_accuracy(best_trained_model, device)\n",
        "  print(\"Best trial test set accuracy: {}\".format(test_acc))\n",
        "\n"
      ],
      "metadata": {
        "colab": {
          "base_uri": "https://localhost:8080/"
        },
        "id": "JddJA-lEu0E5",
        "outputId": "7d48a120-438f-42d0-e656-3ff411141f19"
      },
      "execution_count": 91,
      "outputs": [
        {
          "output_type": "stream",
          "name": "stderr",
          "text": [
            "\u001b[2m\u001b[36m(func pid=7531)\u001b[0m \n",
            "\u001b[2m\u001b[36m(func pid=7531)\u001b[0m \r  5%|▌         | 68/1250 [00:34<09:06,  2.16it/s]\u001b[A\n"
          ]
        }
      ]
    },
    {
      "cell_type": "code",
      "source": [
        "if __name__ == \"__main__\":\n",
        "    # You can change the number of GPUs per trial here:\n",
        "    main(num_samples=10, max_num_epochs=10, gpus_per_trial=0)"
      ],
      "metadata": {
        "colab": {
          "base_uri": "https://localhost:8080/",
          "height": 1000
        },
        "id": "T2Gt3ziw6alj",
        "outputId": "db1b710c-2d30-4b3d-db2f-ac094839f073"
      },
      "execution_count": 96,
      "outputs": [
        {
          "output_type": "stream",
          "name": "stderr",
          "text": [
            "\u001b[2m\u001b[36m(func pid=8110)\u001b[0m \n",
            " 28%|██▊       | 354/1250 [01:54<04:44,  3.15it/s]\u001b[A\n",
            "\u001b[2m\u001b[36m(func pid=8110)\u001b[0m \n",
            " 28%|██▊       | 355/1250 [01:54<04:40,  3.19it/s]\u001b[A\n",
            "\u001b[2m\u001b[36m(func pid=8110)\u001b[0m \n",
            " 28%|██▊       | 356/1250 [01:54<05:12,  2.86it/s]\u001b[A\n",
            "2022-10-18 17:29:54,939\tWARNING callback.py:109 -- The TensorboardX logger cannot be instantiated because either TensorboardX or one of it's dependencies is not installed. Please make sure you have the latest version of TensorboardX installed: `pip install -U tensorboardx`\n",
            "\u001b[2m\u001b[36m(func pid=8110)\u001b[0m \n",
            " 29%|██▊       | 357/1250 [01:55<05:34,  2.67it/s]\u001b[A\n",
            "\u001b[2m\u001b[36m(func pid=8110)\u001b[0m \n",
            " 29%|██▊       | 358/1250 [01:55<06:02,  2.46it/s]\u001b[A\n",
            "\u001b[2m\u001b[36m(func pid=8110)\u001b[0m \n",
            " 29%|██▊       | 359/1250 [01:56<06:16,  2.37it/s]\u001b[A\n",
            "\u001b[2m\u001b[36m(func pid=8110)\u001b[0m \n",
            " 29%|██▉       | 360/1250 [01:56<06:36,  2.25it/s]\u001b[A\n",
            "\u001b[2m\u001b[36m(func pid=8110)\u001b[0m \n",
            " 29%|██▉       | 361/1250 [01:57<06:50,  2.17it/s]\u001b[A\n",
            "\u001b[2m\u001b[36m(func pid=8110)\u001b[0m \n",
            " 29%|██▉       | 362/1250 [01:57<06:46,  2.18it/s]\u001b[A\n",
            "\u001b[2m\u001b[36m(func pid=8110)\u001b[0m \n",
            " 29%|██▉       | 363/1250 [01:58<06:52,  2.15it/s]\u001b[A\n",
            "\u001b[2m\u001b[36m(func pid=8110)\u001b[0m \n",
            " 29%|██▉       | 364/1250 [01:58<06:48,  2.17it/s]\u001b[A\n",
            "2022-10-18 17:29:59,337\tWARNING worker.py:1829 -- Warning: The actor ImplicitFunc is very large (19 MiB). Check that its definition is not implicitly capturing a large array or other object in scope. Tip: use ray.put() to put large objects in the Ray object store.\n",
            "2022-10-18 17:29:59,388\tWARNING util.py:220 -- The `start_trial` operation took 0.620 s, which may be a performance bottleneck.\n"
          ]
        },
        {
          "output_type": "stream",
          "name": "stdout",
          "text": [
            "== Status ==\n",
            "Current time: 2022-10-18 17:29:59 (running for 00:00:04.47)\n",
            "Memory usage on this node: 2.3/12.7 GiB\n",
            "Using AsyncHyperBand: num_stopped=0\n",
            "Bracket: Iter 8.000: None | Iter 4.000: None | Iter 2.000: None | Iter 1.000: None\n",
            "Resources requested: 2.0/2 CPUs, 0/0 GPUs, 0.0/7.41 GiB heap, 0.0/3.7 GiB objects\n",
            "Result logdir: /root/ray_results/train_cifar_2022-10-18_17-29-54\n",
            "Number of trials: 10/10 (9 PENDING, 1 RUNNING)\n",
            "+-------------------------+----------+-----------------+--------------+-------------+---------+---------+---------+\n",
            "| Trial name              | status   | loc             |   batch_size |          lr |   step1 |   step2 |   step3 |\n",
            "|-------------------------+----------+-----------------+--------------+-------------+---------+---------+---------|\n",
            "| train_cifar_7af34_00000 | RUNNING  | 172.28.0.2:9931 |          512 | 0.000177076 |      64 |      64 |       8 |\n",
            "| train_cifar_7af34_00001 | PENDING  |                 |           32 | 0.0120769   |     128 |       4 |       8 |\n",
            "| train_cifar_7af34_00002 | PENDING  |                 |          512 | 0.0173817   |       4 |     256 |     256 |\n",
            "| train_cifar_7af34_00003 | PENDING  |                 |          512 | 0.0218424   |     256 |     128 |      32 |\n",
            "| train_cifar_7af34_00004 | PENDING  |                 |          512 | 0.00940687  |      32 |      32 |      16 |\n",
            "| train_cifar_7af34_00005 | PENDING  |                 |           16 | 0.00258265  |      32 |      16 |      16 |\n",
            "| train_cifar_7af34_00006 | PENDING  |                 |           16 | 0.000182904 |     256 |       4 |      16 |\n",
            "| train_cifar_7af34_00007 | PENDING  |                 |           16 | 0.000428507 |      64 |       8 |       4 |\n",
            "| train_cifar_7af34_00008 | PENDING  |                 |          512 | 0.000294899 |     256 |     256 |       4 |\n",
            "| train_cifar_7af34_00009 | PENDING  |                 |          512 | 0.000134975 |       8 |       4 |      32 |\n",
            "+-------------------------+----------+-----------------+--------------+-------------+---------+---------+---------+\n",
            "\n",
            "\n"
          ]
        },
        {
          "output_type": "stream",
          "name": "stderr",
          "text": [
            "\u001b[2m\u001b[36m(func pid=9931)\u001b[0m \r  0%|          | 0/10 [00:00<?, ?it/s]\n",
            "\u001b[2m\u001b[36m(func pid=9931)\u001b[0m \r  0%|          | 0/39 [00:00<?, ?it/s]\u001b[A\n"
          ]
        },
        {
          "output_type": "stream",
          "name": "stdout",
          "text": [
            "\u001b[2m\u001b[36m(func pid=9931)\u001b[0m Epoch:0\n",
            "== Status ==\n",
            "Current time: 2022-10-18 17:30:07 (running for 00:00:12.32)\n",
            "Memory usage on this node: 6.2/12.7 GiB\n",
            "Using AsyncHyperBand: num_stopped=0\n",
            "Bracket: Iter 8.000: None | Iter 4.000: None | Iter 2.000: None | Iter 1.000: None\n",
            "Resources requested: 2.0/2 CPUs, 0/0 GPUs, 0.0/7.41 GiB heap, 0.0/3.7 GiB objects\n",
            "Result logdir: /root/ray_results/train_cifar_2022-10-18_17-29-54\n",
            "Number of trials: 10/10 (9 PENDING, 1 RUNNING)\n",
            "+-------------------------+----------+-----------------+--------------+-------------+---------+---------+---------+\n",
            "| Trial name              | status   | loc             |   batch_size |          lr |   step1 |   step2 |   step3 |\n",
            "|-------------------------+----------+-----------------+--------------+-------------+---------+---------+---------|\n",
            "| train_cifar_7af34_00000 | RUNNING  | 172.28.0.2:9931 |          512 | 0.000177076 |      64 |      64 |       8 |\n",
            "| train_cifar_7af34_00001 | PENDING  |                 |           32 | 0.0120769   |     128 |       4 |       8 |\n",
            "| train_cifar_7af34_00002 | PENDING  |                 |          512 | 0.0173817   |       4 |     256 |     256 |\n",
            "| train_cifar_7af34_00003 | PENDING  |                 |          512 | 0.0218424   |     256 |     128 |      32 |\n",
            "| train_cifar_7af34_00004 | PENDING  |                 |          512 | 0.00940687  |      32 |      32 |      16 |\n",
            "| train_cifar_7af34_00005 | PENDING  |                 |           16 | 0.00258265  |      32 |      16 |      16 |\n",
            "| train_cifar_7af34_00006 | PENDING  |                 |           16 | 0.000182904 |     256 |       4 |      16 |\n",
            "| train_cifar_7af34_00007 | PENDING  |                 |           16 | 0.000428507 |      64 |       8 |       4 |\n",
            "| train_cifar_7af34_00008 | PENDING  |                 |          512 | 0.000294899 |     256 |     256 |       4 |\n",
            "| train_cifar_7af34_00009 | PENDING  |                 |          512 | 0.000134975 |       8 |       4 |      32 |\n",
            "+-------------------------+----------+-----------------+--------------+-------------+---------+---------+---------+\n",
            "\n",
            "\n"
          ]
        },
        {
          "output_type": "stream",
          "name": "stderr",
          "text": [
            "\u001b[2m\u001b[36m(func pid=9931)\u001b[0m \n",
            "\u001b[2m\u001b[36m(func pid=9931)\u001b[0m \r  3%|▎         | 1/39 [00:08<05:10,  8.17s/it]\u001b[A\n"
          ]
        },
        {
          "output_type": "stream",
          "name": "stdout",
          "text": [
            "== Status ==\n",
            "Current time: 2022-10-18 17:30:12 (running for 00:00:17.38)\n",
            "Memory usage on this node: 6.0/12.7 GiB\n",
            "Using AsyncHyperBand: num_stopped=0\n",
            "Bracket: Iter 8.000: None | Iter 4.000: None | Iter 2.000: None | Iter 1.000: None\n",
            "Resources requested: 2.0/2 CPUs, 0/0 GPUs, 0.0/7.41 GiB heap, 0.0/3.7 GiB objects\n",
            "Result logdir: /root/ray_results/train_cifar_2022-10-18_17-29-54\n",
            "Number of trials: 10/10 (9 PENDING, 1 RUNNING)\n",
            "+-------------------------+----------+-----------------+--------------+-------------+---------+---------+---------+\n",
            "| Trial name              | status   | loc             |   batch_size |          lr |   step1 |   step2 |   step3 |\n",
            "|-------------------------+----------+-----------------+--------------+-------------+---------+---------+---------|\n",
            "| train_cifar_7af34_00000 | RUNNING  | 172.28.0.2:9931 |          512 | 0.000177076 |      64 |      64 |       8 |\n",
            "| train_cifar_7af34_00001 | PENDING  |                 |           32 | 0.0120769   |     128 |       4 |       8 |\n",
            "| train_cifar_7af34_00002 | PENDING  |                 |          512 | 0.0173817   |       4 |     256 |     256 |\n",
            "| train_cifar_7af34_00003 | PENDING  |                 |          512 | 0.0218424   |     256 |     128 |      32 |\n",
            "| train_cifar_7af34_00004 | PENDING  |                 |          512 | 0.00940687  |      32 |      32 |      16 |\n",
            "| train_cifar_7af34_00005 | PENDING  |                 |           16 | 0.00258265  |      32 |      16 |      16 |\n",
            "| train_cifar_7af34_00006 | PENDING  |                 |           16 | 0.000182904 |     256 |       4 |      16 |\n",
            "| train_cifar_7af34_00007 | PENDING  |                 |           16 | 0.000428507 |      64 |       8 |       4 |\n",
            "| train_cifar_7af34_00008 | PENDING  |                 |          512 | 0.000294899 |     256 |     256 |       4 |\n",
            "| train_cifar_7af34_00009 | PENDING  |                 |          512 | 0.000134975 |       8 |       4 |      32 |\n",
            "+-------------------------+----------+-----------------+--------------+-------------+---------+---------+---------+\n",
            "\n",
            "\n",
            "== Status ==\n",
            "Current time: 2022-10-18 17:30:17 (running for 00:00:22.40)\n",
            "Memory usage on this node: 2.6/12.7 GiB\n",
            "Using AsyncHyperBand: num_stopped=0\n",
            "Bracket: Iter 8.000: None | Iter 4.000: None | Iter 2.000: None | Iter 1.000: None\n",
            "Resources requested: 2.0/2 CPUs, 0/0 GPUs, 0.0/7.41 GiB heap, 0.0/3.7 GiB objects\n",
            "Result logdir: /root/ray_results/train_cifar_2022-10-18_17-29-54\n",
            "Number of trials: 10/10 (9 PENDING, 1 RUNNING)\n",
            "+-------------------------+----------+-----------------+--------------+-------------+---------+---------+---------+\n",
            "| Trial name              | status   | loc             |   batch_size |          lr |   step1 |   step2 |   step3 |\n",
            "|-------------------------+----------+-----------------+--------------+-------------+---------+---------+---------|\n",
            "| train_cifar_7af34_00000 | RUNNING  | 172.28.0.2:9931 |          512 | 0.000177076 |      64 |      64 |       8 |\n",
            "| train_cifar_7af34_00001 | PENDING  |                 |           32 | 0.0120769   |     128 |       4 |       8 |\n",
            "| train_cifar_7af34_00002 | PENDING  |                 |          512 | 0.0173817   |       4 |     256 |     256 |\n",
            "| train_cifar_7af34_00003 | PENDING  |                 |          512 | 0.0218424   |     256 |     128 |      32 |\n",
            "| train_cifar_7af34_00004 | PENDING  |                 |          512 | 0.00940687  |      32 |      32 |      16 |\n",
            "| train_cifar_7af34_00005 | PENDING  |                 |           16 | 0.00258265  |      32 |      16 |      16 |\n",
            "| train_cifar_7af34_00006 | PENDING  |                 |           16 | 0.000182904 |     256 |       4 |      16 |\n",
            "| train_cifar_7af34_00007 | PENDING  |                 |           16 | 0.000428507 |      64 |       8 |       4 |\n",
            "| train_cifar_7af34_00008 | PENDING  |                 |          512 | 0.000294899 |     256 |     256 |       4 |\n",
            "| train_cifar_7af34_00009 | PENDING  |                 |          512 | 0.000134975 |       8 |       4 |      32 |\n",
            "+-------------------------+----------+-----------------+--------------+-------------+---------+---------+---------+\n",
            "\n",
            "\n"
          ]
        },
        {
          "output_type": "stream",
          "name": "stderr",
          "text": [
            "\u001b[2m\u001b[36m(func pid=9931)\u001b[0m \n",
            "\u001b[2m\u001b[36m(func pid=9931)\u001b[0m \r  5%|▌         | 2/39 [00:14<04:29,  7.28s/it]\u001b[A\n"
          ]
        },
        {
          "output_type": "stream",
          "name": "stdout",
          "text": [
            "== Status ==\n",
            "Current time: 2022-10-18 17:30:22 (running for 00:00:27.42)\n",
            "Memory usage on this node: 2.5/12.7 GiB\n",
            "Using AsyncHyperBand: num_stopped=0\n",
            "Bracket: Iter 8.000: None | Iter 4.000: None | Iter 2.000: None | Iter 1.000: None\n",
            "Resources requested: 2.0/2 CPUs, 0/0 GPUs, 0.0/7.41 GiB heap, 0.0/3.7 GiB objects\n",
            "Result logdir: /root/ray_results/train_cifar_2022-10-18_17-29-54\n",
            "Number of trials: 10/10 (9 PENDING, 1 RUNNING)\n",
            "+-------------------------+----------+-----------------+--------------+-------------+---------+---------+---------+\n",
            "| Trial name              | status   | loc             |   batch_size |          lr |   step1 |   step2 |   step3 |\n",
            "|-------------------------+----------+-----------------+--------------+-------------+---------+---------+---------|\n",
            "| train_cifar_7af34_00000 | RUNNING  | 172.28.0.2:9931 |          512 | 0.000177076 |      64 |      64 |       8 |\n",
            "| train_cifar_7af34_00001 | PENDING  |                 |           32 | 0.0120769   |     128 |       4 |       8 |\n",
            "| train_cifar_7af34_00002 | PENDING  |                 |          512 | 0.0173817   |       4 |     256 |     256 |\n",
            "| train_cifar_7af34_00003 | PENDING  |                 |          512 | 0.0218424   |     256 |     128 |      32 |\n",
            "| train_cifar_7af34_00004 | PENDING  |                 |          512 | 0.00940687  |      32 |      32 |      16 |\n",
            "| train_cifar_7af34_00005 | PENDING  |                 |           16 | 0.00258265  |      32 |      16 |      16 |\n",
            "| train_cifar_7af34_00006 | PENDING  |                 |           16 | 0.000182904 |     256 |       4 |      16 |\n",
            "| train_cifar_7af34_00007 | PENDING  |                 |           16 | 0.000428507 |      64 |       8 |       4 |\n",
            "| train_cifar_7af34_00008 | PENDING  |                 |          512 | 0.000294899 |     256 |     256 |       4 |\n",
            "| train_cifar_7af34_00009 | PENDING  |                 |          512 | 0.000134975 |       8 |       4 |      32 |\n",
            "+-------------------------+----------+-----------------+--------------+-------------+---------+---------+---------+\n",
            "\n",
            "\n"
          ]
        },
        {
          "output_type": "stream",
          "name": "stderr",
          "text": [
            "\u001b[2m\u001b[36m(func pid=9931)\u001b[0m \n",
            "\u001b[2m\u001b[36m(func pid=9931)\u001b[0m \r  8%|▊         | 3/39 [00:20<03:48,  6.34s/it]\u001b[A\n"
          ]
        },
        {
          "output_type": "stream",
          "name": "stdout",
          "text": [
            "== Status ==\n",
            "Current time: 2022-10-18 17:30:27 (running for 00:00:32.44)\n",
            "Memory usage on this node: 2.5/12.7 GiB\n",
            "Using AsyncHyperBand: num_stopped=0\n",
            "Bracket: Iter 8.000: None | Iter 4.000: None | Iter 2.000: None | Iter 1.000: None\n",
            "Resources requested: 2.0/2 CPUs, 0/0 GPUs, 0.0/7.41 GiB heap, 0.0/3.7 GiB objects\n",
            "Result logdir: /root/ray_results/train_cifar_2022-10-18_17-29-54\n",
            "Number of trials: 10/10 (9 PENDING, 1 RUNNING)\n",
            "+-------------------------+----------+-----------------+--------------+-------------+---------+---------+---------+\n",
            "| Trial name              | status   | loc             |   batch_size |          lr |   step1 |   step2 |   step3 |\n",
            "|-------------------------+----------+-----------------+--------------+-------------+---------+---------+---------|\n",
            "| train_cifar_7af34_00000 | RUNNING  | 172.28.0.2:9931 |          512 | 0.000177076 |      64 |      64 |       8 |\n",
            "| train_cifar_7af34_00001 | PENDING  |                 |           32 | 0.0120769   |     128 |       4 |       8 |\n",
            "| train_cifar_7af34_00002 | PENDING  |                 |          512 | 0.0173817   |       4 |     256 |     256 |\n",
            "| train_cifar_7af34_00003 | PENDING  |                 |          512 | 0.0218424   |     256 |     128 |      32 |\n",
            "| train_cifar_7af34_00004 | PENDING  |                 |          512 | 0.00940687  |      32 |      32 |      16 |\n",
            "| train_cifar_7af34_00005 | PENDING  |                 |           16 | 0.00258265  |      32 |      16 |      16 |\n",
            "| train_cifar_7af34_00006 | PENDING  |                 |           16 | 0.000182904 |     256 |       4 |      16 |\n",
            "| train_cifar_7af34_00007 | PENDING  |                 |           16 | 0.000428507 |      64 |       8 |       4 |\n",
            "| train_cifar_7af34_00008 | PENDING  |                 |          512 | 0.000294899 |     256 |     256 |       4 |\n",
            "| train_cifar_7af34_00009 | PENDING  |                 |          512 | 0.000134975 |       8 |       4 |      32 |\n",
            "+-------------------------+----------+-----------------+--------------+-------------+---------+---------+---------+\n",
            "\n",
            "\n"
          ]
        },
        {
          "output_type": "stream",
          "name": "stderr",
          "text": [
            "\u001b[2m\u001b[36m(func pid=9931)\u001b[0m \n",
            "\u001b[2m\u001b[36m(func pid=9931)\u001b[0m \r 10%|█         | 4/39 [00:25<03:24,  5.83s/it]\u001b[A\n"
          ]
        },
        {
          "output_type": "stream",
          "name": "stdout",
          "text": [
            "== Status ==\n",
            "Current time: 2022-10-18 17:30:32 (running for 00:00:37.46)\n",
            "Memory usage on this node: 2.5/12.7 GiB\n",
            "Using AsyncHyperBand: num_stopped=0\n",
            "Bracket: Iter 8.000: None | Iter 4.000: None | Iter 2.000: None | Iter 1.000: None\n",
            "Resources requested: 2.0/2 CPUs, 0/0 GPUs, 0.0/7.41 GiB heap, 0.0/3.7 GiB objects\n",
            "Result logdir: /root/ray_results/train_cifar_2022-10-18_17-29-54\n",
            "Number of trials: 10/10 (9 PENDING, 1 RUNNING)\n",
            "+-------------------------+----------+-----------------+--------------+-------------+---------+---------+---------+\n",
            "| Trial name              | status   | loc             |   batch_size |          lr |   step1 |   step2 |   step3 |\n",
            "|-------------------------+----------+-----------------+--------------+-------------+---------+---------+---------|\n",
            "| train_cifar_7af34_00000 | RUNNING  | 172.28.0.2:9931 |          512 | 0.000177076 |      64 |      64 |       8 |\n",
            "| train_cifar_7af34_00001 | PENDING  |                 |           32 | 0.0120769   |     128 |       4 |       8 |\n",
            "| train_cifar_7af34_00002 | PENDING  |                 |          512 | 0.0173817   |       4 |     256 |     256 |\n",
            "| train_cifar_7af34_00003 | PENDING  |                 |          512 | 0.0218424   |     256 |     128 |      32 |\n",
            "| train_cifar_7af34_00004 | PENDING  |                 |          512 | 0.00940687  |      32 |      32 |      16 |\n",
            "| train_cifar_7af34_00005 | PENDING  |                 |           16 | 0.00258265  |      32 |      16 |      16 |\n",
            "| train_cifar_7af34_00006 | PENDING  |                 |           16 | 0.000182904 |     256 |       4 |      16 |\n",
            "| train_cifar_7af34_00007 | PENDING  |                 |           16 | 0.000428507 |      64 |       8 |       4 |\n",
            "| train_cifar_7af34_00008 | PENDING  |                 |          512 | 0.000294899 |     256 |     256 |       4 |\n",
            "| train_cifar_7af34_00009 | PENDING  |                 |          512 | 0.000134975 |       8 |       4 |      32 |\n",
            "+-------------------------+----------+-----------------+--------------+-------------+---------+---------+---------+\n",
            "\n",
            "\n"
          ]
        },
        {
          "output_type": "stream",
          "name": "stderr",
          "text": [
            "\u001b[2m\u001b[36m(func pid=9931)\u001b[0m \n",
            "\u001b[2m\u001b[36m(func pid=9931)\u001b[0m \r 13%|█▎        | 5/39 [00:30<03:08,  5.54s/it]\u001b[A\n"
          ]
        },
        {
          "output_type": "stream",
          "name": "stdout",
          "text": [
            "== Status ==\n",
            "Current time: 2022-10-18 17:30:37 (running for 00:00:42.48)\n",
            "Memory usage on this node: 2.5/12.7 GiB\n",
            "Using AsyncHyperBand: num_stopped=0\n",
            "Bracket: Iter 8.000: None | Iter 4.000: None | Iter 2.000: None | Iter 1.000: None\n",
            "Resources requested: 2.0/2 CPUs, 0/0 GPUs, 0.0/7.41 GiB heap, 0.0/3.7 GiB objects\n",
            "Result logdir: /root/ray_results/train_cifar_2022-10-18_17-29-54\n",
            "Number of trials: 10/10 (9 PENDING, 1 RUNNING)\n",
            "+-------------------------+----------+-----------------+--------------+-------------+---------+---------+---------+\n",
            "| Trial name              | status   | loc             |   batch_size |          lr |   step1 |   step2 |   step3 |\n",
            "|-------------------------+----------+-----------------+--------------+-------------+---------+---------+---------|\n",
            "| train_cifar_7af34_00000 | RUNNING  | 172.28.0.2:9931 |          512 | 0.000177076 |      64 |      64 |       8 |\n",
            "| train_cifar_7af34_00001 | PENDING  |                 |           32 | 0.0120769   |     128 |       4 |       8 |\n",
            "| train_cifar_7af34_00002 | PENDING  |                 |          512 | 0.0173817   |       4 |     256 |     256 |\n",
            "| train_cifar_7af34_00003 | PENDING  |                 |          512 | 0.0218424   |     256 |     128 |      32 |\n",
            "| train_cifar_7af34_00004 | PENDING  |                 |          512 | 0.00940687  |      32 |      32 |      16 |\n",
            "| train_cifar_7af34_00005 | PENDING  |                 |           16 | 0.00258265  |      32 |      16 |      16 |\n",
            "| train_cifar_7af34_00006 | PENDING  |                 |           16 | 0.000182904 |     256 |       4 |      16 |\n",
            "| train_cifar_7af34_00007 | PENDING  |                 |           16 | 0.000428507 |      64 |       8 |       4 |\n",
            "| train_cifar_7af34_00008 | PENDING  |                 |          512 | 0.000294899 |     256 |     256 |       4 |\n",
            "| train_cifar_7af34_00009 | PENDING  |                 |          512 | 0.000134975 |       8 |       4 |      32 |\n",
            "+-------------------------+----------+-----------------+--------------+-------------+---------+---------+---------+\n",
            "\n",
            "\n"
          ]
        },
        {
          "output_type": "stream",
          "name": "stderr",
          "text": [
            "\u001b[2m\u001b[36m(func pid=9931)\u001b[0m \n",
            "\u001b[2m\u001b[36m(func pid=9931)\u001b[0m \r 15%|█▌        | 6/39 [00:35<02:58,  5.40s/it]\u001b[A\n"
          ]
        },
        {
          "output_type": "stream",
          "name": "stdout",
          "text": [
            "== Status ==\n",
            "Current time: 2022-10-18 17:30:42 (running for 00:00:47.50)\n",
            "Memory usage on this node: 2.5/12.7 GiB\n",
            "Using AsyncHyperBand: num_stopped=0\n",
            "Bracket: Iter 8.000: None | Iter 4.000: None | Iter 2.000: None | Iter 1.000: None\n",
            "Resources requested: 2.0/2 CPUs, 0/0 GPUs, 0.0/7.41 GiB heap, 0.0/3.7 GiB objects\n",
            "Result logdir: /root/ray_results/train_cifar_2022-10-18_17-29-54\n",
            "Number of trials: 10/10 (9 PENDING, 1 RUNNING)\n",
            "+-------------------------+----------+-----------------+--------------+-------------+---------+---------+---------+\n",
            "| Trial name              | status   | loc             |   batch_size |          lr |   step1 |   step2 |   step3 |\n",
            "|-------------------------+----------+-----------------+--------------+-------------+---------+---------+---------|\n",
            "| train_cifar_7af34_00000 | RUNNING  | 172.28.0.2:9931 |          512 | 0.000177076 |      64 |      64 |       8 |\n",
            "| train_cifar_7af34_00001 | PENDING  |                 |           32 | 0.0120769   |     128 |       4 |       8 |\n",
            "| train_cifar_7af34_00002 | PENDING  |                 |          512 | 0.0173817   |       4 |     256 |     256 |\n",
            "| train_cifar_7af34_00003 | PENDING  |                 |          512 | 0.0218424   |     256 |     128 |      32 |\n",
            "| train_cifar_7af34_00004 | PENDING  |                 |          512 | 0.00940687  |      32 |      32 |      16 |\n",
            "| train_cifar_7af34_00005 | PENDING  |                 |           16 | 0.00258265  |      32 |      16 |      16 |\n",
            "| train_cifar_7af34_00006 | PENDING  |                 |           16 | 0.000182904 |     256 |       4 |      16 |\n",
            "| train_cifar_7af34_00007 | PENDING  |                 |           16 | 0.000428507 |      64 |       8 |       4 |\n",
            "| train_cifar_7af34_00008 | PENDING  |                 |          512 | 0.000294899 |     256 |     256 |       4 |\n",
            "| train_cifar_7af34_00009 | PENDING  |                 |          512 | 0.000134975 |       8 |       4 |      32 |\n",
            "+-------------------------+----------+-----------------+--------------+-------------+---------+---------+---------+\n",
            "\n",
            "\n"
          ]
        },
        {
          "output_type": "stream",
          "name": "stderr",
          "text": [
            "\u001b[2m\u001b[36m(func pid=9931)\u001b[0m \n",
            "\u001b[2m\u001b[36m(func pid=9931)\u001b[0m \r 18%|█▊        | 7/39 [00:40<02:49,  5.29s/it]\u001b[A\n"
          ]
        },
        {
          "output_type": "stream",
          "name": "stdout",
          "text": [
            "== Status ==\n",
            "Current time: 2022-10-18 17:30:47 (running for 00:00:52.52)\n",
            "Memory usage on this node: 2.5/12.7 GiB\n",
            "Using AsyncHyperBand: num_stopped=0\n",
            "Bracket: Iter 8.000: None | Iter 4.000: None | Iter 2.000: None | Iter 1.000: None\n",
            "Resources requested: 2.0/2 CPUs, 0/0 GPUs, 0.0/7.41 GiB heap, 0.0/3.7 GiB objects\n",
            "Result logdir: /root/ray_results/train_cifar_2022-10-18_17-29-54\n",
            "Number of trials: 10/10 (9 PENDING, 1 RUNNING)\n",
            "+-------------------------+----------+-----------------+--------------+-------------+---------+---------+---------+\n",
            "| Trial name              | status   | loc             |   batch_size |          lr |   step1 |   step2 |   step3 |\n",
            "|-------------------------+----------+-----------------+--------------+-------------+---------+---------+---------|\n",
            "| train_cifar_7af34_00000 | RUNNING  | 172.28.0.2:9931 |          512 | 0.000177076 |      64 |      64 |       8 |\n",
            "| train_cifar_7af34_00001 | PENDING  |                 |           32 | 0.0120769   |     128 |       4 |       8 |\n",
            "| train_cifar_7af34_00002 | PENDING  |                 |          512 | 0.0173817   |       4 |     256 |     256 |\n",
            "| train_cifar_7af34_00003 | PENDING  |                 |          512 | 0.0218424   |     256 |     128 |      32 |\n",
            "| train_cifar_7af34_00004 | PENDING  |                 |          512 | 0.00940687  |      32 |      32 |      16 |\n",
            "| train_cifar_7af34_00005 | PENDING  |                 |           16 | 0.00258265  |      32 |      16 |      16 |\n",
            "| train_cifar_7af34_00006 | PENDING  |                 |           16 | 0.000182904 |     256 |       4 |      16 |\n",
            "| train_cifar_7af34_00007 | PENDING  |                 |           16 | 0.000428507 |      64 |       8 |       4 |\n",
            "| train_cifar_7af34_00008 | PENDING  |                 |          512 | 0.000294899 |     256 |     256 |       4 |\n",
            "| train_cifar_7af34_00009 | PENDING  |                 |          512 | 0.000134975 |       8 |       4 |      32 |\n",
            "+-------------------------+----------+-----------------+--------------+-------------+---------+---------+---------+\n",
            "\n",
            "\n"
          ]
        },
        {
          "output_type": "stream",
          "name": "stderr",
          "text": [
            "\u001b[2m\u001b[36m(func pid=9931)\u001b[0m \n",
            "\u001b[2m\u001b[36m(func pid=9931)\u001b[0m \r 21%|██        | 8/39 [00:45<02:43,  5.26s/it]\u001b[A\n"
          ]
        },
        {
          "output_type": "stream",
          "name": "stdout",
          "text": [
            "== Status ==\n",
            "Current time: 2022-10-18 17:30:52 (running for 00:00:57.54)\n",
            "Memory usage on this node: 2.5/12.7 GiB\n",
            "Using AsyncHyperBand: num_stopped=0\n",
            "Bracket: Iter 8.000: None | Iter 4.000: None | Iter 2.000: None | Iter 1.000: None\n",
            "Resources requested: 2.0/2 CPUs, 0/0 GPUs, 0.0/7.41 GiB heap, 0.0/3.7 GiB objects\n",
            "Result logdir: /root/ray_results/train_cifar_2022-10-18_17-29-54\n",
            "Number of trials: 10/10 (9 PENDING, 1 RUNNING)\n",
            "+-------------------------+----------+-----------------+--------------+-------------+---------+---------+---------+\n",
            "| Trial name              | status   | loc             |   batch_size |          lr |   step1 |   step2 |   step3 |\n",
            "|-------------------------+----------+-----------------+--------------+-------------+---------+---------+---------|\n",
            "| train_cifar_7af34_00000 | RUNNING  | 172.28.0.2:9931 |          512 | 0.000177076 |      64 |      64 |       8 |\n",
            "| train_cifar_7af34_00001 | PENDING  |                 |           32 | 0.0120769   |     128 |       4 |       8 |\n",
            "| train_cifar_7af34_00002 | PENDING  |                 |          512 | 0.0173817   |       4 |     256 |     256 |\n",
            "| train_cifar_7af34_00003 | PENDING  |                 |          512 | 0.0218424   |     256 |     128 |      32 |\n",
            "| train_cifar_7af34_00004 | PENDING  |                 |          512 | 0.00940687  |      32 |      32 |      16 |\n",
            "| train_cifar_7af34_00005 | PENDING  |                 |           16 | 0.00258265  |      32 |      16 |      16 |\n",
            "| train_cifar_7af34_00006 | PENDING  |                 |           16 | 0.000182904 |     256 |       4 |      16 |\n",
            "| train_cifar_7af34_00007 | PENDING  |                 |           16 | 0.000428507 |      64 |       8 |       4 |\n",
            "| train_cifar_7af34_00008 | PENDING  |                 |          512 | 0.000294899 |     256 |     256 |       4 |\n",
            "| train_cifar_7af34_00009 | PENDING  |                 |          512 | 0.000134975 |       8 |       4 |      32 |\n",
            "+-------------------------+----------+-----------------+--------------+-------------+---------+---------+---------+\n",
            "\n",
            "\n"
          ]
        },
        {
          "output_type": "stream",
          "name": "stderr",
          "text": [
            "\u001b[2m\u001b[36m(func pid=9931)\u001b[0m \n",
            "\u001b[2m\u001b[36m(func pid=9931)\u001b[0m \r 23%|██▎       | 9/39 [00:50<02:36,  5.21s/it]\u001b[A\n"
          ]
        },
        {
          "output_type": "stream",
          "name": "stdout",
          "text": [
            "== Status ==\n",
            "Current time: 2022-10-18 17:30:57 (running for 00:01:02.55)\n",
            "Memory usage on this node: 2.5/12.7 GiB\n",
            "Using AsyncHyperBand: num_stopped=0\n",
            "Bracket: Iter 8.000: None | Iter 4.000: None | Iter 2.000: None | Iter 1.000: None\n",
            "Resources requested: 2.0/2 CPUs, 0/0 GPUs, 0.0/7.41 GiB heap, 0.0/3.7 GiB objects\n",
            "Result logdir: /root/ray_results/train_cifar_2022-10-18_17-29-54\n",
            "Number of trials: 10/10 (9 PENDING, 1 RUNNING)\n",
            "+-------------------------+----------+-----------------+--------------+-------------+---------+---------+---------+\n",
            "| Trial name              | status   | loc             |   batch_size |          lr |   step1 |   step2 |   step3 |\n",
            "|-------------------------+----------+-----------------+--------------+-------------+---------+---------+---------|\n",
            "| train_cifar_7af34_00000 | RUNNING  | 172.28.0.2:9931 |          512 | 0.000177076 |      64 |      64 |       8 |\n",
            "| train_cifar_7af34_00001 | PENDING  |                 |           32 | 0.0120769   |     128 |       4 |       8 |\n",
            "| train_cifar_7af34_00002 | PENDING  |                 |          512 | 0.0173817   |       4 |     256 |     256 |\n",
            "| train_cifar_7af34_00003 | PENDING  |                 |          512 | 0.0218424   |     256 |     128 |      32 |\n",
            "| train_cifar_7af34_00004 | PENDING  |                 |          512 | 0.00940687  |      32 |      32 |      16 |\n",
            "| train_cifar_7af34_00005 | PENDING  |                 |           16 | 0.00258265  |      32 |      16 |      16 |\n",
            "| train_cifar_7af34_00006 | PENDING  |                 |           16 | 0.000182904 |     256 |       4 |      16 |\n",
            "| train_cifar_7af34_00007 | PENDING  |                 |           16 | 0.000428507 |      64 |       8 |       4 |\n",
            "| train_cifar_7af34_00008 | PENDING  |                 |          512 | 0.000294899 |     256 |     256 |       4 |\n",
            "| train_cifar_7af34_00009 | PENDING  |                 |          512 | 0.000134975 |       8 |       4 |      32 |\n",
            "+-------------------------+----------+-----------------+--------------+-------------+---------+---------+---------+\n",
            "\n",
            "\n"
          ]
        },
        {
          "output_type": "stream",
          "name": "stderr",
          "text": [
            "\u001b[2m\u001b[36m(func pid=9931)\u001b[0m \n",
            "\u001b[2m\u001b[36m(func pid=9931)\u001b[0m \r 26%|██▌       | 10/39 [00:55<02:31,  5.21s/it]\u001b[A\n"
          ]
        },
        {
          "output_type": "stream",
          "name": "stdout",
          "text": [
            "== Status ==\n",
            "Current time: 2022-10-18 17:31:02 (running for 00:01:07.57)\n",
            "Memory usage on this node: 2.5/12.7 GiB\n",
            "Using AsyncHyperBand: num_stopped=0\n",
            "Bracket: Iter 8.000: None | Iter 4.000: None | Iter 2.000: None | Iter 1.000: None\n",
            "Resources requested: 2.0/2 CPUs, 0/0 GPUs, 0.0/7.41 GiB heap, 0.0/3.7 GiB objects\n",
            "Result logdir: /root/ray_results/train_cifar_2022-10-18_17-29-54\n",
            "Number of trials: 10/10 (9 PENDING, 1 RUNNING)\n",
            "+-------------------------+----------+-----------------+--------------+-------------+---------+---------+---------+\n",
            "| Trial name              | status   | loc             |   batch_size |          lr |   step1 |   step2 |   step3 |\n",
            "|-------------------------+----------+-----------------+--------------+-------------+---------+---------+---------|\n",
            "| train_cifar_7af34_00000 | RUNNING  | 172.28.0.2:9931 |          512 | 0.000177076 |      64 |      64 |       8 |\n",
            "| train_cifar_7af34_00001 | PENDING  |                 |           32 | 0.0120769   |     128 |       4 |       8 |\n",
            "| train_cifar_7af34_00002 | PENDING  |                 |          512 | 0.0173817   |       4 |     256 |     256 |\n",
            "| train_cifar_7af34_00003 | PENDING  |                 |          512 | 0.0218424   |     256 |     128 |      32 |\n",
            "| train_cifar_7af34_00004 | PENDING  |                 |          512 | 0.00940687  |      32 |      32 |      16 |\n",
            "| train_cifar_7af34_00005 | PENDING  |                 |           16 | 0.00258265  |      32 |      16 |      16 |\n",
            "| train_cifar_7af34_00006 | PENDING  |                 |           16 | 0.000182904 |     256 |       4 |      16 |\n",
            "| train_cifar_7af34_00007 | PENDING  |                 |           16 | 0.000428507 |      64 |       8 |       4 |\n",
            "| train_cifar_7af34_00008 | PENDING  |                 |          512 | 0.000294899 |     256 |     256 |       4 |\n",
            "| train_cifar_7af34_00009 | PENDING  |                 |          512 | 0.000134975 |       8 |       4 |      32 |\n",
            "+-------------------------+----------+-----------------+--------------+-------------+---------+---------+---------+\n",
            "\n",
            "\n"
          ]
        },
        {
          "output_type": "stream",
          "name": "stderr",
          "text": [
            "\u001b[2m\u001b[36m(func pid=9931)\u001b[0m \n",
            "\u001b[2m\u001b[36m(func pid=9931)\u001b[0m \r 28%|██▊       | 11/39 [01:01<02:26,  5.23s/it]\u001b[A\n"
          ]
        },
        {
          "output_type": "stream",
          "name": "stdout",
          "text": [
            "== Status ==\n",
            "Current time: 2022-10-18 17:31:07 (running for 00:01:12.58)\n",
            "Memory usage on this node: 2.5/12.7 GiB\n",
            "Using AsyncHyperBand: num_stopped=0\n",
            "Bracket: Iter 8.000: None | Iter 4.000: None | Iter 2.000: None | Iter 1.000: None\n",
            "Resources requested: 2.0/2 CPUs, 0/0 GPUs, 0.0/7.41 GiB heap, 0.0/3.7 GiB objects\n",
            "Result logdir: /root/ray_results/train_cifar_2022-10-18_17-29-54\n",
            "Number of trials: 10/10 (9 PENDING, 1 RUNNING)\n",
            "+-------------------------+----------+-----------------+--------------+-------------+---------+---------+---------+\n",
            "| Trial name              | status   | loc             |   batch_size |          lr |   step1 |   step2 |   step3 |\n",
            "|-------------------------+----------+-----------------+--------------+-------------+---------+---------+---------|\n",
            "| train_cifar_7af34_00000 | RUNNING  | 172.28.0.2:9931 |          512 | 0.000177076 |      64 |      64 |       8 |\n",
            "| train_cifar_7af34_00001 | PENDING  |                 |           32 | 0.0120769   |     128 |       4 |       8 |\n",
            "| train_cifar_7af34_00002 | PENDING  |                 |          512 | 0.0173817   |       4 |     256 |     256 |\n",
            "| train_cifar_7af34_00003 | PENDING  |                 |          512 | 0.0218424   |     256 |     128 |      32 |\n",
            "| train_cifar_7af34_00004 | PENDING  |                 |          512 | 0.00940687  |      32 |      32 |      16 |\n",
            "| train_cifar_7af34_00005 | PENDING  |                 |           16 | 0.00258265  |      32 |      16 |      16 |\n",
            "| train_cifar_7af34_00006 | PENDING  |                 |           16 | 0.000182904 |     256 |       4 |      16 |\n",
            "| train_cifar_7af34_00007 | PENDING  |                 |           16 | 0.000428507 |      64 |       8 |       4 |\n",
            "| train_cifar_7af34_00008 | PENDING  |                 |          512 | 0.000294899 |     256 |     256 |       4 |\n",
            "| train_cifar_7af34_00009 | PENDING  |                 |          512 | 0.000134975 |       8 |       4 |      32 |\n",
            "+-------------------------+----------+-----------------+--------------+-------------+---------+---------+---------+\n",
            "\n",
            "\n"
          ]
        },
        {
          "output_type": "stream",
          "name": "stderr",
          "text": [
            "\u001b[2m\u001b[36m(func pid=9931)\u001b[0m \n",
            "\u001b[2m\u001b[36m(func pid=9931)\u001b[0m \r 31%|███       | 12/39 [01:06<02:21,  5.25s/it]\u001b[A\n"
          ]
        },
        {
          "output_type": "stream",
          "name": "stdout",
          "text": [
            "== Status ==\n",
            "Current time: 2022-10-18 17:31:12 (running for 00:01:17.60)\n",
            "Memory usage on this node: 2.5/12.7 GiB\n",
            "Using AsyncHyperBand: num_stopped=0\n",
            "Bracket: Iter 8.000: None | Iter 4.000: None | Iter 2.000: None | Iter 1.000: None\n",
            "Resources requested: 2.0/2 CPUs, 0/0 GPUs, 0.0/7.41 GiB heap, 0.0/3.7 GiB objects\n",
            "Result logdir: /root/ray_results/train_cifar_2022-10-18_17-29-54\n",
            "Number of trials: 10/10 (9 PENDING, 1 RUNNING)\n",
            "+-------------------------+----------+-----------------+--------------+-------------+---------+---------+---------+\n",
            "| Trial name              | status   | loc             |   batch_size |          lr |   step1 |   step2 |   step3 |\n",
            "|-------------------------+----------+-----------------+--------------+-------------+---------+---------+---------|\n",
            "| train_cifar_7af34_00000 | RUNNING  | 172.28.0.2:9931 |          512 | 0.000177076 |      64 |      64 |       8 |\n",
            "| train_cifar_7af34_00001 | PENDING  |                 |           32 | 0.0120769   |     128 |       4 |       8 |\n",
            "| train_cifar_7af34_00002 | PENDING  |                 |          512 | 0.0173817   |       4 |     256 |     256 |\n",
            "| train_cifar_7af34_00003 | PENDING  |                 |          512 | 0.0218424   |     256 |     128 |      32 |\n",
            "| train_cifar_7af34_00004 | PENDING  |                 |          512 | 0.00940687  |      32 |      32 |      16 |\n",
            "| train_cifar_7af34_00005 | PENDING  |                 |           16 | 0.00258265  |      32 |      16 |      16 |\n",
            "| train_cifar_7af34_00006 | PENDING  |                 |           16 | 0.000182904 |     256 |       4 |      16 |\n",
            "| train_cifar_7af34_00007 | PENDING  |                 |           16 | 0.000428507 |      64 |       8 |       4 |\n",
            "| train_cifar_7af34_00008 | PENDING  |                 |          512 | 0.000294899 |     256 |     256 |       4 |\n",
            "| train_cifar_7af34_00009 | PENDING  |                 |          512 | 0.000134975 |       8 |       4 |      32 |\n",
            "+-------------------------+----------+-----------------+--------------+-------------+---------+---------+---------+\n",
            "\n",
            "\n"
          ]
        },
        {
          "output_type": "stream",
          "name": "stderr",
          "text": [
            "\u001b[2m\u001b[36m(func pid=9931)\u001b[0m \n",
            "\u001b[2m\u001b[36m(func pid=9931)\u001b[0m \r 33%|███▎      | 13/39 [01:11<02:14,  5.18s/it]\u001b[A\n"
          ]
        },
        {
          "output_type": "stream",
          "name": "stdout",
          "text": [
            "== Status ==\n",
            "Current time: 2022-10-18 17:31:17 (running for 00:01:22.60)\n",
            "Memory usage on this node: 2.5/12.7 GiB\n",
            "Using AsyncHyperBand: num_stopped=0\n",
            "Bracket: Iter 8.000: None | Iter 4.000: None | Iter 2.000: None | Iter 1.000: None\n",
            "Resources requested: 2.0/2 CPUs, 0/0 GPUs, 0.0/7.41 GiB heap, 0.0/3.7 GiB objects\n",
            "Result logdir: /root/ray_results/train_cifar_2022-10-18_17-29-54\n",
            "Number of trials: 10/10 (9 PENDING, 1 RUNNING)\n",
            "+-------------------------+----------+-----------------+--------------+-------------+---------+---------+---------+\n",
            "| Trial name              | status   | loc             |   batch_size |          lr |   step1 |   step2 |   step3 |\n",
            "|-------------------------+----------+-----------------+--------------+-------------+---------+---------+---------|\n",
            "| train_cifar_7af34_00000 | RUNNING  | 172.28.0.2:9931 |          512 | 0.000177076 |      64 |      64 |       8 |\n",
            "| train_cifar_7af34_00001 | PENDING  |                 |           32 | 0.0120769   |     128 |       4 |       8 |\n",
            "| train_cifar_7af34_00002 | PENDING  |                 |          512 | 0.0173817   |       4 |     256 |     256 |\n",
            "| train_cifar_7af34_00003 | PENDING  |                 |          512 | 0.0218424   |     256 |     128 |      32 |\n",
            "| train_cifar_7af34_00004 | PENDING  |                 |          512 | 0.00940687  |      32 |      32 |      16 |\n",
            "| train_cifar_7af34_00005 | PENDING  |                 |           16 | 0.00258265  |      32 |      16 |      16 |\n",
            "| train_cifar_7af34_00006 | PENDING  |                 |           16 | 0.000182904 |     256 |       4 |      16 |\n",
            "| train_cifar_7af34_00007 | PENDING  |                 |           16 | 0.000428507 |      64 |       8 |       4 |\n",
            "| train_cifar_7af34_00008 | PENDING  |                 |          512 | 0.000294899 |     256 |     256 |       4 |\n",
            "| train_cifar_7af34_00009 | PENDING  |                 |          512 | 0.000134975 |       8 |       4 |      32 |\n",
            "+-------------------------+----------+-----------------+--------------+-------------+---------+---------+---------+\n",
            "\n",
            "\n"
          ]
        },
        {
          "output_type": "stream",
          "name": "stderr",
          "text": [
            "\u001b[2m\u001b[36m(func pid=9931)\u001b[0m \n",
            "\u001b[2m\u001b[36m(func pid=9931)\u001b[0m \r 36%|███▌      | 14/39 [01:16<02:09,  5.16s/it]\u001b[A\n"
          ]
        },
        {
          "output_type": "stream",
          "name": "stdout",
          "text": [
            "== Status ==\n",
            "Current time: 2022-10-18 17:31:22 (running for 00:01:27.62)\n",
            "Memory usage on this node: 2.5/12.7 GiB\n",
            "Using AsyncHyperBand: num_stopped=0\n",
            "Bracket: Iter 8.000: None | Iter 4.000: None | Iter 2.000: None | Iter 1.000: None\n",
            "Resources requested: 2.0/2 CPUs, 0/0 GPUs, 0.0/7.41 GiB heap, 0.0/3.7 GiB objects\n",
            "Result logdir: /root/ray_results/train_cifar_2022-10-18_17-29-54\n",
            "Number of trials: 10/10 (9 PENDING, 1 RUNNING)\n",
            "+-------------------------+----------+-----------------+--------------+-------------+---------+---------+---------+\n",
            "| Trial name              | status   | loc             |   batch_size |          lr |   step1 |   step2 |   step3 |\n",
            "|-------------------------+----------+-----------------+--------------+-------------+---------+---------+---------|\n",
            "| train_cifar_7af34_00000 | RUNNING  | 172.28.0.2:9931 |          512 | 0.000177076 |      64 |      64 |       8 |\n",
            "| train_cifar_7af34_00001 | PENDING  |                 |           32 | 0.0120769   |     128 |       4 |       8 |\n",
            "| train_cifar_7af34_00002 | PENDING  |                 |          512 | 0.0173817   |       4 |     256 |     256 |\n",
            "| train_cifar_7af34_00003 | PENDING  |                 |          512 | 0.0218424   |     256 |     128 |      32 |\n",
            "| train_cifar_7af34_00004 | PENDING  |                 |          512 | 0.00940687  |      32 |      32 |      16 |\n",
            "| train_cifar_7af34_00005 | PENDING  |                 |           16 | 0.00258265  |      32 |      16 |      16 |\n",
            "| train_cifar_7af34_00006 | PENDING  |                 |           16 | 0.000182904 |     256 |       4 |      16 |\n",
            "| train_cifar_7af34_00007 | PENDING  |                 |           16 | 0.000428507 |      64 |       8 |       4 |\n",
            "| train_cifar_7af34_00008 | PENDING  |                 |          512 | 0.000294899 |     256 |     256 |       4 |\n",
            "| train_cifar_7af34_00009 | PENDING  |                 |          512 | 0.000134975 |       8 |       4 |      32 |\n",
            "+-------------------------+----------+-----------------+--------------+-------------+---------+---------+---------+\n",
            "\n",
            "\n"
          ]
        },
        {
          "output_type": "stream",
          "name": "stderr",
          "text": [
            "\u001b[2m\u001b[36m(func pid=9931)\u001b[0m \n",
            "\u001b[2m\u001b[36m(func pid=9931)\u001b[0m \r 38%|███▊      | 15/39 [01:21<02:03,  5.13s/it]\u001b[A\n"
          ]
        },
        {
          "output_type": "stream",
          "name": "stdout",
          "text": [
            "== Status ==\n",
            "Current time: 2022-10-18 17:31:27 (running for 00:01:32.63)\n",
            "Memory usage on this node: 2.5/12.7 GiB\n",
            "Using AsyncHyperBand: num_stopped=0\n",
            "Bracket: Iter 8.000: None | Iter 4.000: None | Iter 2.000: None | Iter 1.000: None\n",
            "Resources requested: 2.0/2 CPUs, 0/0 GPUs, 0.0/7.41 GiB heap, 0.0/3.7 GiB objects\n",
            "Result logdir: /root/ray_results/train_cifar_2022-10-18_17-29-54\n",
            "Number of trials: 10/10 (9 PENDING, 1 RUNNING)\n",
            "+-------------------------+----------+-----------------+--------------+-------------+---------+---------+---------+\n",
            "| Trial name              | status   | loc             |   batch_size |          lr |   step1 |   step2 |   step3 |\n",
            "|-------------------------+----------+-----------------+--------------+-------------+---------+---------+---------|\n",
            "| train_cifar_7af34_00000 | RUNNING  | 172.28.0.2:9931 |          512 | 0.000177076 |      64 |      64 |       8 |\n",
            "| train_cifar_7af34_00001 | PENDING  |                 |           32 | 0.0120769   |     128 |       4 |       8 |\n",
            "| train_cifar_7af34_00002 | PENDING  |                 |          512 | 0.0173817   |       4 |     256 |     256 |\n",
            "| train_cifar_7af34_00003 | PENDING  |                 |          512 | 0.0218424   |     256 |     128 |      32 |\n",
            "| train_cifar_7af34_00004 | PENDING  |                 |          512 | 0.00940687  |      32 |      32 |      16 |\n",
            "| train_cifar_7af34_00005 | PENDING  |                 |           16 | 0.00258265  |      32 |      16 |      16 |\n",
            "| train_cifar_7af34_00006 | PENDING  |                 |           16 | 0.000182904 |     256 |       4 |      16 |\n",
            "| train_cifar_7af34_00007 | PENDING  |                 |           16 | 0.000428507 |      64 |       8 |       4 |\n",
            "| train_cifar_7af34_00008 | PENDING  |                 |          512 | 0.000294899 |     256 |     256 |       4 |\n",
            "| train_cifar_7af34_00009 | PENDING  |                 |          512 | 0.000134975 |       8 |       4 |      32 |\n",
            "+-------------------------+----------+-----------------+--------------+-------------+---------+---------+---------+\n",
            "\n",
            "\n"
          ]
        },
        {
          "output_type": "stream",
          "name": "stderr",
          "text": [
            "\u001b[2m\u001b[36m(func pid=9931)\u001b[0m \n",
            "\u001b[2m\u001b[36m(func pid=9931)\u001b[0m \r 41%|████      | 16/39 [01:26<01:57,  5.10s/it]\u001b[A\n"
          ]
        },
        {
          "output_type": "stream",
          "name": "stdout",
          "text": [
            "== Status ==\n",
            "Current time: 2022-10-18 17:31:32 (running for 00:01:37.66)\n",
            "Memory usage on this node: 2.5/12.7 GiB\n",
            "Using AsyncHyperBand: num_stopped=0\n",
            "Bracket: Iter 8.000: None | Iter 4.000: None | Iter 2.000: None | Iter 1.000: None\n",
            "Resources requested: 2.0/2 CPUs, 0/0 GPUs, 0.0/7.41 GiB heap, 0.0/3.7 GiB objects\n",
            "Result logdir: /root/ray_results/train_cifar_2022-10-18_17-29-54\n",
            "Number of trials: 10/10 (9 PENDING, 1 RUNNING)\n",
            "+-------------------------+----------+-----------------+--------------+-------------+---------+---------+---------+\n",
            "| Trial name              | status   | loc             |   batch_size |          lr |   step1 |   step2 |   step3 |\n",
            "|-------------------------+----------+-----------------+--------------+-------------+---------+---------+---------|\n",
            "| train_cifar_7af34_00000 | RUNNING  | 172.28.0.2:9931 |          512 | 0.000177076 |      64 |      64 |       8 |\n",
            "| train_cifar_7af34_00001 | PENDING  |                 |           32 | 0.0120769   |     128 |       4 |       8 |\n",
            "| train_cifar_7af34_00002 | PENDING  |                 |          512 | 0.0173817   |       4 |     256 |     256 |\n",
            "| train_cifar_7af34_00003 | PENDING  |                 |          512 | 0.0218424   |     256 |     128 |      32 |\n",
            "| train_cifar_7af34_00004 | PENDING  |                 |          512 | 0.00940687  |      32 |      32 |      16 |\n",
            "| train_cifar_7af34_00005 | PENDING  |                 |           16 | 0.00258265  |      32 |      16 |      16 |\n",
            "| train_cifar_7af34_00006 | PENDING  |                 |           16 | 0.000182904 |     256 |       4 |      16 |\n",
            "| train_cifar_7af34_00007 | PENDING  |                 |           16 | 0.000428507 |      64 |       8 |       4 |\n",
            "| train_cifar_7af34_00008 | PENDING  |                 |          512 | 0.000294899 |     256 |     256 |       4 |\n",
            "| train_cifar_7af34_00009 | PENDING  |                 |          512 | 0.000134975 |       8 |       4 |      32 |\n",
            "+-------------------------+----------+-----------------+--------------+-------------+---------+---------+---------+\n",
            "\n",
            "\n"
          ]
        },
        {
          "output_type": "stream",
          "name": "stderr",
          "text": [
            "\u001b[2m\u001b[36m(func pid=9931)\u001b[0m \n",
            "\u001b[2m\u001b[36m(func pid=9931)\u001b[0m \r 44%|████▎     | 17/39 [01:31<01:51,  5.06s/it]\u001b[A\n"
          ]
        },
        {
          "output_type": "stream",
          "name": "stdout",
          "text": [
            "== Status ==\n",
            "Current time: 2022-10-18 17:31:37 (running for 00:01:42.67)\n",
            "Memory usage on this node: 2.5/12.7 GiB\n",
            "Using AsyncHyperBand: num_stopped=0\n",
            "Bracket: Iter 8.000: None | Iter 4.000: None | Iter 2.000: None | Iter 1.000: None\n",
            "Resources requested: 2.0/2 CPUs, 0/0 GPUs, 0.0/7.41 GiB heap, 0.0/3.7 GiB objects\n",
            "Result logdir: /root/ray_results/train_cifar_2022-10-18_17-29-54\n",
            "Number of trials: 10/10 (9 PENDING, 1 RUNNING)\n",
            "+-------------------------+----------+-----------------+--------------+-------------+---------+---------+---------+\n",
            "| Trial name              | status   | loc             |   batch_size |          lr |   step1 |   step2 |   step3 |\n",
            "|-------------------------+----------+-----------------+--------------+-------------+---------+---------+---------|\n",
            "| train_cifar_7af34_00000 | RUNNING  | 172.28.0.2:9931 |          512 | 0.000177076 |      64 |      64 |       8 |\n",
            "| train_cifar_7af34_00001 | PENDING  |                 |           32 | 0.0120769   |     128 |       4 |       8 |\n",
            "| train_cifar_7af34_00002 | PENDING  |                 |          512 | 0.0173817   |       4 |     256 |     256 |\n",
            "| train_cifar_7af34_00003 | PENDING  |                 |          512 | 0.0218424   |     256 |     128 |      32 |\n",
            "| train_cifar_7af34_00004 | PENDING  |                 |          512 | 0.00940687  |      32 |      32 |      16 |\n",
            "| train_cifar_7af34_00005 | PENDING  |                 |           16 | 0.00258265  |      32 |      16 |      16 |\n",
            "| train_cifar_7af34_00006 | PENDING  |                 |           16 | 0.000182904 |     256 |       4 |      16 |\n",
            "| train_cifar_7af34_00007 | PENDING  |                 |           16 | 0.000428507 |      64 |       8 |       4 |\n",
            "| train_cifar_7af34_00008 | PENDING  |                 |          512 | 0.000294899 |     256 |     256 |       4 |\n",
            "| train_cifar_7af34_00009 | PENDING  |                 |          512 | 0.000134975 |       8 |       4 |      32 |\n",
            "+-------------------------+----------+-----------------+--------------+-------------+---------+---------+---------+\n",
            "\n",
            "\n"
          ]
        },
        {
          "output_type": "stream",
          "name": "stderr",
          "text": [
            "\u001b[2m\u001b[36m(func pid=9931)\u001b[0m \n",
            "\u001b[2m\u001b[36m(func pid=9931)\u001b[0m \r 46%|████▌     | 18/39 [01:36<01:45,  5.04s/it]\u001b[A\n"
          ]
        },
        {
          "output_type": "stream",
          "name": "stdout",
          "text": [
            "== Status ==\n",
            "Current time: 2022-10-18 17:31:42 (running for 00:01:47.69)\n",
            "Memory usage on this node: 2.5/12.7 GiB\n",
            "Using AsyncHyperBand: num_stopped=0\n",
            "Bracket: Iter 8.000: None | Iter 4.000: None | Iter 2.000: None | Iter 1.000: None\n",
            "Resources requested: 2.0/2 CPUs, 0/0 GPUs, 0.0/7.41 GiB heap, 0.0/3.7 GiB objects\n",
            "Result logdir: /root/ray_results/train_cifar_2022-10-18_17-29-54\n",
            "Number of trials: 10/10 (9 PENDING, 1 RUNNING)\n",
            "+-------------------------+----------+-----------------+--------------+-------------+---------+---------+---------+\n",
            "| Trial name              | status   | loc             |   batch_size |          lr |   step1 |   step2 |   step3 |\n",
            "|-------------------------+----------+-----------------+--------------+-------------+---------+---------+---------|\n",
            "| train_cifar_7af34_00000 | RUNNING  | 172.28.0.2:9931 |          512 | 0.000177076 |      64 |      64 |       8 |\n",
            "| train_cifar_7af34_00001 | PENDING  |                 |           32 | 0.0120769   |     128 |       4 |       8 |\n",
            "| train_cifar_7af34_00002 | PENDING  |                 |          512 | 0.0173817   |       4 |     256 |     256 |\n",
            "| train_cifar_7af34_00003 | PENDING  |                 |          512 | 0.0218424   |     256 |     128 |      32 |\n",
            "| train_cifar_7af34_00004 | PENDING  |                 |          512 | 0.00940687  |      32 |      32 |      16 |\n",
            "| train_cifar_7af34_00005 | PENDING  |                 |           16 | 0.00258265  |      32 |      16 |      16 |\n",
            "| train_cifar_7af34_00006 | PENDING  |                 |           16 | 0.000182904 |     256 |       4 |      16 |\n",
            "| train_cifar_7af34_00007 | PENDING  |                 |           16 | 0.000428507 |      64 |       8 |       4 |\n",
            "| train_cifar_7af34_00008 | PENDING  |                 |          512 | 0.000294899 |     256 |     256 |       4 |\n",
            "| train_cifar_7af34_00009 | PENDING  |                 |          512 | 0.000134975 |       8 |       4 |      32 |\n",
            "+-------------------------+----------+-----------------+--------------+-------------+---------+---------+---------+\n",
            "\n",
            "\n"
          ]
        },
        {
          "output_type": "stream",
          "name": "stderr",
          "text": [
            "\u001b[2m\u001b[36m(func pid=9931)\u001b[0m \n",
            "\u001b[2m\u001b[36m(func pid=9931)\u001b[0m \r 49%|████▊     | 19/39 [01:41<01:41,  5.06s/it]\u001b[A\n"
          ]
        },
        {
          "output_type": "stream",
          "name": "stdout",
          "text": [
            "== Status ==\n",
            "Current time: 2022-10-18 17:31:47 (running for 00:01:52.69)\n",
            "Memory usage on this node: 2.5/12.7 GiB\n",
            "Using AsyncHyperBand: num_stopped=0\n",
            "Bracket: Iter 8.000: None | Iter 4.000: None | Iter 2.000: None | Iter 1.000: None\n",
            "Resources requested: 2.0/2 CPUs, 0/0 GPUs, 0.0/7.41 GiB heap, 0.0/3.7 GiB objects\n",
            "Result logdir: /root/ray_results/train_cifar_2022-10-18_17-29-54\n",
            "Number of trials: 10/10 (9 PENDING, 1 RUNNING)\n",
            "+-------------------------+----------+-----------------+--------------+-------------+---------+---------+---------+\n",
            "| Trial name              | status   | loc             |   batch_size |          lr |   step1 |   step2 |   step3 |\n",
            "|-------------------------+----------+-----------------+--------------+-------------+---------+---------+---------|\n",
            "| train_cifar_7af34_00000 | RUNNING  | 172.28.0.2:9931 |          512 | 0.000177076 |      64 |      64 |       8 |\n",
            "| train_cifar_7af34_00001 | PENDING  |                 |           32 | 0.0120769   |     128 |       4 |       8 |\n",
            "| train_cifar_7af34_00002 | PENDING  |                 |          512 | 0.0173817   |       4 |     256 |     256 |\n",
            "| train_cifar_7af34_00003 | PENDING  |                 |          512 | 0.0218424   |     256 |     128 |      32 |\n",
            "| train_cifar_7af34_00004 | PENDING  |                 |          512 | 0.00940687  |      32 |      32 |      16 |\n",
            "| train_cifar_7af34_00005 | PENDING  |                 |           16 | 0.00258265  |      32 |      16 |      16 |\n",
            "| train_cifar_7af34_00006 | PENDING  |                 |           16 | 0.000182904 |     256 |       4 |      16 |\n",
            "| train_cifar_7af34_00007 | PENDING  |                 |           16 | 0.000428507 |      64 |       8 |       4 |\n",
            "| train_cifar_7af34_00008 | PENDING  |                 |          512 | 0.000294899 |     256 |     256 |       4 |\n",
            "| train_cifar_7af34_00009 | PENDING  |                 |          512 | 0.000134975 |       8 |       4 |      32 |\n",
            "+-------------------------+----------+-----------------+--------------+-------------+---------+---------+---------+\n",
            "\n",
            "\n"
          ]
        },
        {
          "output_type": "stream",
          "name": "stderr",
          "text": [
            "\u001b[2m\u001b[36m(func pid=9931)\u001b[0m \n",
            "\u001b[2m\u001b[36m(func pid=9931)\u001b[0m \r 51%|█████▏    | 20/39 [01:46<01:35,  5.04s/it]\u001b[A\n"
          ]
        },
        {
          "output_type": "stream",
          "name": "stdout",
          "text": [
            "== Status ==\n",
            "Current time: 2022-10-18 17:31:52 (running for 00:01:57.71)\n",
            "Memory usage on this node: 2.5/12.7 GiB\n",
            "Using AsyncHyperBand: num_stopped=0\n",
            "Bracket: Iter 8.000: None | Iter 4.000: None | Iter 2.000: None | Iter 1.000: None\n",
            "Resources requested: 2.0/2 CPUs, 0/0 GPUs, 0.0/7.41 GiB heap, 0.0/3.7 GiB objects\n",
            "Result logdir: /root/ray_results/train_cifar_2022-10-18_17-29-54\n",
            "Number of trials: 10/10 (9 PENDING, 1 RUNNING)\n",
            "+-------------------------+----------+-----------------+--------------+-------------+---------+---------+---------+\n",
            "| Trial name              | status   | loc             |   batch_size |          lr |   step1 |   step2 |   step3 |\n",
            "|-------------------------+----------+-----------------+--------------+-------------+---------+---------+---------|\n",
            "| train_cifar_7af34_00000 | RUNNING  | 172.28.0.2:9931 |          512 | 0.000177076 |      64 |      64 |       8 |\n",
            "| train_cifar_7af34_00001 | PENDING  |                 |           32 | 0.0120769   |     128 |       4 |       8 |\n",
            "| train_cifar_7af34_00002 | PENDING  |                 |          512 | 0.0173817   |       4 |     256 |     256 |\n",
            "| train_cifar_7af34_00003 | PENDING  |                 |          512 | 0.0218424   |     256 |     128 |      32 |\n",
            "| train_cifar_7af34_00004 | PENDING  |                 |          512 | 0.00940687  |      32 |      32 |      16 |\n",
            "| train_cifar_7af34_00005 | PENDING  |                 |           16 | 0.00258265  |      32 |      16 |      16 |\n",
            "| train_cifar_7af34_00006 | PENDING  |                 |           16 | 0.000182904 |     256 |       4 |      16 |\n",
            "| train_cifar_7af34_00007 | PENDING  |                 |           16 | 0.000428507 |      64 |       8 |       4 |\n",
            "| train_cifar_7af34_00008 | PENDING  |                 |          512 | 0.000294899 |     256 |     256 |       4 |\n",
            "| train_cifar_7af34_00009 | PENDING  |                 |          512 | 0.000134975 |       8 |       4 |      32 |\n",
            "+-------------------------+----------+-----------------+--------------+-------------+---------+---------+---------+\n",
            "\n",
            "\n"
          ]
        },
        {
          "output_type": "stream",
          "name": "stderr",
          "text": [
            "\u001b[2m\u001b[36m(func pid=9931)\u001b[0m \n",
            "\u001b[2m\u001b[36m(func pid=9931)\u001b[0m \r 54%|█████▍    | 21/39 [01:51<01:30,  5.02s/it]\u001b[A\n"
          ]
        },
        {
          "output_type": "stream",
          "name": "stdout",
          "text": [
            "== Status ==\n",
            "Current time: 2022-10-18 17:31:57 (running for 00:02:02.73)\n",
            "Memory usage on this node: 2.5/12.7 GiB\n",
            "Using AsyncHyperBand: num_stopped=0\n",
            "Bracket: Iter 8.000: None | Iter 4.000: None | Iter 2.000: None | Iter 1.000: None\n",
            "Resources requested: 2.0/2 CPUs, 0/0 GPUs, 0.0/7.41 GiB heap, 0.0/3.7 GiB objects\n",
            "Result logdir: /root/ray_results/train_cifar_2022-10-18_17-29-54\n",
            "Number of trials: 10/10 (9 PENDING, 1 RUNNING)\n",
            "+-------------------------+----------+-----------------+--------------+-------------+---------+---------+---------+\n",
            "| Trial name              | status   | loc             |   batch_size |          lr |   step1 |   step2 |   step3 |\n",
            "|-------------------------+----------+-----------------+--------------+-------------+---------+---------+---------|\n",
            "| train_cifar_7af34_00000 | RUNNING  | 172.28.0.2:9931 |          512 | 0.000177076 |      64 |      64 |       8 |\n",
            "| train_cifar_7af34_00001 | PENDING  |                 |           32 | 0.0120769   |     128 |       4 |       8 |\n",
            "| train_cifar_7af34_00002 | PENDING  |                 |          512 | 0.0173817   |       4 |     256 |     256 |\n",
            "| train_cifar_7af34_00003 | PENDING  |                 |          512 | 0.0218424   |     256 |     128 |      32 |\n",
            "| train_cifar_7af34_00004 | PENDING  |                 |          512 | 0.00940687  |      32 |      32 |      16 |\n",
            "| train_cifar_7af34_00005 | PENDING  |                 |           16 | 0.00258265  |      32 |      16 |      16 |\n",
            "| train_cifar_7af34_00006 | PENDING  |                 |           16 | 0.000182904 |     256 |       4 |      16 |\n",
            "| train_cifar_7af34_00007 | PENDING  |                 |           16 | 0.000428507 |      64 |       8 |       4 |\n",
            "| train_cifar_7af34_00008 | PENDING  |                 |          512 | 0.000294899 |     256 |     256 |       4 |\n",
            "| train_cifar_7af34_00009 | PENDING  |                 |          512 | 0.000134975 |       8 |       4 |      32 |\n",
            "+-------------------------+----------+-----------------+--------------+-------------+---------+---------+---------+\n",
            "\n",
            "\n"
          ]
        },
        {
          "output_type": "stream",
          "name": "stderr",
          "text": [
            "\u001b[2m\u001b[36m(func pid=9931)\u001b[0m \n",
            "\u001b[2m\u001b[36m(func pid=9931)\u001b[0m \r 56%|█████▋    | 22/39 [01:56<01:25,  5.03s/it]\u001b[A\n"
          ]
        },
        {
          "output_type": "stream",
          "name": "stdout",
          "text": [
            "== Status ==\n",
            "Current time: 2022-10-18 17:32:02 (running for 00:02:07.75)\n",
            "Memory usage on this node: 2.5/12.7 GiB\n",
            "Using AsyncHyperBand: num_stopped=0\n",
            "Bracket: Iter 8.000: None | Iter 4.000: None | Iter 2.000: None | Iter 1.000: None\n",
            "Resources requested: 2.0/2 CPUs, 0/0 GPUs, 0.0/7.41 GiB heap, 0.0/3.7 GiB objects\n",
            "Result logdir: /root/ray_results/train_cifar_2022-10-18_17-29-54\n",
            "Number of trials: 10/10 (9 PENDING, 1 RUNNING)\n",
            "+-------------------------+----------+-----------------+--------------+-------------+---------+---------+---------+\n",
            "| Trial name              | status   | loc             |   batch_size |          lr |   step1 |   step2 |   step3 |\n",
            "|-------------------------+----------+-----------------+--------------+-------------+---------+---------+---------|\n",
            "| train_cifar_7af34_00000 | RUNNING  | 172.28.0.2:9931 |          512 | 0.000177076 |      64 |      64 |       8 |\n",
            "| train_cifar_7af34_00001 | PENDING  |                 |           32 | 0.0120769   |     128 |       4 |       8 |\n",
            "| train_cifar_7af34_00002 | PENDING  |                 |          512 | 0.0173817   |       4 |     256 |     256 |\n",
            "| train_cifar_7af34_00003 | PENDING  |                 |          512 | 0.0218424   |     256 |     128 |      32 |\n",
            "| train_cifar_7af34_00004 | PENDING  |                 |          512 | 0.00940687  |      32 |      32 |      16 |\n",
            "| train_cifar_7af34_00005 | PENDING  |                 |           16 | 0.00258265  |      32 |      16 |      16 |\n",
            "| train_cifar_7af34_00006 | PENDING  |                 |           16 | 0.000182904 |     256 |       4 |      16 |\n",
            "| train_cifar_7af34_00007 | PENDING  |                 |           16 | 0.000428507 |      64 |       8 |       4 |\n",
            "| train_cifar_7af34_00008 | PENDING  |                 |          512 | 0.000294899 |     256 |     256 |       4 |\n",
            "| train_cifar_7af34_00009 | PENDING  |                 |          512 | 0.000134975 |       8 |       4 |      32 |\n",
            "+-------------------------+----------+-----------------+--------------+-------------+---------+---------+---------+\n",
            "\n",
            "\n"
          ]
        },
        {
          "output_type": "stream",
          "name": "stderr",
          "text": [
            "\u001b[2m\u001b[36m(func pid=9931)\u001b[0m \n",
            "\u001b[2m\u001b[36m(func pid=9931)\u001b[0m \r 59%|█████▉    | 23/39 [02:02<01:23,  5.24s/it]\u001b[A\n"
          ]
        },
        {
          "output_type": "stream",
          "name": "stdout",
          "text": [
            "== Status ==\n",
            "Current time: 2022-10-18 17:32:07 (running for 00:02:12.78)\n",
            "Memory usage on this node: 2.6/12.7 GiB\n",
            "Using AsyncHyperBand: num_stopped=0\n",
            "Bracket: Iter 8.000: None | Iter 4.000: None | Iter 2.000: None | Iter 1.000: None\n",
            "Resources requested: 2.0/2 CPUs, 0/0 GPUs, 0.0/7.41 GiB heap, 0.0/3.7 GiB objects\n",
            "Result logdir: /root/ray_results/train_cifar_2022-10-18_17-29-54\n",
            "Number of trials: 10/10 (9 PENDING, 1 RUNNING)\n",
            "+-------------------------+----------+-----------------+--------------+-------------+---------+---------+---------+\n",
            "| Trial name              | status   | loc             |   batch_size |          lr |   step1 |   step2 |   step3 |\n",
            "|-------------------------+----------+-----------------+--------------+-------------+---------+---------+---------|\n",
            "| train_cifar_7af34_00000 | RUNNING  | 172.28.0.2:9931 |          512 | 0.000177076 |      64 |      64 |       8 |\n",
            "| train_cifar_7af34_00001 | PENDING  |                 |           32 | 0.0120769   |     128 |       4 |       8 |\n",
            "| train_cifar_7af34_00002 | PENDING  |                 |          512 | 0.0173817   |       4 |     256 |     256 |\n",
            "| train_cifar_7af34_00003 | PENDING  |                 |          512 | 0.0218424   |     256 |     128 |      32 |\n",
            "| train_cifar_7af34_00004 | PENDING  |                 |          512 | 0.00940687  |      32 |      32 |      16 |\n",
            "| train_cifar_7af34_00005 | PENDING  |                 |           16 | 0.00258265  |      32 |      16 |      16 |\n",
            "| train_cifar_7af34_00006 | PENDING  |                 |           16 | 0.000182904 |     256 |       4 |      16 |\n",
            "| train_cifar_7af34_00007 | PENDING  |                 |           16 | 0.000428507 |      64 |       8 |       4 |\n",
            "| train_cifar_7af34_00008 | PENDING  |                 |          512 | 0.000294899 |     256 |     256 |       4 |\n",
            "| train_cifar_7af34_00009 | PENDING  |                 |          512 | 0.000134975 |       8 |       4 |      32 |\n",
            "+-------------------------+----------+-----------------+--------------+-------------+---------+---------+---------+\n",
            "\n",
            "\n"
          ]
        },
        {
          "output_type": "stream",
          "name": "stderr",
          "text": [
            "\u001b[2m\u001b[36m(func pid=9931)\u001b[0m \n",
            "\u001b[2m\u001b[36m(func pid=9931)\u001b[0m \r 62%|██████▏   | 24/39 [02:09<01:25,  5.71s/it]\u001b[A\n"
          ]
        },
        {
          "output_type": "stream",
          "name": "stdout",
          "text": [
            "== Status ==\n",
            "Current time: 2022-10-18 17:32:12 (running for 00:02:17.80)\n",
            "Memory usage on this node: 2.5/12.7 GiB\n",
            "Using AsyncHyperBand: num_stopped=0\n",
            "Bracket: Iter 8.000: None | Iter 4.000: None | Iter 2.000: None | Iter 1.000: None\n",
            "Resources requested: 2.0/2 CPUs, 0/0 GPUs, 0.0/7.41 GiB heap, 0.0/3.7 GiB objects\n",
            "Result logdir: /root/ray_results/train_cifar_2022-10-18_17-29-54\n",
            "Number of trials: 10/10 (9 PENDING, 1 RUNNING)\n",
            "+-------------------------+----------+-----------------+--------------+-------------+---------+---------+---------+\n",
            "| Trial name              | status   | loc             |   batch_size |          lr |   step1 |   step2 |   step3 |\n",
            "|-------------------------+----------+-----------------+--------------+-------------+---------+---------+---------|\n",
            "| train_cifar_7af34_00000 | RUNNING  | 172.28.0.2:9931 |          512 | 0.000177076 |      64 |      64 |       8 |\n",
            "| train_cifar_7af34_00001 | PENDING  |                 |           32 | 0.0120769   |     128 |       4 |       8 |\n",
            "| train_cifar_7af34_00002 | PENDING  |                 |          512 | 0.0173817   |       4 |     256 |     256 |\n",
            "| train_cifar_7af34_00003 | PENDING  |                 |          512 | 0.0218424   |     256 |     128 |      32 |\n",
            "| train_cifar_7af34_00004 | PENDING  |                 |          512 | 0.00940687  |      32 |      32 |      16 |\n",
            "| train_cifar_7af34_00005 | PENDING  |                 |           16 | 0.00258265  |      32 |      16 |      16 |\n",
            "| train_cifar_7af34_00006 | PENDING  |                 |           16 | 0.000182904 |     256 |       4 |      16 |\n",
            "| train_cifar_7af34_00007 | PENDING  |                 |           16 | 0.000428507 |      64 |       8 |       4 |\n",
            "| train_cifar_7af34_00008 | PENDING  |                 |          512 | 0.000294899 |     256 |     256 |       4 |\n",
            "| train_cifar_7af34_00009 | PENDING  |                 |          512 | 0.000134975 |       8 |       4 |      32 |\n",
            "+-------------------------+----------+-----------------+--------------+-------------+---------+---------+---------+\n",
            "\n",
            "\n"
          ]
        },
        {
          "output_type": "stream",
          "name": "stderr",
          "text": [
            "\u001b[2m\u001b[36m(func pid=9931)\u001b[0m \n",
            "\u001b[2m\u001b[36m(func pid=9931)\u001b[0m \r 64%|██████▍   | 25/39 [02:14<01:17,  5.50s/it]\u001b[A\n"
          ]
        },
        {
          "output_type": "stream",
          "name": "stdout",
          "text": [
            "== Status ==\n",
            "Current time: 2022-10-18 17:32:17 (running for 00:02:22.81)\n",
            "Memory usage on this node: 2.5/12.7 GiB\n",
            "Using AsyncHyperBand: num_stopped=0\n",
            "Bracket: Iter 8.000: None | Iter 4.000: None | Iter 2.000: None | Iter 1.000: None\n",
            "Resources requested: 2.0/2 CPUs, 0/0 GPUs, 0.0/7.41 GiB heap, 0.0/3.7 GiB objects\n",
            "Result logdir: /root/ray_results/train_cifar_2022-10-18_17-29-54\n",
            "Number of trials: 10/10 (9 PENDING, 1 RUNNING)\n",
            "+-------------------------+----------+-----------------+--------------+-------------+---------+---------+---------+\n",
            "| Trial name              | status   | loc             |   batch_size |          lr |   step1 |   step2 |   step3 |\n",
            "|-------------------------+----------+-----------------+--------------+-------------+---------+---------+---------|\n",
            "| train_cifar_7af34_00000 | RUNNING  | 172.28.0.2:9931 |          512 | 0.000177076 |      64 |      64 |       8 |\n",
            "| train_cifar_7af34_00001 | PENDING  |                 |           32 | 0.0120769   |     128 |       4 |       8 |\n",
            "| train_cifar_7af34_00002 | PENDING  |                 |          512 | 0.0173817   |       4 |     256 |     256 |\n",
            "| train_cifar_7af34_00003 | PENDING  |                 |          512 | 0.0218424   |     256 |     128 |      32 |\n",
            "| train_cifar_7af34_00004 | PENDING  |                 |          512 | 0.00940687  |      32 |      32 |      16 |\n",
            "| train_cifar_7af34_00005 | PENDING  |                 |           16 | 0.00258265  |      32 |      16 |      16 |\n",
            "| train_cifar_7af34_00006 | PENDING  |                 |           16 | 0.000182904 |     256 |       4 |      16 |\n",
            "| train_cifar_7af34_00007 | PENDING  |                 |           16 | 0.000428507 |      64 |       8 |       4 |\n",
            "| train_cifar_7af34_00008 | PENDING  |                 |          512 | 0.000294899 |     256 |     256 |       4 |\n",
            "| train_cifar_7af34_00009 | PENDING  |                 |          512 | 0.000134975 |       8 |       4 |      32 |\n",
            "+-------------------------+----------+-----------------+--------------+-------------+---------+---------+---------+\n",
            "\n",
            "\n"
          ]
        },
        {
          "output_type": "stream",
          "name": "stderr",
          "text": [
            "\u001b[2m\u001b[36m(func pid=9931)\u001b[0m \n",
            "\u001b[2m\u001b[36m(func pid=9931)\u001b[0m \r 67%|██████▋   | 26/39 [02:19<01:09,  5.37s/it]\u001b[A\n"
          ]
        },
        {
          "output_type": "stream",
          "name": "stdout",
          "text": [
            "== Status ==\n",
            "Current time: 2022-10-18 17:32:22 (running for 00:02:27.83)\n",
            "Memory usage on this node: 2.5/12.7 GiB\n",
            "Using AsyncHyperBand: num_stopped=0\n",
            "Bracket: Iter 8.000: None | Iter 4.000: None | Iter 2.000: None | Iter 1.000: None\n",
            "Resources requested: 2.0/2 CPUs, 0/0 GPUs, 0.0/7.41 GiB heap, 0.0/3.7 GiB objects\n",
            "Result logdir: /root/ray_results/train_cifar_2022-10-18_17-29-54\n",
            "Number of trials: 10/10 (9 PENDING, 1 RUNNING)\n",
            "+-------------------------+----------+-----------------+--------------+-------------+---------+---------+---------+\n",
            "| Trial name              | status   | loc             |   batch_size |          lr |   step1 |   step2 |   step3 |\n",
            "|-------------------------+----------+-----------------+--------------+-------------+---------+---------+---------|\n",
            "| train_cifar_7af34_00000 | RUNNING  | 172.28.0.2:9931 |          512 | 0.000177076 |      64 |      64 |       8 |\n",
            "| train_cifar_7af34_00001 | PENDING  |                 |           32 | 0.0120769   |     128 |       4 |       8 |\n",
            "| train_cifar_7af34_00002 | PENDING  |                 |          512 | 0.0173817   |       4 |     256 |     256 |\n",
            "| train_cifar_7af34_00003 | PENDING  |                 |          512 | 0.0218424   |     256 |     128 |      32 |\n",
            "| train_cifar_7af34_00004 | PENDING  |                 |          512 | 0.00940687  |      32 |      32 |      16 |\n",
            "| train_cifar_7af34_00005 | PENDING  |                 |           16 | 0.00258265  |      32 |      16 |      16 |\n",
            "| train_cifar_7af34_00006 | PENDING  |                 |           16 | 0.000182904 |     256 |       4 |      16 |\n",
            "| train_cifar_7af34_00007 | PENDING  |                 |           16 | 0.000428507 |      64 |       8 |       4 |\n",
            "| train_cifar_7af34_00008 | PENDING  |                 |          512 | 0.000294899 |     256 |     256 |       4 |\n",
            "| train_cifar_7af34_00009 | PENDING  |                 |          512 | 0.000134975 |       8 |       4 |      32 |\n",
            "+-------------------------+----------+-----------------+--------------+-------------+---------+---------+---------+\n",
            "\n",
            "\n"
          ]
        },
        {
          "output_type": "stream",
          "name": "stderr",
          "text": [
            "\u001b[2m\u001b[36m(func pid=9931)\u001b[0m \n",
            "\u001b[2m\u001b[36m(func pid=9931)\u001b[0m \r 69%|██████▉   | 27/39 [02:24<01:02,  5.23s/it]\u001b[A\n"
          ]
        },
        {
          "output_type": "stream",
          "name": "stdout",
          "text": [
            "== Status ==\n",
            "Current time: 2022-10-18 17:32:27 (running for 00:02:32.84)\n",
            "Memory usage on this node: 2.5/12.7 GiB\n",
            "Using AsyncHyperBand: num_stopped=0\n",
            "Bracket: Iter 8.000: None | Iter 4.000: None | Iter 2.000: None | Iter 1.000: None\n",
            "Resources requested: 2.0/2 CPUs, 0/0 GPUs, 0.0/7.41 GiB heap, 0.0/3.7 GiB objects\n",
            "Result logdir: /root/ray_results/train_cifar_2022-10-18_17-29-54\n",
            "Number of trials: 10/10 (9 PENDING, 1 RUNNING)\n",
            "+-------------------------+----------+-----------------+--------------+-------------+---------+---------+---------+\n",
            "| Trial name              | status   | loc             |   batch_size |          lr |   step1 |   step2 |   step3 |\n",
            "|-------------------------+----------+-----------------+--------------+-------------+---------+---------+---------|\n",
            "| train_cifar_7af34_00000 | RUNNING  | 172.28.0.2:9931 |          512 | 0.000177076 |      64 |      64 |       8 |\n",
            "| train_cifar_7af34_00001 | PENDING  |                 |           32 | 0.0120769   |     128 |       4 |       8 |\n",
            "| train_cifar_7af34_00002 | PENDING  |                 |          512 | 0.0173817   |       4 |     256 |     256 |\n",
            "| train_cifar_7af34_00003 | PENDING  |                 |          512 | 0.0218424   |     256 |     128 |      32 |\n",
            "| train_cifar_7af34_00004 | PENDING  |                 |          512 | 0.00940687  |      32 |      32 |      16 |\n",
            "| train_cifar_7af34_00005 | PENDING  |                 |           16 | 0.00258265  |      32 |      16 |      16 |\n",
            "| train_cifar_7af34_00006 | PENDING  |                 |           16 | 0.000182904 |     256 |       4 |      16 |\n",
            "| train_cifar_7af34_00007 | PENDING  |                 |           16 | 0.000428507 |      64 |       8 |       4 |\n",
            "| train_cifar_7af34_00008 | PENDING  |                 |          512 | 0.000294899 |     256 |     256 |       4 |\n",
            "| train_cifar_7af34_00009 | PENDING  |                 |          512 | 0.000134975 |       8 |       4 |      32 |\n",
            "+-------------------------+----------+-----------------+--------------+-------------+---------+---------+---------+\n",
            "\n",
            "\n"
          ]
        },
        {
          "output_type": "stream",
          "name": "stderr",
          "text": [
            "\u001b[2m\u001b[36m(func pid=9931)\u001b[0m \n",
            "\u001b[2m\u001b[36m(func pid=9931)\u001b[0m \r 72%|███████▏  | 28/39 [02:29<00:56,  5.15s/it]\u001b[A\n"
          ]
        },
        {
          "output_type": "stream",
          "name": "stdout",
          "text": [
            "== Status ==\n",
            "Current time: 2022-10-18 17:32:32 (running for 00:02:37.86)\n",
            "Memory usage on this node: 2.5/12.7 GiB\n",
            "Using AsyncHyperBand: num_stopped=0\n",
            "Bracket: Iter 8.000: None | Iter 4.000: None | Iter 2.000: None | Iter 1.000: None\n",
            "Resources requested: 2.0/2 CPUs, 0/0 GPUs, 0.0/7.41 GiB heap, 0.0/3.7 GiB objects\n",
            "Result logdir: /root/ray_results/train_cifar_2022-10-18_17-29-54\n",
            "Number of trials: 10/10 (9 PENDING, 1 RUNNING)\n",
            "+-------------------------+----------+-----------------+--------------+-------------+---------+---------+---------+\n",
            "| Trial name              | status   | loc             |   batch_size |          lr |   step1 |   step2 |   step3 |\n",
            "|-------------------------+----------+-----------------+--------------+-------------+---------+---------+---------|\n",
            "| train_cifar_7af34_00000 | RUNNING  | 172.28.0.2:9931 |          512 | 0.000177076 |      64 |      64 |       8 |\n",
            "| train_cifar_7af34_00001 | PENDING  |                 |           32 | 0.0120769   |     128 |       4 |       8 |\n",
            "| train_cifar_7af34_00002 | PENDING  |                 |          512 | 0.0173817   |       4 |     256 |     256 |\n",
            "| train_cifar_7af34_00003 | PENDING  |                 |          512 | 0.0218424   |     256 |     128 |      32 |\n",
            "| train_cifar_7af34_00004 | PENDING  |                 |          512 | 0.00940687  |      32 |      32 |      16 |\n",
            "| train_cifar_7af34_00005 | PENDING  |                 |           16 | 0.00258265  |      32 |      16 |      16 |\n",
            "| train_cifar_7af34_00006 | PENDING  |                 |           16 | 0.000182904 |     256 |       4 |      16 |\n",
            "| train_cifar_7af34_00007 | PENDING  |                 |           16 | 0.000428507 |      64 |       8 |       4 |\n",
            "| train_cifar_7af34_00008 | PENDING  |                 |          512 | 0.000294899 |     256 |     256 |       4 |\n",
            "| train_cifar_7af34_00009 | PENDING  |                 |          512 | 0.000134975 |       8 |       4 |      32 |\n",
            "+-------------------------+----------+-----------------+--------------+-------------+---------+---------+---------+\n",
            "\n",
            "\n"
          ]
        },
        {
          "output_type": "stream",
          "name": "stderr",
          "text": [
            "\u001b[2m\u001b[36m(func pid=9931)\u001b[0m \n",
            "\u001b[2m\u001b[36m(func pid=9931)\u001b[0m \r 74%|███████▍  | 29/39 [02:34<00:50,  5.06s/it]\u001b[A\n"
          ]
        },
        {
          "output_type": "stream",
          "name": "stdout",
          "text": [
            "== Status ==\n",
            "Current time: 2022-10-18 17:32:37 (running for 00:02:42.87)\n",
            "Memory usage on this node: 2.5/12.7 GiB\n",
            "Using AsyncHyperBand: num_stopped=0\n",
            "Bracket: Iter 8.000: None | Iter 4.000: None | Iter 2.000: None | Iter 1.000: None\n",
            "Resources requested: 2.0/2 CPUs, 0/0 GPUs, 0.0/7.41 GiB heap, 0.0/3.7 GiB objects\n",
            "Result logdir: /root/ray_results/train_cifar_2022-10-18_17-29-54\n",
            "Number of trials: 10/10 (9 PENDING, 1 RUNNING)\n",
            "+-------------------------+----------+-----------------+--------------+-------------+---------+---------+---------+\n",
            "| Trial name              | status   | loc             |   batch_size |          lr |   step1 |   step2 |   step3 |\n",
            "|-------------------------+----------+-----------------+--------------+-------------+---------+---------+---------|\n",
            "| train_cifar_7af34_00000 | RUNNING  | 172.28.0.2:9931 |          512 | 0.000177076 |      64 |      64 |       8 |\n",
            "| train_cifar_7af34_00001 | PENDING  |                 |           32 | 0.0120769   |     128 |       4 |       8 |\n",
            "| train_cifar_7af34_00002 | PENDING  |                 |          512 | 0.0173817   |       4 |     256 |     256 |\n",
            "| train_cifar_7af34_00003 | PENDING  |                 |          512 | 0.0218424   |     256 |     128 |      32 |\n",
            "| train_cifar_7af34_00004 | PENDING  |                 |          512 | 0.00940687  |      32 |      32 |      16 |\n",
            "| train_cifar_7af34_00005 | PENDING  |                 |           16 | 0.00258265  |      32 |      16 |      16 |\n",
            "| train_cifar_7af34_00006 | PENDING  |                 |           16 | 0.000182904 |     256 |       4 |      16 |\n",
            "| train_cifar_7af34_00007 | PENDING  |                 |           16 | 0.000428507 |      64 |       8 |       4 |\n",
            "| train_cifar_7af34_00008 | PENDING  |                 |          512 | 0.000294899 |     256 |     256 |       4 |\n",
            "| train_cifar_7af34_00009 | PENDING  |                 |          512 | 0.000134975 |       8 |       4 |      32 |\n",
            "+-------------------------+----------+-----------------+--------------+-------------+---------+---------+---------+\n",
            "\n",
            "\n"
          ]
        },
        {
          "output_type": "stream",
          "name": "stderr",
          "text": [
            "\u001b[2m\u001b[36m(func pid=9931)\u001b[0m \n",
            "\u001b[2m\u001b[36m(func pid=9931)\u001b[0m \r 77%|███████▋  | 30/39 [02:39<00:45,  5.03s/it]\u001b[A\n"
          ]
        },
        {
          "output_type": "stream",
          "name": "stdout",
          "text": [
            "== Status ==\n",
            "Current time: 2022-10-18 17:32:42 (running for 00:02:47.89)\n",
            "Memory usage on this node: 2.5/12.7 GiB\n",
            "Using AsyncHyperBand: num_stopped=0\n",
            "Bracket: Iter 8.000: None | Iter 4.000: None | Iter 2.000: None | Iter 1.000: None\n",
            "Resources requested: 2.0/2 CPUs, 0/0 GPUs, 0.0/7.41 GiB heap, 0.0/3.7 GiB objects\n",
            "Result logdir: /root/ray_results/train_cifar_2022-10-18_17-29-54\n",
            "Number of trials: 10/10 (9 PENDING, 1 RUNNING)\n",
            "+-------------------------+----------+-----------------+--------------+-------------+---------+---------+---------+\n",
            "| Trial name              | status   | loc             |   batch_size |          lr |   step1 |   step2 |   step3 |\n",
            "|-------------------------+----------+-----------------+--------------+-------------+---------+---------+---------|\n",
            "| train_cifar_7af34_00000 | RUNNING  | 172.28.0.2:9931 |          512 | 0.000177076 |      64 |      64 |       8 |\n",
            "| train_cifar_7af34_00001 | PENDING  |                 |           32 | 0.0120769   |     128 |       4 |       8 |\n",
            "| train_cifar_7af34_00002 | PENDING  |                 |          512 | 0.0173817   |       4 |     256 |     256 |\n",
            "| train_cifar_7af34_00003 | PENDING  |                 |          512 | 0.0218424   |     256 |     128 |      32 |\n",
            "| train_cifar_7af34_00004 | PENDING  |                 |          512 | 0.00940687  |      32 |      32 |      16 |\n",
            "| train_cifar_7af34_00005 | PENDING  |                 |           16 | 0.00258265  |      32 |      16 |      16 |\n",
            "| train_cifar_7af34_00006 | PENDING  |                 |           16 | 0.000182904 |     256 |       4 |      16 |\n",
            "| train_cifar_7af34_00007 | PENDING  |                 |           16 | 0.000428507 |      64 |       8 |       4 |\n",
            "| train_cifar_7af34_00008 | PENDING  |                 |          512 | 0.000294899 |     256 |     256 |       4 |\n",
            "| train_cifar_7af34_00009 | PENDING  |                 |          512 | 0.000134975 |       8 |       4 |      32 |\n",
            "+-------------------------+----------+-----------------+--------------+-------------+---------+---------+---------+\n",
            "\n",
            "\n"
          ]
        },
        {
          "output_type": "stream",
          "name": "stderr",
          "text": [
            "\u001b[2m\u001b[36m(func pid=9931)\u001b[0m \n",
            "\u001b[2m\u001b[36m(func pid=9931)\u001b[0m \r 79%|███████▉  | 31/39 [02:43<00:39,  5.00s/it]\u001b[A\n"
          ]
        },
        {
          "output_type": "stream",
          "name": "stdout",
          "text": [
            "== Status ==\n",
            "Current time: 2022-10-18 17:32:47 (running for 00:02:52.90)\n",
            "Memory usage on this node: 2.5/12.7 GiB\n",
            "Using AsyncHyperBand: num_stopped=0\n",
            "Bracket: Iter 8.000: None | Iter 4.000: None | Iter 2.000: None | Iter 1.000: None\n",
            "Resources requested: 2.0/2 CPUs, 0/0 GPUs, 0.0/7.41 GiB heap, 0.0/3.7 GiB objects\n",
            "Result logdir: /root/ray_results/train_cifar_2022-10-18_17-29-54\n",
            "Number of trials: 10/10 (9 PENDING, 1 RUNNING)\n",
            "+-------------------------+----------+-----------------+--------------+-------------+---------+---------+---------+\n",
            "| Trial name              | status   | loc             |   batch_size |          lr |   step1 |   step2 |   step3 |\n",
            "|-------------------------+----------+-----------------+--------------+-------------+---------+---------+---------|\n",
            "| train_cifar_7af34_00000 | RUNNING  | 172.28.0.2:9931 |          512 | 0.000177076 |      64 |      64 |       8 |\n",
            "| train_cifar_7af34_00001 | PENDING  |                 |           32 | 0.0120769   |     128 |       4 |       8 |\n",
            "| train_cifar_7af34_00002 | PENDING  |                 |          512 | 0.0173817   |       4 |     256 |     256 |\n",
            "| train_cifar_7af34_00003 | PENDING  |                 |          512 | 0.0218424   |     256 |     128 |      32 |\n",
            "| train_cifar_7af34_00004 | PENDING  |                 |          512 | 0.00940687  |      32 |      32 |      16 |\n",
            "| train_cifar_7af34_00005 | PENDING  |                 |           16 | 0.00258265  |      32 |      16 |      16 |\n",
            "| train_cifar_7af34_00006 | PENDING  |                 |           16 | 0.000182904 |     256 |       4 |      16 |\n",
            "| train_cifar_7af34_00007 | PENDING  |                 |           16 | 0.000428507 |      64 |       8 |       4 |\n",
            "| train_cifar_7af34_00008 | PENDING  |                 |          512 | 0.000294899 |     256 |     256 |       4 |\n",
            "| train_cifar_7af34_00009 | PENDING  |                 |          512 | 0.000134975 |       8 |       4 |      32 |\n",
            "+-------------------------+----------+-----------------+--------------+-------------+---------+---------+---------+\n",
            "\n",
            "\n"
          ]
        },
        {
          "output_type": "stream",
          "name": "stderr",
          "text": [
            "\u001b[2m\u001b[36m(func pid=9931)\u001b[0m \n",
            "\u001b[2m\u001b[36m(func pid=9931)\u001b[0m \r 82%|████████▏ | 32/39 [02:48<00:34,  4.95s/it]\u001b[A\n"
          ]
        },
        {
          "output_type": "stream",
          "name": "stdout",
          "text": [
            "== Status ==\n",
            "Current time: 2022-10-18 17:32:52 (running for 00:02:57.92)\n",
            "Memory usage on this node: 2.5/12.7 GiB\n",
            "Using AsyncHyperBand: num_stopped=0\n",
            "Bracket: Iter 8.000: None | Iter 4.000: None | Iter 2.000: None | Iter 1.000: None\n",
            "Resources requested: 2.0/2 CPUs, 0/0 GPUs, 0.0/7.41 GiB heap, 0.0/3.7 GiB objects\n",
            "Result logdir: /root/ray_results/train_cifar_2022-10-18_17-29-54\n",
            "Number of trials: 10/10 (9 PENDING, 1 RUNNING)\n",
            "+-------------------------+----------+-----------------+--------------+-------------+---------+---------+---------+\n",
            "| Trial name              | status   | loc             |   batch_size |          lr |   step1 |   step2 |   step3 |\n",
            "|-------------------------+----------+-----------------+--------------+-------------+---------+---------+---------|\n",
            "| train_cifar_7af34_00000 | RUNNING  | 172.28.0.2:9931 |          512 | 0.000177076 |      64 |      64 |       8 |\n",
            "| train_cifar_7af34_00001 | PENDING  |                 |           32 | 0.0120769   |     128 |       4 |       8 |\n",
            "| train_cifar_7af34_00002 | PENDING  |                 |          512 | 0.0173817   |       4 |     256 |     256 |\n",
            "| train_cifar_7af34_00003 | PENDING  |                 |          512 | 0.0218424   |     256 |     128 |      32 |\n",
            "| train_cifar_7af34_00004 | PENDING  |                 |          512 | 0.00940687  |      32 |      32 |      16 |\n",
            "| train_cifar_7af34_00005 | PENDING  |                 |           16 | 0.00258265  |      32 |      16 |      16 |\n",
            "| train_cifar_7af34_00006 | PENDING  |                 |           16 | 0.000182904 |     256 |       4 |      16 |\n",
            "| train_cifar_7af34_00007 | PENDING  |                 |           16 | 0.000428507 |      64 |       8 |       4 |\n",
            "| train_cifar_7af34_00008 | PENDING  |                 |          512 | 0.000294899 |     256 |     256 |       4 |\n",
            "| train_cifar_7af34_00009 | PENDING  |                 |          512 | 0.000134975 |       8 |       4 |      32 |\n",
            "+-------------------------+----------+-----------------+--------------+-------------+---------+---------+---------+\n",
            "\n",
            "\n"
          ]
        },
        {
          "output_type": "stream",
          "name": "stderr",
          "text": [
            "\u001b[2m\u001b[36m(func pid=9931)\u001b[0m \n",
            "\u001b[2m\u001b[36m(func pid=9931)\u001b[0m \r 85%|████████▍ | 33/39 [02:53<00:29,  4.93s/it]\u001b[A\n"
          ]
        },
        {
          "output_type": "stream",
          "name": "stdout",
          "text": [
            "== Status ==\n",
            "Current time: 2022-10-18 17:32:57 (running for 00:03:02.93)\n",
            "Memory usage on this node: 2.5/12.7 GiB\n",
            "Using AsyncHyperBand: num_stopped=0\n",
            "Bracket: Iter 8.000: None | Iter 4.000: None | Iter 2.000: None | Iter 1.000: None\n",
            "Resources requested: 2.0/2 CPUs, 0/0 GPUs, 0.0/7.41 GiB heap, 0.0/3.7 GiB objects\n",
            "Result logdir: /root/ray_results/train_cifar_2022-10-18_17-29-54\n",
            "Number of trials: 10/10 (9 PENDING, 1 RUNNING)\n",
            "+-------------------------+----------+-----------------+--------------+-------------+---------+---------+---------+\n",
            "| Trial name              | status   | loc             |   batch_size |          lr |   step1 |   step2 |   step3 |\n",
            "|-------------------------+----------+-----------------+--------------+-------------+---------+---------+---------|\n",
            "| train_cifar_7af34_00000 | RUNNING  | 172.28.0.2:9931 |          512 | 0.000177076 |      64 |      64 |       8 |\n",
            "| train_cifar_7af34_00001 | PENDING  |                 |           32 | 0.0120769   |     128 |       4 |       8 |\n",
            "| train_cifar_7af34_00002 | PENDING  |                 |          512 | 0.0173817   |       4 |     256 |     256 |\n",
            "| train_cifar_7af34_00003 | PENDING  |                 |          512 | 0.0218424   |     256 |     128 |      32 |\n",
            "| train_cifar_7af34_00004 | PENDING  |                 |          512 | 0.00940687  |      32 |      32 |      16 |\n",
            "| train_cifar_7af34_00005 | PENDING  |                 |           16 | 0.00258265  |      32 |      16 |      16 |\n",
            "| train_cifar_7af34_00006 | PENDING  |                 |           16 | 0.000182904 |     256 |       4 |      16 |\n",
            "| train_cifar_7af34_00007 | PENDING  |                 |           16 | 0.000428507 |      64 |       8 |       4 |\n",
            "| train_cifar_7af34_00008 | PENDING  |                 |          512 | 0.000294899 |     256 |     256 |       4 |\n",
            "| train_cifar_7af34_00009 | PENDING  |                 |          512 | 0.000134975 |       8 |       4 |      32 |\n",
            "+-------------------------+----------+-----------------+--------------+-------------+---------+---------+---------+\n",
            "\n",
            "\n"
          ]
        },
        {
          "output_type": "stream",
          "name": "stderr",
          "text": [
            "\u001b[2m\u001b[36m(func pid=9931)\u001b[0m \n",
            "\u001b[2m\u001b[36m(func pid=9931)\u001b[0m \r 87%|████████▋ | 34/39 [02:58<00:24,  4.92s/it]\u001b[A\n"
          ]
        },
        {
          "output_type": "stream",
          "name": "stdout",
          "text": [
            "== Status ==\n",
            "Current time: 2022-10-18 17:33:02 (running for 00:03:07.95)\n",
            "Memory usage on this node: 2.5/12.7 GiB\n",
            "Using AsyncHyperBand: num_stopped=0\n",
            "Bracket: Iter 8.000: None | Iter 4.000: None | Iter 2.000: None | Iter 1.000: None\n",
            "Resources requested: 2.0/2 CPUs, 0/0 GPUs, 0.0/7.41 GiB heap, 0.0/3.7 GiB objects\n",
            "Result logdir: /root/ray_results/train_cifar_2022-10-18_17-29-54\n",
            "Number of trials: 10/10 (9 PENDING, 1 RUNNING)\n",
            "+-------------------------+----------+-----------------+--------------+-------------+---------+---------+---------+\n",
            "| Trial name              | status   | loc             |   batch_size |          lr |   step1 |   step2 |   step3 |\n",
            "|-------------------------+----------+-----------------+--------------+-------------+---------+---------+---------|\n",
            "| train_cifar_7af34_00000 | RUNNING  | 172.28.0.2:9931 |          512 | 0.000177076 |      64 |      64 |       8 |\n",
            "| train_cifar_7af34_00001 | PENDING  |                 |           32 | 0.0120769   |     128 |       4 |       8 |\n",
            "| train_cifar_7af34_00002 | PENDING  |                 |          512 | 0.0173817   |       4 |     256 |     256 |\n",
            "| train_cifar_7af34_00003 | PENDING  |                 |          512 | 0.0218424   |     256 |     128 |      32 |\n",
            "| train_cifar_7af34_00004 | PENDING  |                 |          512 | 0.00940687  |      32 |      32 |      16 |\n",
            "| train_cifar_7af34_00005 | PENDING  |                 |           16 | 0.00258265  |      32 |      16 |      16 |\n",
            "| train_cifar_7af34_00006 | PENDING  |                 |           16 | 0.000182904 |     256 |       4 |      16 |\n",
            "| train_cifar_7af34_00007 | PENDING  |                 |           16 | 0.000428507 |      64 |       8 |       4 |\n",
            "| train_cifar_7af34_00008 | PENDING  |                 |          512 | 0.000294899 |     256 |     256 |       4 |\n",
            "| train_cifar_7af34_00009 | PENDING  |                 |          512 | 0.000134975 |       8 |       4 |      32 |\n",
            "+-------------------------+----------+-----------------+--------------+-------------+---------+---------+---------+\n",
            "\n",
            "\n"
          ]
        },
        {
          "output_type": "stream",
          "name": "stderr",
          "text": [
            "\u001b[2m\u001b[36m(func pid=9931)\u001b[0m \n",
            "\u001b[2m\u001b[36m(func pid=9931)\u001b[0m \r 90%|████████▉ | 35/39 [03:03<00:19,  4.93s/it]\u001b[A\n"
          ]
        },
        {
          "output_type": "stream",
          "name": "stdout",
          "text": [
            "== Status ==\n",
            "Current time: 2022-10-18 17:33:07 (running for 00:03:12.96)\n",
            "Memory usage on this node: 2.5/12.7 GiB\n",
            "Using AsyncHyperBand: num_stopped=0\n",
            "Bracket: Iter 8.000: None | Iter 4.000: None | Iter 2.000: None | Iter 1.000: None\n",
            "Resources requested: 2.0/2 CPUs, 0/0 GPUs, 0.0/7.41 GiB heap, 0.0/3.7 GiB objects\n",
            "Result logdir: /root/ray_results/train_cifar_2022-10-18_17-29-54\n",
            "Number of trials: 10/10 (9 PENDING, 1 RUNNING)\n",
            "+-------------------------+----------+-----------------+--------------+-------------+---------+---------+---------+\n",
            "| Trial name              | status   | loc             |   batch_size |          lr |   step1 |   step2 |   step3 |\n",
            "|-------------------------+----------+-----------------+--------------+-------------+---------+---------+---------|\n",
            "| train_cifar_7af34_00000 | RUNNING  | 172.28.0.2:9931 |          512 | 0.000177076 |      64 |      64 |       8 |\n",
            "| train_cifar_7af34_00001 | PENDING  |                 |           32 | 0.0120769   |     128 |       4 |       8 |\n",
            "| train_cifar_7af34_00002 | PENDING  |                 |          512 | 0.0173817   |       4 |     256 |     256 |\n",
            "| train_cifar_7af34_00003 | PENDING  |                 |          512 | 0.0218424   |     256 |     128 |      32 |\n",
            "| train_cifar_7af34_00004 | PENDING  |                 |          512 | 0.00940687  |      32 |      32 |      16 |\n",
            "| train_cifar_7af34_00005 | PENDING  |                 |           16 | 0.00258265  |      32 |      16 |      16 |\n",
            "| train_cifar_7af34_00006 | PENDING  |                 |           16 | 0.000182904 |     256 |       4 |      16 |\n",
            "| train_cifar_7af34_00007 | PENDING  |                 |           16 | 0.000428507 |      64 |       8 |       4 |\n",
            "| train_cifar_7af34_00008 | PENDING  |                 |          512 | 0.000294899 |     256 |     256 |       4 |\n",
            "| train_cifar_7af34_00009 | PENDING  |                 |          512 | 0.000134975 |       8 |       4 |      32 |\n",
            "+-------------------------+----------+-----------------+--------------+-------------+---------+---------+---------+\n",
            "\n",
            "\n"
          ]
        },
        {
          "output_type": "stream",
          "name": "stderr",
          "text": [
            "\u001b[2m\u001b[36m(func pid=9931)\u001b[0m \n",
            "\u001b[2m\u001b[36m(func pid=9931)\u001b[0m \r 92%|█████████▏| 36/39 [03:08<00:14,  4.94s/it]\u001b[A\n"
          ]
        },
        {
          "output_type": "stream",
          "name": "stdout",
          "text": [
            "== Status ==\n",
            "Current time: 2022-10-18 17:33:12 (running for 00:03:17.99)\n",
            "Memory usage on this node: 2.5/12.7 GiB\n",
            "Using AsyncHyperBand: num_stopped=0\n",
            "Bracket: Iter 8.000: None | Iter 4.000: None | Iter 2.000: None | Iter 1.000: None\n",
            "Resources requested: 2.0/2 CPUs, 0/0 GPUs, 0.0/7.41 GiB heap, 0.0/3.7 GiB objects\n",
            "Result logdir: /root/ray_results/train_cifar_2022-10-18_17-29-54\n",
            "Number of trials: 10/10 (9 PENDING, 1 RUNNING)\n",
            "+-------------------------+----------+-----------------+--------------+-------------+---------+---------+---------+\n",
            "| Trial name              | status   | loc             |   batch_size |          lr |   step1 |   step2 |   step3 |\n",
            "|-------------------------+----------+-----------------+--------------+-------------+---------+---------+---------|\n",
            "| train_cifar_7af34_00000 | RUNNING  | 172.28.0.2:9931 |          512 | 0.000177076 |      64 |      64 |       8 |\n",
            "| train_cifar_7af34_00001 | PENDING  |                 |           32 | 0.0120769   |     128 |       4 |       8 |\n",
            "| train_cifar_7af34_00002 | PENDING  |                 |          512 | 0.0173817   |       4 |     256 |     256 |\n",
            "| train_cifar_7af34_00003 | PENDING  |                 |          512 | 0.0218424   |     256 |     128 |      32 |\n",
            "| train_cifar_7af34_00004 | PENDING  |                 |          512 | 0.00940687  |      32 |      32 |      16 |\n",
            "| train_cifar_7af34_00005 | PENDING  |                 |           16 | 0.00258265  |      32 |      16 |      16 |\n",
            "| train_cifar_7af34_00006 | PENDING  |                 |           16 | 0.000182904 |     256 |       4 |      16 |\n",
            "| train_cifar_7af34_00007 | PENDING  |                 |           16 | 0.000428507 |      64 |       8 |       4 |\n",
            "| train_cifar_7af34_00008 | PENDING  |                 |          512 | 0.000294899 |     256 |     256 |       4 |\n",
            "| train_cifar_7af34_00009 | PENDING  |                 |          512 | 0.000134975 |       8 |       4 |      32 |\n",
            "+-------------------------+----------+-----------------+--------------+-------------+---------+---------+---------+\n",
            "\n",
            "\n"
          ]
        },
        {
          "output_type": "stream",
          "name": "stderr",
          "text": [
            "\u001b[2m\u001b[36m(func pid=9931)\u001b[0m \n",
            "\u001b[2m\u001b[36m(func pid=9931)\u001b[0m \r 95%|█████████▍| 37/39 [03:13<00:09,  4.95s/it]\u001b[A\n"
          ]
        },
        {
          "output_type": "stream",
          "name": "stdout",
          "text": [
            "== Status ==\n",
            "Current time: 2022-10-18 17:33:17 (running for 00:03:23.00)\n",
            "Memory usage on this node: 2.5/12.7 GiB\n",
            "Using AsyncHyperBand: num_stopped=0\n",
            "Bracket: Iter 8.000: None | Iter 4.000: None | Iter 2.000: None | Iter 1.000: None\n",
            "Resources requested: 2.0/2 CPUs, 0/0 GPUs, 0.0/7.41 GiB heap, 0.0/3.7 GiB objects\n",
            "Result logdir: /root/ray_results/train_cifar_2022-10-18_17-29-54\n",
            "Number of trials: 10/10 (9 PENDING, 1 RUNNING)\n",
            "+-------------------------+----------+-----------------+--------------+-------------+---------+---------+---------+\n",
            "| Trial name              | status   | loc             |   batch_size |          lr |   step1 |   step2 |   step3 |\n",
            "|-------------------------+----------+-----------------+--------------+-------------+---------+---------+---------|\n",
            "| train_cifar_7af34_00000 | RUNNING  | 172.28.0.2:9931 |          512 | 0.000177076 |      64 |      64 |       8 |\n",
            "| train_cifar_7af34_00001 | PENDING  |                 |           32 | 0.0120769   |     128 |       4 |       8 |\n",
            "| train_cifar_7af34_00002 | PENDING  |                 |          512 | 0.0173817   |       4 |     256 |     256 |\n",
            "| train_cifar_7af34_00003 | PENDING  |                 |          512 | 0.0218424   |     256 |     128 |      32 |\n",
            "| train_cifar_7af34_00004 | PENDING  |                 |          512 | 0.00940687  |      32 |      32 |      16 |\n",
            "| train_cifar_7af34_00005 | PENDING  |                 |           16 | 0.00258265  |      32 |      16 |      16 |\n",
            "| train_cifar_7af34_00006 | PENDING  |                 |           16 | 0.000182904 |     256 |       4 |      16 |\n",
            "| train_cifar_7af34_00007 | PENDING  |                 |           16 | 0.000428507 |      64 |       8 |       4 |\n",
            "| train_cifar_7af34_00008 | PENDING  |                 |          512 | 0.000294899 |     256 |     256 |       4 |\n",
            "| train_cifar_7af34_00009 | PENDING  |                 |          512 | 0.000134975 |       8 |       4 |      32 |\n",
            "+-------------------------+----------+-----------------+--------------+-------------+---------+---------+---------+\n",
            "\n",
            "\n"
          ]
        },
        {
          "output_type": "stream",
          "name": "stderr",
          "text": [
            "\u001b[2m\u001b[36m(func pid=9931)\u001b[0m \n",
            "\u001b[2m\u001b[36m(func pid=9931)\u001b[0m \r 97%|█████████▋| 38/39 [03:18<00:04,  4.95s/it]\u001b[A\n"
          ]
        },
        {
          "output_type": "stream",
          "name": "stdout",
          "text": [
            "== Status ==\n",
            "Current time: 2022-10-18 17:33:22 (running for 00:03:28.02)\n",
            "Memory usage on this node: 2.5/12.7 GiB\n",
            "Using AsyncHyperBand: num_stopped=0\n",
            "Bracket: Iter 8.000: None | Iter 4.000: None | Iter 2.000: None | Iter 1.000: None\n",
            "Resources requested: 2.0/2 CPUs, 0/0 GPUs, 0.0/7.41 GiB heap, 0.0/3.7 GiB objects\n",
            "Result logdir: /root/ray_results/train_cifar_2022-10-18_17-29-54\n",
            "Number of trials: 10/10 (9 PENDING, 1 RUNNING)\n",
            "+-------------------------+----------+-----------------+--------------+-------------+---------+---------+---------+\n",
            "| Trial name              | status   | loc             |   batch_size |          lr |   step1 |   step2 |   step3 |\n",
            "|-------------------------+----------+-----------------+--------------+-------------+---------+---------+---------|\n",
            "| train_cifar_7af34_00000 | RUNNING  | 172.28.0.2:9931 |          512 | 0.000177076 |      64 |      64 |       8 |\n",
            "| train_cifar_7af34_00001 | PENDING  |                 |           32 | 0.0120769   |     128 |       4 |       8 |\n",
            "| train_cifar_7af34_00002 | PENDING  |                 |          512 | 0.0173817   |       4 |     256 |     256 |\n",
            "| train_cifar_7af34_00003 | PENDING  |                 |          512 | 0.0218424   |     256 |     128 |      32 |\n",
            "| train_cifar_7af34_00004 | PENDING  |                 |          512 | 0.00940687  |      32 |      32 |      16 |\n",
            "| train_cifar_7af34_00005 | PENDING  |                 |           16 | 0.00258265  |      32 |      16 |      16 |\n",
            "| train_cifar_7af34_00006 | PENDING  |                 |           16 | 0.000182904 |     256 |       4 |      16 |\n",
            "| train_cifar_7af34_00007 | PENDING  |                 |           16 | 0.000428507 |      64 |       8 |       4 |\n",
            "| train_cifar_7af34_00008 | PENDING  |                 |          512 | 0.000294899 |     256 |     256 |       4 |\n",
            "| train_cifar_7af34_00009 | PENDING  |                 |          512 | 0.000134975 |       8 |       4 |      32 |\n",
            "+-------------------------+----------+-----------------+--------------+-------------+---------+---------+---------+\n",
            "\n",
            "\n"
          ]
        },
        {
          "output_type": "stream",
          "name": "stderr",
          "text": [
            "\u001b[2m\u001b[36m(func pid=9931)\u001b[0m \n",
            "\u001b[2m\u001b[36m(func pid=9931)\u001b[0m \r100%|██████████| 39/39 [03:23<00:00,  4.97s/it]\u001b[A\r100%|██████████| 39/39 [03:23<00:00,  5.22s/it]\n"
          ]
        },
        {
          "output_type": "stream",
          "name": "stdout",
          "text": [
            "== Status ==\n",
            "Current time: 2022-10-18 17:33:27 (running for 00:03:33.03)\n",
            "Memory usage on this node: 2.5/12.7 GiB\n",
            "Using AsyncHyperBand: num_stopped=0\n",
            "Bracket: Iter 8.000: None | Iter 4.000: None | Iter 2.000: None | Iter 1.000: None\n",
            "Resources requested: 2.0/2 CPUs, 0/0 GPUs, 0.0/7.41 GiB heap, 0.0/3.7 GiB objects\n",
            "Result logdir: /root/ray_results/train_cifar_2022-10-18_17-29-54\n",
            "Number of trials: 10/10 (9 PENDING, 1 RUNNING)\n",
            "+-------------------------+----------+-----------------+--------------+-------------+---------+---------+---------+\n",
            "| Trial name              | status   | loc             |   batch_size |          lr |   step1 |   step2 |   step3 |\n",
            "|-------------------------+----------+-----------------+--------------+-------------+---------+---------+---------|\n",
            "| train_cifar_7af34_00000 | RUNNING  | 172.28.0.2:9931 |          512 | 0.000177076 |      64 |      64 |       8 |\n",
            "| train_cifar_7af34_00001 | PENDING  |                 |           32 | 0.0120769   |     128 |       4 |       8 |\n",
            "| train_cifar_7af34_00002 | PENDING  |                 |          512 | 0.0173817   |       4 |     256 |     256 |\n",
            "| train_cifar_7af34_00003 | PENDING  |                 |          512 | 0.0218424   |     256 |     128 |      32 |\n",
            "| train_cifar_7af34_00004 | PENDING  |                 |          512 | 0.00940687  |      32 |      32 |      16 |\n",
            "| train_cifar_7af34_00005 | PENDING  |                 |           16 | 0.00258265  |      32 |      16 |      16 |\n",
            "| train_cifar_7af34_00006 | PENDING  |                 |           16 | 0.000182904 |     256 |       4 |      16 |\n",
            "| train_cifar_7af34_00007 | PENDING  |                 |           16 | 0.000428507 |      64 |       8 |       4 |\n",
            "| train_cifar_7af34_00008 | PENDING  |                 |          512 | 0.000294899 |     256 |     256 |       4 |\n",
            "| train_cifar_7af34_00009 | PENDING  |                 |          512 | 0.000134975 |       8 |       4 |      32 |\n",
            "+-------------------------+----------+-----------------+--------------+-------------+---------+---------+---------+\n",
            "\n",
            "\n",
            "== Status ==\n",
            "Current time: 2022-10-18 17:33:32 (running for 00:03:38.05)\n",
            "Memory usage on this node: 2.5/12.7 GiB\n",
            "Using AsyncHyperBand: num_stopped=0\n",
            "Bracket: Iter 8.000: None | Iter 4.000: None | Iter 2.000: None | Iter 1.000: None\n",
            "Resources requested: 2.0/2 CPUs, 0/0 GPUs, 0.0/7.41 GiB heap, 0.0/3.7 GiB objects\n",
            "Result logdir: /root/ray_results/train_cifar_2022-10-18_17-29-54\n",
            "Number of trials: 10/10 (9 PENDING, 1 RUNNING)\n",
            "+-------------------------+----------+-----------------+--------------+-------------+---------+---------+---------+\n",
            "| Trial name              | status   | loc             |   batch_size |          lr |   step1 |   step2 |   step3 |\n",
            "|-------------------------+----------+-----------------+--------------+-------------+---------+---------+---------|\n",
            "| train_cifar_7af34_00000 | RUNNING  | 172.28.0.2:9931 |          512 | 0.000177076 |      64 |      64 |       8 |\n",
            "| train_cifar_7af34_00001 | PENDING  |                 |           32 | 0.0120769   |     128 |       4 |       8 |\n",
            "| train_cifar_7af34_00002 | PENDING  |                 |          512 | 0.0173817   |       4 |     256 |     256 |\n",
            "| train_cifar_7af34_00003 | PENDING  |                 |          512 | 0.0218424   |     256 |     128 |      32 |\n",
            "| train_cifar_7af34_00004 | PENDING  |                 |          512 | 0.00940687  |      32 |      32 |      16 |\n",
            "| train_cifar_7af34_00005 | PENDING  |                 |           16 | 0.00258265  |      32 |      16 |      16 |\n",
            "| train_cifar_7af34_00006 | PENDING  |                 |           16 | 0.000182904 |     256 |       4 |      16 |\n",
            "| train_cifar_7af34_00007 | PENDING  |                 |           16 | 0.000428507 |      64 |       8 |       4 |\n",
            "| train_cifar_7af34_00008 | PENDING  |                 |          512 | 0.000294899 |     256 |     256 |       4 |\n",
            "| train_cifar_7af34_00009 | PENDING  |                 |          512 | 0.000134975 |       8 |       4 |      32 |\n",
            "+-------------------------+----------+-----------------+--------------+-------------+---------+---------+---------+\n",
            "\n",
            "\n",
            "== Status ==\n",
            "Current time: 2022-10-18 17:33:38 (running for 00:03:43.05)\n",
            "Memory usage on this node: 2.5/12.7 GiB\n",
            "Using AsyncHyperBand: num_stopped=0\n",
            "Bracket: Iter 8.000: None | Iter 4.000: None | Iter 2.000: None | Iter 1.000: None\n",
            "Resources requested: 2.0/2 CPUs, 0/0 GPUs, 0.0/7.41 GiB heap, 0.0/3.7 GiB objects\n",
            "Result logdir: /root/ray_results/train_cifar_2022-10-18_17-29-54\n",
            "Number of trials: 10/10 (9 PENDING, 1 RUNNING)\n",
            "+-------------------------+----------+-----------------+--------------+-------------+---------+---------+---------+\n",
            "| Trial name              | status   | loc             |   batch_size |          lr |   step1 |   step2 |   step3 |\n",
            "|-------------------------+----------+-----------------+--------------+-------------+---------+---------+---------|\n",
            "| train_cifar_7af34_00000 | RUNNING  | 172.28.0.2:9931 |          512 | 0.000177076 |      64 |      64 |       8 |\n",
            "| train_cifar_7af34_00001 | PENDING  |                 |           32 | 0.0120769   |     128 |       4 |       8 |\n",
            "| train_cifar_7af34_00002 | PENDING  |                 |          512 | 0.0173817   |       4 |     256 |     256 |\n",
            "| train_cifar_7af34_00003 | PENDING  |                 |          512 | 0.0218424   |     256 |     128 |      32 |\n",
            "| train_cifar_7af34_00004 | PENDING  |                 |          512 | 0.00940687  |      32 |      32 |      16 |\n",
            "| train_cifar_7af34_00005 | PENDING  |                 |           16 | 0.00258265  |      32 |      16 |      16 |\n",
            "| train_cifar_7af34_00006 | PENDING  |                 |           16 | 0.000182904 |     256 |       4 |      16 |\n",
            "| train_cifar_7af34_00007 | PENDING  |                 |           16 | 0.000428507 |      64 |       8 |       4 |\n",
            "| train_cifar_7af34_00008 | PENDING  |                 |          512 | 0.000294899 |     256 |     256 |       4 |\n",
            "| train_cifar_7af34_00009 | PENDING  |                 |          512 | 0.000134975 |       8 |       4 |      32 |\n",
            "+-------------------------+----------+-----------------+--------------+-------------+---------+---------+---------+\n",
            "\n",
            "\n",
            "== Status ==\n",
            "Current time: 2022-10-18 17:33:43 (running for 00:03:48.07)\n",
            "Memory usage on this node: 2.5/12.7 GiB\n",
            "Using AsyncHyperBand: num_stopped=0\n",
            "Bracket: Iter 8.000: None | Iter 4.000: None | Iter 2.000: None | Iter 1.000: None\n",
            "Resources requested: 2.0/2 CPUs, 0/0 GPUs, 0.0/7.41 GiB heap, 0.0/3.7 GiB objects\n",
            "Result logdir: /root/ray_results/train_cifar_2022-10-18_17-29-54\n",
            "Number of trials: 10/10 (9 PENDING, 1 RUNNING)\n",
            "+-------------------------+----------+-----------------+--------------+-------------+---------+---------+---------+\n",
            "| Trial name              | status   | loc             |   batch_size |          lr |   step1 |   step2 |   step3 |\n",
            "|-------------------------+----------+-----------------+--------------+-------------+---------+---------+---------|\n",
            "| train_cifar_7af34_00000 | RUNNING  | 172.28.0.2:9931 |          512 | 0.000177076 |      64 |      64 |       8 |\n",
            "| train_cifar_7af34_00001 | PENDING  |                 |           32 | 0.0120769   |     128 |       4 |       8 |\n",
            "| train_cifar_7af34_00002 | PENDING  |                 |          512 | 0.0173817   |       4 |     256 |     256 |\n",
            "| train_cifar_7af34_00003 | PENDING  |                 |          512 | 0.0218424   |     256 |     128 |      32 |\n",
            "| train_cifar_7af34_00004 | PENDING  |                 |          512 | 0.00940687  |      32 |      32 |      16 |\n",
            "| train_cifar_7af34_00005 | PENDING  |                 |           16 | 0.00258265  |      32 |      16 |      16 |\n",
            "| train_cifar_7af34_00006 | PENDING  |                 |           16 | 0.000182904 |     256 |       4 |      16 |\n",
            "| train_cifar_7af34_00007 | PENDING  |                 |           16 | 0.000428507 |      64 |       8 |       4 |\n",
            "| train_cifar_7af34_00008 | PENDING  |                 |          512 | 0.000294899 |     256 |     256 |       4 |\n",
            "| train_cifar_7af34_00009 | PENDING  |                 |          512 | 0.000134975 |       8 |       4 |      32 |\n",
            "+-------------------------+----------+-----------------+--------------+-------------+---------+---------+---------+\n",
            "\n",
            "\n",
            "Result for train_cifar_7af34_00000:\n",
            "  date: 2022-10-18_17-33-43\n",
            "  done: false\n",
            "  experiment_id: fedc15a05059426e83502b8be6b02885\n",
            "  hostname: cf84ff17f562\n",
            "  iterations_since_restore: 1\n",
            "  loss: tensor(0.0028)\n",
            "  node_ip: 172.28.0.2\n",
            "  pid: 9931\n",
            "  should_checkpoint: true\n",
            "  time_since_restore: 221.497008562088\n",
            "  time_this_iter_s: 221.497008562088\n",
            "  time_total_s: 221.497008562088\n",
            "  timestamp: 1666114423\n",
            "  timesteps_since_restore: 0\n",
            "  training_iteration: 1\n",
            "  trial_id: 7af34_00000\n",
            "  warmup_time: 0.0048525333404541016\n",
            "  \n",
            "\u001b[2m\u001b[36m(func pid=9931)\u001b[0m Finished Training\n",
            "\u001b[2m\u001b[36m(func pid=9931)\u001b[0m Epoch:1\n"
          ]
        },
        {
          "output_type": "stream",
          "name": "stderr",
          "text": [
            "\u001b[2m\u001b[36m(func pid=9931)\u001b[0m \r 10%|█         | 1/10 [03:41<33:12, 221.34s/it]\n",
            "  0%|          | 0/39 [00:00<?, ?it/s]\u001b[A\n",
            "\u001b[2m\u001b[36m(func pid=9931)\u001b[0m \n",
            "  3%|▎         | 1/39 [00:04<02:52,  4.54s/it]\u001b[A\n"
          ]
        },
        {
          "output_type": "stream",
          "name": "stdout",
          "text": [
            "== Status ==\n",
            "Current time: 2022-10-18 17:33:48 (running for 00:03:53.83)\n",
            "Memory usage on this node: 2.6/12.7 GiB\n",
            "Using AsyncHyperBand: num_stopped=0\n",
            "Bracket: Iter 8.000: None | Iter 4.000: None | Iter 2.000: None | Iter 1.000: -0.0028313915245234966\n",
            "Resources requested: 2.0/2 CPUs, 0/0 GPUs, 0.0/7.41 GiB heap, 0.0/3.7 GiB objects\n",
            "Result logdir: /root/ray_results/train_cifar_2022-10-18_17-29-54\n",
            "Number of trials: 10/10 (9 PENDING, 1 RUNNING)\n",
            "+-------------------------+----------+-----------------+--------------+-------------+---------+---------+---------+----------------+----------------------+\n",
            "| Trial name              | status   | loc             |   batch_size |          lr |   step1 |   step2 |   step3 | loss           |   training_iteration |\n",
            "|-------------------------+----------+-----------------+--------------+-------------+---------+---------+---------+----------------+----------------------|\n",
            "| train_cifar_7af34_00000 | RUNNING  | 172.28.0.2:9931 |          512 | 0.000177076 |      64 |      64 |       8 | tensor(0.0028) |                    1 |\n",
            "| train_cifar_7af34_00001 | PENDING  |                 |           32 | 0.0120769   |     128 |       4 |       8 |                |                      |\n",
            "| train_cifar_7af34_00002 | PENDING  |                 |          512 | 0.0173817   |       4 |     256 |     256 |                |                      |\n",
            "| train_cifar_7af34_00003 | PENDING  |                 |          512 | 0.0218424   |     256 |     128 |      32 |                |                      |\n",
            "| train_cifar_7af34_00004 | PENDING  |                 |          512 | 0.00940687  |      32 |      32 |      16 |                |                      |\n",
            "| train_cifar_7af34_00005 | PENDING  |                 |           16 | 0.00258265  |      32 |      16 |      16 |                |                      |\n",
            "| train_cifar_7af34_00006 | PENDING  |                 |           16 | 0.000182904 |     256 |       4 |      16 |                |                      |\n",
            "| train_cifar_7af34_00007 | PENDING  |                 |           16 | 0.000428507 |      64 |       8 |       4 |                |                      |\n",
            "| train_cifar_7af34_00008 | PENDING  |                 |          512 | 0.000294899 |     256 |     256 |       4 |                |                      |\n",
            "| train_cifar_7af34_00009 | PENDING  |                 |          512 | 0.000134975 |       8 |       4 |      32 |                |                      |\n",
            "+-------------------------+----------+-----------------+--------------+-------------+---------+---------+---------+----------------+----------------------+\n",
            "\n",
            "\n"
          ]
        },
        {
          "output_type": "stream",
          "name": "stderr",
          "text": [
            "\u001b[2m\u001b[36m(func pid=9931)\u001b[0m \n",
            "\u001b[2m\u001b[36m(func pid=9931)\u001b[0m \r  5%|▌         | 2/39 [00:09<02:48,  4.54s/it]\u001b[A\n"
          ]
        },
        {
          "output_type": "stream",
          "name": "stdout",
          "text": [
            "== Status ==\n",
            "Current time: 2022-10-18 17:33:53 (running for 00:03:58.87)\n",
            "Memory usage on this node: 2.5/12.7 GiB\n",
            "Using AsyncHyperBand: num_stopped=0\n",
            "Bracket: Iter 8.000: None | Iter 4.000: None | Iter 2.000: None | Iter 1.000: -0.0028313915245234966\n",
            "Resources requested: 2.0/2 CPUs, 0/0 GPUs, 0.0/7.41 GiB heap, 0.0/3.7 GiB objects\n",
            "Result logdir: /root/ray_results/train_cifar_2022-10-18_17-29-54\n",
            "Number of trials: 10/10 (9 PENDING, 1 RUNNING)\n",
            "+-------------------------+----------+-----------------+--------------+-------------+---------+---------+---------+----------------+----------------------+\n",
            "| Trial name              | status   | loc             |   batch_size |          lr |   step1 |   step2 |   step3 | loss           |   training_iteration |\n",
            "|-------------------------+----------+-----------------+--------------+-------------+---------+---------+---------+----------------+----------------------|\n",
            "| train_cifar_7af34_00000 | RUNNING  | 172.28.0.2:9931 |          512 | 0.000177076 |      64 |      64 |       8 | tensor(0.0028) |                    1 |\n",
            "| train_cifar_7af34_00001 | PENDING  |                 |           32 | 0.0120769   |     128 |       4 |       8 |                |                      |\n",
            "| train_cifar_7af34_00002 | PENDING  |                 |          512 | 0.0173817   |       4 |     256 |     256 |                |                      |\n",
            "| train_cifar_7af34_00003 | PENDING  |                 |          512 | 0.0218424   |     256 |     128 |      32 |                |                      |\n",
            "| train_cifar_7af34_00004 | PENDING  |                 |          512 | 0.00940687  |      32 |      32 |      16 |                |                      |\n",
            "| train_cifar_7af34_00005 | PENDING  |                 |           16 | 0.00258265  |      32 |      16 |      16 |                |                      |\n",
            "| train_cifar_7af34_00006 | PENDING  |                 |           16 | 0.000182904 |     256 |       4 |      16 |                |                      |\n",
            "| train_cifar_7af34_00007 | PENDING  |                 |           16 | 0.000428507 |      64 |       8 |       4 |                |                      |\n",
            "| train_cifar_7af34_00008 | PENDING  |                 |          512 | 0.000294899 |     256 |     256 |       4 |                |                      |\n",
            "| train_cifar_7af34_00009 | PENDING  |                 |          512 | 0.000134975 |       8 |       4 |      32 |                |                      |\n",
            "+-------------------------+----------+-----------------+--------------+-------------+---------+---------+---------+----------------+----------------------+\n",
            "\n",
            "\n"
          ]
        },
        {
          "output_type": "stream",
          "name": "stderr",
          "text": [
            "\u001b[2m\u001b[36m(func pid=9931)\u001b[0m \n",
            "\u001b[2m\u001b[36m(func pid=9931)\u001b[0m \r  8%|▊         | 3/39 [00:13<02:44,  4.58s/it]\u001b[A\n"
          ]
        },
        {
          "output_type": "stream",
          "name": "stdout",
          "text": [
            "== Status ==\n",
            "Current time: 2022-10-18 17:33:58 (running for 00:04:03.88)\n",
            "Memory usage on this node: 2.6/12.7 GiB\n",
            "Using AsyncHyperBand: num_stopped=0\n",
            "Bracket: Iter 8.000: None | Iter 4.000: None | Iter 2.000: None | Iter 1.000: -0.0028313915245234966\n",
            "Resources requested: 2.0/2 CPUs, 0/0 GPUs, 0.0/7.41 GiB heap, 0.0/3.7 GiB objects\n",
            "Result logdir: /root/ray_results/train_cifar_2022-10-18_17-29-54\n",
            "Number of trials: 10/10 (9 PENDING, 1 RUNNING)\n",
            "+-------------------------+----------+-----------------+--------------+-------------+---------+---------+---------+----------------+----------------------+\n",
            "| Trial name              | status   | loc             |   batch_size |          lr |   step1 |   step2 |   step3 | loss           |   training_iteration |\n",
            "|-------------------------+----------+-----------------+--------------+-------------+---------+---------+---------+----------------+----------------------|\n",
            "| train_cifar_7af34_00000 | RUNNING  | 172.28.0.2:9931 |          512 | 0.000177076 |      64 |      64 |       8 | tensor(0.0028) |                    1 |\n",
            "| train_cifar_7af34_00001 | PENDING  |                 |           32 | 0.0120769   |     128 |       4 |       8 |                |                      |\n",
            "| train_cifar_7af34_00002 | PENDING  |                 |          512 | 0.0173817   |       4 |     256 |     256 |                |                      |\n",
            "| train_cifar_7af34_00003 | PENDING  |                 |          512 | 0.0218424   |     256 |     128 |      32 |                |                      |\n",
            "| train_cifar_7af34_00004 | PENDING  |                 |          512 | 0.00940687  |      32 |      32 |      16 |                |                      |\n",
            "| train_cifar_7af34_00005 | PENDING  |                 |           16 | 0.00258265  |      32 |      16 |      16 |                |                      |\n",
            "| train_cifar_7af34_00006 | PENDING  |                 |           16 | 0.000182904 |     256 |       4 |      16 |                |                      |\n",
            "| train_cifar_7af34_00007 | PENDING  |                 |           16 | 0.000428507 |      64 |       8 |       4 |                |                      |\n",
            "| train_cifar_7af34_00008 | PENDING  |                 |          512 | 0.000294899 |     256 |     256 |       4 |                |                      |\n",
            "| train_cifar_7af34_00009 | PENDING  |                 |          512 | 0.000134975 |       8 |       4 |      32 |                |                      |\n",
            "+-------------------------+----------+-----------------+--------------+-------------+---------+---------+---------+----------------+----------------------+\n",
            "\n",
            "\n"
          ]
        },
        {
          "output_type": "stream",
          "name": "stderr",
          "text": [
            "\u001b[2m\u001b[36m(func pid=9931)\u001b[0m \n",
            "\u001b[2m\u001b[36m(func pid=9931)\u001b[0m \r 10%|█         | 4/39 [00:18<02:41,  4.63s/it]\u001b[A\n"
          ]
        },
        {
          "output_type": "stream",
          "name": "stdout",
          "text": [
            "== Status ==\n",
            "Current time: 2022-10-18 17:34:03 (running for 00:04:08.90)\n",
            "Memory usage on this node: 2.6/12.7 GiB\n",
            "Using AsyncHyperBand: num_stopped=0\n",
            "Bracket: Iter 8.000: None | Iter 4.000: None | Iter 2.000: None | Iter 1.000: -0.0028313915245234966\n",
            "Resources requested: 2.0/2 CPUs, 0/0 GPUs, 0.0/7.41 GiB heap, 0.0/3.7 GiB objects\n",
            "Result logdir: /root/ray_results/train_cifar_2022-10-18_17-29-54\n",
            "Number of trials: 10/10 (9 PENDING, 1 RUNNING)\n",
            "+-------------------------+----------+-----------------+--------------+-------------+---------+---------+---------+----------------+----------------------+\n",
            "| Trial name              | status   | loc             |   batch_size |          lr |   step1 |   step2 |   step3 | loss           |   training_iteration |\n",
            "|-------------------------+----------+-----------------+--------------+-------------+---------+---------+---------+----------------+----------------------|\n",
            "| train_cifar_7af34_00000 | RUNNING  | 172.28.0.2:9931 |          512 | 0.000177076 |      64 |      64 |       8 | tensor(0.0028) |                    1 |\n",
            "| train_cifar_7af34_00001 | PENDING  |                 |           32 | 0.0120769   |     128 |       4 |       8 |                |                      |\n",
            "| train_cifar_7af34_00002 | PENDING  |                 |          512 | 0.0173817   |       4 |     256 |     256 |                |                      |\n",
            "| train_cifar_7af34_00003 | PENDING  |                 |          512 | 0.0218424   |     256 |     128 |      32 |                |                      |\n",
            "| train_cifar_7af34_00004 | PENDING  |                 |          512 | 0.00940687  |      32 |      32 |      16 |                |                      |\n",
            "| train_cifar_7af34_00005 | PENDING  |                 |           16 | 0.00258265  |      32 |      16 |      16 |                |                      |\n",
            "| train_cifar_7af34_00006 | PENDING  |                 |           16 | 0.000182904 |     256 |       4 |      16 |                |                      |\n",
            "| train_cifar_7af34_00007 | PENDING  |                 |           16 | 0.000428507 |      64 |       8 |       4 |                |                      |\n",
            "| train_cifar_7af34_00008 | PENDING  |                 |          512 | 0.000294899 |     256 |     256 |       4 |                |                      |\n",
            "| train_cifar_7af34_00009 | PENDING  |                 |          512 | 0.000134975 |       8 |       4 |      32 |                |                      |\n",
            "+-------------------------+----------+-----------------+--------------+-------------+---------+---------+---------+----------------+----------------------+\n",
            "\n",
            "\n"
          ]
        },
        {
          "output_type": "stream",
          "name": "stderr",
          "text": [
            "\u001b[2m\u001b[36m(func pid=9931)\u001b[0m \n",
            "\u001b[2m\u001b[36m(func pid=9931)\u001b[0m \r 13%|█▎        | 5/39 [00:23<02:38,  4.65s/it]\u001b[A\n"
          ]
        },
        {
          "output_type": "stream",
          "name": "stdout",
          "text": [
            "== Status ==\n",
            "Current time: 2022-10-18 17:34:08 (running for 00:04:13.91)\n",
            "Memory usage on this node: 2.6/12.7 GiB\n",
            "Using AsyncHyperBand: num_stopped=0\n",
            "Bracket: Iter 8.000: None | Iter 4.000: None | Iter 2.000: None | Iter 1.000: -0.0028313915245234966\n",
            "Resources requested: 2.0/2 CPUs, 0/0 GPUs, 0.0/7.41 GiB heap, 0.0/3.7 GiB objects\n",
            "Result logdir: /root/ray_results/train_cifar_2022-10-18_17-29-54\n",
            "Number of trials: 10/10 (9 PENDING, 1 RUNNING)\n",
            "+-------------------------+----------+-----------------+--------------+-------------+---------+---------+---------+----------------+----------------------+\n",
            "| Trial name              | status   | loc             |   batch_size |          lr |   step1 |   step2 |   step3 | loss           |   training_iteration |\n",
            "|-------------------------+----------+-----------------+--------------+-------------+---------+---------+---------+----------------+----------------------|\n",
            "| train_cifar_7af34_00000 | RUNNING  | 172.28.0.2:9931 |          512 | 0.000177076 |      64 |      64 |       8 | tensor(0.0028) |                    1 |\n",
            "| train_cifar_7af34_00001 | PENDING  |                 |           32 | 0.0120769   |     128 |       4 |       8 |                |                      |\n",
            "| train_cifar_7af34_00002 | PENDING  |                 |          512 | 0.0173817   |       4 |     256 |     256 |                |                      |\n",
            "| train_cifar_7af34_00003 | PENDING  |                 |          512 | 0.0218424   |     256 |     128 |      32 |                |                      |\n",
            "| train_cifar_7af34_00004 | PENDING  |                 |          512 | 0.00940687  |      32 |      32 |      16 |                |                      |\n",
            "| train_cifar_7af34_00005 | PENDING  |                 |           16 | 0.00258265  |      32 |      16 |      16 |                |                      |\n",
            "| train_cifar_7af34_00006 | PENDING  |                 |           16 | 0.000182904 |     256 |       4 |      16 |                |                      |\n",
            "| train_cifar_7af34_00007 | PENDING  |                 |           16 | 0.000428507 |      64 |       8 |       4 |                |                      |\n",
            "| train_cifar_7af34_00008 | PENDING  |                 |          512 | 0.000294899 |     256 |     256 |       4 |                |                      |\n",
            "| train_cifar_7af34_00009 | PENDING  |                 |          512 | 0.000134975 |       8 |       4 |      32 |                |                      |\n",
            "+-------------------------+----------+-----------------+--------------+-------------+---------+---------+---------+----------------+----------------------+\n",
            "\n",
            "\n"
          ]
        },
        {
          "output_type": "stream",
          "name": "stderr",
          "text": [
            "\u001b[2m\u001b[36m(func pid=9931)\u001b[0m \n",
            "\u001b[2m\u001b[36m(func pid=9931)\u001b[0m \r 15%|█▌        | 6/39 [00:27<02:33,  4.66s/it]\u001b[A\n"
          ]
        },
        {
          "output_type": "stream",
          "name": "stdout",
          "text": [
            "== Status ==\n",
            "Current time: 2022-10-18 17:34:13 (running for 00:04:18.94)\n",
            "Memory usage on this node: 2.6/12.7 GiB\n",
            "Using AsyncHyperBand: num_stopped=0\n",
            "Bracket: Iter 8.000: None | Iter 4.000: None | Iter 2.000: None | Iter 1.000: -0.0028313915245234966\n",
            "Resources requested: 2.0/2 CPUs, 0/0 GPUs, 0.0/7.41 GiB heap, 0.0/3.7 GiB objects\n",
            "Result logdir: /root/ray_results/train_cifar_2022-10-18_17-29-54\n",
            "Number of trials: 10/10 (9 PENDING, 1 RUNNING)\n",
            "+-------------------------+----------+-----------------+--------------+-------------+---------+---------+---------+----------------+----------------------+\n",
            "| Trial name              | status   | loc             |   batch_size |          lr |   step1 |   step2 |   step3 | loss           |   training_iteration |\n",
            "|-------------------------+----------+-----------------+--------------+-------------+---------+---------+---------+----------------+----------------------|\n",
            "| train_cifar_7af34_00000 | RUNNING  | 172.28.0.2:9931 |          512 | 0.000177076 |      64 |      64 |       8 | tensor(0.0028) |                    1 |\n",
            "| train_cifar_7af34_00001 | PENDING  |                 |           32 | 0.0120769   |     128 |       4 |       8 |                |                      |\n",
            "| train_cifar_7af34_00002 | PENDING  |                 |          512 | 0.0173817   |       4 |     256 |     256 |                |                      |\n",
            "| train_cifar_7af34_00003 | PENDING  |                 |          512 | 0.0218424   |     256 |     128 |      32 |                |                      |\n",
            "| train_cifar_7af34_00004 | PENDING  |                 |          512 | 0.00940687  |      32 |      32 |      16 |                |                      |\n",
            "| train_cifar_7af34_00005 | PENDING  |                 |           16 | 0.00258265  |      32 |      16 |      16 |                |                      |\n",
            "| train_cifar_7af34_00006 | PENDING  |                 |           16 | 0.000182904 |     256 |       4 |      16 |                |                      |\n",
            "| train_cifar_7af34_00007 | PENDING  |                 |           16 | 0.000428507 |      64 |       8 |       4 |                |                      |\n",
            "| train_cifar_7af34_00008 | PENDING  |                 |          512 | 0.000294899 |     256 |     256 |       4 |                |                      |\n",
            "| train_cifar_7af34_00009 | PENDING  |                 |          512 | 0.000134975 |       8 |       4 |      32 |                |                      |\n",
            "+-------------------------+----------+-----------------+--------------+-------------+---------+---------+---------+----------------+----------------------+\n",
            "\n",
            "\n"
          ]
        },
        {
          "output_type": "stream",
          "name": "stderr",
          "text": [
            "\u001b[2m\u001b[36m(func pid=9931)\u001b[0m \n",
            "\u001b[2m\u001b[36m(func pid=9931)\u001b[0m \r 18%|█▊        | 7/39 [00:32<02:28,  4.63s/it]\u001b[A\n"
          ]
        },
        {
          "output_type": "stream",
          "name": "stdout",
          "text": [
            "== Status ==\n",
            "Current time: 2022-10-18 17:34:18 (running for 00:04:23.95)\n",
            "Memory usage on this node: 2.6/12.7 GiB\n",
            "Using AsyncHyperBand: num_stopped=0\n",
            "Bracket: Iter 8.000: None | Iter 4.000: None | Iter 2.000: None | Iter 1.000: -0.0028313915245234966\n",
            "Resources requested: 2.0/2 CPUs, 0/0 GPUs, 0.0/7.41 GiB heap, 0.0/3.7 GiB objects\n",
            "Result logdir: /root/ray_results/train_cifar_2022-10-18_17-29-54\n",
            "Number of trials: 10/10 (9 PENDING, 1 RUNNING)\n",
            "+-------------------------+----------+-----------------+--------------+-------------+---------+---------+---------+----------------+----------------------+\n",
            "| Trial name              | status   | loc             |   batch_size |          lr |   step1 |   step2 |   step3 | loss           |   training_iteration |\n",
            "|-------------------------+----------+-----------------+--------------+-------------+---------+---------+---------+----------------+----------------------|\n",
            "| train_cifar_7af34_00000 | RUNNING  | 172.28.0.2:9931 |          512 | 0.000177076 |      64 |      64 |       8 | tensor(0.0028) |                    1 |\n",
            "| train_cifar_7af34_00001 | PENDING  |                 |           32 | 0.0120769   |     128 |       4 |       8 |                |                      |\n",
            "| train_cifar_7af34_00002 | PENDING  |                 |          512 | 0.0173817   |       4 |     256 |     256 |                |                      |\n",
            "| train_cifar_7af34_00003 | PENDING  |                 |          512 | 0.0218424   |     256 |     128 |      32 |                |                      |\n",
            "| train_cifar_7af34_00004 | PENDING  |                 |          512 | 0.00940687  |      32 |      32 |      16 |                |                      |\n",
            "| train_cifar_7af34_00005 | PENDING  |                 |           16 | 0.00258265  |      32 |      16 |      16 |                |                      |\n",
            "| train_cifar_7af34_00006 | PENDING  |                 |           16 | 0.000182904 |     256 |       4 |      16 |                |                      |\n",
            "| train_cifar_7af34_00007 | PENDING  |                 |           16 | 0.000428507 |      64 |       8 |       4 |                |                      |\n",
            "| train_cifar_7af34_00008 | PENDING  |                 |          512 | 0.000294899 |     256 |     256 |       4 |                |                      |\n",
            "| train_cifar_7af34_00009 | PENDING  |                 |          512 | 0.000134975 |       8 |       4 |      32 |                |                      |\n",
            "+-------------------------+----------+-----------------+--------------+-------------+---------+---------+---------+----------------+----------------------+\n",
            "\n",
            "\n"
          ]
        },
        {
          "output_type": "stream",
          "name": "stderr",
          "text": [
            "\u001b[2m\u001b[36m(func pid=9931)\u001b[0m \n",
            "\u001b[2m\u001b[36m(func pid=9931)\u001b[0m \r 21%|██        | 8/39 [00:36<02:21,  4.58s/it]\u001b[A\n"
          ]
        },
        {
          "output_type": "stream",
          "name": "stdout",
          "text": [
            "== Status ==\n",
            "Current time: 2022-10-18 17:34:23 (running for 00:04:28.97)\n",
            "Memory usage on this node: 2.6/12.7 GiB\n",
            "Using AsyncHyperBand: num_stopped=0\n",
            "Bracket: Iter 8.000: None | Iter 4.000: None | Iter 2.000: None | Iter 1.000: -0.0028313915245234966\n",
            "Resources requested: 2.0/2 CPUs, 0/0 GPUs, 0.0/7.41 GiB heap, 0.0/3.7 GiB objects\n",
            "Result logdir: /root/ray_results/train_cifar_2022-10-18_17-29-54\n",
            "Number of trials: 10/10 (9 PENDING, 1 RUNNING)\n",
            "+-------------------------+----------+-----------------+--------------+-------------+---------+---------+---------+----------------+----------------------+\n",
            "| Trial name              | status   | loc             |   batch_size |          lr |   step1 |   step2 |   step3 | loss           |   training_iteration |\n",
            "|-------------------------+----------+-----------------+--------------+-------------+---------+---------+---------+----------------+----------------------|\n",
            "| train_cifar_7af34_00000 | RUNNING  | 172.28.0.2:9931 |          512 | 0.000177076 |      64 |      64 |       8 | tensor(0.0028) |                    1 |\n",
            "| train_cifar_7af34_00001 | PENDING  |                 |           32 | 0.0120769   |     128 |       4 |       8 |                |                      |\n",
            "| train_cifar_7af34_00002 | PENDING  |                 |          512 | 0.0173817   |       4 |     256 |     256 |                |                      |\n",
            "| train_cifar_7af34_00003 | PENDING  |                 |          512 | 0.0218424   |     256 |     128 |      32 |                |                      |\n",
            "| train_cifar_7af34_00004 | PENDING  |                 |          512 | 0.00940687  |      32 |      32 |      16 |                |                      |\n",
            "| train_cifar_7af34_00005 | PENDING  |                 |           16 | 0.00258265  |      32 |      16 |      16 |                |                      |\n",
            "| train_cifar_7af34_00006 | PENDING  |                 |           16 | 0.000182904 |     256 |       4 |      16 |                |                      |\n",
            "| train_cifar_7af34_00007 | PENDING  |                 |           16 | 0.000428507 |      64 |       8 |       4 |                |                      |\n",
            "| train_cifar_7af34_00008 | PENDING  |                 |          512 | 0.000294899 |     256 |     256 |       4 |                |                      |\n",
            "| train_cifar_7af34_00009 | PENDING  |                 |          512 | 0.000134975 |       8 |       4 |      32 |                |                      |\n",
            "+-------------------------+----------+-----------------+--------------+-------------+---------+---------+---------+----------------+----------------------+\n",
            "\n",
            "\n"
          ]
        },
        {
          "output_type": "stream",
          "name": "stderr",
          "text": [
            "\u001b[2m\u001b[36m(func pid=9931)\u001b[0m \n",
            "\u001b[2m\u001b[36m(func pid=9931)\u001b[0m \r 23%|██▎       | 9/39 [00:41<02:16,  4.56s/it]\u001b[A\n"
          ]
        },
        {
          "output_type": "stream",
          "name": "stdout",
          "text": [
            "== Status ==\n",
            "Current time: 2022-10-18 17:34:28 (running for 00:04:33.98)\n",
            "Memory usage on this node: 2.6/12.7 GiB\n",
            "Using AsyncHyperBand: num_stopped=0\n",
            "Bracket: Iter 8.000: None | Iter 4.000: None | Iter 2.000: None | Iter 1.000: -0.0028313915245234966\n",
            "Resources requested: 2.0/2 CPUs, 0/0 GPUs, 0.0/7.41 GiB heap, 0.0/3.7 GiB objects\n",
            "Result logdir: /root/ray_results/train_cifar_2022-10-18_17-29-54\n",
            "Number of trials: 10/10 (9 PENDING, 1 RUNNING)\n",
            "+-------------------------+----------+-----------------+--------------+-------------+---------+---------+---------+----------------+----------------------+\n",
            "| Trial name              | status   | loc             |   batch_size |          lr |   step1 |   step2 |   step3 | loss           |   training_iteration |\n",
            "|-------------------------+----------+-----------------+--------------+-------------+---------+---------+---------+----------------+----------------------|\n",
            "| train_cifar_7af34_00000 | RUNNING  | 172.28.0.2:9931 |          512 | 0.000177076 |      64 |      64 |       8 | tensor(0.0028) |                    1 |\n",
            "| train_cifar_7af34_00001 | PENDING  |                 |           32 | 0.0120769   |     128 |       4 |       8 |                |                      |\n",
            "| train_cifar_7af34_00002 | PENDING  |                 |          512 | 0.0173817   |       4 |     256 |     256 |                |                      |\n",
            "| train_cifar_7af34_00003 | PENDING  |                 |          512 | 0.0218424   |     256 |     128 |      32 |                |                      |\n",
            "| train_cifar_7af34_00004 | PENDING  |                 |          512 | 0.00940687  |      32 |      32 |      16 |                |                      |\n",
            "| train_cifar_7af34_00005 | PENDING  |                 |           16 | 0.00258265  |      32 |      16 |      16 |                |                      |\n",
            "| train_cifar_7af34_00006 | PENDING  |                 |           16 | 0.000182904 |     256 |       4 |      16 |                |                      |\n",
            "| train_cifar_7af34_00007 | PENDING  |                 |           16 | 0.000428507 |      64 |       8 |       4 |                |                      |\n",
            "| train_cifar_7af34_00008 | PENDING  |                 |          512 | 0.000294899 |     256 |     256 |       4 |                |                      |\n",
            "| train_cifar_7af34_00009 | PENDING  |                 |          512 | 0.000134975 |       8 |       4 |      32 |                |                      |\n",
            "+-------------------------+----------+-----------------+--------------+-------------+---------+---------+---------+----------------+----------------------+\n",
            "\n",
            "\n"
          ]
        },
        {
          "output_type": "stream",
          "name": "stderr",
          "text": [
            "\u001b[2m\u001b[36m(func pid=9931)\u001b[0m \n",
            "\u001b[2m\u001b[36m(func pid=9931)\u001b[0m \r 26%|██▌       | 10/39 [00:45<02:11,  4.55s/it]\u001b[A\n"
          ]
        },
        {
          "output_type": "stream",
          "name": "stdout",
          "text": [
            "== Status ==\n",
            "Current time: 2022-10-18 17:34:33 (running for 00:04:39.00)\n",
            "Memory usage on this node: 2.6/12.7 GiB\n",
            "Using AsyncHyperBand: num_stopped=0\n",
            "Bracket: Iter 8.000: None | Iter 4.000: None | Iter 2.000: None | Iter 1.000: -0.0028313915245234966\n",
            "Resources requested: 2.0/2 CPUs, 0/0 GPUs, 0.0/7.41 GiB heap, 0.0/3.7 GiB objects\n",
            "Result logdir: /root/ray_results/train_cifar_2022-10-18_17-29-54\n",
            "Number of trials: 10/10 (9 PENDING, 1 RUNNING)\n",
            "+-------------------------+----------+-----------------+--------------+-------------+---------+---------+---------+----------------+----------------------+\n",
            "| Trial name              | status   | loc             |   batch_size |          lr |   step1 |   step2 |   step3 | loss           |   training_iteration |\n",
            "|-------------------------+----------+-----------------+--------------+-------------+---------+---------+---------+----------------+----------------------|\n",
            "| train_cifar_7af34_00000 | RUNNING  | 172.28.0.2:9931 |          512 | 0.000177076 |      64 |      64 |       8 | tensor(0.0028) |                    1 |\n",
            "| train_cifar_7af34_00001 | PENDING  |                 |           32 | 0.0120769   |     128 |       4 |       8 |                |                      |\n",
            "| train_cifar_7af34_00002 | PENDING  |                 |          512 | 0.0173817   |       4 |     256 |     256 |                |                      |\n",
            "| train_cifar_7af34_00003 | PENDING  |                 |          512 | 0.0218424   |     256 |     128 |      32 |                |                      |\n",
            "| train_cifar_7af34_00004 | PENDING  |                 |          512 | 0.00940687  |      32 |      32 |      16 |                |                      |\n",
            "| train_cifar_7af34_00005 | PENDING  |                 |           16 | 0.00258265  |      32 |      16 |      16 |                |                      |\n",
            "| train_cifar_7af34_00006 | PENDING  |                 |           16 | 0.000182904 |     256 |       4 |      16 |                |                      |\n",
            "| train_cifar_7af34_00007 | PENDING  |                 |           16 | 0.000428507 |      64 |       8 |       4 |                |                      |\n",
            "| train_cifar_7af34_00008 | PENDING  |                 |          512 | 0.000294899 |     256 |     256 |       4 |                |                      |\n",
            "| train_cifar_7af34_00009 | PENDING  |                 |          512 | 0.000134975 |       8 |       4 |      32 |                |                      |\n",
            "+-------------------------+----------+-----------------+--------------+-------------+---------+---------+---------+----------------+----------------------+\n",
            "\n",
            "\n"
          ]
        },
        {
          "output_type": "stream",
          "name": "stderr",
          "text": [
            "\u001b[2m\u001b[36m(func pid=9931)\u001b[0m \n",
            " 28%|██▊       | 11/39 [00:50<02:06,  4.50s/it]\u001b[A\n",
            "\u001b[2m\u001b[36m(func pid=9931)\u001b[0m \n",
            " 31%|███       | 12/39 [00:54<02:00,  4.47s/it]\u001b[A\n"
          ]
        },
        {
          "output_type": "stream",
          "name": "stdout",
          "text": [
            "== Status ==\n",
            "Current time: 2022-10-18 17:34:38 (running for 00:04:44.01)\n",
            "Memory usage on this node: 2.6/12.7 GiB\n",
            "Using AsyncHyperBand: num_stopped=0\n",
            "Bracket: Iter 8.000: None | Iter 4.000: None | Iter 2.000: None | Iter 1.000: -0.0028313915245234966\n",
            "Resources requested: 2.0/2 CPUs, 0/0 GPUs, 0.0/7.41 GiB heap, 0.0/3.7 GiB objects\n",
            "Result logdir: /root/ray_results/train_cifar_2022-10-18_17-29-54\n",
            "Number of trials: 10/10 (9 PENDING, 1 RUNNING)\n",
            "+-------------------------+----------+-----------------+--------------+-------------+---------+---------+---------+----------------+----------------------+\n",
            "| Trial name              | status   | loc             |   batch_size |          lr |   step1 |   step2 |   step3 | loss           |   training_iteration |\n",
            "|-------------------------+----------+-----------------+--------------+-------------+---------+---------+---------+----------------+----------------------|\n",
            "| train_cifar_7af34_00000 | RUNNING  | 172.28.0.2:9931 |          512 | 0.000177076 |      64 |      64 |       8 | tensor(0.0028) |                    1 |\n",
            "| train_cifar_7af34_00001 | PENDING  |                 |           32 | 0.0120769   |     128 |       4 |       8 |                |                      |\n",
            "| train_cifar_7af34_00002 | PENDING  |                 |          512 | 0.0173817   |       4 |     256 |     256 |                |                      |\n",
            "| train_cifar_7af34_00003 | PENDING  |                 |          512 | 0.0218424   |     256 |     128 |      32 |                |                      |\n",
            "| train_cifar_7af34_00004 | PENDING  |                 |          512 | 0.00940687  |      32 |      32 |      16 |                |                      |\n",
            "| train_cifar_7af34_00005 | PENDING  |                 |           16 | 0.00258265  |      32 |      16 |      16 |                |                      |\n",
            "| train_cifar_7af34_00006 | PENDING  |                 |           16 | 0.000182904 |     256 |       4 |      16 |                |                      |\n",
            "| train_cifar_7af34_00007 | PENDING  |                 |           16 | 0.000428507 |      64 |       8 |       4 |                |                      |\n",
            "| train_cifar_7af34_00008 | PENDING  |                 |          512 | 0.000294899 |     256 |     256 |       4 |                |                      |\n",
            "| train_cifar_7af34_00009 | PENDING  |                 |          512 | 0.000134975 |       8 |       4 |      32 |                |                      |\n",
            "+-------------------------+----------+-----------------+--------------+-------------+---------+---------+---------+----------------+----------------------+\n",
            "\n",
            "\n"
          ]
        },
        {
          "output_type": "stream",
          "name": "stderr",
          "text": [
            "\u001b[2m\u001b[36m(func pid=9931)\u001b[0m \n",
            "\u001b[2m\u001b[36m(func pid=9931)\u001b[0m \r 33%|███▎      | 13/39 [00:59<01:56,  4.48s/it]\u001b[A\n"
          ]
        },
        {
          "output_type": "stream",
          "name": "stdout",
          "text": [
            "== Status ==\n",
            "Current time: 2022-10-18 17:34:43 (running for 00:04:49.03)\n",
            "Memory usage on this node: 2.6/12.7 GiB\n",
            "Using AsyncHyperBand: num_stopped=0\n",
            "Bracket: Iter 8.000: None | Iter 4.000: None | Iter 2.000: None | Iter 1.000: -0.0028313915245234966\n",
            "Resources requested: 2.0/2 CPUs, 0/0 GPUs, 0.0/7.41 GiB heap, 0.0/3.7 GiB objects\n",
            "Result logdir: /root/ray_results/train_cifar_2022-10-18_17-29-54\n",
            "Number of trials: 10/10 (9 PENDING, 1 RUNNING)\n",
            "+-------------------------+----------+-----------------+--------------+-------------+---------+---------+---------+----------------+----------------------+\n",
            "| Trial name              | status   | loc             |   batch_size |          lr |   step1 |   step2 |   step3 | loss           |   training_iteration |\n",
            "|-------------------------+----------+-----------------+--------------+-------------+---------+---------+---------+----------------+----------------------|\n",
            "| train_cifar_7af34_00000 | RUNNING  | 172.28.0.2:9931 |          512 | 0.000177076 |      64 |      64 |       8 | tensor(0.0028) |                    1 |\n",
            "| train_cifar_7af34_00001 | PENDING  |                 |           32 | 0.0120769   |     128 |       4 |       8 |                |                      |\n",
            "| train_cifar_7af34_00002 | PENDING  |                 |          512 | 0.0173817   |       4 |     256 |     256 |                |                      |\n",
            "| train_cifar_7af34_00003 | PENDING  |                 |          512 | 0.0218424   |     256 |     128 |      32 |                |                      |\n",
            "| train_cifar_7af34_00004 | PENDING  |                 |          512 | 0.00940687  |      32 |      32 |      16 |                |                      |\n",
            "| train_cifar_7af34_00005 | PENDING  |                 |           16 | 0.00258265  |      32 |      16 |      16 |                |                      |\n",
            "| train_cifar_7af34_00006 | PENDING  |                 |           16 | 0.000182904 |     256 |       4 |      16 |                |                      |\n",
            "| train_cifar_7af34_00007 | PENDING  |                 |           16 | 0.000428507 |      64 |       8 |       4 |                |                      |\n",
            "| train_cifar_7af34_00008 | PENDING  |                 |          512 | 0.000294899 |     256 |     256 |       4 |                |                      |\n",
            "| train_cifar_7af34_00009 | PENDING  |                 |          512 | 0.000134975 |       8 |       4 |      32 |                |                      |\n",
            "+-------------------------+----------+-----------------+--------------+-------------+---------+---------+---------+----------------+----------------------+\n",
            "\n",
            "\n"
          ]
        },
        {
          "output_type": "stream",
          "name": "stderr",
          "text": [
            "\u001b[2m\u001b[36m(func pid=9931)\u001b[0m \n",
            "\u001b[2m\u001b[36m(func pid=9931)\u001b[0m \r 36%|███▌      | 14/39 [01:03<01:51,  4.48s/it]\u001b[A\n"
          ]
        },
        {
          "output_type": "stream",
          "name": "stdout",
          "text": [
            "== Status ==\n",
            "Current time: 2022-10-18 17:34:48 (running for 00:04:54.05)\n",
            "Memory usage on this node: 2.6/12.7 GiB\n",
            "Using AsyncHyperBand: num_stopped=0\n",
            "Bracket: Iter 8.000: None | Iter 4.000: None | Iter 2.000: None | Iter 1.000: -0.0028313915245234966\n",
            "Resources requested: 2.0/2 CPUs, 0/0 GPUs, 0.0/7.41 GiB heap, 0.0/3.7 GiB objects\n",
            "Result logdir: /root/ray_results/train_cifar_2022-10-18_17-29-54\n",
            "Number of trials: 10/10 (9 PENDING, 1 RUNNING)\n",
            "+-------------------------+----------+-----------------+--------------+-------------+---------+---------+---------+----------------+----------------------+\n",
            "| Trial name              | status   | loc             |   batch_size |          lr |   step1 |   step2 |   step3 | loss           |   training_iteration |\n",
            "|-------------------------+----------+-----------------+--------------+-------------+---------+---------+---------+----------------+----------------------|\n",
            "| train_cifar_7af34_00000 | RUNNING  | 172.28.0.2:9931 |          512 | 0.000177076 |      64 |      64 |       8 | tensor(0.0028) |                    1 |\n",
            "| train_cifar_7af34_00001 | PENDING  |                 |           32 | 0.0120769   |     128 |       4 |       8 |                |                      |\n",
            "| train_cifar_7af34_00002 | PENDING  |                 |          512 | 0.0173817   |       4 |     256 |     256 |                |                      |\n",
            "| train_cifar_7af34_00003 | PENDING  |                 |          512 | 0.0218424   |     256 |     128 |      32 |                |                      |\n",
            "| train_cifar_7af34_00004 | PENDING  |                 |          512 | 0.00940687  |      32 |      32 |      16 |                |                      |\n",
            "| train_cifar_7af34_00005 | PENDING  |                 |           16 | 0.00258265  |      32 |      16 |      16 |                |                      |\n",
            "| train_cifar_7af34_00006 | PENDING  |                 |           16 | 0.000182904 |     256 |       4 |      16 |                |                      |\n",
            "| train_cifar_7af34_00007 | PENDING  |                 |           16 | 0.000428507 |      64 |       8 |       4 |                |                      |\n",
            "| train_cifar_7af34_00008 | PENDING  |                 |          512 | 0.000294899 |     256 |     256 |       4 |                |                      |\n",
            "| train_cifar_7af34_00009 | PENDING  |                 |          512 | 0.000134975 |       8 |       4 |      32 |                |                      |\n",
            "+-------------------------+----------+-----------------+--------------+-------------+---------+---------+---------+----------------+----------------------+\n",
            "\n",
            "\n"
          ]
        },
        {
          "output_type": "stream",
          "name": "stderr",
          "text": [
            "\u001b[2m\u001b[36m(func pid=9931)\u001b[0m \n",
            "\u001b[2m\u001b[36m(func pid=9931)\u001b[0m \r 38%|███▊      | 15/39 [01:08<01:47,  4.48s/it]\u001b[A\n"
          ]
        },
        {
          "output_type": "stream",
          "name": "stdout",
          "text": [
            "== Status ==\n",
            "Current time: 2022-10-18 17:34:54 (running for 00:04:59.07)\n",
            "Memory usage on this node: 2.6/12.7 GiB\n",
            "Using AsyncHyperBand: num_stopped=0\n",
            "Bracket: Iter 8.000: None | Iter 4.000: None | Iter 2.000: None | Iter 1.000: -0.0028313915245234966\n",
            "Resources requested: 2.0/2 CPUs, 0/0 GPUs, 0.0/7.41 GiB heap, 0.0/3.7 GiB objects\n",
            "Result logdir: /root/ray_results/train_cifar_2022-10-18_17-29-54\n",
            "Number of trials: 10/10 (9 PENDING, 1 RUNNING)\n",
            "+-------------------------+----------+-----------------+--------------+-------------+---------+---------+---------+----------------+----------------------+\n",
            "| Trial name              | status   | loc             |   batch_size |          lr |   step1 |   step2 |   step3 | loss           |   training_iteration |\n",
            "|-------------------------+----------+-----------------+--------------+-------------+---------+---------+---------+----------------+----------------------|\n",
            "| train_cifar_7af34_00000 | RUNNING  | 172.28.0.2:9931 |          512 | 0.000177076 |      64 |      64 |       8 | tensor(0.0028) |                    1 |\n",
            "| train_cifar_7af34_00001 | PENDING  |                 |           32 | 0.0120769   |     128 |       4 |       8 |                |                      |\n",
            "| train_cifar_7af34_00002 | PENDING  |                 |          512 | 0.0173817   |       4 |     256 |     256 |                |                      |\n",
            "| train_cifar_7af34_00003 | PENDING  |                 |          512 | 0.0218424   |     256 |     128 |      32 |                |                      |\n",
            "| train_cifar_7af34_00004 | PENDING  |                 |          512 | 0.00940687  |      32 |      32 |      16 |                |                      |\n",
            "| train_cifar_7af34_00005 | PENDING  |                 |           16 | 0.00258265  |      32 |      16 |      16 |                |                      |\n",
            "| train_cifar_7af34_00006 | PENDING  |                 |           16 | 0.000182904 |     256 |       4 |      16 |                |                      |\n",
            "| train_cifar_7af34_00007 | PENDING  |                 |           16 | 0.000428507 |      64 |       8 |       4 |                |                      |\n",
            "| train_cifar_7af34_00008 | PENDING  |                 |          512 | 0.000294899 |     256 |     256 |       4 |                |                      |\n",
            "| train_cifar_7af34_00009 | PENDING  |                 |          512 | 0.000134975 |       8 |       4 |      32 |                |                      |\n",
            "+-------------------------+----------+-----------------+--------------+-------------+---------+---------+---------+----------------+----------------------+\n",
            "\n",
            "\n"
          ]
        },
        {
          "output_type": "stream",
          "name": "stderr",
          "text": [
            "\u001b[2m\u001b[36m(func pid=9931)\u001b[0m \n",
            "\u001b[2m\u001b[36m(func pid=9931)\u001b[0m \r 41%|████      | 16/39 [01:12<01:44,  4.52s/it]\u001b[A\n"
          ]
        },
        {
          "output_type": "stream",
          "name": "stdout",
          "text": [
            "== Status ==\n",
            "Current time: 2022-10-18 17:34:59 (running for 00:05:04.08)\n",
            "Memory usage on this node: 2.6/12.7 GiB\n",
            "Using AsyncHyperBand: num_stopped=0\n",
            "Bracket: Iter 8.000: None | Iter 4.000: None | Iter 2.000: None | Iter 1.000: -0.0028313915245234966\n",
            "Resources requested: 2.0/2 CPUs, 0/0 GPUs, 0.0/7.41 GiB heap, 0.0/3.7 GiB objects\n",
            "Result logdir: /root/ray_results/train_cifar_2022-10-18_17-29-54\n",
            "Number of trials: 10/10 (9 PENDING, 1 RUNNING)\n",
            "+-------------------------+----------+-----------------+--------------+-------------+---------+---------+---------+----------------+----------------------+\n",
            "| Trial name              | status   | loc             |   batch_size |          lr |   step1 |   step2 |   step3 | loss           |   training_iteration |\n",
            "|-------------------------+----------+-----------------+--------------+-------------+---------+---------+---------+----------------+----------------------|\n",
            "| train_cifar_7af34_00000 | RUNNING  | 172.28.0.2:9931 |          512 | 0.000177076 |      64 |      64 |       8 | tensor(0.0028) |                    1 |\n",
            "| train_cifar_7af34_00001 | PENDING  |                 |           32 | 0.0120769   |     128 |       4 |       8 |                |                      |\n",
            "| train_cifar_7af34_00002 | PENDING  |                 |          512 | 0.0173817   |       4 |     256 |     256 |                |                      |\n",
            "| train_cifar_7af34_00003 | PENDING  |                 |          512 | 0.0218424   |     256 |     128 |      32 |                |                      |\n",
            "| train_cifar_7af34_00004 | PENDING  |                 |          512 | 0.00940687  |      32 |      32 |      16 |                |                      |\n",
            "| train_cifar_7af34_00005 | PENDING  |                 |           16 | 0.00258265  |      32 |      16 |      16 |                |                      |\n",
            "| train_cifar_7af34_00006 | PENDING  |                 |           16 | 0.000182904 |     256 |       4 |      16 |                |                      |\n",
            "| train_cifar_7af34_00007 | PENDING  |                 |           16 | 0.000428507 |      64 |       8 |       4 |                |                      |\n",
            "| train_cifar_7af34_00008 | PENDING  |                 |          512 | 0.000294899 |     256 |     256 |       4 |                |                      |\n",
            "| train_cifar_7af34_00009 | PENDING  |                 |          512 | 0.000134975 |       8 |       4 |      32 |                |                      |\n",
            "+-------------------------+----------+-----------------+--------------+-------------+---------+---------+---------+----------------+----------------------+\n",
            "\n",
            "\n"
          ]
        },
        {
          "output_type": "stream",
          "name": "stderr",
          "text": [
            "\u001b[2m\u001b[36m(func pid=9931)\u001b[0m \n",
            "\u001b[2m\u001b[36m(func pid=9931)\u001b[0m \r 44%|████▎     | 17/39 [01:17<01:39,  4.53s/it]\u001b[A\n"
          ]
        },
        {
          "output_type": "stream",
          "name": "stdout",
          "text": [
            "== Status ==\n",
            "Current time: 2022-10-18 17:35:04 (running for 00:05:09.10)\n",
            "Memory usage on this node: 2.6/12.7 GiB\n",
            "Using AsyncHyperBand: num_stopped=0\n",
            "Bracket: Iter 8.000: None | Iter 4.000: None | Iter 2.000: None | Iter 1.000: -0.0028313915245234966\n",
            "Resources requested: 2.0/2 CPUs, 0/0 GPUs, 0.0/7.41 GiB heap, 0.0/3.7 GiB objects\n",
            "Result logdir: /root/ray_results/train_cifar_2022-10-18_17-29-54\n",
            "Number of trials: 10/10 (9 PENDING, 1 RUNNING)\n",
            "+-------------------------+----------+-----------------+--------------+-------------+---------+---------+---------+----------------+----------------------+\n",
            "| Trial name              | status   | loc             |   batch_size |          lr |   step1 |   step2 |   step3 | loss           |   training_iteration |\n",
            "|-------------------------+----------+-----------------+--------------+-------------+---------+---------+---------+----------------+----------------------|\n",
            "| train_cifar_7af34_00000 | RUNNING  | 172.28.0.2:9931 |          512 | 0.000177076 |      64 |      64 |       8 | tensor(0.0028) |                    1 |\n",
            "| train_cifar_7af34_00001 | PENDING  |                 |           32 | 0.0120769   |     128 |       4 |       8 |                |                      |\n",
            "| train_cifar_7af34_00002 | PENDING  |                 |          512 | 0.0173817   |       4 |     256 |     256 |                |                      |\n",
            "| train_cifar_7af34_00003 | PENDING  |                 |          512 | 0.0218424   |     256 |     128 |      32 |                |                      |\n",
            "| train_cifar_7af34_00004 | PENDING  |                 |          512 | 0.00940687  |      32 |      32 |      16 |                |                      |\n",
            "| train_cifar_7af34_00005 | PENDING  |                 |           16 | 0.00258265  |      32 |      16 |      16 |                |                      |\n",
            "| train_cifar_7af34_00006 | PENDING  |                 |           16 | 0.000182904 |     256 |       4 |      16 |                |                      |\n",
            "| train_cifar_7af34_00007 | PENDING  |                 |           16 | 0.000428507 |      64 |       8 |       4 |                |                      |\n",
            "| train_cifar_7af34_00008 | PENDING  |                 |          512 | 0.000294899 |     256 |     256 |       4 |                |                      |\n",
            "| train_cifar_7af34_00009 | PENDING  |                 |          512 | 0.000134975 |       8 |       4 |      32 |                |                      |\n",
            "+-------------------------+----------+-----------------+--------------+-------------+---------+---------+---------+----------------+----------------------+\n",
            "\n",
            "\n"
          ]
        },
        {
          "output_type": "stream",
          "name": "stderr",
          "text": [
            "\u001b[2m\u001b[36m(func pid=9931)\u001b[0m \n",
            "\u001b[2m\u001b[36m(func pid=9931)\u001b[0m \r 46%|████▌     | 18/39 [01:21<01:35,  4.54s/it]\u001b[A\n"
          ]
        },
        {
          "output_type": "stream",
          "name": "stdout",
          "text": [
            "== Status ==\n",
            "Current time: 2022-10-18 17:35:09 (running for 00:05:14.11)\n",
            "Memory usage on this node: 2.6/12.7 GiB\n",
            "Using AsyncHyperBand: num_stopped=0\n",
            "Bracket: Iter 8.000: None | Iter 4.000: None | Iter 2.000: None | Iter 1.000: -0.0028313915245234966\n",
            "Resources requested: 2.0/2 CPUs, 0/0 GPUs, 0.0/7.41 GiB heap, 0.0/3.7 GiB objects\n",
            "Result logdir: /root/ray_results/train_cifar_2022-10-18_17-29-54\n",
            "Number of trials: 10/10 (9 PENDING, 1 RUNNING)\n",
            "+-------------------------+----------+-----------------+--------------+-------------+---------+---------+---------+----------------+----------------------+\n",
            "| Trial name              | status   | loc             |   batch_size |          lr |   step1 |   step2 |   step3 | loss           |   training_iteration |\n",
            "|-------------------------+----------+-----------------+--------------+-------------+---------+---------+---------+----------------+----------------------|\n",
            "| train_cifar_7af34_00000 | RUNNING  | 172.28.0.2:9931 |          512 | 0.000177076 |      64 |      64 |       8 | tensor(0.0028) |                    1 |\n",
            "| train_cifar_7af34_00001 | PENDING  |                 |           32 | 0.0120769   |     128 |       4 |       8 |                |                      |\n",
            "| train_cifar_7af34_00002 | PENDING  |                 |          512 | 0.0173817   |       4 |     256 |     256 |                |                      |\n",
            "| train_cifar_7af34_00003 | PENDING  |                 |          512 | 0.0218424   |     256 |     128 |      32 |                |                      |\n",
            "| train_cifar_7af34_00004 | PENDING  |                 |          512 | 0.00940687  |      32 |      32 |      16 |                |                      |\n",
            "| train_cifar_7af34_00005 | PENDING  |                 |           16 | 0.00258265  |      32 |      16 |      16 |                |                      |\n",
            "| train_cifar_7af34_00006 | PENDING  |                 |           16 | 0.000182904 |     256 |       4 |      16 |                |                      |\n",
            "| train_cifar_7af34_00007 | PENDING  |                 |           16 | 0.000428507 |      64 |       8 |       4 |                |                      |\n",
            "| train_cifar_7af34_00008 | PENDING  |                 |          512 | 0.000294899 |     256 |     256 |       4 |                |                      |\n",
            "| train_cifar_7af34_00009 | PENDING  |                 |          512 | 0.000134975 |       8 |       4 |      32 |                |                      |\n",
            "+-------------------------+----------+-----------------+--------------+-------------+---------+---------+---------+----------------+----------------------+\n",
            "\n",
            "\n"
          ]
        },
        {
          "output_type": "stream",
          "name": "stderr",
          "text": [
            "\u001b[2m\u001b[36m(func pid=9931)\u001b[0m \n",
            "\u001b[2m\u001b[36m(func pid=9931)\u001b[0m \r 49%|████▊     | 19/39 [01:26<01:30,  4.54s/it]\u001b[A\n"
          ]
        },
        {
          "output_type": "stream",
          "name": "stdout",
          "text": [
            "== Status ==\n",
            "Current time: 2022-10-18 17:35:14 (running for 00:05:19.13)\n",
            "Memory usage on this node: 2.6/12.7 GiB\n",
            "Using AsyncHyperBand: num_stopped=0\n",
            "Bracket: Iter 8.000: None | Iter 4.000: None | Iter 2.000: None | Iter 1.000: -0.0028313915245234966\n",
            "Resources requested: 2.0/2 CPUs, 0/0 GPUs, 0.0/7.41 GiB heap, 0.0/3.7 GiB objects\n",
            "Result logdir: /root/ray_results/train_cifar_2022-10-18_17-29-54\n",
            "Number of trials: 10/10 (9 PENDING, 1 RUNNING)\n",
            "+-------------------------+----------+-----------------+--------------+-------------+---------+---------+---------+----------------+----------------------+\n",
            "| Trial name              | status   | loc             |   batch_size |          lr |   step1 |   step2 |   step3 | loss           |   training_iteration |\n",
            "|-------------------------+----------+-----------------+--------------+-------------+---------+---------+---------+----------------+----------------------|\n",
            "| train_cifar_7af34_00000 | RUNNING  | 172.28.0.2:9931 |          512 | 0.000177076 |      64 |      64 |       8 | tensor(0.0028) |                    1 |\n",
            "| train_cifar_7af34_00001 | PENDING  |                 |           32 | 0.0120769   |     128 |       4 |       8 |                |                      |\n",
            "| train_cifar_7af34_00002 | PENDING  |                 |          512 | 0.0173817   |       4 |     256 |     256 |                |                      |\n",
            "| train_cifar_7af34_00003 | PENDING  |                 |          512 | 0.0218424   |     256 |     128 |      32 |                |                      |\n",
            "| train_cifar_7af34_00004 | PENDING  |                 |          512 | 0.00940687  |      32 |      32 |      16 |                |                      |\n",
            "| train_cifar_7af34_00005 | PENDING  |                 |           16 | 0.00258265  |      32 |      16 |      16 |                |                      |\n",
            "| train_cifar_7af34_00006 | PENDING  |                 |           16 | 0.000182904 |     256 |       4 |      16 |                |                      |\n",
            "| train_cifar_7af34_00007 | PENDING  |                 |           16 | 0.000428507 |      64 |       8 |       4 |                |                      |\n",
            "| train_cifar_7af34_00008 | PENDING  |                 |          512 | 0.000294899 |     256 |     256 |       4 |                |                      |\n",
            "| train_cifar_7af34_00009 | PENDING  |                 |          512 | 0.000134975 |       8 |       4 |      32 |                |                      |\n",
            "+-------------------------+----------+-----------------+--------------+-------------+---------+---------+---------+----------------+----------------------+\n",
            "\n",
            "\n"
          ]
        },
        {
          "output_type": "stream",
          "name": "stderr",
          "text": [
            "\u001b[2m\u001b[36m(func pid=9931)\u001b[0m \n",
            "\u001b[2m\u001b[36m(func pid=9931)\u001b[0m \r 51%|█████▏    | 20/39 [01:30<01:26,  4.55s/it]\u001b[A\n"
          ]
        },
        {
          "output_type": "stream",
          "name": "stdout",
          "text": [
            "== Status ==\n",
            "Current time: 2022-10-18 17:35:19 (running for 00:05:24.15)\n",
            "Memory usage on this node: 2.6/12.7 GiB\n",
            "Using AsyncHyperBand: num_stopped=0\n",
            "Bracket: Iter 8.000: None | Iter 4.000: None | Iter 2.000: None | Iter 1.000: -0.0028313915245234966\n",
            "Resources requested: 2.0/2 CPUs, 0/0 GPUs, 0.0/7.41 GiB heap, 0.0/3.7 GiB objects\n",
            "Result logdir: /root/ray_results/train_cifar_2022-10-18_17-29-54\n",
            "Number of trials: 10/10 (9 PENDING, 1 RUNNING)\n",
            "+-------------------------+----------+-----------------+--------------+-------------+---------+---------+---------+----------------+----------------------+\n",
            "| Trial name              | status   | loc             |   batch_size |          lr |   step1 |   step2 |   step3 | loss           |   training_iteration |\n",
            "|-------------------------+----------+-----------------+--------------+-------------+---------+---------+---------+----------------+----------------------|\n",
            "| train_cifar_7af34_00000 | RUNNING  | 172.28.0.2:9931 |          512 | 0.000177076 |      64 |      64 |       8 | tensor(0.0028) |                    1 |\n",
            "| train_cifar_7af34_00001 | PENDING  |                 |           32 | 0.0120769   |     128 |       4 |       8 |                |                      |\n",
            "| train_cifar_7af34_00002 | PENDING  |                 |          512 | 0.0173817   |       4 |     256 |     256 |                |                      |\n",
            "| train_cifar_7af34_00003 | PENDING  |                 |          512 | 0.0218424   |     256 |     128 |      32 |                |                      |\n",
            "| train_cifar_7af34_00004 | PENDING  |                 |          512 | 0.00940687  |      32 |      32 |      16 |                |                      |\n",
            "| train_cifar_7af34_00005 | PENDING  |                 |           16 | 0.00258265  |      32 |      16 |      16 |                |                      |\n",
            "| train_cifar_7af34_00006 | PENDING  |                 |           16 | 0.000182904 |     256 |       4 |      16 |                |                      |\n",
            "| train_cifar_7af34_00007 | PENDING  |                 |           16 | 0.000428507 |      64 |       8 |       4 |                |                      |\n",
            "| train_cifar_7af34_00008 | PENDING  |                 |          512 | 0.000294899 |     256 |     256 |       4 |                |                      |\n",
            "| train_cifar_7af34_00009 | PENDING  |                 |          512 | 0.000134975 |       8 |       4 |      32 |                |                      |\n",
            "+-------------------------+----------+-----------------+--------------+-------------+---------+---------+---------+----------------+----------------------+\n",
            "\n",
            "\n"
          ]
        },
        {
          "output_type": "stream",
          "name": "stderr",
          "text": [
            "\u001b[2m\u001b[36m(func pid=9931)\u001b[0m \n",
            " 54%|█████▍    | 21/39 [01:35<01:21,  4.54s/it]\u001b[A\n",
            "\u001b[2m\u001b[36m(func pid=9931)\u001b[0m \n",
            " 56%|█████▋    | 22/39 [01:40<01:17,  4.55s/it]\u001b[A\n"
          ]
        },
        {
          "output_type": "stream",
          "name": "stdout",
          "text": [
            "== Status ==\n",
            "Current time: 2022-10-18 17:35:24 (running for 00:05:29.17)\n",
            "Memory usage on this node: 2.6/12.7 GiB\n",
            "Using AsyncHyperBand: num_stopped=0\n",
            "Bracket: Iter 8.000: None | Iter 4.000: None | Iter 2.000: None | Iter 1.000: -0.0028313915245234966\n",
            "Resources requested: 2.0/2 CPUs, 0/0 GPUs, 0.0/7.41 GiB heap, 0.0/3.7 GiB objects\n",
            "Result logdir: /root/ray_results/train_cifar_2022-10-18_17-29-54\n",
            "Number of trials: 10/10 (9 PENDING, 1 RUNNING)\n",
            "+-------------------------+----------+-----------------+--------------+-------------+---------+---------+---------+----------------+----------------------+\n",
            "| Trial name              | status   | loc             |   batch_size |          lr |   step1 |   step2 |   step3 | loss           |   training_iteration |\n",
            "|-------------------------+----------+-----------------+--------------+-------------+---------+---------+---------+----------------+----------------------|\n",
            "| train_cifar_7af34_00000 | RUNNING  | 172.28.0.2:9931 |          512 | 0.000177076 |      64 |      64 |       8 | tensor(0.0028) |                    1 |\n",
            "| train_cifar_7af34_00001 | PENDING  |                 |           32 | 0.0120769   |     128 |       4 |       8 |                |                      |\n",
            "| train_cifar_7af34_00002 | PENDING  |                 |          512 | 0.0173817   |       4 |     256 |     256 |                |                      |\n",
            "| train_cifar_7af34_00003 | PENDING  |                 |          512 | 0.0218424   |     256 |     128 |      32 |                |                      |\n",
            "| train_cifar_7af34_00004 | PENDING  |                 |          512 | 0.00940687  |      32 |      32 |      16 |                |                      |\n",
            "| train_cifar_7af34_00005 | PENDING  |                 |           16 | 0.00258265  |      32 |      16 |      16 |                |                      |\n",
            "| train_cifar_7af34_00006 | PENDING  |                 |           16 | 0.000182904 |     256 |       4 |      16 |                |                      |\n",
            "| train_cifar_7af34_00007 | PENDING  |                 |           16 | 0.000428507 |      64 |       8 |       4 |                |                      |\n",
            "| train_cifar_7af34_00008 | PENDING  |                 |          512 | 0.000294899 |     256 |     256 |       4 |                |                      |\n",
            "| train_cifar_7af34_00009 | PENDING  |                 |          512 | 0.000134975 |       8 |       4 |      32 |                |                      |\n",
            "+-------------------------+----------+-----------------+--------------+-------------+---------+---------+---------+----------------+----------------------+\n",
            "\n",
            "\n"
          ]
        },
        {
          "output_type": "stream",
          "name": "stderr",
          "text": [
            "\u001b[2m\u001b[36m(func pid=9931)\u001b[0m \n",
            "\u001b[2m\u001b[36m(func pid=9931)\u001b[0m \r 59%|█████▉    | 23/39 [01:44<01:13,  4.58s/it]\u001b[A\n"
          ]
        },
        {
          "output_type": "stream",
          "name": "stdout",
          "text": [
            "== Status ==\n",
            "Current time: 2022-10-18 17:35:29 (running for 00:05:34.18)\n",
            "Memory usage on this node: 2.6/12.7 GiB\n",
            "Using AsyncHyperBand: num_stopped=0\n",
            "Bracket: Iter 8.000: None | Iter 4.000: None | Iter 2.000: None | Iter 1.000: -0.0028313915245234966\n",
            "Resources requested: 2.0/2 CPUs, 0/0 GPUs, 0.0/7.41 GiB heap, 0.0/3.7 GiB objects\n",
            "Result logdir: /root/ray_results/train_cifar_2022-10-18_17-29-54\n",
            "Number of trials: 10/10 (9 PENDING, 1 RUNNING)\n",
            "+-------------------------+----------+-----------------+--------------+-------------+---------+---------+---------+----------------+----------------------+\n",
            "| Trial name              | status   | loc             |   batch_size |          lr |   step1 |   step2 |   step3 | loss           |   training_iteration |\n",
            "|-------------------------+----------+-----------------+--------------+-------------+---------+---------+---------+----------------+----------------------|\n",
            "| train_cifar_7af34_00000 | RUNNING  | 172.28.0.2:9931 |          512 | 0.000177076 |      64 |      64 |       8 | tensor(0.0028) |                    1 |\n",
            "| train_cifar_7af34_00001 | PENDING  |                 |           32 | 0.0120769   |     128 |       4 |       8 |                |                      |\n",
            "| train_cifar_7af34_00002 | PENDING  |                 |          512 | 0.0173817   |       4 |     256 |     256 |                |                      |\n",
            "| train_cifar_7af34_00003 | PENDING  |                 |          512 | 0.0218424   |     256 |     128 |      32 |                |                      |\n",
            "| train_cifar_7af34_00004 | PENDING  |                 |          512 | 0.00940687  |      32 |      32 |      16 |                |                      |\n",
            "| train_cifar_7af34_00005 | PENDING  |                 |           16 | 0.00258265  |      32 |      16 |      16 |                |                      |\n",
            "| train_cifar_7af34_00006 | PENDING  |                 |           16 | 0.000182904 |     256 |       4 |      16 |                |                      |\n",
            "| train_cifar_7af34_00007 | PENDING  |                 |           16 | 0.000428507 |      64 |       8 |       4 |                |                      |\n",
            "| train_cifar_7af34_00008 | PENDING  |                 |          512 | 0.000294899 |     256 |     256 |       4 |                |                      |\n",
            "| train_cifar_7af34_00009 | PENDING  |                 |          512 | 0.000134975 |       8 |       4 |      32 |                |                      |\n",
            "+-------------------------+----------+-----------------+--------------+-------------+---------+---------+---------+----------------+----------------------+\n",
            "\n",
            "\n",
            "== Status ==\n",
            "Current time: 2022-10-18 17:35:34 (running for 00:05:39.22)\n",
            "Memory usage on this node: 2.6/12.7 GiB\n",
            "Using AsyncHyperBand: num_stopped=0\n",
            "Bracket: Iter 8.000: None | Iter 4.000: None | Iter 2.000: None | Iter 1.000: -0.0028313915245234966\n",
            "Resources requested: 2.0/2 CPUs, 0/0 GPUs, 0.0/7.41 GiB heap, 0.0/3.7 GiB objects\n",
            "Result logdir: /root/ray_results/train_cifar_2022-10-18_17-29-54\n",
            "Number of trials: 10/10 (9 PENDING, 1 RUNNING)\n",
            "+-------------------------+----------+-----------------+--------------+-------------+---------+---------+---------+----------------+----------------------+\n",
            "| Trial name              | status   | loc             |   batch_size |          lr |   step1 |   step2 |   step3 | loss           |   training_iteration |\n",
            "|-------------------------+----------+-----------------+--------------+-------------+---------+---------+---------+----------------+----------------------|\n",
            "| train_cifar_7af34_00000 | RUNNING  | 172.28.0.2:9931 |          512 | 0.000177076 |      64 |      64 |       8 | tensor(0.0028) |                    1 |\n",
            "| train_cifar_7af34_00001 | PENDING  |                 |           32 | 0.0120769   |     128 |       4 |       8 |                |                      |\n",
            "| train_cifar_7af34_00002 | PENDING  |                 |          512 | 0.0173817   |       4 |     256 |     256 |                |                      |\n",
            "| train_cifar_7af34_00003 | PENDING  |                 |          512 | 0.0218424   |     256 |     128 |      32 |                |                      |\n",
            "| train_cifar_7af34_00004 | PENDING  |                 |          512 | 0.00940687  |      32 |      32 |      16 |                |                      |\n",
            "| train_cifar_7af34_00005 | PENDING  |                 |           16 | 0.00258265  |      32 |      16 |      16 |                |                      |\n",
            "| train_cifar_7af34_00006 | PENDING  |                 |           16 | 0.000182904 |     256 |       4 |      16 |                |                      |\n",
            "| train_cifar_7af34_00007 | PENDING  |                 |           16 | 0.000428507 |      64 |       8 |       4 |                |                      |\n",
            "| train_cifar_7af34_00008 | PENDING  |                 |          512 | 0.000294899 |     256 |     256 |       4 |                |                      |\n",
            "| train_cifar_7af34_00009 | PENDING  |                 |          512 | 0.000134975 |       8 |       4 |      32 |                |                      |\n",
            "+-------------------------+----------+-----------------+--------------+-------------+---------+---------+---------+----------------+----------------------+\n",
            "\n",
            "\n"
          ]
        },
        {
          "output_type": "stream",
          "name": "stderr",
          "text": [
            "\u001b[2m\u001b[36m(func pid=9931)\u001b[0m \n",
            "\u001b[2m\u001b[36m(func pid=9931)\u001b[0m \r 62%|██████▏   | 24/39 [01:50<01:16,  5.09s/it]\u001b[A\n"
          ]
        },
        {
          "output_type": "stream",
          "name": "stdout",
          "text": [
            "== Status ==\n",
            "Current time: 2022-10-18 17:35:39 (running for 00:05:44.24)\n",
            "Memory usage on this node: 2.6/12.7 GiB\n",
            "Using AsyncHyperBand: num_stopped=0\n",
            "Bracket: Iter 8.000: None | Iter 4.000: None | Iter 2.000: None | Iter 1.000: -0.0028313915245234966\n",
            "Resources requested: 2.0/2 CPUs, 0/0 GPUs, 0.0/7.41 GiB heap, 0.0/3.7 GiB objects\n",
            "Result logdir: /root/ray_results/train_cifar_2022-10-18_17-29-54\n",
            "Number of trials: 10/10 (9 PENDING, 1 RUNNING)\n",
            "+-------------------------+----------+-----------------+--------------+-------------+---------+---------+---------+----------------+----------------------+\n",
            "| Trial name              | status   | loc             |   batch_size |          lr |   step1 |   step2 |   step3 | loss           |   training_iteration |\n",
            "|-------------------------+----------+-----------------+--------------+-------------+---------+---------+---------+----------------+----------------------|\n",
            "| train_cifar_7af34_00000 | RUNNING  | 172.28.0.2:9931 |          512 | 0.000177076 |      64 |      64 |       8 | tensor(0.0028) |                    1 |\n",
            "| train_cifar_7af34_00001 | PENDING  |                 |           32 | 0.0120769   |     128 |       4 |       8 |                |                      |\n",
            "| train_cifar_7af34_00002 | PENDING  |                 |          512 | 0.0173817   |       4 |     256 |     256 |                |                      |\n",
            "| train_cifar_7af34_00003 | PENDING  |                 |          512 | 0.0218424   |     256 |     128 |      32 |                |                      |\n",
            "| train_cifar_7af34_00004 | PENDING  |                 |          512 | 0.00940687  |      32 |      32 |      16 |                |                      |\n",
            "| train_cifar_7af34_00005 | PENDING  |                 |           16 | 0.00258265  |      32 |      16 |      16 |                |                      |\n",
            "| train_cifar_7af34_00006 | PENDING  |                 |           16 | 0.000182904 |     256 |       4 |      16 |                |                      |\n",
            "| train_cifar_7af34_00007 | PENDING  |                 |           16 | 0.000428507 |      64 |       8 |       4 |                |                      |\n",
            "| train_cifar_7af34_00008 | PENDING  |                 |          512 | 0.000294899 |     256 |     256 |       4 |                |                      |\n",
            "| train_cifar_7af34_00009 | PENDING  |                 |          512 | 0.000134975 |       8 |       4 |      32 |                |                      |\n",
            "+-------------------------+----------+-----------------+--------------+-------------+---------+---------+---------+----------------+----------------------+\n",
            "\n",
            "\n"
          ]
        },
        {
          "output_type": "stream",
          "name": "stderr",
          "text": [
            "\u001b[2m\u001b[36m(func pid=9931)\u001b[0m \n",
            "\u001b[2m\u001b[36m(func pid=9931)\u001b[0m \r 64%|██████▍   | 25/39 [01:56<01:11,  5.14s/it]\u001b[A\n"
          ]
        },
        {
          "output_type": "stream",
          "name": "stdout",
          "text": [
            "== Status ==\n",
            "Current time: 2022-10-18 17:35:44 (running for 00:05:49.27)\n",
            "Memory usage on this node: 2.6/12.7 GiB\n",
            "Using AsyncHyperBand: num_stopped=0\n",
            "Bracket: Iter 8.000: None | Iter 4.000: None | Iter 2.000: None | Iter 1.000: -0.0028313915245234966\n",
            "Resources requested: 2.0/2 CPUs, 0/0 GPUs, 0.0/7.41 GiB heap, 0.0/3.7 GiB objects\n",
            "Result logdir: /root/ray_results/train_cifar_2022-10-18_17-29-54\n",
            "Number of trials: 10/10 (9 PENDING, 1 RUNNING)\n",
            "+-------------------------+----------+-----------------+--------------+-------------+---------+---------+---------+----------------+----------------------+\n",
            "| Trial name              | status   | loc             |   batch_size |          lr |   step1 |   step2 |   step3 | loss           |   training_iteration |\n",
            "|-------------------------+----------+-----------------+--------------+-------------+---------+---------+---------+----------------+----------------------|\n",
            "| train_cifar_7af34_00000 | RUNNING  | 172.28.0.2:9931 |          512 | 0.000177076 |      64 |      64 |       8 | tensor(0.0028) |                    1 |\n",
            "| train_cifar_7af34_00001 | PENDING  |                 |           32 | 0.0120769   |     128 |       4 |       8 |                |                      |\n",
            "| train_cifar_7af34_00002 | PENDING  |                 |          512 | 0.0173817   |       4 |     256 |     256 |                |                      |\n",
            "| train_cifar_7af34_00003 | PENDING  |                 |          512 | 0.0218424   |     256 |     128 |      32 |                |                      |\n",
            "| train_cifar_7af34_00004 | PENDING  |                 |          512 | 0.00940687  |      32 |      32 |      16 |                |                      |\n",
            "| train_cifar_7af34_00005 | PENDING  |                 |           16 | 0.00258265  |      32 |      16 |      16 |                |                      |\n",
            "| train_cifar_7af34_00006 | PENDING  |                 |           16 | 0.000182904 |     256 |       4 |      16 |                |                      |\n",
            "| train_cifar_7af34_00007 | PENDING  |                 |           16 | 0.000428507 |      64 |       8 |       4 |                |                      |\n",
            "| train_cifar_7af34_00008 | PENDING  |                 |          512 | 0.000294899 |     256 |     256 |       4 |                |                      |\n",
            "| train_cifar_7af34_00009 | PENDING  |                 |          512 | 0.000134975 |       8 |       4 |      32 |                |                      |\n",
            "+-------------------------+----------+-----------------+--------------+-------------+---------+---------+---------+----------------+----------------------+\n",
            "\n",
            "\n"
          ]
        },
        {
          "output_type": "stream",
          "name": "stderr",
          "text": [
            "\u001b[2m\u001b[36m(func pid=9931)\u001b[0m \n",
            " 67%|██████▋   | 26/39 [02:00<01:04,  4.93s/it]\u001b[A\n",
            "\u001b[2m\u001b[36m(func pid=9931)\u001b[0m \n",
            " 69%|██████▉   | 27/39 [02:05<00:57,  4.78s/it]\u001b[A\n"
          ]
        },
        {
          "output_type": "stream",
          "name": "stdout",
          "text": [
            "== Status ==\n",
            "Current time: 2022-10-18 17:35:49 (running for 00:05:54.28)\n",
            "Memory usage on this node: 2.6/12.7 GiB\n",
            "Using AsyncHyperBand: num_stopped=0\n",
            "Bracket: Iter 8.000: None | Iter 4.000: None | Iter 2.000: None | Iter 1.000: -0.0028313915245234966\n",
            "Resources requested: 2.0/2 CPUs, 0/0 GPUs, 0.0/7.41 GiB heap, 0.0/3.7 GiB objects\n",
            "Result logdir: /root/ray_results/train_cifar_2022-10-18_17-29-54\n",
            "Number of trials: 10/10 (9 PENDING, 1 RUNNING)\n",
            "+-------------------------+----------+-----------------+--------------+-------------+---------+---------+---------+----------------+----------------------+\n",
            "| Trial name              | status   | loc             |   batch_size |          lr |   step1 |   step2 |   step3 | loss           |   training_iteration |\n",
            "|-------------------------+----------+-----------------+--------------+-------------+---------+---------+---------+----------------+----------------------|\n",
            "| train_cifar_7af34_00000 | RUNNING  | 172.28.0.2:9931 |          512 | 0.000177076 |      64 |      64 |       8 | tensor(0.0028) |                    1 |\n",
            "| train_cifar_7af34_00001 | PENDING  |                 |           32 | 0.0120769   |     128 |       4 |       8 |                |                      |\n",
            "| train_cifar_7af34_00002 | PENDING  |                 |          512 | 0.0173817   |       4 |     256 |     256 |                |                      |\n",
            "| train_cifar_7af34_00003 | PENDING  |                 |          512 | 0.0218424   |     256 |     128 |      32 |                |                      |\n",
            "| train_cifar_7af34_00004 | PENDING  |                 |          512 | 0.00940687  |      32 |      32 |      16 |                |                      |\n",
            "| train_cifar_7af34_00005 | PENDING  |                 |           16 | 0.00258265  |      32 |      16 |      16 |                |                      |\n",
            "| train_cifar_7af34_00006 | PENDING  |                 |           16 | 0.000182904 |     256 |       4 |      16 |                |                      |\n",
            "| train_cifar_7af34_00007 | PENDING  |                 |           16 | 0.000428507 |      64 |       8 |       4 |                |                      |\n",
            "| train_cifar_7af34_00008 | PENDING  |                 |          512 | 0.000294899 |     256 |     256 |       4 |                |                      |\n",
            "| train_cifar_7af34_00009 | PENDING  |                 |          512 | 0.000134975 |       8 |       4 |      32 |                |                      |\n",
            "+-------------------------+----------+-----------------+--------------+-------------+---------+---------+---------+----------------+----------------------+\n",
            "\n",
            "\n"
          ]
        },
        {
          "output_type": "stream",
          "name": "stderr",
          "text": [
            "\u001b[2m\u001b[36m(func pid=9931)\u001b[0m \n",
            "\u001b[2m\u001b[36m(func pid=9931)\u001b[0m \r 72%|███████▏  | 28/39 [02:09<00:51,  4.70s/it]\u001b[A\n"
          ]
        },
        {
          "output_type": "stream",
          "name": "stdout",
          "text": [
            "== Status ==\n",
            "Current time: 2022-10-18 17:35:54 (running for 00:05:59.30)\n",
            "Memory usage on this node: 2.6/12.7 GiB\n",
            "Using AsyncHyperBand: num_stopped=0\n",
            "Bracket: Iter 8.000: None | Iter 4.000: None | Iter 2.000: None | Iter 1.000: -0.0028313915245234966\n",
            "Resources requested: 2.0/2 CPUs, 0/0 GPUs, 0.0/7.41 GiB heap, 0.0/3.7 GiB objects\n",
            "Result logdir: /root/ray_results/train_cifar_2022-10-18_17-29-54\n",
            "Number of trials: 10/10 (9 PENDING, 1 RUNNING)\n",
            "+-------------------------+----------+-----------------+--------------+-------------+---------+---------+---------+----------------+----------------------+\n",
            "| Trial name              | status   | loc             |   batch_size |          lr |   step1 |   step2 |   step3 | loss           |   training_iteration |\n",
            "|-------------------------+----------+-----------------+--------------+-------------+---------+---------+---------+----------------+----------------------|\n",
            "| train_cifar_7af34_00000 | RUNNING  | 172.28.0.2:9931 |          512 | 0.000177076 |      64 |      64 |       8 | tensor(0.0028) |                    1 |\n",
            "| train_cifar_7af34_00001 | PENDING  |                 |           32 | 0.0120769   |     128 |       4 |       8 |                |                      |\n",
            "| train_cifar_7af34_00002 | PENDING  |                 |          512 | 0.0173817   |       4 |     256 |     256 |                |                      |\n",
            "| train_cifar_7af34_00003 | PENDING  |                 |          512 | 0.0218424   |     256 |     128 |      32 |                |                      |\n",
            "| train_cifar_7af34_00004 | PENDING  |                 |          512 | 0.00940687  |      32 |      32 |      16 |                |                      |\n",
            "| train_cifar_7af34_00005 | PENDING  |                 |           16 | 0.00258265  |      32 |      16 |      16 |                |                      |\n",
            "| train_cifar_7af34_00006 | PENDING  |                 |           16 | 0.000182904 |     256 |       4 |      16 |                |                      |\n",
            "| train_cifar_7af34_00007 | PENDING  |                 |           16 | 0.000428507 |      64 |       8 |       4 |                |                      |\n",
            "| train_cifar_7af34_00008 | PENDING  |                 |          512 | 0.000294899 |     256 |     256 |       4 |                |                      |\n",
            "| train_cifar_7af34_00009 | PENDING  |                 |          512 | 0.000134975 |       8 |       4 |      32 |                |                      |\n",
            "+-------------------------+----------+-----------------+--------------+-------------+---------+---------+---------+----------------+----------------------+\n",
            "\n",
            "\n"
          ]
        },
        {
          "output_type": "stream",
          "name": "stderr",
          "text": [
            "\u001b[2m\u001b[36m(func pid=9931)\u001b[0m \n",
            "\u001b[2m\u001b[36m(func pid=9931)\u001b[0m \r 74%|███████▍  | 29/39 [02:14<00:46,  4.65s/it]\u001b[A\n"
          ]
        },
        {
          "output_type": "stream",
          "name": "stdout",
          "text": [
            "== Status ==\n",
            "Current time: 2022-10-18 17:35:59 (running for 00:06:04.31)\n",
            "Memory usage on this node: 2.6/12.7 GiB\n",
            "Using AsyncHyperBand: num_stopped=0\n",
            "Bracket: Iter 8.000: None | Iter 4.000: None | Iter 2.000: None | Iter 1.000: -0.0028313915245234966\n",
            "Resources requested: 2.0/2 CPUs, 0/0 GPUs, 0.0/7.41 GiB heap, 0.0/3.7 GiB objects\n",
            "Result logdir: /root/ray_results/train_cifar_2022-10-18_17-29-54\n",
            "Number of trials: 10/10 (9 PENDING, 1 RUNNING)\n",
            "+-------------------------+----------+-----------------+--------------+-------------+---------+---------+---------+----------------+----------------------+\n",
            "| Trial name              | status   | loc             |   batch_size |          lr |   step1 |   step2 |   step3 | loss           |   training_iteration |\n",
            "|-------------------------+----------+-----------------+--------------+-------------+---------+---------+---------+----------------+----------------------|\n",
            "| train_cifar_7af34_00000 | RUNNING  | 172.28.0.2:9931 |          512 | 0.000177076 |      64 |      64 |       8 | tensor(0.0028) |                    1 |\n",
            "| train_cifar_7af34_00001 | PENDING  |                 |           32 | 0.0120769   |     128 |       4 |       8 |                |                      |\n",
            "| train_cifar_7af34_00002 | PENDING  |                 |          512 | 0.0173817   |       4 |     256 |     256 |                |                      |\n",
            "| train_cifar_7af34_00003 | PENDING  |                 |          512 | 0.0218424   |     256 |     128 |      32 |                |                      |\n",
            "| train_cifar_7af34_00004 | PENDING  |                 |          512 | 0.00940687  |      32 |      32 |      16 |                |                      |\n",
            "| train_cifar_7af34_00005 | PENDING  |                 |           16 | 0.00258265  |      32 |      16 |      16 |                |                      |\n",
            "| train_cifar_7af34_00006 | PENDING  |                 |           16 | 0.000182904 |     256 |       4 |      16 |                |                      |\n",
            "| train_cifar_7af34_00007 | PENDING  |                 |           16 | 0.000428507 |      64 |       8 |       4 |                |                      |\n",
            "| train_cifar_7af34_00008 | PENDING  |                 |          512 | 0.000294899 |     256 |     256 |       4 |                |                      |\n",
            "| train_cifar_7af34_00009 | PENDING  |                 |          512 | 0.000134975 |       8 |       4 |      32 |                |                      |\n",
            "+-------------------------+----------+-----------------+--------------+-------------+---------+---------+---------+----------------+----------------------+\n",
            "\n",
            "\n"
          ]
        },
        {
          "output_type": "stream",
          "name": "stderr",
          "text": [
            "\u001b[2m\u001b[36m(func pid=9931)\u001b[0m \n",
            "\u001b[2m\u001b[36m(func pid=9931)\u001b[0m \r 77%|███████▋  | 30/39 [02:18<00:41,  4.63s/it]\u001b[A\n"
          ]
        },
        {
          "output_type": "stream",
          "name": "stdout",
          "text": [
            "== Status ==\n",
            "Current time: 2022-10-18 17:36:04 (running for 00:06:09.33)\n",
            "Memory usage on this node: 2.6/12.7 GiB\n",
            "Using AsyncHyperBand: num_stopped=0\n",
            "Bracket: Iter 8.000: None | Iter 4.000: None | Iter 2.000: None | Iter 1.000: -0.0028313915245234966\n",
            "Resources requested: 2.0/2 CPUs, 0/0 GPUs, 0.0/7.41 GiB heap, 0.0/3.7 GiB objects\n",
            "Result logdir: /root/ray_results/train_cifar_2022-10-18_17-29-54\n",
            "Number of trials: 10/10 (9 PENDING, 1 RUNNING)\n",
            "+-------------------------+----------+-----------------+--------------+-------------+---------+---------+---------+----------------+----------------------+\n",
            "| Trial name              | status   | loc             |   batch_size |          lr |   step1 |   step2 |   step3 | loss           |   training_iteration |\n",
            "|-------------------------+----------+-----------------+--------------+-------------+---------+---------+---------+----------------+----------------------|\n",
            "| train_cifar_7af34_00000 | RUNNING  | 172.28.0.2:9931 |          512 | 0.000177076 |      64 |      64 |       8 | tensor(0.0028) |                    1 |\n",
            "| train_cifar_7af34_00001 | PENDING  |                 |           32 | 0.0120769   |     128 |       4 |       8 |                |                      |\n",
            "| train_cifar_7af34_00002 | PENDING  |                 |          512 | 0.0173817   |       4 |     256 |     256 |                |                      |\n",
            "| train_cifar_7af34_00003 | PENDING  |                 |          512 | 0.0218424   |     256 |     128 |      32 |                |                      |\n",
            "| train_cifar_7af34_00004 | PENDING  |                 |          512 | 0.00940687  |      32 |      32 |      16 |                |                      |\n",
            "| train_cifar_7af34_00005 | PENDING  |                 |           16 | 0.00258265  |      32 |      16 |      16 |                |                      |\n",
            "| train_cifar_7af34_00006 | PENDING  |                 |           16 | 0.000182904 |     256 |       4 |      16 |                |                      |\n",
            "| train_cifar_7af34_00007 | PENDING  |                 |           16 | 0.000428507 |      64 |       8 |       4 |                |                      |\n",
            "| train_cifar_7af34_00008 | PENDING  |                 |          512 | 0.000294899 |     256 |     256 |       4 |                |                      |\n",
            "| train_cifar_7af34_00009 | PENDING  |                 |          512 | 0.000134975 |       8 |       4 |      32 |                |                      |\n",
            "+-------------------------+----------+-----------------+--------------+-------------+---------+---------+---------+----------------+----------------------+\n",
            "\n",
            "\n"
          ]
        },
        {
          "output_type": "stream",
          "name": "stderr",
          "text": [
            "\u001b[2m\u001b[36m(func pid=9931)\u001b[0m \n",
            "\u001b[2m\u001b[36m(func pid=9931)\u001b[0m \r 79%|███████▉  | 31/39 [02:23<00:37,  4.66s/it]\u001b[A\n"
          ]
        },
        {
          "output_type": "stream",
          "name": "stdout",
          "text": [
            "== Status ==\n",
            "Current time: 2022-10-18 17:36:09 (running for 00:06:14.34)\n",
            "Memory usage on this node: 2.5/12.7 GiB\n",
            "Using AsyncHyperBand: num_stopped=0\n",
            "Bracket: Iter 8.000: None | Iter 4.000: None | Iter 2.000: None | Iter 1.000: -0.0028313915245234966\n",
            "Resources requested: 2.0/2 CPUs, 0/0 GPUs, 0.0/7.41 GiB heap, 0.0/3.7 GiB objects\n",
            "Result logdir: /root/ray_results/train_cifar_2022-10-18_17-29-54\n",
            "Number of trials: 10/10 (9 PENDING, 1 RUNNING)\n",
            "+-------------------------+----------+-----------------+--------------+-------------+---------+---------+---------+----------------+----------------------+\n",
            "| Trial name              | status   | loc             |   batch_size |          lr |   step1 |   step2 |   step3 | loss           |   training_iteration |\n",
            "|-------------------------+----------+-----------------+--------------+-------------+---------+---------+---------+----------------+----------------------|\n",
            "| train_cifar_7af34_00000 | RUNNING  | 172.28.0.2:9931 |          512 | 0.000177076 |      64 |      64 |       8 | tensor(0.0028) |                    1 |\n",
            "| train_cifar_7af34_00001 | PENDING  |                 |           32 | 0.0120769   |     128 |       4 |       8 |                |                      |\n",
            "| train_cifar_7af34_00002 | PENDING  |                 |          512 | 0.0173817   |       4 |     256 |     256 |                |                      |\n",
            "| train_cifar_7af34_00003 | PENDING  |                 |          512 | 0.0218424   |     256 |     128 |      32 |                |                      |\n",
            "| train_cifar_7af34_00004 | PENDING  |                 |          512 | 0.00940687  |      32 |      32 |      16 |                |                      |\n",
            "| train_cifar_7af34_00005 | PENDING  |                 |           16 | 0.00258265  |      32 |      16 |      16 |                |                      |\n",
            "| train_cifar_7af34_00006 | PENDING  |                 |           16 | 0.000182904 |     256 |       4 |      16 |                |                      |\n",
            "| train_cifar_7af34_00007 | PENDING  |                 |           16 | 0.000428507 |      64 |       8 |       4 |                |                      |\n",
            "| train_cifar_7af34_00008 | PENDING  |                 |          512 | 0.000294899 |     256 |     256 |       4 |                |                      |\n",
            "| train_cifar_7af34_00009 | PENDING  |                 |          512 | 0.000134975 |       8 |       4 |      32 |                |                      |\n",
            "+-------------------------+----------+-----------------+--------------+-------------+---------+---------+---------+----------------+----------------------+\n",
            "\n",
            "\n"
          ]
        },
        {
          "output_type": "stream",
          "name": "stderr",
          "text": [
            "\u001b[2m\u001b[36m(func pid=9931)\u001b[0m \n",
            "\u001b[2m\u001b[36m(func pid=9931)\u001b[0m \r 82%|████████▏ | 32/39 [02:28<00:32,  4.63s/it]\u001b[A\n"
          ]
        },
        {
          "output_type": "stream",
          "name": "stdout",
          "text": [
            "== Status ==\n",
            "Current time: 2022-10-18 17:36:14 (running for 00:06:19.37)\n",
            "Memory usage on this node: 2.5/12.7 GiB\n",
            "Using AsyncHyperBand: num_stopped=0\n",
            "Bracket: Iter 8.000: None | Iter 4.000: None | Iter 2.000: None | Iter 1.000: -0.0028313915245234966\n",
            "Resources requested: 2.0/2 CPUs, 0/0 GPUs, 0.0/7.41 GiB heap, 0.0/3.7 GiB objects\n",
            "Result logdir: /root/ray_results/train_cifar_2022-10-18_17-29-54\n",
            "Number of trials: 10/10 (9 PENDING, 1 RUNNING)\n",
            "+-------------------------+----------+-----------------+--------------+-------------+---------+---------+---------+----------------+----------------------+\n",
            "| Trial name              | status   | loc             |   batch_size |          lr |   step1 |   step2 |   step3 | loss           |   training_iteration |\n",
            "|-------------------------+----------+-----------------+--------------+-------------+---------+---------+---------+----------------+----------------------|\n",
            "| train_cifar_7af34_00000 | RUNNING  | 172.28.0.2:9931 |          512 | 0.000177076 |      64 |      64 |       8 | tensor(0.0028) |                    1 |\n",
            "| train_cifar_7af34_00001 | PENDING  |                 |           32 | 0.0120769   |     128 |       4 |       8 |                |                      |\n",
            "| train_cifar_7af34_00002 | PENDING  |                 |          512 | 0.0173817   |       4 |     256 |     256 |                |                      |\n",
            "| train_cifar_7af34_00003 | PENDING  |                 |          512 | 0.0218424   |     256 |     128 |      32 |                |                      |\n",
            "| train_cifar_7af34_00004 | PENDING  |                 |          512 | 0.00940687  |      32 |      32 |      16 |                |                      |\n",
            "| train_cifar_7af34_00005 | PENDING  |                 |           16 | 0.00258265  |      32 |      16 |      16 |                |                      |\n",
            "| train_cifar_7af34_00006 | PENDING  |                 |           16 | 0.000182904 |     256 |       4 |      16 |                |                      |\n",
            "| train_cifar_7af34_00007 | PENDING  |                 |           16 | 0.000428507 |      64 |       8 |       4 |                |                      |\n",
            "| train_cifar_7af34_00008 | PENDING  |                 |          512 | 0.000294899 |     256 |     256 |       4 |                |                      |\n",
            "| train_cifar_7af34_00009 | PENDING  |                 |          512 | 0.000134975 |       8 |       4 |      32 |                |                      |\n",
            "+-------------------------+----------+-----------------+--------------+-------------+---------+---------+---------+----------------+----------------------+\n",
            "\n",
            "\n"
          ]
        },
        {
          "output_type": "stream",
          "name": "stderr",
          "text": [
            "\u001b[2m\u001b[36m(func pid=9931)\u001b[0m \n",
            "\u001b[2m\u001b[36m(func pid=9931)\u001b[0m \r 85%|████████▍ | 33/39 [02:32<00:27,  4.58s/it]\u001b[A\n"
          ]
        },
        {
          "output_type": "stream",
          "name": "stdout",
          "text": [
            "== Status ==\n",
            "Current time: 2022-10-18 17:36:19 (running for 00:06:24.38)\n",
            "Memory usage on this node: 2.5/12.7 GiB\n",
            "Using AsyncHyperBand: num_stopped=0\n",
            "Bracket: Iter 8.000: None | Iter 4.000: None | Iter 2.000: None | Iter 1.000: -0.0028313915245234966\n",
            "Resources requested: 2.0/2 CPUs, 0/0 GPUs, 0.0/7.41 GiB heap, 0.0/3.7 GiB objects\n",
            "Result logdir: /root/ray_results/train_cifar_2022-10-18_17-29-54\n",
            "Number of trials: 10/10 (9 PENDING, 1 RUNNING)\n",
            "+-------------------------+----------+-----------------+--------------+-------------+---------+---------+---------+----------------+----------------------+\n",
            "| Trial name              | status   | loc             |   batch_size |          lr |   step1 |   step2 |   step3 | loss           |   training_iteration |\n",
            "|-------------------------+----------+-----------------+--------------+-------------+---------+---------+---------+----------------+----------------------|\n",
            "| train_cifar_7af34_00000 | RUNNING  | 172.28.0.2:9931 |          512 | 0.000177076 |      64 |      64 |       8 | tensor(0.0028) |                    1 |\n",
            "| train_cifar_7af34_00001 | PENDING  |                 |           32 | 0.0120769   |     128 |       4 |       8 |                |                      |\n",
            "| train_cifar_7af34_00002 | PENDING  |                 |          512 | 0.0173817   |       4 |     256 |     256 |                |                      |\n",
            "| train_cifar_7af34_00003 | PENDING  |                 |          512 | 0.0218424   |     256 |     128 |      32 |                |                      |\n",
            "| train_cifar_7af34_00004 | PENDING  |                 |          512 | 0.00940687  |      32 |      32 |      16 |                |                      |\n",
            "| train_cifar_7af34_00005 | PENDING  |                 |           16 | 0.00258265  |      32 |      16 |      16 |                |                      |\n",
            "| train_cifar_7af34_00006 | PENDING  |                 |           16 | 0.000182904 |     256 |       4 |      16 |                |                      |\n",
            "| train_cifar_7af34_00007 | PENDING  |                 |           16 | 0.000428507 |      64 |       8 |       4 |                |                      |\n",
            "| train_cifar_7af34_00008 | PENDING  |                 |          512 | 0.000294899 |     256 |     256 |       4 |                |                      |\n",
            "| train_cifar_7af34_00009 | PENDING  |                 |          512 | 0.000134975 |       8 |       4 |      32 |                |                      |\n",
            "+-------------------------+----------+-----------------+--------------+-------------+---------+---------+---------+----------------+----------------------+\n",
            "\n",
            "\n"
          ]
        },
        {
          "output_type": "stream",
          "name": "stderr",
          "text": [
            "\u001b[2m\u001b[36m(func pid=9931)\u001b[0m \n",
            "\u001b[2m\u001b[36m(func pid=9931)\u001b[0m \r 87%|████████▋ | 34/39 [02:36<00:22,  4.55s/it]\u001b[A\n"
          ]
        },
        {
          "output_type": "stream",
          "name": "stdout",
          "text": [
            "== Status ==\n",
            "Current time: 2022-10-18 17:36:24 (running for 00:06:29.40)\n",
            "Memory usage on this node: 2.5/12.7 GiB\n",
            "Using AsyncHyperBand: num_stopped=0\n",
            "Bracket: Iter 8.000: None | Iter 4.000: None | Iter 2.000: None | Iter 1.000: -0.0028313915245234966\n",
            "Resources requested: 2.0/2 CPUs, 0/0 GPUs, 0.0/7.41 GiB heap, 0.0/3.7 GiB objects\n",
            "Result logdir: /root/ray_results/train_cifar_2022-10-18_17-29-54\n",
            "Number of trials: 10/10 (9 PENDING, 1 RUNNING)\n",
            "+-------------------------+----------+-----------------+--------------+-------------+---------+---------+---------+----------------+----------------------+\n",
            "| Trial name              | status   | loc             |   batch_size |          lr |   step1 |   step2 |   step3 | loss           |   training_iteration |\n",
            "|-------------------------+----------+-----------------+--------------+-------------+---------+---------+---------+----------------+----------------------|\n",
            "| train_cifar_7af34_00000 | RUNNING  | 172.28.0.2:9931 |          512 | 0.000177076 |      64 |      64 |       8 | tensor(0.0028) |                    1 |\n",
            "| train_cifar_7af34_00001 | PENDING  |                 |           32 | 0.0120769   |     128 |       4 |       8 |                |                      |\n",
            "| train_cifar_7af34_00002 | PENDING  |                 |          512 | 0.0173817   |       4 |     256 |     256 |                |                      |\n",
            "| train_cifar_7af34_00003 | PENDING  |                 |          512 | 0.0218424   |     256 |     128 |      32 |                |                      |\n",
            "| train_cifar_7af34_00004 | PENDING  |                 |          512 | 0.00940687  |      32 |      32 |      16 |                |                      |\n",
            "| train_cifar_7af34_00005 | PENDING  |                 |           16 | 0.00258265  |      32 |      16 |      16 |                |                      |\n",
            "| train_cifar_7af34_00006 | PENDING  |                 |           16 | 0.000182904 |     256 |       4 |      16 |                |                      |\n",
            "| train_cifar_7af34_00007 | PENDING  |                 |           16 | 0.000428507 |      64 |       8 |       4 |                |                      |\n",
            "| train_cifar_7af34_00008 | PENDING  |                 |          512 | 0.000294899 |     256 |     256 |       4 |                |                      |\n",
            "| train_cifar_7af34_00009 | PENDING  |                 |          512 | 0.000134975 |       8 |       4 |      32 |                |                      |\n",
            "+-------------------------+----------+-----------------+--------------+-------------+---------+---------+---------+----------------+----------------------+\n",
            "\n",
            "\n"
          ]
        },
        {
          "output_type": "stream",
          "name": "stderr",
          "text": [
            "\u001b[2m\u001b[36m(func pid=9931)\u001b[0m \n",
            "\u001b[2m\u001b[36m(func pid=9931)\u001b[0m \r 90%|████████▉ | 35/39 [02:41<00:18,  4.54s/it]\u001b[A\n"
          ]
        },
        {
          "output_type": "stream",
          "name": "stdout",
          "text": [
            "== Status ==\n",
            "Current time: 2022-10-18 17:36:29 (running for 00:06:34.41)\n",
            "Memory usage on this node: 2.5/12.7 GiB\n",
            "Using AsyncHyperBand: num_stopped=0\n",
            "Bracket: Iter 8.000: None | Iter 4.000: None | Iter 2.000: None | Iter 1.000: -0.0028313915245234966\n",
            "Resources requested: 2.0/2 CPUs, 0/0 GPUs, 0.0/7.41 GiB heap, 0.0/3.7 GiB objects\n",
            "Result logdir: /root/ray_results/train_cifar_2022-10-18_17-29-54\n",
            "Number of trials: 10/10 (9 PENDING, 1 RUNNING)\n",
            "+-------------------------+----------+-----------------+--------------+-------------+---------+---------+---------+----------------+----------------------+\n",
            "| Trial name              | status   | loc             |   batch_size |          lr |   step1 |   step2 |   step3 | loss           |   training_iteration |\n",
            "|-------------------------+----------+-----------------+--------------+-------------+---------+---------+---------+----------------+----------------------|\n",
            "| train_cifar_7af34_00000 | RUNNING  | 172.28.0.2:9931 |          512 | 0.000177076 |      64 |      64 |       8 | tensor(0.0028) |                    1 |\n",
            "| train_cifar_7af34_00001 | PENDING  |                 |           32 | 0.0120769   |     128 |       4 |       8 |                |                      |\n",
            "| train_cifar_7af34_00002 | PENDING  |                 |          512 | 0.0173817   |       4 |     256 |     256 |                |                      |\n",
            "| train_cifar_7af34_00003 | PENDING  |                 |          512 | 0.0218424   |     256 |     128 |      32 |                |                      |\n",
            "| train_cifar_7af34_00004 | PENDING  |                 |          512 | 0.00940687  |      32 |      32 |      16 |                |                      |\n",
            "| train_cifar_7af34_00005 | PENDING  |                 |           16 | 0.00258265  |      32 |      16 |      16 |                |                      |\n",
            "| train_cifar_7af34_00006 | PENDING  |                 |           16 | 0.000182904 |     256 |       4 |      16 |                |                      |\n",
            "| train_cifar_7af34_00007 | PENDING  |                 |           16 | 0.000428507 |      64 |       8 |       4 |                |                      |\n",
            "| train_cifar_7af34_00008 | PENDING  |                 |          512 | 0.000294899 |     256 |     256 |       4 |                |                      |\n",
            "| train_cifar_7af34_00009 | PENDING  |                 |          512 | 0.000134975 |       8 |       4 |      32 |                |                      |\n",
            "+-------------------------+----------+-----------------+--------------+-------------+---------+---------+---------+----------------+----------------------+\n",
            "\n",
            "\n"
          ]
        },
        {
          "output_type": "stream",
          "name": "stderr",
          "text": [
            "\u001b[2m\u001b[36m(func pid=9931)\u001b[0m \n",
            " 92%|█████████▏| 36/39 [02:45<00:13,  4.52s/it]\u001b[A\n",
            "\u001b[2m\u001b[36m(func pid=9931)\u001b[0m \n",
            " 95%|█████████▍| 37/39 [02:50<00:09,  4.52s/it]\u001b[A\n"
          ]
        },
        {
          "output_type": "stream",
          "name": "stdout",
          "text": [
            "== Status ==\n",
            "Current time: 2022-10-18 17:36:34 (running for 00:06:39.44)\n",
            "Memory usage on this node: 2.5/12.7 GiB\n",
            "Using AsyncHyperBand: num_stopped=0\n",
            "Bracket: Iter 8.000: None | Iter 4.000: None | Iter 2.000: None | Iter 1.000: -0.0028313915245234966\n",
            "Resources requested: 2.0/2 CPUs, 0/0 GPUs, 0.0/7.41 GiB heap, 0.0/3.7 GiB objects\n",
            "Result logdir: /root/ray_results/train_cifar_2022-10-18_17-29-54\n",
            "Number of trials: 10/10 (9 PENDING, 1 RUNNING)\n",
            "+-------------------------+----------+-----------------+--------------+-------------+---------+---------+---------+----------------+----------------------+\n",
            "| Trial name              | status   | loc             |   batch_size |          lr |   step1 |   step2 |   step3 | loss           |   training_iteration |\n",
            "|-------------------------+----------+-----------------+--------------+-------------+---------+---------+---------+----------------+----------------------|\n",
            "| train_cifar_7af34_00000 | RUNNING  | 172.28.0.2:9931 |          512 | 0.000177076 |      64 |      64 |       8 | tensor(0.0028) |                    1 |\n",
            "| train_cifar_7af34_00001 | PENDING  |                 |           32 | 0.0120769   |     128 |       4 |       8 |                |                      |\n",
            "| train_cifar_7af34_00002 | PENDING  |                 |          512 | 0.0173817   |       4 |     256 |     256 |                |                      |\n",
            "| train_cifar_7af34_00003 | PENDING  |                 |          512 | 0.0218424   |     256 |     128 |      32 |                |                      |\n",
            "| train_cifar_7af34_00004 | PENDING  |                 |          512 | 0.00940687  |      32 |      32 |      16 |                |                      |\n",
            "| train_cifar_7af34_00005 | PENDING  |                 |           16 | 0.00258265  |      32 |      16 |      16 |                |                      |\n",
            "| train_cifar_7af34_00006 | PENDING  |                 |           16 | 0.000182904 |     256 |       4 |      16 |                |                      |\n",
            "| train_cifar_7af34_00007 | PENDING  |                 |           16 | 0.000428507 |      64 |       8 |       4 |                |                      |\n",
            "| train_cifar_7af34_00008 | PENDING  |                 |          512 | 0.000294899 |     256 |     256 |       4 |                |                      |\n",
            "| train_cifar_7af34_00009 | PENDING  |                 |          512 | 0.000134975 |       8 |       4 |      32 |                |                      |\n",
            "+-------------------------+----------+-----------------+--------------+-------------+---------+---------+---------+----------------+----------------------+\n",
            "\n",
            "\n"
          ]
        },
        {
          "output_type": "stream",
          "name": "stderr",
          "text": [
            "\u001b[2m\u001b[36m(func pid=9931)\u001b[0m \n",
            "\u001b[2m\u001b[36m(func pid=9931)\u001b[0m \r 97%|█████████▋| 38/39 [02:54<00:04,  4.50s/it]\u001b[A\n"
          ]
        },
        {
          "output_type": "stream",
          "name": "stdout",
          "text": [
            "== Status ==\n",
            "Current time: 2022-10-18 17:36:39 (running for 00:06:44.45)\n",
            "Memory usage on this node: 2.5/12.7 GiB\n",
            "Using AsyncHyperBand: num_stopped=0\n",
            "Bracket: Iter 8.000: None | Iter 4.000: None | Iter 2.000: None | Iter 1.000: -0.0028313915245234966\n",
            "Resources requested: 2.0/2 CPUs, 0/0 GPUs, 0.0/7.41 GiB heap, 0.0/3.7 GiB objects\n",
            "Result logdir: /root/ray_results/train_cifar_2022-10-18_17-29-54\n",
            "Number of trials: 10/10 (9 PENDING, 1 RUNNING)\n",
            "+-------------------------+----------+-----------------+--------------+-------------+---------+---------+---------+----------------+----------------------+\n",
            "| Trial name              | status   | loc             |   batch_size |          lr |   step1 |   step2 |   step3 | loss           |   training_iteration |\n",
            "|-------------------------+----------+-----------------+--------------+-------------+---------+---------+---------+----------------+----------------------|\n",
            "| train_cifar_7af34_00000 | RUNNING  | 172.28.0.2:9931 |          512 | 0.000177076 |      64 |      64 |       8 | tensor(0.0028) |                    1 |\n",
            "| train_cifar_7af34_00001 | PENDING  |                 |           32 | 0.0120769   |     128 |       4 |       8 |                |                      |\n",
            "| train_cifar_7af34_00002 | PENDING  |                 |          512 | 0.0173817   |       4 |     256 |     256 |                |                      |\n",
            "| train_cifar_7af34_00003 | PENDING  |                 |          512 | 0.0218424   |     256 |     128 |      32 |                |                      |\n",
            "| train_cifar_7af34_00004 | PENDING  |                 |          512 | 0.00940687  |      32 |      32 |      16 |                |                      |\n",
            "| train_cifar_7af34_00005 | PENDING  |                 |           16 | 0.00258265  |      32 |      16 |      16 |                |                      |\n",
            "| train_cifar_7af34_00006 | PENDING  |                 |           16 | 0.000182904 |     256 |       4 |      16 |                |                      |\n",
            "| train_cifar_7af34_00007 | PENDING  |                 |           16 | 0.000428507 |      64 |       8 |       4 |                |                      |\n",
            "| train_cifar_7af34_00008 | PENDING  |                 |          512 | 0.000294899 |     256 |     256 |       4 |                |                      |\n",
            "| train_cifar_7af34_00009 | PENDING  |                 |          512 | 0.000134975 |       8 |       4 |      32 |                |                      |\n",
            "+-------------------------+----------+-----------------+--------------+-------------+---------+---------+---------+----------------+----------------------+\n",
            "\n",
            "\n"
          ]
        },
        {
          "output_type": "stream",
          "name": "stderr",
          "text": [
            "\u001b[2m\u001b[36m(func pid=9931)\u001b[0m \n",
            "\u001b[2m\u001b[36m(func pid=9931)\u001b[0m \r100%|██████████| 39/39 [02:59<00:00,  4.52s/it]\u001b[A\r100%|██████████| 39/39 [02:59<00:00,  4.60s/it]\n"
          ]
        },
        {
          "output_type": "stream",
          "name": "stdout",
          "text": [
            "== Status ==\n",
            "Current time: 2022-10-18 17:36:44 (running for 00:06:49.47)\n",
            "Memory usage on this node: 2.5/12.7 GiB\n",
            "Using AsyncHyperBand: num_stopped=0\n",
            "Bracket: Iter 8.000: None | Iter 4.000: None | Iter 2.000: None | Iter 1.000: -0.0028313915245234966\n",
            "Resources requested: 2.0/2 CPUs, 0/0 GPUs, 0.0/7.41 GiB heap, 0.0/3.7 GiB objects\n",
            "Result logdir: /root/ray_results/train_cifar_2022-10-18_17-29-54\n",
            "Number of trials: 10/10 (9 PENDING, 1 RUNNING)\n",
            "+-------------------------+----------+-----------------+--------------+-------------+---------+---------+---------+----------------+----------------------+\n",
            "| Trial name              | status   | loc             |   batch_size |          lr |   step1 |   step2 |   step3 | loss           |   training_iteration |\n",
            "|-------------------------+----------+-----------------+--------------+-------------+---------+---------+---------+----------------+----------------------|\n",
            "| train_cifar_7af34_00000 | RUNNING  | 172.28.0.2:9931 |          512 | 0.000177076 |      64 |      64 |       8 | tensor(0.0028) |                    1 |\n",
            "| train_cifar_7af34_00001 | PENDING  |                 |           32 | 0.0120769   |     128 |       4 |       8 |                |                      |\n",
            "| train_cifar_7af34_00002 | PENDING  |                 |          512 | 0.0173817   |       4 |     256 |     256 |                |                      |\n",
            "| train_cifar_7af34_00003 | PENDING  |                 |          512 | 0.0218424   |     256 |     128 |      32 |                |                      |\n",
            "| train_cifar_7af34_00004 | PENDING  |                 |          512 | 0.00940687  |      32 |      32 |      16 |                |                      |\n",
            "| train_cifar_7af34_00005 | PENDING  |                 |           16 | 0.00258265  |      32 |      16 |      16 |                |                      |\n",
            "| train_cifar_7af34_00006 | PENDING  |                 |           16 | 0.000182904 |     256 |       4 |      16 |                |                      |\n",
            "| train_cifar_7af34_00007 | PENDING  |                 |           16 | 0.000428507 |      64 |       8 |       4 |                |                      |\n",
            "| train_cifar_7af34_00008 | PENDING  |                 |          512 | 0.000294899 |     256 |     256 |       4 |                |                      |\n",
            "| train_cifar_7af34_00009 | PENDING  |                 |          512 | 0.000134975 |       8 |       4 |      32 |                |                      |\n",
            "+-------------------------+----------+-----------------+--------------+-------------+---------+---------+---------+----------------+----------------------+\n",
            "\n",
            "\n",
            "== Status ==\n",
            "Current time: 2022-10-18 17:36:49 (running for 00:06:54.48)\n",
            "Memory usage on this node: 2.5/12.7 GiB\n",
            "Using AsyncHyperBand: num_stopped=0\n",
            "Bracket: Iter 8.000: None | Iter 4.000: None | Iter 2.000: None | Iter 1.000: -0.0028313915245234966\n",
            "Resources requested: 2.0/2 CPUs, 0/0 GPUs, 0.0/7.41 GiB heap, 0.0/3.7 GiB objects\n",
            "Result logdir: /root/ray_results/train_cifar_2022-10-18_17-29-54\n",
            "Number of trials: 10/10 (9 PENDING, 1 RUNNING)\n",
            "+-------------------------+----------+-----------------+--------------+-------------+---------+---------+---------+----------------+----------------------+\n",
            "| Trial name              | status   | loc             |   batch_size |          lr |   step1 |   step2 |   step3 | loss           |   training_iteration |\n",
            "|-------------------------+----------+-----------------+--------------+-------------+---------+---------+---------+----------------+----------------------|\n",
            "| train_cifar_7af34_00000 | RUNNING  | 172.28.0.2:9931 |          512 | 0.000177076 |      64 |      64 |       8 | tensor(0.0028) |                    1 |\n",
            "| train_cifar_7af34_00001 | PENDING  |                 |           32 | 0.0120769   |     128 |       4 |       8 |                |                      |\n",
            "| train_cifar_7af34_00002 | PENDING  |                 |          512 | 0.0173817   |       4 |     256 |     256 |                |                      |\n",
            "| train_cifar_7af34_00003 | PENDING  |                 |          512 | 0.0218424   |     256 |     128 |      32 |                |                      |\n",
            "| train_cifar_7af34_00004 | PENDING  |                 |          512 | 0.00940687  |      32 |      32 |      16 |                |                      |\n",
            "| train_cifar_7af34_00005 | PENDING  |                 |           16 | 0.00258265  |      32 |      16 |      16 |                |                      |\n",
            "| train_cifar_7af34_00006 | PENDING  |                 |           16 | 0.000182904 |     256 |       4 |      16 |                |                      |\n",
            "| train_cifar_7af34_00007 | PENDING  |                 |           16 | 0.000428507 |      64 |       8 |       4 |                |                      |\n",
            "| train_cifar_7af34_00008 | PENDING  |                 |          512 | 0.000294899 |     256 |     256 |       4 |                |                      |\n",
            "| train_cifar_7af34_00009 | PENDING  |                 |          512 | 0.000134975 |       8 |       4 |      32 |                |                      |\n",
            "+-------------------------+----------+-----------------+--------------+-------------+---------+---------+---------+----------------+----------------------+\n",
            "\n",
            "\n",
            "== Status ==\n",
            "Current time: 2022-10-18 17:36:54 (running for 00:06:59.50)\n",
            "Memory usage on this node: 2.5/12.7 GiB\n",
            "Using AsyncHyperBand: num_stopped=0\n",
            "Bracket: Iter 8.000: None | Iter 4.000: None | Iter 2.000: None | Iter 1.000: -0.0028313915245234966\n",
            "Resources requested: 2.0/2 CPUs, 0/0 GPUs, 0.0/7.41 GiB heap, 0.0/3.7 GiB objects\n",
            "Result logdir: /root/ray_results/train_cifar_2022-10-18_17-29-54\n",
            "Number of trials: 10/10 (9 PENDING, 1 RUNNING)\n",
            "+-------------------------+----------+-----------------+--------------+-------------+---------+---------+---------+----------------+----------------------+\n",
            "| Trial name              | status   | loc             |   batch_size |          lr |   step1 |   step2 |   step3 | loss           |   training_iteration |\n",
            "|-------------------------+----------+-----------------+--------------+-------------+---------+---------+---------+----------------+----------------------|\n",
            "| train_cifar_7af34_00000 | RUNNING  | 172.28.0.2:9931 |          512 | 0.000177076 |      64 |      64 |       8 | tensor(0.0028) |                    1 |\n",
            "| train_cifar_7af34_00001 | PENDING  |                 |           32 | 0.0120769   |     128 |       4 |       8 |                |                      |\n",
            "| train_cifar_7af34_00002 | PENDING  |                 |          512 | 0.0173817   |       4 |     256 |     256 |                |                      |\n",
            "| train_cifar_7af34_00003 | PENDING  |                 |          512 | 0.0218424   |     256 |     128 |      32 |                |                      |\n",
            "| train_cifar_7af34_00004 | PENDING  |                 |          512 | 0.00940687  |      32 |      32 |      16 |                |                      |\n",
            "| train_cifar_7af34_00005 | PENDING  |                 |           16 | 0.00258265  |      32 |      16 |      16 |                |                      |\n",
            "| train_cifar_7af34_00006 | PENDING  |                 |           16 | 0.000182904 |     256 |       4 |      16 |                |                      |\n",
            "| train_cifar_7af34_00007 | PENDING  |                 |           16 | 0.000428507 |      64 |       8 |       4 |                |                      |\n",
            "| train_cifar_7af34_00008 | PENDING  |                 |          512 | 0.000294899 |     256 |     256 |       4 |                |                      |\n",
            "| train_cifar_7af34_00009 | PENDING  |                 |          512 | 0.000134975 |       8 |       4 |      32 |                |                      |\n",
            "+-------------------------+----------+-----------------+--------------+-------------+---------+---------+---------+----------------+----------------------+\n",
            "\n",
            "\n",
            "== Status ==\n",
            "Current time: 2022-10-18 17:36:59 (running for 00:07:04.52)\n",
            "Memory usage on this node: 2.5/12.7 GiB\n",
            "Using AsyncHyperBand: num_stopped=0\n",
            "Bracket: Iter 8.000: None | Iter 4.000: None | Iter 2.000: None | Iter 1.000: -0.0028313915245234966\n",
            "Resources requested: 2.0/2 CPUs, 0/0 GPUs, 0.0/7.41 GiB heap, 0.0/3.7 GiB objects\n",
            "Result logdir: /root/ray_results/train_cifar_2022-10-18_17-29-54\n",
            "Number of trials: 10/10 (9 PENDING, 1 RUNNING)\n",
            "+-------------------------+----------+-----------------+--------------+-------------+---------+---------+---------+----------------+----------------------+\n",
            "| Trial name              | status   | loc             |   batch_size |          lr |   step1 |   step2 |   step3 | loss           |   training_iteration |\n",
            "|-------------------------+----------+-----------------+--------------+-------------+---------+---------+---------+----------------+----------------------|\n",
            "| train_cifar_7af34_00000 | RUNNING  | 172.28.0.2:9931 |          512 | 0.000177076 |      64 |      64 |       8 | tensor(0.0028) |                    1 |\n",
            "| train_cifar_7af34_00001 | PENDING  |                 |           32 | 0.0120769   |     128 |       4 |       8 |                |                      |\n",
            "| train_cifar_7af34_00002 | PENDING  |                 |          512 | 0.0173817   |       4 |     256 |     256 |                |                      |\n",
            "| train_cifar_7af34_00003 | PENDING  |                 |          512 | 0.0218424   |     256 |     128 |      32 |                |                      |\n",
            "| train_cifar_7af34_00004 | PENDING  |                 |          512 | 0.00940687  |      32 |      32 |      16 |                |                      |\n",
            "| train_cifar_7af34_00005 | PENDING  |                 |           16 | 0.00258265  |      32 |      16 |      16 |                |                      |\n",
            "| train_cifar_7af34_00006 | PENDING  |                 |           16 | 0.000182904 |     256 |       4 |      16 |                |                      |\n",
            "| train_cifar_7af34_00007 | PENDING  |                 |           16 | 0.000428507 |      64 |       8 |       4 |                |                      |\n",
            "| train_cifar_7af34_00008 | PENDING  |                 |          512 | 0.000294899 |     256 |     256 |       4 |                |                      |\n",
            "| train_cifar_7af34_00009 | PENDING  |                 |          512 | 0.000134975 |       8 |       4 |      32 |                |                      |\n",
            "+-------------------------+----------+-----------------+--------------+-------------+---------+---------+---------+----------------+----------------------+\n",
            "\n",
            "\n",
            "Result for train_cifar_7af34_00000:\n",
            "  date: 2022-10-18_17-37-00\n",
            "  done: false\n",
            "  experiment_id: fedc15a05059426e83502b8be6b02885\n",
            "  hostname: cf84ff17f562\n",
            "  iterations_since_restore: 2\n",
            "  loss: tensor(0.0019)\n",
            "  node_ip: 172.28.0.2\n",
            "  pid: 9931\n",
            "  should_checkpoint: true\n",
            "  time_since_restore: 418.0425012111664\n",
            "  time_this_iter_s: 196.54549264907837\n",
            "  time_total_s: 418.0425012111664\n",
            "  timestamp: 1666114620\n",
            "  timesteps_since_restore: 0\n",
            "  training_iteration: 2\n",
            "  trial_id: 7af34_00000\n",
            "  warmup_time: 0.0048525333404541016\n",
            "  \n",
            "\u001b[2m\u001b[36m(func pid=9931)\u001b[0m Finished Training\n",
            "\u001b[2m\u001b[36m(func pid=9931)\u001b[0m Epoch:2\n"
          ]
        },
        {
          "output_type": "stream",
          "name": "stderr",
          "text": [
            "\u001b[2m\u001b[36m(func pid=9931)\u001b[0m \r 20%|██        | 2/10 [06:57<27:34, 206.76s/it]\n",
            "  0%|          | 0/39 [00:00<?, ?it/s]\u001b[A\n",
            "\u001b[2m\u001b[36m(func pid=9931)\u001b[0m \n",
            "  3%|▎         | 1/39 [00:04<02:54,  4.58s/it]\u001b[A\n"
          ]
        },
        {
          "output_type": "stream",
          "name": "stdout",
          "text": [
            "== Status ==\n",
            "Current time: 2022-10-18 17:37:05 (running for 00:07:10.39)\n",
            "Memory usage on this node: 2.5/12.7 GiB\n",
            "Using AsyncHyperBand: num_stopped=0\n",
            "Bracket: Iter 8.000: None | Iter 4.000: None | Iter 2.000: -0.0018732730532065034 | Iter 1.000: -0.0028313915245234966\n",
            "Resources requested: 2.0/2 CPUs, 0/0 GPUs, 0.0/7.41 GiB heap, 0.0/3.7 GiB objects\n",
            "Result logdir: /root/ray_results/train_cifar_2022-10-18_17-29-54\n",
            "Number of trials: 10/10 (9 PENDING, 1 RUNNING)\n",
            "+-------------------------+----------+-----------------+--------------+-------------+---------+---------+---------+----------------+----------------------+\n",
            "| Trial name              | status   | loc             |   batch_size |          lr |   step1 |   step2 |   step3 | loss           |   training_iteration |\n",
            "|-------------------------+----------+-----------------+--------------+-------------+---------+---------+---------+----------------+----------------------|\n",
            "| train_cifar_7af34_00000 | RUNNING  | 172.28.0.2:9931 |          512 | 0.000177076 |      64 |      64 |       8 | tensor(0.0019) |                    2 |\n",
            "| train_cifar_7af34_00001 | PENDING  |                 |           32 | 0.0120769   |     128 |       4 |       8 |                |                      |\n",
            "| train_cifar_7af34_00002 | PENDING  |                 |          512 | 0.0173817   |       4 |     256 |     256 |                |                      |\n",
            "| train_cifar_7af34_00003 | PENDING  |                 |          512 | 0.0218424   |     256 |     128 |      32 |                |                      |\n",
            "| train_cifar_7af34_00004 | PENDING  |                 |          512 | 0.00940687  |      32 |      32 |      16 |                |                      |\n",
            "| train_cifar_7af34_00005 | PENDING  |                 |           16 | 0.00258265  |      32 |      16 |      16 |                |                      |\n",
            "| train_cifar_7af34_00006 | PENDING  |                 |           16 | 0.000182904 |     256 |       4 |      16 |                |                      |\n",
            "| train_cifar_7af34_00007 | PENDING  |                 |           16 | 0.000428507 |      64 |       8 |       4 |                |                      |\n",
            "| train_cifar_7af34_00008 | PENDING  |                 |          512 | 0.000294899 |     256 |     256 |       4 |                |                      |\n",
            "| train_cifar_7af34_00009 | PENDING  |                 |          512 | 0.000134975 |       8 |       4 |      32 |                |                      |\n",
            "+-------------------------+----------+-----------------+--------------+-------------+---------+---------+---------+----------------+----------------------+\n",
            "\n",
            "\n"
          ]
        },
        {
          "output_type": "stream",
          "name": "stderr",
          "text": [
            "\u001b[2m\u001b[36m(func pid=9931)\u001b[0m \n",
            "\u001b[2m\u001b[36m(func pid=9931)\u001b[0m \r  5%|▌         | 2/39 [00:09<02:50,  4.60s/it]\u001b[A\n"
          ]
        },
        {
          "output_type": "stream",
          "name": "stdout",
          "text": [
            "== Status ==\n",
            "Current time: 2022-10-18 17:37:10 (running for 00:07:15.41)\n",
            "Memory usage on this node: 2.5/12.7 GiB\n",
            "Using AsyncHyperBand: num_stopped=0\n",
            "Bracket: Iter 8.000: None | Iter 4.000: None | Iter 2.000: -0.0018732730532065034 | Iter 1.000: -0.0028313915245234966\n",
            "Resources requested: 2.0/2 CPUs, 0/0 GPUs, 0.0/7.41 GiB heap, 0.0/3.7 GiB objects\n",
            "Result logdir: /root/ray_results/train_cifar_2022-10-18_17-29-54\n",
            "Number of trials: 10/10 (9 PENDING, 1 RUNNING)\n",
            "+-------------------------+----------+-----------------+--------------+-------------+---------+---------+---------+----------------+----------------------+\n",
            "| Trial name              | status   | loc             |   batch_size |          lr |   step1 |   step2 |   step3 | loss           |   training_iteration |\n",
            "|-------------------------+----------+-----------------+--------------+-------------+---------+---------+---------+----------------+----------------------|\n",
            "| train_cifar_7af34_00000 | RUNNING  | 172.28.0.2:9931 |          512 | 0.000177076 |      64 |      64 |       8 | tensor(0.0019) |                    2 |\n",
            "| train_cifar_7af34_00001 | PENDING  |                 |           32 | 0.0120769   |     128 |       4 |       8 |                |                      |\n",
            "| train_cifar_7af34_00002 | PENDING  |                 |          512 | 0.0173817   |       4 |     256 |     256 |                |                      |\n",
            "| train_cifar_7af34_00003 | PENDING  |                 |          512 | 0.0218424   |     256 |     128 |      32 |                |                      |\n",
            "| train_cifar_7af34_00004 | PENDING  |                 |          512 | 0.00940687  |      32 |      32 |      16 |                |                      |\n",
            "| train_cifar_7af34_00005 | PENDING  |                 |           16 | 0.00258265  |      32 |      16 |      16 |                |                      |\n",
            "| train_cifar_7af34_00006 | PENDING  |                 |           16 | 0.000182904 |     256 |       4 |      16 |                |                      |\n",
            "| train_cifar_7af34_00007 | PENDING  |                 |           16 | 0.000428507 |      64 |       8 |       4 |                |                      |\n",
            "| train_cifar_7af34_00008 | PENDING  |                 |          512 | 0.000294899 |     256 |     256 |       4 |                |                      |\n",
            "| train_cifar_7af34_00009 | PENDING  |                 |          512 | 0.000134975 |       8 |       4 |      32 |                |                      |\n",
            "+-------------------------+----------+-----------------+--------------+-------------+---------+---------+---------+----------------+----------------------+\n",
            "\n",
            "\n"
          ]
        },
        {
          "output_type": "stream",
          "name": "stderr",
          "text": [
            "\u001b[2m\u001b[36m(func pid=9931)\u001b[0m \n",
            "\u001b[2m\u001b[36m(func pid=9931)\u001b[0m \r  8%|▊         | 3/39 [00:13<02:45,  4.59s/it]\u001b[A\n"
          ]
        },
        {
          "output_type": "stream",
          "name": "stdout",
          "text": [
            "== Status ==\n",
            "Current time: 2022-10-18 17:37:15 (running for 00:07:20.43)\n",
            "Memory usage on this node: 2.5/12.7 GiB\n",
            "Using AsyncHyperBand: num_stopped=0\n",
            "Bracket: Iter 8.000: None | Iter 4.000: None | Iter 2.000: -0.0018732730532065034 | Iter 1.000: -0.0028313915245234966\n",
            "Resources requested: 2.0/2 CPUs, 0/0 GPUs, 0.0/7.41 GiB heap, 0.0/3.7 GiB objects\n",
            "Result logdir: /root/ray_results/train_cifar_2022-10-18_17-29-54\n",
            "Number of trials: 10/10 (9 PENDING, 1 RUNNING)\n",
            "+-------------------------+----------+-----------------+--------------+-------------+---------+---------+---------+----------------+----------------------+\n",
            "| Trial name              | status   | loc             |   batch_size |          lr |   step1 |   step2 |   step3 | loss           |   training_iteration |\n",
            "|-------------------------+----------+-----------------+--------------+-------------+---------+---------+---------+----------------+----------------------|\n",
            "| train_cifar_7af34_00000 | RUNNING  | 172.28.0.2:9931 |          512 | 0.000177076 |      64 |      64 |       8 | tensor(0.0019) |                    2 |\n",
            "| train_cifar_7af34_00001 | PENDING  |                 |           32 | 0.0120769   |     128 |       4 |       8 |                |                      |\n",
            "| train_cifar_7af34_00002 | PENDING  |                 |          512 | 0.0173817   |       4 |     256 |     256 |                |                      |\n",
            "| train_cifar_7af34_00003 | PENDING  |                 |          512 | 0.0218424   |     256 |     128 |      32 |                |                      |\n",
            "| train_cifar_7af34_00004 | PENDING  |                 |          512 | 0.00940687  |      32 |      32 |      16 |                |                      |\n",
            "| train_cifar_7af34_00005 | PENDING  |                 |           16 | 0.00258265  |      32 |      16 |      16 |                |                      |\n",
            "| train_cifar_7af34_00006 | PENDING  |                 |           16 | 0.000182904 |     256 |       4 |      16 |                |                      |\n",
            "| train_cifar_7af34_00007 | PENDING  |                 |           16 | 0.000428507 |      64 |       8 |       4 |                |                      |\n",
            "| train_cifar_7af34_00008 | PENDING  |                 |          512 | 0.000294899 |     256 |     256 |       4 |                |                      |\n",
            "| train_cifar_7af34_00009 | PENDING  |                 |          512 | 0.000134975 |       8 |       4 |      32 |                |                      |\n",
            "+-------------------------+----------+-----------------+--------------+-------------+---------+---------+---------+----------------+----------------------+\n",
            "\n",
            "\n"
          ]
        },
        {
          "output_type": "stream",
          "name": "stderr",
          "text": [
            "\u001b[2m\u001b[36m(func pid=9931)\u001b[0m \n",
            "\u001b[2m\u001b[36m(func pid=9931)\u001b[0m \r 10%|█         | 4/39 [00:18<02:38,  4.52s/it]\u001b[A\n"
          ]
        },
        {
          "output_type": "stream",
          "name": "stdout",
          "text": [
            "== Status ==\n",
            "Current time: 2022-10-18 17:37:20 (running for 00:07:25.44)\n",
            "Memory usage on this node: 2.5/12.7 GiB\n",
            "Using AsyncHyperBand: num_stopped=0\n",
            "Bracket: Iter 8.000: None | Iter 4.000: None | Iter 2.000: -0.0018732730532065034 | Iter 1.000: -0.0028313915245234966\n",
            "Resources requested: 2.0/2 CPUs, 0/0 GPUs, 0.0/7.41 GiB heap, 0.0/3.7 GiB objects\n",
            "Result logdir: /root/ray_results/train_cifar_2022-10-18_17-29-54\n",
            "Number of trials: 10/10 (9 PENDING, 1 RUNNING)\n",
            "+-------------------------+----------+-----------------+--------------+-------------+---------+---------+---------+----------------+----------------------+\n",
            "| Trial name              | status   | loc             |   batch_size |          lr |   step1 |   step2 |   step3 | loss           |   training_iteration |\n",
            "|-------------------------+----------+-----------------+--------------+-------------+---------+---------+---------+----------------+----------------------|\n",
            "| train_cifar_7af34_00000 | RUNNING  | 172.28.0.2:9931 |          512 | 0.000177076 |      64 |      64 |       8 | tensor(0.0019) |                    2 |\n",
            "| train_cifar_7af34_00001 | PENDING  |                 |           32 | 0.0120769   |     128 |       4 |       8 |                |                      |\n",
            "| train_cifar_7af34_00002 | PENDING  |                 |          512 | 0.0173817   |       4 |     256 |     256 |                |                      |\n",
            "| train_cifar_7af34_00003 | PENDING  |                 |          512 | 0.0218424   |     256 |     128 |      32 |                |                      |\n",
            "| train_cifar_7af34_00004 | PENDING  |                 |          512 | 0.00940687  |      32 |      32 |      16 |                |                      |\n",
            "| train_cifar_7af34_00005 | PENDING  |                 |           16 | 0.00258265  |      32 |      16 |      16 |                |                      |\n",
            "| train_cifar_7af34_00006 | PENDING  |                 |           16 | 0.000182904 |     256 |       4 |      16 |                |                      |\n",
            "| train_cifar_7af34_00007 | PENDING  |                 |           16 | 0.000428507 |      64 |       8 |       4 |                |                      |\n",
            "| train_cifar_7af34_00008 | PENDING  |                 |          512 | 0.000294899 |     256 |     256 |       4 |                |                      |\n",
            "| train_cifar_7af34_00009 | PENDING  |                 |          512 | 0.000134975 |       8 |       4 |      32 |                |                      |\n",
            "+-------------------------+----------+-----------------+--------------+-------------+---------+---------+---------+----------------+----------------------+\n",
            "\n",
            "\n"
          ]
        },
        {
          "output_type": "stream",
          "name": "stderr",
          "text": [
            "\u001b[2m\u001b[36m(func pid=9931)\u001b[0m \n",
            "\u001b[2m\u001b[36m(func pid=9931)\u001b[0m \r 13%|█▎        | 5/39 [00:22<02:33,  4.51s/it]\u001b[A\n"
          ]
        },
        {
          "output_type": "stream",
          "name": "stdout",
          "text": [
            "== Status ==\n",
            "Current time: 2022-10-18 17:37:25 (running for 00:07:30.46)\n",
            "Memory usage on this node: 2.5/12.7 GiB\n",
            "Using AsyncHyperBand: num_stopped=0\n",
            "Bracket: Iter 8.000: None | Iter 4.000: None | Iter 2.000: -0.0018732730532065034 | Iter 1.000: -0.0028313915245234966\n",
            "Resources requested: 2.0/2 CPUs, 0/0 GPUs, 0.0/7.41 GiB heap, 0.0/3.7 GiB objects\n",
            "Result logdir: /root/ray_results/train_cifar_2022-10-18_17-29-54\n",
            "Number of trials: 10/10 (9 PENDING, 1 RUNNING)\n",
            "+-------------------------+----------+-----------------+--------------+-------------+---------+---------+---------+----------------+----------------------+\n",
            "| Trial name              | status   | loc             |   batch_size |          lr |   step1 |   step2 |   step3 | loss           |   training_iteration |\n",
            "|-------------------------+----------+-----------------+--------------+-------------+---------+---------+---------+----------------+----------------------|\n",
            "| train_cifar_7af34_00000 | RUNNING  | 172.28.0.2:9931 |          512 | 0.000177076 |      64 |      64 |       8 | tensor(0.0019) |                    2 |\n",
            "| train_cifar_7af34_00001 | PENDING  |                 |           32 | 0.0120769   |     128 |       4 |       8 |                |                      |\n",
            "| train_cifar_7af34_00002 | PENDING  |                 |          512 | 0.0173817   |       4 |     256 |     256 |                |                      |\n",
            "| train_cifar_7af34_00003 | PENDING  |                 |          512 | 0.0218424   |     256 |     128 |      32 |                |                      |\n",
            "| train_cifar_7af34_00004 | PENDING  |                 |          512 | 0.00940687  |      32 |      32 |      16 |                |                      |\n",
            "| train_cifar_7af34_00005 | PENDING  |                 |           16 | 0.00258265  |      32 |      16 |      16 |                |                      |\n",
            "| train_cifar_7af34_00006 | PENDING  |                 |           16 | 0.000182904 |     256 |       4 |      16 |                |                      |\n",
            "| train_cifar_7af34_00007 | PENDING  |                 |           16 | 0.000428507 |      64 |       8 |       4 |                |                      |\n",
            "| train_cifar_7af34_00008 | PENDING  |                 |          512 | 0.000294899 |     256 |     256 |       4 |                |                      |\n",
            "| train_cifar_7af34_00009 | PENDING  |                 |          512 | 0.000134975 |       8 |       4 |      32 |                |                      |\n",
            "+-------------------------+----------+-----------------+--------------+-------------+---------+---------+---------+----------------+----------------------+\n",
            "\n",
            "\n"
          ]
        },
        {
          "output_type": "stream",
          "name": "stderr",
          "text": [
            "\u001b[2m\u001b[36m(func pid=9931)\u001b[0m \n",
            "\u001b[2m\u001b[36m(func pid=9931)\u001b[0m \r 15%|█▌        | 6/39 [00:27<02:28,  4.51s/it]\u001b[A\n"
          ]
        },
        {
          "output_type": "stream",
          "name": "stdout",
          "text": [
            "== Status ==\n",
            "Current time: 2022-10-18 17:37:30 (running for 00:07:35.47)\n",
            "Memory usage on this node: 2.5/12.7 GiB\n",
            "Using AsyncHyperBand: num_stopped=0\n",
            "Bracket: Iter 8.000: None | Iter 4.000: None | Iter 2.000: -0.0018732730532065034 | Iter 1.000: -0.0028313915245234966\n",
            "Resources requested: 2.0/2 CPUs, 0/0 GPUs, 0.0/7.41 GiB heap, 0.0/3.7 GiB objects\n",
            "Result logdir: /root/ray_results/train_cifar_2022-10-18_17-29-54\n",
            "Number of trials: 10/10 (9 PENDING, 1 RUNNING)\n",
            "+-------------------------+----------+-----------------+--------------+-------------+---------+---------+---------+----------------+----------------------+\n",
            "| Trial name              | status   | loc             |   batch_size |          lr |   step1 |   step2 |   step3 | loss           |   training_iteration |\n",
            "|-------------------------+----------+-----------------+--------------+-------------+---------+---------+---------+----------------+----------------------|\n",
            "| train_cifar_7af34_00000 | RUNNING  | 172.28.0.2:9931 |          512 | 0.000177076 |      64 |      64 |       8 | tensor(0.0019) |                    2 |\n",
            "| train_cifar_7af34_00001 | PENDING  |                 |           32 | 0.0120769   |     128 |       4 |       8 |                |                      |\n",
            "| train_cifar_7af34_00002 | PENDING  |                 |          512 | 0.0173817   |       4 |     256 |     256 |                |                      |\n",
            "| train_cifar_7af34_00003 | PENDING  |                 |          512 | 0.0218424   |     256 |     128 |      32 |                |                      |\n",
            "| train_cifar_7af34_00004 | PENDING  |                 |          512 | 0.00940687  |      32 |      32 |      16 |                |                      |\n",
            "| train_cifar_7af34_00005 | PENDING  |                 |           16 | 0.00258265  |      32 |      16 |      16 |                |                      |\n",
            "| train_cifar_7af34_00006 | PENDING  |                 |           16 | 0.000182904 |     256 |       4 |      16 |                |                      |\n",
            "| train_cifar_7af34_00007 | PENDING  |                 |           16 | 0.000428507 |      64 |       8 |       4 |                |                      |\n",
            "| train_cifar_7af34_00008 | PENDING  |                 |          512 | 0.000294899 |     256 |     256 |       4 |                |                      |\n",
            "| train_cifar_7af34_00009 | PENDING  |                 |          512 | 0.000134975 |       8 |       4 |      32 |                |                      |\n",
            "+-------------------------+----------+-----------------+--------------+-------------+---------+---------+---------+----------------+----------------------+\n",
            "\n",
            "\n"
          ]
        },
        {
          "output_type": "stream",
          "name": "stderr",
          "text": [
            "\u001b[2m\u001b[36m(func pid=9931)\u001b[0m \n",
            "\u001b[2m\u001b[36m(func pid=9931)\u001b[0m \r 18%|█▊        | 7/39 [00:31<02:23,  4.50s/it]\u001b[A\n"
          ]
        },
        {
          "output_type": "stream",
          "name": "stdout",
          "text": [
            "== Status ==\n",
            "Current time: 2022-10-18 17:37:35 (running for 00:07:40.49)\n",
            "Memory usage on this node: 2.5/12.7 GiB\n",
            "Using AsyncHyperBand: num_stopped=0\n",
            "Bracket: Iter 8.000: None | Iter 4.000: None | Iter 2.000: -0.0018732730532065034 | Iter 1.000: -0.0028313915245234966\n",
            "Resources requested: 2.0/2 CPUs, 0/0 GPUs, 0.0/7.41 GiB heap, 0.0/3.7 GiB objects\n",
            "Result logdir: /root/ray_results/train_cifar_2022-10-18_17-29-54\n",
            "Number of trials: 10/10 (9 PENDING, 1 RUNNING)\n",
            "+-------------------------+----------+-----------------+--------------+-------------+---------+---------+---------+----------------+----------------------+\n",
            "| Trial name              | status   | loc             |   batch_size |          lr |   step1 |   step2 |   step3 | loss           |   training_iteration |\n",
            "|-------------------------+----------+-----------------+--------------+-------------+---------+---------+---------+----------------+----------------------|\n",
            "| train_cifar_7af34_00000 | RUNNING  | 172.28.0.2:9931 |          512 | 0.000177076 |      64 |      64 |       8 | tensor(0.0019) |                    2 |\n",
            "| train_cifar_7af34_00001 | PENDING  |                 |           32 | 0.0120769   |     128 |       4 |       8 |                |                      |\n",
            "| train_cifar_7af34_00002 | PENDING  |                 |          512 | 0.0173817   |       4 |     256 |     256 |                |                      |\n",
            "| train_cifar_7af34_00003 | PENDING  |                 |          512 | 0.0218424   |     256 |     128 |      32 |                |                      |\n",
            "| train_cifar_7af34_00004 | PENDING  |                 |          512 | 0.00940687  |      32 |      32 |      16 |                |                      |\n",
            "| train_cifar_7af34_00005 | PENDING  |                 |           16 | 0.00258265  |      32 |      16 |      16 |                |                      |\n",
            "| train_cifar_7af34_00006 | PENDING  |                 |           16 | 0.000182904 |     256 |       4 |      16 |                |                      |\n",
            "| train_cifar_7af34_00007 | PENDING  |                 |           16 | 0.000428507 |      64 |       8 |       4 |                |                      |\n",
            "| train_cifar_7af34_00008 | PENDING  |                 |          512 | 0.000294899 |     256 |     256 |       4 |                |                      |\n",
            "| train_cifar_7af34_00009 | PENDING  |                 |          512 | 0.000134975 |       8 |       4 |      32 |                |                      |\n",
            "+-------------------------+----------+-----------------+--------------+-------------+---------+---------+---------+----------------+----------------------+\n",
            "\n",
            "\n"
          ]
        },
        {
          "output_type": "stream",
          "name": "stderr",
          "text": [
            "\u001b[2m\u001b[36m(func pid=9931)\u001b[0m \n",
            "\u001b[2m\u001b[36m(func pid=9931)\u001b[0m \r 21%|██        | 8/39 [00:36<02:19,  4.50s/it]\u001b[A\n"
          ]
        },
        {
          "output_type": "stream",
          "name": "stdout",
          "text": [
            "== Status ==\n",
            "Current time: 2022-10-18 17:37:40 (running for 00:07:45.51)\n",
            "Memory usage on this node: 2.5/12.7 GiB\n",
            "Using AsyncHyperBand: num_stopped=0\n",
            "Bracket: Iter 8.000: None | Iter 4.000: None | Iter 2.000: -0.0018732730532065034 | Iter 1.000: -0.0028313915245234966\n",
            "Resources requested: 2.0/2 CPUs, 0/0 GPUs, 0.0/7.41 GiB heap, 0.0/3.7 GiB objects\n",
            "Result logdir: /root/ray_results/train_cifar_2022-10-18_17-29-54\n",
            "Number of trials: 10/10 (9 PENDING, 1 RUNNING)\n",
            "+-------------------------+----------+-----------------+--------------+-------------+---------+---------+---------+----------------+----------------------+\n",
            "| Trial name              | status   | loc             |   batch_size |          lr |   step1 |   step2 |   step3 | loss           |   training_iteration |\n",
            "|-------------------------+----------+-----------------+--------------+-------------+---------+---------+---------+----------------+----------------------|\n",
            "| train_cifar_7af34_00000 | RUNNING  | 172.28.0.2:9931 |          512 | 0.000177076 |      64 |      64 |       8 | tensor(0.0019) |                    2 |\n",
            "| train_cifar_7af34_00001 | PENDING  |                 |           32 | 0.0120769   |     128 |       4 |       8 |                |                      |\n",
            "| train_cifar_7af34_00002 | PENDING  |                 |          512 | 0.0173817   |       4 |     256 |     256 |                |                      |\n",
            "| train_cifar_7af34_00003 | PENDING  |                 |          512 | 0.0218424   |     256 |     128 |      32 |                |                      |\n",
            "| train_cifar_7af34_00004 | PENDING  |                 |          512 | 0.00940687  |      32 |      32 |      16 |                |                      |\n",
            "| train_cifar_7af34_00005 | PENDING  |                 |           16 | 0.00258265  |      32 |      16 |      16 |                |                      |\n",
            "| train_cifar_7af34_00006 | PENDING  |                 |           16 | 0.000182904 |     256 |       4 |      16 |                |                      |\n",
            "| train_cifar_7af34_00007 | PENDING  |                 |           16 | 0.000428507 |      64 |       8 |       4 |                |                      |\n",
            "| train_cifar_7af34_00008 | PENDING  |                 |          512 | 0.000294899 |     256 |     256 |       4 |                |                      |\n",
            "| train_cifar_7af34_00009 | PENDING  |                 |          512 | 0.000134975 |       8 |       4 |      32 |                |                      |\n",
            "+-------------------------+----------+-----------------+--------------+-------------+---------+---------+---------+----------------+----------------------+\n",
            "\n",
            "\n"
          ]
        },
        {
          "output_type": "stream",
          "name": "stderr",
          "text": [
            "\u001b[2m\u001b[36m(func pid=9931)\u001b[0m \n",
            "\u001b[2m\u001b[36m(func pid=9931)\u001b[0m \r 23%|██▎       | 9/39 [00:40<02:14,  4.49s/it]\u001b[A\n"
          ]
        },
        {
          "output_type": "stream",
          "name": "stdout",
          "text": [
            "== Status ==\n",
            "Current time: 2022-10-18 17:37:45 (running for 00:07:50.53)\n",
            "Memory usage on this node: 2.5/12.7 GiB\n",
            "Using AsyncHyperBand: num_stopped=0\n",
            "Bracket: Iter 8.000: None | Iter 4.000: None | Iter 2.000: -0.0018732730532065034 | Iter 1.000: -0.0028313915245234966\n",
            "Resources requested: 2.0/2 CPUs, 0/0 GPUs, 0.0/7.41 GiB heap, 0.0/3.7 GiB objects\n",
            "Result logdir: /root/ray_results/train_cifar_2022-10-18_17-29-54\n",
            "Number of trials: 10/10 (9 PENDING, 1 RUNNING)\n",
            "+-------------------------+----------+-----------------+--------------+-------------+---------+---------+---------+----------------+----------------------+\n",
            "| Trial name              | status   | loc             |   batch_size |          lr |   step1 |   step2 |   step3 | loss           |   training_iteration |\n",
            "|-------------------------+----------+-----------------+--------------+-------------+---------+---------+---------+----------------+----------------------|\n",
            "| train_cifar_7af34_00000 | RUNNING  | 172.28.0.2:9931 |          512 | 0.000177076 |      64 |      64 |       8 | tensor(0.0019) |                    2 |\n",
            "| train_cifar_7af34_00001 | PENDING  |                 |           32 | 0.0120769   |     128 |       4 |       8 |                |                      |\n",
            "| train_cifar_7af34_00002 | PENDING  |                 |          512 | 0.0173817   |       4 |     256 |     256 |                |                      |\n",
            "| train_cifar_7af34_00003 | PENDING  |                 |          512 | 0.0218424   |     256 |     128 |      32 |                |                      |\n",
            "| train_cifar_7af34_00004 | PENDING  |                 |          512 | 0.00940687  |      32 |      32 |      16 |                |                      |\n",
            "| train_cifar_7af34_00005 | PENDING  |                 |           16 | 0.00258265  |      32 |      16 |      16 |                |                      |\n",
            "| train_cifar_7af34_00006 | PENDING  |                 |           16 | 0.000182904 |     256 |       4 |      16 |                |                      |\n",
            "| train_cifar_7af34_00007 | PENDING  |                 |           16 | 0.000428507 |      64 |       8 |       4 |                |                      |\n",
            "| train_cifar_7af34_00008 | PENDING  |                 |          512 | 0.000294899 |     256 |     256 |       4 |                |                      |\n",
            "| train_cifar_7af34_00009 | PENDING  |                 |          512 | 0.000134975 |       8 |       4 |      32 |                |                      |\n",
            "+-------------------------+----------+-----------------+--------------+-------------+---------+---------+---------+----------------+----------------------+\n",
            "\n",
            "\n"
          ]
        },
        {
          "output_type": "stream",
          "name": "stderr",
          "text": [
            "\u001b[2m\u001b[36m(func pid=9931)\u001b[0m \n",
            " 26%|██▌       | 10/39 [00:45<02:10,  4.50s/it]\u001b[A\n",
            "\u001b[2m\u001b[36m(func pid=9931)\u001b[0m \n",
            " 28%|██▊       | 11/39 [00:49<02:05,  4.48s/it]\u001b[A\n"
          ]
        },
        {
          "output_type": "stream",
          "name": "stdout",
          "text": [
            "== Status ==\n",
            "Current time: 2022-10-18 17:37:50 (running for 00:07:55.54)\n",
            "Memory usage on this node: 2.5/12.7 GiB\n",
            "Using AsyncHyperBand: num_stopped=0\n",
            "Bracket: Iter 8.000: None | Iter 4.000: None | Iter 2.000: -0.0018732730532065034 | Iter 1.000: -0.0028313915245234966\n",
            "Resources requested: 2.0/2 CPUs, 0/0 GPUs, 0.0/7.41 GiB heap, 0.0/3.7 GiB objects\n",
            "Result logdir: /root/ray_results/train_cifar_2022-10-18_17-29-54\n",
            "Number of trials: 10/10 (9 PENDING, 1 RUNNING)\n",
            "+-------------------------+----------+-----------------+--------------+-------------+---------+---------+---------+----------------+----------------------+\n",
            "| Trial name              | status   | loc             |   batch_size |          lr |   step1 |   step2 |   step3 | loss           |   training_iteration |\n",
            "|-------------------------+----------+-----------------+--------------+-------------+---------+---------+---------+----------------+----------------------|\n",
            "| train_cifar_7af34_00000 | RUNNING  | 172.28.0.2:9931 |          512 | 0.000177076 |      64 |      64 |       8 | tensor(0.0019) |                    2 |\n",
            "| train_cifar_7af34_00001 | PENDING  |                 |           32 | 0.0120769   |     128 |       4 |       8 |                |                      |\n",
            "| train_cifar_7af34_00002 | PENDING  |                 |          512 | 0.0173817   |       4 |     256 |     256 |                |                      |\n",
            "| train_cifar_7af34_00003 | PENDING  |                 |          512 | 0.0218424   |     256 |     128 |      32 |                |                      |\n",
            "| train_cifar_7af34_00004 | PENDING  |                 |          512 | 0.00940687  |      32 |      32 |      16 |                |                      |\n",
            "| train_cifar_7af34_00005 | PENDING  |                 |           16 | 0.00258265  |      32 |      16 |      16 |                |                      |\n",
            "| train_cifar_7af34_00006 | PENDING  |                 |           16 | 0.000182904 |     256 |       4 |      16 |                |                      |\n",
            "| train_cifar_7af34_00007 | PENDING  |                 |           16 | 0.000428507 |      64 |       8 |       4 |                |                      |\n",
            "| train_cifar_7af34_00008 | PENDING  |                 |          512 | 0.000294899 |     256 |     256 |       4 |                |                      |\n",
            "| train_cifar_7af34_00009 | PENDING  |                 |          512 | 0.000134975 |       8 |       4 |      32 |                |                      |\n",
            "+-------------------------+----------+-----------------+--------------+-------------+---------+---------+---------+----------------+----------------------+\n",
            "\n",
            "\n"
          ]
        },
        {
          "output_type": "stream",
          "name": "stderr",
          "text": [
            "\u001b[2m\u001b[36m(func pid=9931)\u001b[0m \n",
            "\u001b[2m\u001b[36m(func pid=9931)\u001b[0m \r 31%|███       | 12/39 [00:54<02:00,  4.48s/it]\u001b[A\n"
          ]
        },
        {
          "output_type": "stream",
          "name": "stdout",
          "text": [
            "== Status ==\n",
            "Current time: 2022-10-18 17:37:55 (running for 00:08:00.57)\n",
            "Memory usage on this node: 2.5/12.7 GiB\n",
            "Using AsyncHyperBand: num_stopped=0\n",
            "Bracket: Iter 8.000: None | Iter 4.000: None | Iter 2.000: -0.0018732730532065034 | Iter 1.000: -0.0028313915245234966\n",
            "Resources requested: 2.0/2 CPUs, 0/0 GPUs, 0.0/7.41 GiB heap, 0.0/3.7 GiB objects\n",
            "Result logdir: /root/ray_results/train_cifar_2022-10-18_17-29-54\n",
            "Number of trials: 10/10 (9 PENDING, 1 RUNNING)\n",
            "+-------------------------+----------+-----------------+--------------+-------------+---------+---------+---------+----------------+----------------------+\n",
            "| Trial name              | status   | loc             |   batch_size |          lr |   step1 |   step2 |   step3 | loss           |   training_iteration |\n",
            "|-------------------------+----------+-----------------+--------------+-------------+---------+---------+---------+----------------+----------------------|\n",
            "| train_cifar_7af34_00000 | RUNNING  | 172.28.0.2:9931 |          512 | 0.000177076 |      64 |      64 |       8 | tensor(0.0019) |                    2 |\n",
            "| train_cifar_7af34_00001 | PENDING  |                 |           32 | 0.0120769   |     128 |       4 |       8 |                |                      |\n",
            "| train_cifar_7af34_00002 | PENDING  |                 |          512 | 0.0173817   |       4 |     256 |     256 |                |                      |\n",
            "| train_cifar_7af34_00003 | PENDING  |                 |          512 | 0.0218424   |     256 |     128 |      32 |                |                      |\n",
            "| train_cifar_7af34_00004 | PENDING  |                 |          512 | 0.00940687  |      32 |      32 |      16 |                |                      |\n",
            "| train_cifar_7af34_00005 | PENDING  |                 |           16 | 0.00258265  |      32 |      16 |      16 |                |                      |\n",
            "| train_cifar_7af34_00006 | PENDING  |                 |           16 | 0.000182904 |     256 |       4 |      16 |                |                      |\n",
            "| train_cifar_7af34_00007 | PENDING  |                 |           16 | 0.000428507 |      64 |       8 |       4 |                |                      |\n",
            "| train_cifar_7af34_00008 | PENDING  |                 |          512 | 0.000294899 |     256 |     256 |       4 |                |                      |\n",
            "| train_cifar_7af34_00009 | PENDING  |                 |          512 | 0.000134975 |       8 |       4 |      32 |                |                      |\n",
            "+-------------------------+----------+-----------------+--------------+-------------+---------+---------+---------+----------------+----------------------+\n",
            "\n",
            "\n"
          ]
        },
        {
          "output_type": "stream",
          "name": "stderr",
          "text": [
            "\u001b[2m\u001b[36m(func pid=9931)\u001b[0m \n",
            "\u001b[2m\u001b[36m(func pid=9931)\u001b[0m \r 33%|███▎      | 13/39 [00:58<01:57,  4.51s/it]\u001b[A\n"
          ]
        },
        {
          "output_type": "stream",
          "name": "stdout",
          "text": [
            "== Status ==\n",
            "Current time: 2022-10-18 17:38:00 (running for 00:08:05.58)\n",
            "Memory usage on this node: 2.5/12.7 GiB\n",
            "Using AsyncHyperBand: num_stopped=0\n",
            "Bracket: Iter 8.000: None | Iter 4.000: None | Iter 2.000: -0.0018732730532065034 | Iter 1.000: -0.0028313915245234966\n",
            "Resources requested: 2.0/2 CPUs, 0/0 GPUs, 0.0/7.41 GiB heap, 0.0/3.7 GiB objects\n",
            "Result logdir: /root/ray_results/train_cifar_2022-10-18_17-29-54\n",
            "Number of trials: 10/10 (9 PENDING, 1 RUNNING)\n",
            "+-------------------------+----------+-----------------+--------------+-------------+---------+---------+---------+----------------+----------------------+\n",
            "| Trial name              | status   | loc             |   batch_size |          lr |   step1 |   step2 |   step3 | loss           |   training_iteration |\n",
            "|-------------------------+----------+-----------------+--------------+-------------+---------+---------+---------+----------------+----------------------|\n",
            "| train_cifar_7af34_00000 | RUNNING  | 172.28.0.2:9931 |          512 | 0.000177076 |      64 |      64 |       8 | tensor(0.0019) |                    2 |\n",
            "| train_cifar_7af34_00001 | PENDING  |                 |           32 | 0.0120769   |     128 |       4 |       8 |                |                      |\n",
            "| train_cifar_7af34_00002 | PENDING  |                 |          512 | 0.0173817   |       4 |     256 |     256 |                |                      |\n",
            "| train_cifar_7af34_00003 | PENDING  |                 |          512 | 0.0218424   |     256 |     128 |      32 |                |                      |\n",
            "| train_cifar_7af34_00004 | PENDING  |                 |          512 | 0.00940687  |      32 |      32 |      16 |                |                      |\n",
            "| train_cifar_7af34_00005 | PENDING  |                 |           16 | 0.00258265  |      32 |      16 |      16 |                |                      |\n",
            "| train_cifar_7af34_00006 | PENDING  |                 |           16 | 0.000182904 |     256 |       4 |      16 |                |                      |\n",
            "| train_cifar_7af34_00007 | PENDING  |                 |           16 | 0.000428507 |      64 |       8 |       4 |                |                      |\n",
            "| train_cifar_7af34_00008 | PENDING  |                 |          512 | 0.000294899 |     256 |     256 |       4 |                |                      |\n",
            "| train_cifar_7af34_00009 | PENDING  |                 |          512 | 0.000134975 |       8 |       4 |      32 |                |                      |\n",
            "+-------------------------+----------+-----------------+--------------+-------------+---------+---------+---------+----------------+----------------------+\n",
            "\n",
            "\n"
          ]
        },
        {
          "output_type": "stream",
          "name": "stderr",
          "text": [
            "\u001b[2m\u001b[36m(func pid=9931)\u001b[0m \n",
            "\u001b[2m\u001b[36m(func pid=9931)\u001b[0m \r 36%|███▌      | 14/39 [01:03<01:53,  4.53s/it]\u001b[A\n"
          ]
        },
        {
          "output_type": "stream",
          "name": "stdout",
          "text": [
            "== Status ==\n",
            "Current time: 2022-10-18 17:38:05 (running for 00:08:10.60)\n",
            "Memory usage on this node: 2.5/12.7 GiB\n",
            "Using AsyncHyperBand: num_stopped=0\n",
            "Bracket: Iter 8.000: None | Iter 4.000: None | Iter 2.000: -0.0018732730532065034 | Iter 1.000: -0.0028313915245234966\n",
            "Resources requested: 2.0/2 CPUs, 0/0 GPUs, 0.0/7.41 GiB heap, 0.0/3.7 GiB objects\n",
            "Result logdir: /root/ray_results/train_cifar_2022-10-18_17-29-54\n",
            "Number of trials: 10/10 (9 PENDING, 1 RUNNING)\n",
            "+-------------------------+----------+-----------------+--------------+-------------+---------+---------+---------+----------------+----------------------+\n",
            "| Trial name              | status   | loc             |   batch_size |          lr |   step1 |   step2 |   step3 | loss           |   training_iteration |\n",
            "|-------------------------+----------+-----------------+--------------+-------------+---------+---------+---------+----------------+----------------------|\n",
            "| train_cifar_7af34_00000 | RUNNING  | 172.28.0.2:9931 |          512 | 0.000177076 |      64 |      64 |       8 | tensor(0.0019) |                    2 |\n",
            "| train_cifar_7af34_00001 | PENDING  |                 |           32 | 0.0120769   |     128 |       4 |       8 |                |                      |\n",
            "| train_cifar_7af34_00002 | PENDING  |                 |          512 | 0.0173817   |       4 |     256 |     256 |                |                      |\n",
            "| train_cifar_7af34_00003 | PENDING  |                 |          512 | 0.0218424   |     256 |     128 |      32 |                |                      |\n",
            "| train_cifar_7af34_00004 | PENDING  |                 |          512 | 0.00940687  |      32 |      32 |      16 |                |                      |\n",
            "| train_cifar_7af34_00005 | PENDING  |                 |           16 | 0.00258265  |      32 |      16 |      16 |                |                      |\n",
            "| train_cifar_7af34_00006 | PENDING  |                 |           16 | 0.000182904 |     256 |       4 |      16 |                |                      |\n",
            "| train_cifar_7af34_00007 | PENDING  |                 |           16 | 0.000428507 |      64 |       8 |       4 |                |                      |\n",
            "| train_cifar_7af34_00008 | PENDING  |                 |          512 | 0.000294899 |     256 |     256 |       4 |                |                      |\n",
            "| train_cifar_7af34_00009 | PENDING  |                 |          512 | 0.000134975 |       8 |       4 |      32 |                |                      |\n",
            "+-------------------------+----------+-----------------+--------------+-------------+---------+---------+---------+----------------+----------------------+\n",
            "\n",
            "\n"
          ]
        },
        {
          "output_type": "stream",
          "name": "stderr",
          "text": [
            "\u001b[2m\u001b[36m(func pid=9931)\u001b[0m \n",
            "\u001b[2m\u001b[36m(func pid=9931)\u001b[0m \r 38%|███▊      | 15/39 [01:07<01:48,  4.53s/it]\u001b[A\n"
          ]
        },
        {
          "output_type": "stream",
          "name": "stdout",
          "text": [
            "== Status ==\n",
            "Current time: 2022-10-18 17:38:10 (running for 00:08:15.61)\n",
            "Memory usage on this node: 2.5/12.7 GiB\n",
            "Using AsyncHyperBand: num_stopped=0\n",
            "Bracket: Iter 8.000: None | Iter 4.000: None | Iter 2.000: -0.0018732730532065034 | Iter 1.000: -0.0028313915245234966\n",
            "Resources requested: 2.0/2 CPUs, 0/0 GPUs, 0.0/7.41 GiB heap, 0.0/3.7 GiB objects\n",
            "Result logdir: /root/ray_results/train_cifar_2022-10-18_17-29-54\n",
            "Number of trials: 10/10 (9 PENDING, 1 RUNNING)\n",
            "+-------------------------+----------+-----------------+--------------+-------------+---------+---------+---------+----------------+----------------------+\n",
            "| Trial name              | status   | loc             |   batch_size |          lr |   step1 |   step2 |   step3 | loss           |   training_iteration |\n",
            "|-------------------------+----------+-----------------+--------------+-------------+---------+---------+---------+----------------+----------------------|\n",
            "| train_cifar_7af34_00000 | RUNNING  | 172.28.0.2:9931 |          512 | 0.000177076 |      64 |      64 |       8 | tensor(0.0019) |                    2 |\n",
            "| train_cifar_7af34_00001 | PENDING  |                 |           32 | 0.0120769   |     128 |       4 |       8 |                |                      |\n",
            "| train_cifar_7af34_00002 | PENDING  |                 |          512 | 0.0173817   |       4 |     256 |     256 |                |                      |\n",
            "| train_cifar_7af34_00003 | PENDING  |                 |          512 | 0.0218424   |     256 |     128 |      32 |                |                      |\n",
            "| train_cifar_7af34_00004 | PENDING  |                 |          512 | 0.00940687  |      32 |      32 |      16 |                |                      |\n",
            "| train_cifar_7af34_00005 | PENDING  |                 |           16 | 0.00258265  |      32 |      16 |      16 |                |                      |\n",
            "| train_cifar_7af34_00006 | PENDING  |                 |           16 | 0.000182904 |     256 |       4 |      16 |                |                      |\n",
            "| train_cifar_7af34_00007 | PENDING  |                 |           16 | 0.000428507 |      64 |       8 |       4 |                |                      |\n",
            "| train_cifar_7af34_00008 | PENDING  |                 |          512 | 0.000294899 |     256 |     256 |       4 |                |                      |\n",
            "| train_cifar_7af34_00009 | PENDING  |                 |          512 | 0.000134975 |       8 |       4 |      32 |                |                      |\n",
            "+-------------------------+----------+-----------------+--------------+-------------+---------+---------+---------+----------------+----------------------+\n",
            "\n",
            "\n"
          ]
        },
        {
          "output_type": "stream",
          "name": "stderr",
          "text": [
            "\u001b[2m\u001b[36m(func pid=9931)\u001b[0m \n",
            "\u001b[2m\u001b[36m(func pid=9931)\u001b[0m \r 41%|████      | 16/39 [01:12<01:44,  4.55s/it]\u001b[A\n"
          ]
        },
        {
          "output_type": "stream",
          "name": "stdout",
          "text": [
            "== Status ==\n",
            "Current time: 2022-10-18 17:38:15 (running for 00:08:20.64)\n",
            "Memory usage on this node: 2.5/12.7 GiB\n",
            "Using AsyncHyperBand: num_stopped=0\n",
            "Bracket: Iter 8.000: None | Iter 4.000: None | Iter 2.000: -0.0018732730532065034 | Iter 1.000: -0.0028313915245234966\n",
            "Resources requested: 2.0/2 CPUs, 0/0 GPUs, 0.0/7.41 GiB heap, 0.0/3.7 GiB objects\n",
            "Result logdir: /root/ray_results/train_cifar_2022-10-18_17-29-54\n",
            "Number of trials: 10/10 (9 PENDING, 1 RUNNING)\n",
            "+-------------------------+----------+-----------------+--------------+-------------+---------+---------+---------+----------------+----------------------+\n",
            "| Trial name              | status   | loc             |   batch_size |          lr |   step1 |   step2 |   step3 | loss           |   training_iteration |\n",
            "|-------------------------+----------+-----------------+--------------+-------------+---------+---------+---------+----------------+----------------------|\n",
            "| train_cifar_7af34_00000 | RUNNING  | 172.28.0.2:9931 |          512 | 0.000177076 |      64 |      64 |       8 | tensor(0.0019) |                    2 |\n",
            "| train_cifar_7af34_00001 | PENDING  |                 |           32 | 0.0120769   |     128 |       4 |       8 |                |                      |\n",
            "| train_cifar_7af34_00002 | PENDING  |                 |          512 | 0.0173817   |       4 |     256 |     256 |                |                      |\n",
            "| train_cifar_7af34_00003 | PENDING  |                 |          512 | 0.0218424   |     256 |     128 |      32 |                |                      |\n",
            "| train_cifar_7af34_00004 | PENDING  |                 |          512 | 0.00940687  |      32 |      32 |      16 |                |                      |\n",
            "| train_cifar_7af34_00005 | PENDING  |                 |           16 | 0.00258265  |      32 |      16 |      16 |                |                      |\n",
            "| train_cifar_7af34_00006 | PENDING  |                 |           16 | 0.000182904 |     256 |       4 |      16 |                |                      |\n",
            "| train_cifar_7af34_00007 | PENDING  |                 |           16 | 0.000428507 |      64 |       8 |       4 |                |                      |\n",
            "| train_cifar_7af34_00008 | PENDING  |                 |          512 | 0.000294899 |     256 |     256 |       4 |                |                      |\n",
            "| train_cifar_7af34_00009 | PENDING  |                 |          512 | 0.000134975 |       8 |       4 |      32 |                |                      |\n",
            "+-------------------------+----------+-----------------+--------------+-------------+---------+---------+---------+----------------+----------------------+\n",
            "\n",
            "\n"
          ]
        },
        {
          "output_type": "stream",
          "name": "stderr",
          "text": [
            "\u001b[2m\u001b[36m(func pid=9931)\u001b[0m \n",
            "\u001b[2m\u001b[36m(func pid=9931)\u001b[0m \r 44%|████▎     | 17/39 [01:16<01:39,  4.54s/it]\u001b[A\n"
          ]
        },
        {
          "output_type": "stream",
          "name": "stdout",
          "text": [
            "== Status ==\n",
            "Current time: 2022-10-18 17:38:20 (running for 00:08:25.65)\n",
            "Memory usage on this node: 2.5/12.7 GiB\n",
            "Using AsyncHyperBand: num_stopped=0\n",
            "Bracket: Iter 8.000: None | Iter 4.000: None | Iter 2.000: -0.0018732730532065034 | Iter 1.000: -0.0028313915245234966\n",
            "Resources requested: 2.0/2 CPUs, 0/0 GPUs, 0.0/7.41 GiB heap, 0.0/3.7 GiB objects\n",
            "Result logdir: /root/ray_results/train_cifar_2022-10-18_17-29-54\n",
            "Number of trials: 10/10 (9 PENDING, 1 RUNNING)\n",
            "+-------------------------+----------+-----------------+--------------+-------------+---------+---------+---------+----------------+----------------------+\n",
            "| Trial name              | status   | loc             |   batch_size |          lr |   step1 |   step2 |   step3 | loss           |   training_iteration |\n",
            "|-------------------------+----------+-----------------+--------------+-------------+---------+---------+---------+----------------+----------------------|\n",
            "| train_cifar_7af34_00000 | RUNNING  | 172.28.0.2:9931 |          512 | 0.000177076 |      64 |      64 |       8 | tensor(0.0019) |                    2 |\n",
            "| train_cifar_7af34_00001 | PENDING  |                 |           32 | 0.0120769   |     128 |       4 |       8 |                |                      |\n",
            "| train_cifar_7af34_00002 | PENDING  |                 |          512 | 0.0173817   |       4 |     256 |     256 |                |                      |\n",
            "| train_cifar_7af34_00003 | PENDING  |                 |          512 | 0.0218424   |     256 |     128 |      32 |                |                      |\n",
            "| train_cifar_7af34_00004 | PENDING  |                 |          512 | 0.00940687  |      32 |      32 |      16 |                |                      |\n",
            "| train_cifar_7af34_00005 | PENDING  |                 |           16 | 0.00258265  |      32 |      16 |      16 |                |                      |\n",
            "| train_cifar_7af34_00006 | PENDING  |                 |           16 | 0.000182904 |     256 |       4 |      16 |                |                      |\n",
            "| train_cifar_7af34_00007 | PENDING  |                 |           16 | 0.000428507 |      64 |       8 |       4 |                |                      |\n",
            "| train_cifar_7af34_00008 | PENDING  |                 |          512 | 0.000294899 |     256 |     256 |       4 |                |                      |\n",
            "| train_cifar_7af34_00009 | PENDING  |                 |          512 | 0.000134975 |       8 |       4 |      32 |                |                      |\n",
            "+-------------------------+----------+-----------------+--------------+-------------+---------+---------+---------+----------------+----------------------+\n",
            "\n",
            "\n"
          ]
        },
        {
          "output_type": "stream",
          "name": "stderr",
          "text": [
            "\u001b[2m\u001b[36m(func pid=9931)\u001b[0m \n",
            "\u001b[2m\u001b[36m(func pid=9931)\u001b[0m \r 46%|████▌     | 18/39 [01:21<01:35,  4.53s/it]\u001b[A\n"
          ]
        },
        {
          "output_type": "stream",
          "name": "stdout",
          "text": [
            "== Status ==\n",
            "Current time: 2022-10-18 17:38:25 (running for 00:08:30.67)\n",
            "Memory usage on this node: 2.6/12.7 GiB\n",
            "Using AsyncHyperBand: num_stopped=0\n",
            "Bracket: Iter 8.000: None | Iter 4.000: None | Iter 2.000: -0.0018732730532065034 | Iter 1.000: -0.0028313915245234966\n",
            "Resources requested: 2.0/2 CPUs, 0/0 GPUs, 0.0/7.41 GiB heap, 0.0/3.7 GiB objects\n",
            "Result logdir: /root/ray_results/train_cifar_2022-10-18_17-29-54\n",
            "Number of trials: 10/10 (9 PENDING, 1 RUNNING)\n",
            "+-------------------------+----------+-----------------+--------------+-------------+---------+---------+---------+----------------+----------------------+\n",
            "| Trial name              | status   | loc             |   batch_size |          lr |   step1 |   step2 |   step3 | loss           |   training_iteration |\n",
            "|-------------------------+----------+-----------------+--------------+-------------+---------+---------+---------+----------------+----------------------|\n",
            "| train_cifar_7af34_00000 | RUNNING  | 172.28.0.2:9931 |          512 | 0.000177076 |      64 |      64 |       8 | tensor(0.0019) |                    2 |\n",
            "| train_cifar_7af34_00001 | PENDING  |                 |           32 | 0.0120769   |     128 |       4 |       8 |                |                      |\n",
            "| train_cifar_7af34_00002 | PENDING  |                 |          512 | 0.0173817   |       4 |     256 |     256 |                |                      |\n",
            "| train_cifar_7af34_00003 | PENDING  |                 |          512 | 0.0218424   |     256 |     128 |      32 |                |                      |\n",
            "| train_cifar_7af34_00004 | PENDING  |                 |          512 | 0.00940687  |      32 |      32 |      16 |                |                      |\n",
            "| train_cifar_7af34_00005 | PENDING  |                 |           16 | 0.00258265  |      32 |      16 |      16 |                |                      |\n",
            "| train_cifar_7af34_00006 | PENDING  |                 |           16 | 0.000182904 |     256 |       4 |      16 |                |                      |\n",
            "| train_cifar_7af34_00007 | PENDING  |                 |           16 | 0.000428507 |      64 |       8 |       4 |                |                      |\n",
            "| train_cifar_7af34_00008 | PENDING  |                 |          512 | 0.000294899 |     256 |     256 |       4 |                |                      |\n",
            "| train_cifar_7af34_00009 | PENDING  |                 |          512 | 0.000134975 |       8 |       4 |      32 |                |                      |\n",
            "+-------------------------+----------+-----------------+--------------+-------------+---------+---------+---------+----------------+----------------------+\n",
            "\n",
            "\n"
          ]
        },
        {
          "output_type": "stream",
          "name": "stderr",
          "text": [
            "\u001b[2m\u001b[36m(func pid=9931)\u001b[0m \n",
            "\u001b[2m\u001b[36m(func pid=9931)\u001b[0m \r 49%|████▊     | 19/39 [01:25<01:31,  4.56s/it]\u001b[A\n"
          ]
        },
        {
          "output_type": "stream",
          "name": "stdout",
          "text": [
            "== Status ==\n",
            "Current time: 2022-10-18 17:38:30 (running for 00:08:35.68)\n",
            "Memory usage on this node: 2.6/12.7 GiB\n",
            "Using AsyncHyperBand: num_stopped=0\n",
            "Bracket: Iter 8.000: None | Iter 4.000: None | Iter 2.000: -0.0018732730532065034 | Iter 1.000: -0.0028313915245234966\n",
            "Resources requested: 2.0/2 CPUs, 0/0 GPUs, 0.0/7.41 GiB heap, 0.0/3.7 GiB objects\n",
            "Result logdir: /root/ray_results/train_cifar_2022-10-18_17-29-54\n",
            "Number of trials: 10/10 (9 PENDING, 1 RUNNING)\n",
            "+-------------------------+----------+-----------------+--------------+-------------+---------+---------+---------+----------------+----------------------+\n",
            "| Trial name              | status   | loc             |   batch_size |          lr |   step1 |   step2 |   step3 | loss           |   training_iteration |\n",
            "|-------------------------+----------+-----------------+--------------+-------------+---------+---------+---------+----------------+----------------------|\n",
            "| train_cifar_7af34_00000 | RUNNING  | 172.28.0.2:9931 |          512 | 0.000177076 |      64 |      64 |       8 | tensor(0.0019) |                    2 |\n",
            "| train_cifar_7af34_00001 | PENDING  |                 |           32 | 0.0120769   |     128 |       4 |       8 |                |                      |\n",
            "| train_cifar_7af34_00002 | PENDING  |                 |          512 | 0.0173817   |       4 |     256 |     256 |                |                      |\n",
            "| train_cifar_7af34_00003 | PENDING  |                 |          512 | 0.0218424   |     256 |     128 |      32 |                |                      |\n",
            "| train_cifar_7af34_00004 | PENDING  |                 |          512 | 0.00940687  |      32 |      32 |      16 |                |                      |\n",
            "| train_cifar_7af34_00005 | PENDING  |                 |           16 | 0.00258265  |      32 |      16 |      16 |                |                      |\n",
            "| train_cifar_7af34_00006 | PENDING  |                 |           16 | 0.000182904 |     256 |       4 |      16 |                |                      |\n",
            "| train_cifar_7af34_00007 | PENDING  |                 |           16 | 0.000428507 |      64 |       8 |       4 |                |                      |\n",
            "| train_cifar_7af34_00008 | PENDING  |                 |          512 | 0.000294899 |     256 |     256 |       4 |                |                      |\n",
            "| train_cifar_7af34_00009 | PENDING  |                 |          512 | 0.000134975 |       8 |       4 |      32 |                |                      |\n",
            "+-------------------------+----------+-----------------+--------------+-------------+---------+---------+---------+----------------+----------------------+\n",
            "\n",
            "\n"
          ]
        },
        {
          "output_type": "stream",
          "name": "stderr",
          "text": [
            "\u001b[2m\u001b[36m(func pid=9931)\u001b[0m \n",
            " 51%|█████▏    | 20/39 [01:30<01:26,  4.55s/it]\u001b[A\n",
            "\u001b[2m\u001b[36m(func pid=9931)\u001b[0m \n",
            " 54%|█████▍    | 21/39 [01:34<01:21,  4.53s/it]\u001b[A\n"
          ]
        },
        {
          "output_type": "stream",
          "name": "stdout",
          "text": [
            "== Status ==\n",
            "Current time: 2022-10-18 17:38:35 (running for 00:08:40.70)\n",
            "Memory usage on this node: 2.5/12.7 GiB\n",
            "Using AsyncHyperBand: num_stopped=0\n",
            "Bracket: Iter 8.000: None | Iter 4.000: None | Iter 2.000: -0.0018732730532065034 | Iter 1.000: -0.0028313915245234966\n",
            "Resources requested: 2.0/2 CPUs, 0/0 GPUs, 0.0/7.41 GiB heap, 0.0/3.7 GiB objects\n",
            "Result logdir: /root/ray_results/train_cifar_2022-10-18_17-29-54\n",
            "Number of trials: 10/10 (9 PENDING, 1 RUNNING)\n",
            "+-------------------------+----------+-----------------+--------------+-------------+---------+---------+---------+----------------+----------------------+\n",
            "| Trial name              | status   | loc             |   batch_size |          lr |   step1 |   step2 |   step3 | loss           |   training_iteration |\n",
            "|-------------------------+----------+-----------------+--------------+-------------+---------+---------+---------+----------------+----------------------|\n",
            "| train_cifar_7af34_00000 | RUNNING  | 172.28.0.2:9931 |          512 | 0.000177076 |      64 |      64 |       8 | tensor(0.0019) |                    2 |\n",
            "| train_cifar_7af34_00001 | PENDING  |                 |           32 | 0.0120769   |     128 |       4 |       8 |                |                      |\n",
            "| train_cifar_7af34_00002 | PENDING  |                 |          512 | 0.0173817   |       4 |     256 |     256 |                |                      |\n",
            "| train_cifar_7af34_00003 | PENDING  |                 |          512 | 0.0218424   |     256 |     128 |      32 |                |                      |\n",
            "| train_cifar_7af34_00004 | PENDING  |                 |          512 | 0.00940687  |      32 |      32 |      16 |                |                      |\n",
            "| train_cifar_7af34_00005 | PENDING  |                 |           16 | 0.00258265  |      32 |      16 |      16 |                |                      |\n",
            "| train_cifar_7af34_00006 | PENDING  |                 |           16 | 0.000182904 |     256 |       4 |      16 |                |                      |\n",
            "| train_cifar_7af34_00007 | PENDING  |                 |           16 | 0.000428507 |      64 |       8 |       4 |                |                      |\n",
            "| train_cifar_7af34_00008 | PENDING  |                 |          512 | 0.000294899 |     256 |     256 |       4 |                |                      |\n",
            "| train_cifar_7af34_00009 | PENDING  |                 |          512 | 0.000134975 |       8 |       4 |      32 |                |                      |\n",
            "+-------------------------+----------+-----------------+--------------+-------------+---------+---------+---------+----------------+----------------------+\n",
            "\n",
            "\n"
          ]
        },
        {
          "output_type": "stream",
          "name": "stderr",
          "text": [
            "2022-10-18 17:38:36,659\tWARNING tune.py:687 -- Stop signal received (e.g. via SIGINT/Ctrl+C), ending Ray Tune run. This will try to checkpoint the experiment state one last time. Press CTRL+C (or send SIGINT/SIGKILL/SIGTERM) to skip. \n",
            "\u001b[2m\u001b[36m(func pid=9931)\u001b[0m \n",
            " 56%|█████▋    | 22/39 [01:39<01:17,  4.55s/it]\u001b[A\n"
          ]
        },
        {
          "output_type": "stream",
          "name": "stdout",
          "text": [
            "== Status ==\n",
            "Current time: 2022-10-18 17:38:40 (running for 00:08:45.72)\n",
            "Memory usage on this node: 2.5/12.7 GiB\n",
            "Using AsyncHyperBand: num_stopped=0\n",
            "Bracket: Iter 8.000: None | Iter 4.000: None | Iter 2.000: -0.0018732730532065034 | Iter 1.000: -0.0028313915245234966\n",
            "Resources requested: 2.0/2 CPUs, 0/0 GPUs, 0.0/7.41 GiB heap, 0.0/3.7 GiB objects\n",
            "Result logdir: /root/ray_results/train_cifar_2022-10-18_17-29-54\n",
            "Number of trials: 10/10 (9 PENDING, 1 RUNNING)\n",
            "+-------------------------+----------+-----------------+--------------+-------------+---------+---------+---------+----------------+----------------------+\n",
            "| Trial name              | status   | loc             |   batch_size |          lr |   step1 |   step2 |   step3 | loss           |   training_iteration |\n",
            "|-------------------------+----------+-----------------+--------------+-------------+---------+---------+---------+----------------+----------------------|\n",
            "| train_cifar_7af34_00000 | RUNNING  | 172.28.0.2:9931 |          512 | 0.000177076 |      64 |      64 |       8 | tensor(0.0019) |                    2 |\n",
            "| train_cifar_7af34_00001 | PENDING  |                 |           32 | 0.0120769   |     128 |       4 |       8 |                |                      |\n",
            "| train_cifar_7af34_00002 | PENDING  |                 |          512 | 0.0173817   |       4 |     256 |     256 |                |                      |\n",
            "| train_cifar_7af34_00003 | PENDING  |                 |          512 | 0.0218424   |     256 |     128 |      32 |                |                      |\n",
            "| train_cifar_7af34_00004 | PENDING  |                 |          512 | 0.00940687  |      32 |      32 |      16 |                |                      |\n",
            "| train_cifar_7af34_00005 | PENDING  |                 |           16 | 0.00258265  |      32 |      16 |      16 |                |                      |\n",
            "| train_cifar_7af34_00006 | PENDING  |                 |           16 | 0.000182904 |     256 |       4 |      16 |                |                      |\n",
            "| train_cifar_7af34_00007 | PENDING  |                 |           16 | 0.000428507 |      64 |       8 |       4 |                |                      |\n",
            "| train_cifar_7af34_00008 | PENDING  |                 |          512 | 0.000294899 |     256 |     256 |       4 |                |                      |\n",
            "| train_cifar_7af34_00009 | PENDING  |                 |          512 | 0.000134975 |       8 |       4 |      32 |                |                      |\n",
            "+-------------------------+----------+-----------------+--------------+-------------+---------+---------+---------+----------------+----------------------+\n",
            "\n",
            "\n",
            "== Status ==\n",
            "Current time: 2022-10-18 17:38:40 (running for 00:08:45.74)\n",
            "Memory usage on this node: 2.5/12.7 GiB\n",
            "Using AsyncHyperBand: num_stopped=0\n",
            "Bracket: Iter 8.000: None | Iter 4.000: None | Iter 2.000: -0.0018732730532065034 | Iter 1.000: -0.0028313915245234966\n",
            "Resources requested: 2.0/2 CPUs, 0/0 GPUs, 0.0/7.41 GiB heap, 0.0/3.7 GiB objects\n",
            "Result logdir: /root/ray_results/train_cifar_2022-10-18_17-29-54\n",
            "Number of trials: 10/10 (9 PENDING, 1 RUNNING)\n",
            "+-------------------------+----------+-----------------+--------------+-------------+---------+---------+---------+----------------+----------------------+\n",
            "| Trial name              | status   | loc             |   batch_size |          lr |   step1 |   step2 |   step3 | loss           |   training_iteration |\n",
            "|-------------------------+----------+-----------------+--------------+-------------+---------+---------+---------+----------------+----------------------|\n",
            "| train_cifar_7af34_00000 | RUNNING  | 172.28.0.2:9931 |          512 | 0.000177076 |      64 |      64 |       8 | tensor(0.0019) |                    2 |\n",
            "| train_cifar_7af34_00001 | PENDING  |                 |           32 | 0.0120769   |     128 |       4 |       8 |                |                      |\n",
            "| train_cifar_7af34_00002 | PENDING  |                 |          512 | 0.0173817   |       4 |     256 |     256 |                |                      |\n",
            "| train_cifar_7af34_00003 | PENDING  |                 |          512 | 0.0218424   |     256 |     128 |      32 |                |                      |\n",
            "| train_cifar_7af34_00004 | PENDING  |                 |          512 | 0.00940687  |      32 |      32 |      16 |                |                      |\n",
            "| train_cifar_7af34_00005 | PENDING  |                 |           16 | 0.00258265  |      32 |      16 |      16 |                |                      |\n",
            "| train_cifar_7af34_00006 | PENDING  |                 |           16 | 0.000182904 |     256 |       4 |      16 |                |                      |\n",
            "| train_cifar_7af34_00007 | PENDING  |                 |           16 | 0.000428507 |      64 |       8 |       4 |                |                      |\n",
            "| train_cifar_7af34_00008 | PENDING  |                 |          512 | 0.000294899 |     256 |     256 |       4 |                |                      |\n",
            "| train_cifar_7af34_00009 | PENDING  |                 |          512 | 0.000134975 |       8 |       4 |      32 |                |                      |\n",
            "+-------------------------+----------+-----------------+--------------+-------------+---------+---------+---------+----------------+----------------------+\n",
            "\n",
            "\n"
          ]
        },
        {
          "output_type": "stream",
          "name": "stderr",
          "text": [
            "\u001b[2m\u001b[36m(func pid=9931)\u001b[0m \n",
            "\u001b[2m\u001b[36m(func pid=9931)\u001b[0m \r 59%|█████▉    | 23/39 [01:45<01:21,  5.07s/it]\u001b[A\n"
          ]
        },
        {
          "output_type": "error",
          "ename": "KeyboardInterrupt",
          "evalue": "ignored",
          "traceback": [
            "\u001b[0;31m---------------------------------------------------------------------------\u001b[0m",
            "\u001b[0;31mKeyboardInterrupt\u001b[0m                         Traceback (most recent call last)",
            "\u001b[0;32m<ipython-input-96-7d2d6be6ccb8>\u001b[0m in \u001b[0;36m<module>\u001b[0;34m\u001b[0m\n\u001b[1;32m      1\u001b[0m \u001b[0;32mif\u001b[0m \u001b[0m__name__\u001b[0m \u001b[0;34m==\u001b[0m \u001b[0;34m\"__main__\"\u001b[0m\u001b[0;34m:\u001b[0m\u001b[0;34m\u001b[0m\u001b[0;34m\u001b[0m\u001b[0m\n\u001b[1;32m      2\u001b[0m     \u001b[0;31m# You can change the number of GPUs per trial here:\u001b[0m\u001b[0;34m\u001b[0m\u001b[0;34m\u001b[0m\u001b[0;34m\u001b[0m\u001b[0m\n\u001b[0;32m----> 3\u001b[0;31m     \u001b[0mmain\u001b[0m\u001b[0;34m(\u001b[0m\u001b[0mnum_samples\u001b[0m\u001b[0;34m=\u001b[0m\u001b[0;36m10\u001b[0m\u001b[0;34m,\u001b[0m \u001b[0mmax_num_epochs\u001b[0m\u001b[0;34m=\u001b[0m\u001b[0;36m10\u001b[0m\u001b[0;34m,\u001b[0m \u001b[0mgpus_per_trial\u001b[0m\u001b[0;34m=\u001b[0m\u001b[0;36m0\u001b[0m\u001b[0;34m)\u001b[0m\u001b[0;34m\u001b[0m\u001b[0;34m\u001b[0m\u001b[0m\n\u001b[0m",
            "\u001b[0;32m<ipython-input-91-722fb06764ee>\u001b[0m in \u001b[0;36mmain\u001b[0;34m(num_samples, max_num_epochs, gpus_per_trial)\u001b[0m\n\u001b[1;32m     28\u001b[0m       \u001b[0mnum_samples\u001b[0m\u001b[0;34m=\u001b[0m\u001b[0mnum_samples\u001b[0m\u001b[0;34m,\u001b[0m\u001b[0;34m\u001b[0m\u001b[0;34m\u001b[0m\u001b[0m\n\u001b[1;32m     29\u001b[0m       \u001b[0mscheduler\u001b[0m\u001b[0;34m=\u001b[0m\u001b[0mscheduler\u001b[0m\u001b[0;34m,\u001b[0m\u001b[0;34m\u001b[0m\u001b[0;34m\u001b[0m\u001b[0m\n\u001b[0;32m---> 30\u001b[0;31m       progress_reporter=reporter)\n\u001b[0m\u001b[1;32m     31\u001b[0m \u001b[0;34m\u001b[0m\u001b[0m\n\u001b[1;32m     32\u001b[0m   \u001b[0mbest_trial\u001b[0m \u001b[0;34m=\u001b[0m \u001b[0mresult\u001b[0m\u001b[0;34m.\u001b[0m\u001b[0mget_best_trial\u001b[0m\u001b[0;34m(\u001b[0m\u001b[0;34m\"loss\"\u001b[0m\u001b[0;34m,\u001b[0m \u001b[0;34m\"min\"\u001b[0m\u001b[0;34m,\u001b[0m \u001b[0;34m\"last\"\u001b[0m\u001b[0;34m)\u001b[0m\u001b[0;34m\u001b[0m\u001b[0;34m\u001b[0m\u001b[0m\n",
            "\u001b[0;32m/usr/local/lib/python3.7/dist-packages/ray/tune/tune.py\u001b[0m in \u001b[0;36mrun\u001b[0;34m(run_or_experiment, name, metric, mode, stop, time_budget_s, config, resources_per_trial, num_samples, local_dir, search_alg, scheduler, keep_checkpoints_num, checkpoint_score_attr, checkpoint_freq, checkpoint_at_end, verbose, progress_reporter, log_to_file, trial_name_creator, trial_dirname_creator, sync_config, export_formats, max_failures, fail_fast, restore, server_port, resume, reuse_actors, trial_executor, raise_on_failed_trial, callbacks, max_concurrent_trials, _experiment_checkpoint_dir, _remote)\u001b[0m\n\u001b[1;32m    741\u001b[0m                 \u001b[0mlogger\u001b[0m\u001b[0;34m.\u001b[0m\u001b[0merror\u001b[0m\u001b[0;34m(\u001b[0m\u001b[0me\u001b[0m\u001b[0;34m)\u001b[0m\u001b[0;34m\u001b[0m\u001b[0;34m\u001b[0m\u001b[0m\n\u001b[1;32m    742\u001b[0m \u001b[0;34m\u001b[0m\u001b[0m\n\u001b[0;32m--> 743\u001b[0;31m     \u001b[0mrunner\u001b[0m\u001b[0;34m.\u001b[0m\u001b[0mcleanup\u001b[0m\u001b[0;34m(\u001b[0m\u001b[0;34m)\u001b[0m\u001b[0;34m\u001b[0m\u001b[0;34m\u001b[0m\u001b[0m\n\u001b[0m\u001b[1;32m    744\u001b[0m \u001b[0;34m\u001b[0m\u001b[0m\n\u001b[1;32m    745\u001b[0m     \u001b[0mincomplete_trials\u001b[0m \u001b[0;34m=\u001b[0m \u001b[0;34m[\u001b[0m\u001b[0;34m]\u001b[0m\u001b[0;34m\u001b[0m\u001b[0;34m\u001b[0m\u001b[0m\n",
            "\u001b[0;32m/usr/local/lib/python3.7/dist-packages/ray/tune/execution/trial_runner.py\u001b[0m in \u001b[0;36mcleanup\u001b[0;34m(self)\u001b[0m\n\u001b[1;32m   1465\u001b[0m     \u001b[0;32mdef\u001b[0m \u001b[0mcleanup\u001b[0m\u001b[0;34m(\u001b[0m\u001b[0mself\u001b[0m\u001b[0;34m)\u001b[0m\u001b[0;34m:\u001b[0m\u001b[0;34m\u001b[0m\u001b[0;34m\u001b[0m\u001b[0m\n\u001b[1;32m   1466\u001b[0m         \u001b[0;34m\"\"\"Cleanup trials and callbacks.\"\"\"\u001b[0m\u001b[0;34m\u001b[0m\u001b[0;34m\u001b[0m\u001b[0m\n\u001b[0;32m-> 1467\u001b[0;31m         \u001b[0mself\u001b[0m\u001b[0;34m.\u001b[0m\u001b[0mcleanup_trials\u001b[0m\u001b[0;34m(\u001b[0m\u001b[0;34m)\u001b[0m\u001b[0;34m\u001b[0m\u001b[0;34m\u001b[0m\u001b[0m\n\u001b[0m\u001b[1;32m   1468\u001b[0m         \u001b[0mself\u001b[0m\u001b[0;34m.\u001b[0m\u001b[0mend_experiment_callbacks\u001b[0m\u001b[0;34m(\u001b[0m\u001b[0;34m)\u001b[0m\u001b[0;34m\u001b[0m\u001b[0;34m\u001b[0m\u001b[0m\n\u001b[1;32m   1469\u001b[0m \u001b[0;34m\u001b[0m\u001b[0m\n",
            "\u001b[0;32m/usr/local/lib/python3.7/dist-packages/ray/tune/execution/trial_runner.py\u001b[0m in \u001b[0;36mcleanup_trials\u001b[0;34m(self)\u001b[0m\n\u001b[1;32m   1461\u001b[0m \u001b[0;34m\u001b[0m\u001b[0m\n\u001b[1;32m   1462\u001b[0m     \u001b[0;32mdef\u001b[0m \u001b[0mcleanup_trials\u001b[0m\u001b[0;34m(\u001b[0m\u001b[0mself\u001b[0m\u001b[0;34m)\u001b[0m\u001b[0;34m:\u001b[0m\u001b[0;34m\u001b[0m\u001b[0;34m\u001b[0m\u001b[0m\n\u001b[0;32m-> 1463\u001b[0;31m         \u001b[0mself\u001b[0m\u001b[0;34m.\u001b[0m\u001b[0mtrial_executor\u001b[0m\u001b[0;34m.\u001b[0m\u001b[0mcleanup\u001b[0m\u001b[0;34m(\u001b[0m\u001b[0mself\u001b[0m\u001b[0;34m.\u001b[0m\u001b[0mget_trials\u001b[0m\u001b[0;34m(\u001b[0m\u001b[0;34m)\u001b[0m\u001b[0;34m)\u001b[0m\u001b[0;34m\u001b[0m\u001b[0;34m\u001b[0m\u001b[0m\n\u001b[0m\u001b[1;32m   1464\u001b[0m \u001b[0;34m\u001b[0m\u001b[0m\n\u001b[1;32m   1465\u001b[0m     \u001b[0;32mdef\u001b[0m \u001b[0mcleanup\u001b[0m\u001b[0;34m(\u001b[0m\u001b[0mself\u001b[0m\u001b[0;34m)\u001b[0m\u001b[0;34m:\u001b[0m\u001b[0;34m\u001b[0m\u001b[0;34m\u001b[0m\u001b[0m\n",
            "\u001b[0;32m/usr/local/lib/python3.7/dist-packages/ray/tune/execution/ray_trial_executor.py\u001b[0m in \u001b[0;36mcleanup\u001b[0;34m(self, trials)\u001b[0m\n\u001b[1;32m    834\u001b[0m                 \u001b[0;32mbreak\u001b[0m\u001b[0;34m\u001b[0m\u001b[0;34m\u001b[0m\u001b[0m\n\u001b[1;32m    835\u001b[0m             \u001b[0mself\u001b[0m\u001b[0;34m.\u001b[0m\u001b[0m_do_force_trial_cleanup\u001b[0m\u001b[0;34m(\u001b[0m\u001b[0;34m)\u001b[0m\u001b[0;34m\u001b[0m\u001b[0;34m\u001b[0m\u001b[0m\n\u001b[0;32m--> 836\u001b[0;31m             \u001b[0mready\u001b[0m\u001b[0;34m,\u001b[0m \u001b[0m_\u001b[0m \u001b[0;34m=\u001b[0m \u001b[0mray\u001b[0m\u001b[0;34m.\u001b[0m\u001b[0mwait\u001b[0m\u001b[0;34m(\u001b[0m\u001b[0mlist\u001b[0m\u001b[0;34m(\u001b[0m\u001b[0mself\u001b[0m\u001b[0;34m.\u001b[0m\u001b[0m_futures\u001b[0m\u001b[0;34m.\u001b[0m\u001b[0mkeys\u001b[0m\u001b[0;34m(\u001b[0m\u001b[0;34m)\u001b[0m\u001b[0;34m)\u001b[0m\u001b[0;34m,\u001b[0m \u001b[0mtimeout\u001b[0m\u001b[0;34m=\u001b[0m\u001b[0;36m0\u001b[0m\u001b[0;34m)\u001b[0m\u001b[0;34m\u001b[0m\u001b[0;34m\u001b[0m\u001b[0m\n\u001b[0m\u001b[1;32m    837\u001b[0m             \u001b[0;32mif\u001b[0m \u001b[0;32mnot\u001b[0m \u001b[0mready\u001b[0m\u001b[0;34m:\u001b[0m\u001b[0;34m\u001b[0m\u001b[0;34m\u001b[0m\u001b[0m\n\u001b[1;32m    838\u001b[0m                 \u001b[0;32mcontinue\u001b[0m\u001b[0;34m\u001b[0m\u001b[0;34m\u001b[0m\u001b[0m\n",
            "\u001b[0;32m/usr/local/lib/python3.7/dist-packages/ray/_private/client_mode_hook.py\u001b[0m in \u001b[0;36mwrapper\u001b[0;34m(*args, **kwargs)\u001b[0m\n\u001b[1;32m    103\u001b[0m             \u001b[0;32mif\u001b[0m \u001b[0mfunc\u001b[0m\u001b[0;34m.\u001b[0m\u001b[0m__name__\u001b[0m \u001b[0;34m!=\u001b[0m \u001b[0;34m\"init\"\u001b[0m \u001b[0;32mor\u001b[0m \u001b[0mis_client_mode_enabled_by_default\u001b[0m\u001b[0;34m:\u001b[0m\u001b[0;34m\u001b[0m\u001b[0;34m\u001b[0m\u001b[0m\n\u001b[1;32m    104\u001b[0m                 \u001b[0;32mreturn\u001b[0m \u001b[0mgetattr\u001b[0m\u001b[0;34m(\u001b[0m\u001b[0mray\u001b[0m\u001b[0;34m,\u001b[0m \u001b[0mfunc\u001b[0m\u001b[0;34m.\u001b[0m\u001b[0m__name__\u001b[0m\u001b[0;34m)\u001b[0m\u001b[0;34m(\u001b[0m\u001b[0;34m*\u001b[0m\u001b[0margs\u001b[0m\u001b[0;34m,\u001b[0m \u001b[0;34m**\u001b[0m\u001b[0mkwargs\u001b[0m\u001b[0;34m)\u001b[0m\u001b[0;34m\u001b[0m\u001b[0;34m\u001b[0m\u001b[0m\n\u001b[0;32m--> 105\u001b[0;31m         \u001b[0;32mreturn\u001b[0m \u001b[0mfunc\u001b[0m\u001b[0;34m(\u001b[0m\u001b[0;34m*\u001b[0m\u001b[0margs\u001b[0m\u001b[0;34m,\u001b[0m \u001b[0;34m**\u001b[0m\u001b[0mkwargs\u001b[0m\u001b[0;34m)\u001b[0m\u001b[0;34m\u001b[0m\u001b[0;34m\u001b[0m\u001b[0m\n\u001b[0m\u001b[1;32m    106\u001b[0m \u001b[0;34m\u001b[0m\u001b[0m\n\u001b[1;32m    107\u001b[0m     \u001b[0;32mreturn\u001b[0m \u001b[0mwrapper\u001b[0m\u001b[0;34m\u001b[0m\u001b[0;34m\u001b[0m\u001b[0m\n",
            "\u001b[0;32m/usr/local/lib/python3.7/dist-packages/ray/_private/worker.py\u001b[0m in \u001b[0;36mwait\u001b[0;34m(object_refs, num_returns, timeout, fetch_local)\u001b[0m\n\u001b[1;32m   2464\u001b[0m             \u001b[0mtimeout_milliseconds\u001b[0m\u001b[0;34m,\u001b[0m\u001b[0;34m\u001b[0m\u001b[0;34m\u001b[0m\u001b[0m\n\u001b[1;32m   2465\u001b[0m             \u001b[0mworker\u001b[0m\u001b[0;34m.\u001b[0m\u001b[0mcurrent_task_id\u001b[0m\u001b[0;34m,\u001b[0m\u001b[0;34m\u001b[0m\u001b[0;34m\u001b[0m\u001b[0m\n\u001b[0;32m-> 2466\u001b[0;31m             \u001b[0mfetch_local\u001b[0m\u001b[0;34m,\u001b[0m\u001b[0;34m\u001b[0m\u001b[0;34m\u001b[0m\u001b[0m\n\u001b[0m\u001b[1;32m   2467\u001b[0m         )\n\u001b[1;32m   2468\u001b[0m         \u001b[0;32mreturn\u001b[0m \u001b[0mready_ids\u001b[0m\u001b[0;34m,\u001b[0m \u001b[0mremaining_ids\u001b[0m\u001b[0;34m\u001b[0m\u001b[0;34m\u001b[0m\u001b[0m\n",
            "\u001b[0;32mpython/ray/_raylet.pyx\u001b[0m in \u001b[0;36mray._raylet.CoreWorker.wait\u001b[0;34m()\u001b[0m\n",
            "\u001b[0;32mpython/ray/_raylet.pyx\u001b[0m in \u001b[0;36mray._raylet.check_status\u001b[0;34m()\u001b[0m\n",
            "\u001b[0;31mKeyboardInterrupt\u001b[0m: "
          ]
        }
      ]
    },
    {
      "cell_type": "code",
      "source": [],
      "metadata": {
        "id": "xRdmxX6P6eI7"
      },
      "execution_count": null,
      "outputs": []
    }
  ]
}