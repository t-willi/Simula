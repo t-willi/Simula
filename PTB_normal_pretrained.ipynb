{
  "cells": [
    {
      "cell_type": "markdown",
      "metadata": {
        "id": "view-in-github",
        "colab_type": "text"
      },
      "source": [
        "<a href=\"https://colab.research.google.com/github/t-willi/Simula/blob/main/PTB_normal_pretrained.ipynb\" target=\"_parent\"><img src=\"https://colab.research.google.com/assets/colab-badge.svg\" alt=\"Open In Colab\"/></a>"
      ]
    },
    {
      "cell_type": "code",
      "execution_count": null,
      "metadata": {
        "colab": {
          "base_uri": "https://localhost:8080/"
        },
        "id": "SZhL9CEfBDHw",
        "outputId": "549fd083-a5bb-4a99-afb5-d871c4b4841e"
      },
      "outputs": [
        {
          "name": "stdout",
          "output_type": "stream",
          "text": [
            "\u001b[?25h  Downloading sentry_sdk-1.9.6-py2.py3-none-any.whl (157 kB)\n",
            "\u001b[?25l\r\u001b[K     |██                              | 10 kB 34.4 MB/s eta 0:00:01\r\u001b[K     |████▏                           | 20 kB 43.2 MB/s eta 0:00:01\r\u001b[K     |██████▎                         | 30 kB 52.0 MB/s eta 0:00:01\r\u001b[K     |████████▎                       | 40 kB 57.2 MB/s eta 0:00:01\r\u001b[K     |██████████▍                     | 51 kB 59.6 MB/s eta 0:00:01\r\u001b[K     |████████████▌                   | 61 kB 23.9 MB/s eta 0:00:01\r\u001b[K     |██████████████▌                 | 71 kB 25.5 MB/s eta 0:00:01\r\u001b[K     |████████████████▋               | 81 kB 26.6 MB/s eta 0:00:01\r\u001b[K     |██████████████████▊             | 92 kB 27.4 MB/s eta 0:00:01\r\u001b[K     |████████████████████▊           | 102 kB 27.4 MB/s eta 0:00:01\r\u001b[K     |██████████████████████▉         | 112 kB 27.4 MB/s eta 0:00:01\r\u001b[K     |█████████████████████████       | 122 kB 27.4 MB/s eta 0:00:01\r\u001b[K     |███████████████████████████     | 133 kB 27.4 MB/s eta 0:00:01\r\u001b[K     |█████████████████████████████   | 143 kB 27.4 MB/s eta 0:00:01\r\u001b[K     |███████████████████████████████▏| 153 kB 27.4 MB/s eta 0:00:01\r\u001b[K     |████████████████████████████████| 157 kB 27.4 MB/s \n",
            "\u001b[?25h  Downloading sentry_sdk-1.9.5-py2.py3-none-any.whl (157 kB)\n",
            "\u001b[K     |████████████████████████████████| 157 kB 25.6 MB/s \n",
            "\u001b[?25h  Downloading sentry_sdk-1.9.4-py2.py3-none-any.whl (157 kB)\n",
            "\u001b[K     |████████████████████████████████| 157 kB 68.6 MB/s \n",
            "\u001b[?25h  Downloading sentry_sdk-1.9.3-py2.py3-none-any.whl (157 kB)\n",
            "\u001b[K     |████████████████████████████████| 157 kB 53.1 MB/s \n",
            "\u001b[?25h  Downloading sentry_sdk-1.9.2-py2.py3-none-any.whl (157 kB)\n",
            "\u001b[K     |████████████████████████████████| 157 kB 75.8 MB/s \n",
            "\u001b[?25h  Downloading sentry_sdk-1.9.1-py2.py3-none-any.whl (157 kB)\n",
            "\u001b[K     |████████████████████████████████| 157 kB 58.7 MB/s \n",
            "\u001b[?25h  Downloading sentry_sdk-1.9.0-py2.py3-none-any.whl (156 kB)\n",
            "\u001b[K     |████████████████████████████████| 156 kB 47.7 MB/s \n",
            "\u001b[?25hBuilding wheels for collected packages: pathtools\n",
            "  Building wheel for pathtools (setup.py) ... \u001b[?25l\u001b[?25hdone\n",
            "  Created wheel for pathtools: filename=pathtools-0.1.2-py3-none-any.whl size=8806 sha256=cc61ac6d6d47e396464f4d8389b4a7359874407fc70ee0f25f243cfa8f1c1dd4\n",
            "  Stored in directory: /root/.cache/pip/wheels/3e/31/09/fa59cef12cdcfecc627b3d24273699f390e71828921b2cbba2\n",
            "Successfully built pathtools\n",
            "Installing collected packages: smmap, gitdb, shortuuid, setproctitle, sentry-sdk, pathtools, GitPython, docker-pycreds, wandb\n",
            "Successfully installed GitPython-3.1.29 docker-pycreds-0.4.0 gitdb-4.0.9 pathtools-0.1.2 sentry-sdk-1.9.0 setproctitle-1.3.2 shortuuid-1.0.9 smmap-5.0.0 wandb-0.13.5\n",
            "Looking in indexes: https://pypi.org/simple, https://us-python.pkg.dev/colab-wheels/public/simple/\n",
            "Collecting ecg_plot\n",
            "  Downloading ecg_plot-0.2.8-py3-none-any.whl (9.2 kB)\n",
            "Installing collected packages: ecg-plot\n",
            "Successfully installed ecg-plot-0.2.8\n",
            "Looking in indexes: https://pypi.org/simple, https://us-python.pkg.dev/colab-wheels/public/simple/\n",
            "Collecting wfdb\n",
            "  Downloading wfdb-4.0.0-py3-none-any.whl (161 kB)\n",
            "\u001b[K     |████████████████████████████████| 161 kB 18.5 MB/s \n",
            "\u001b[?25hRequirement already satisfied: pandas<2.0.0,>=1.0.0 in /usr/local/lib/python3.7/dist-packages (from wfdb) (1.3.5)\n",
            "Requirement already satisfied: scipy<2.0.0,>=1.0.0 in /usr/local/lib/python3.7/dist-packages (from wfdb) (1.7.3)\n",
            "Requirement already satisfied: matplotlib<4.0.0,>=3.2.2 in /usr/local/lib/python3.7/dist-packages (from wfdb) (3.2.2)\n",
            "Requirement already satisfied: SoundFile<0.12.0,>=0.10.0 in /usr/local/lib/python3.7/dist-packages (from wfdb) (0.11.0)\n",
            "Requirement already satisfied: requests<3.0.0,>=2.8.1 in /usr/local/lib/python3.7/dist-packages (from wfdb) (2.23.0)\n",
            "Requirement already satisfied: numpy<2.0.0,>=1.10.1 in /usr/local/lib/python3.7/dist-packages (from wfdb) (1.21.6)\n",
            "Requirement already satisfied: kiwisolver>=1.0.1 in /usr/local/lib/python3.7/dist-packages (from matplotlib<4.0.0,>=3.2.2->wfdb) (1.4.4)\n",
            "Requirement already satisfied: python-dateutil>=2.1 in /usr/local/lib/python3.7/dist-packages (from matplotlib<4.0.0,>=3.2.2->wfdb) (2.8.2)\n",
            "Requirement already satisfied: pyparsing!=2.0.4,!=2.1.2,!=2.1.6,>=2.0.1 in /usr/local/lib/python3.7/dist-packages (from matplotlib<4.0.0,>=3.2.2->wfdb) (3.0.9)\n",
            "Requirement already satisfied: cycler>=0.10 in /usr/local/lib/python3.7/dist-packages (from matplotlib<4.0.0,>=3.2.2->wfdb) (0.11.0)\n",
            "Requirement already satisfied: typing-extensions in /usr/local/lib/python3.7/dist-packages (from kiwisolver>=1.0.1->matplotlib<4.0.0,>=3.2.2->wfdb) (4.1.1)\n",
            "Requirement already satisfied: pytz>=2017.3 in /usr/local/lib/python3.7/dist-packages (from pandas<2.0.0,>=1.0.0->wfdb) (2022.5)\n",
            "Requirement already satisfied: six>=1.5 in /usr/local/lib/python3.7/dist-packages (from python-dateutil>=2.1->matplotlib<4.0.0,>=3.2.2->wfdb) (1.15.0)\n",
            "Requirement already satisfied: idna<3,>=2.5 in /usr/local/lib/python3.7/dist-packages (from requests<3.0.0,>=2.8.1->wfdb) (2.10)\n",
            "Requirement already satisfied: chardet<4,>=3.0.2 in /usr/local/lib/python3.7/dist-packages (from requests<3.0.0,>=2.8.1->wfdb) (3.0.4)\n",
            "Requirement already satisfied: urllib3!=1.25.0,!=1.25.1,<1.26,>=1.21.1 in /usr/local/lib/python3.7/dist-packages (from requests<3.0.0,>=2.8.1->wfdb) (1.24.3)\n",
            "Requirement already satisfied: certifi>=2017.4.17 in /usr/local/lib/python3.7/dist-packages (from requests<3.0.0,>=2.8.1->wfdb) (2022.9.24)\n",
            "Requirement already satisfied: cffi>=1.0 in /usr/local/lib/python3.7/dist-packages (from SoundFile<0.12.0,>=0.10.0->wfdb) (1.15.1)\n",
            "Requirement already satisfied: pycparser in /usr/local/lib/python3.7/dist-packages (from cffi>=1.0->SoundFile<0.12.0,>=0.10.0->wfdb) (2.21)\n",
            "Installing collected packages: wfdb\n",
            "Successfully installed wfdb-4.0.0\n"
          ]
        }
      ],
      "source": [
        "!pip install wandb\n",
        "!pip install ecg_plot\n",
        "!pip install wfdb"
      ]
    },
    {
      "cell_type": "code",
      "execution_count": null,
      "metadata": {
        "id": "rd4f-cYuBfkl"
      },
      "outputs": [],
      "source": [
        "import pathlib\n",
        "from pathlib import Path\n",
        "# current_position=pathlib.PurePath(__file__)\n",
        "# dir=current_position.parent\n",
        "# main_folder=dir.joinpath(\"main_folder\")\n",
        "current_position=pathlib.PurePath(\"/content/\")\n",
        "main_folder=current_position.joinpath(\"main_folder\")\n",
        "Path(main_folder).mkdir(parents=False,exist_ok = True)\n",
        "#create folder and directory for artifacts\n",
        "artifact_dir=main_folder.joinpath(\"artifacts\")\n",
        "Path(artifact_dir).mkdir(parents=False,exist_ok = True)\n",
        "#create folder and directory for train_data\n",
        "train_dir=main_folder.joinpath(\"train_dir\")\n",
        "Path(train_dir).mkdir(parents=False,exist_ok = True)\n",
        "#create folder and directory for ecg_files\n",
        "ecg_dir=main_folder.joinpath(\"ecg\")\n",
        "Path(ecg_dir).mkdir(parents=False,exist_ok = True)\n",
        "#create folder and directory for saved model sate dicts\n",
        "model_dir=main_folder.joinpath(\"model\")\n",
        "Path(model_dir).mkdir(parents=False,exist_ok = True)\n"
      ]
    },
    {
      "cell_type": "code",
      "execution_count": null,
      "metadata": {
        "colab": {
          "base_uri": "https://localhost:8080/"
        },
        "id": "19G_1YgVBm62",
        "outputId": "9ea58473-d26a-47d0-d33a-e63368ece7ac"
      },
      "outputs": [
        {
          "name": "stderr",
          "output_type": "stream",
          "text": [
            "ERROR:wandb.jupyter:Failed to detect the name of this notebook, you can set it manually with the WANDB_NOTEBOOK_NAME environment variable to enable code saving.\n",
            "\u001b[34m\u001b[1mwandb\u001b[0m: W&B API key is configured. Use \u001b[1m`wandb login --relogin`\u001b[0m to force relogin\n",
            "\u001b[34m\u001b[1mwandb\u001b[0m: \u001b[33mWARNING\u001b[0m If you're specifying your api key in code, ensure this code is not shared publicly.\n",
            "\u001b[34m\u001b[1mwandb\u001b[0m: \u001b[33mWARNING\u001b[0m Consider setting the WANDB_API_KEY environment variable, or running `wandb login` from the command line.\n",
            "\u001b[34m\u001b[1mwandb\u001b[0m: Appending key for api.wandb.ai to your netrc file: /root/.netrc\n",
            "\u001b[34m\u001b[1mwandb\u001b[0m: Downloading large artifact PTB_normal:v0, 802.52MB. 1 files... \n",
            "\u001b[34m\u001b[1mwandb\u001b[0m:   1 of 1 files downloaded.  \n",
            "Done. 0:0:9.3\n",
            "\u001b[34m\u001b[1mwandb\u001b[0m:   1 of 1 files downloaded.  \n"
          ]
        },
        {
          "data": {
            "text/plain": [
              "<torch._C.Generator at 0x7f9d97b07170>"
            ]
          },
          "execution_count": 3,
          "metadata": {},
          "output_type": "execute_result"
        }
      ],
      "source": [
        "import wandb\n",
        "import pandas as pd\n",
        "import torch\n",
        "from torch import nn\n",
        "import matplotlib.pyplot as plt\n",
        "import pandas as pd\n",
        "import numpy as np\n",
        "from torch.utils.data import Dataset, DataLoader\n",
        "import glob\n",
        "import torch.optim as optim\n",
        "from random import shuffle\n",
        "from tqdm.auto import tqdm\n",
        "import requests\n",
        "import zipfile\n",
        "from pathlib import Path\n",
        "\n",
        "if torch.cuda.is_available()==True:\n",
        "  device=\"cuda:0\"\n",
        "else:\n",
        "  device =\"cpu\"\n",
        "wandb.login(key=\"7a8ee9d41cc2d51eb77fd795e14f74a215e63c2d\")\n",
        "api = wandb.Api()\n",
        "artifact = api.artifact('ecg_simula/upload_PTB_XL_normal.zip/PTB_normal:v0', type='dataset')\n",
        "artifact.download(artifact_dir)\n",
        "model = api.artifact('ecg_simula/AE_pTOP_serverrun_synthetic_data/Model:v10', type='Model')\n",
        "model.download(artifact_dir)\n",
        "torch.manual_seed(42)"
      ]
    },
    {
      "cell_type": "code",
      "execution_count": null,
      "metadata": {
        "colab": {
          "base_uri": "https://localhost:8080/"
        },
        "id": "6_tEBvjPCWuA",
        "outputId": "b4e6c24f-52d4-46be-ed30-e5b6bf97a0f9"
      },
      "outputs": [
        {
          "name": "stdout",
          "output_type": "stream",
          "text": [
            "/content/main_folder/train_dir directory exists.\n",
            "Unzipping data to folder...\n",
            "unzip is finished\n"
          ]
        }
      ],
      "source": [
        "# previous_model = api.artifact('ecg_simula/AE_pTOP_LS_optim/Model:v8', type='Model')\n",
        "# previous_model.download()\n",
        "\n",
        "def request(path=None,name=None):\n",
        "  import requests\n",
        "  from pathlib import Path\n",
        "  request = requests.get(path)\n",
        "  name=name+\".py\"\n",
        "  with open(name,\"wb\") as f:\n",
        "    f.write(request.content)\n",
        "\n",
        "unzip_git_dir=\"https://raw.githubusercontent.com/t-willi/NeuralNetworks/main/unzip.py\"\n",
        "Dataloader_git_dir=\"https://raw.githubusercontent.com/t-willi/NeuralNetworks/main/dataset_and_loader.py\"\n",
        "get_pred_no_reshape_git_dir=\"https://raw.githubusercontent.com/t-willi/NeuralNetworks/main/get_predictions_no_reshape.py\"\n",
        "get_pred_git_dir=\"https://raw.githubusercontent.com/t-willi/NeuralNetworks/main/get_predictions.py\"\n",
        "plt_ECG_git_dir=\"https://raw.githubusercontent.com/t-willi/NeuralNetworks/main/plot_ECG.py\"\n",
        "\n",
        "request(unzip_git_dir,\"Unzip\")\n",
        "from Unzip import unzip\n",
        "\n",
        "request(Dataloader_git_dir,\"dataset_and_loader\")\n",
        "from dataset_and_loader import Custom_dataset as CD\n",
        "from dataset_and_loader import make_loader as ml\n",
        "\n",
        "\n",
        "\n",
        "#download prediction generator\n",
        "request(get_pred_no_reshape_git_dir,\"get_predictions\")\n",
        "from get_predictions import get_pred\n",
        "#download ECG plotter\n",
        "request(plt_ECG_git_dir,\"plot_ECG\")\n",
        "from plot_ECG import plotECG\n",
        "\n",
        "artifact_dir_str=str(artifact_dir.joinpath(\"PTB_normal.zip\"))\n",
        "unzip(save_path=train_dir,zip_path=artifact_dir_str,reload=True)"
      ]
    },
    {
      "cell_type": "code",
      "execution_count": null,
      "metadata": {
        "id": "mKMK5kmSEWFC"
      },
      "outputs": [],
      "source": [
        "import glob\n",
        "import pandas as pd\n",
        "import torch\n",
        "# change mx_value setting to max value of data to normalaize between 1 and -1\n",
        "class Custom_dataset():\n",
        "    def __init__(self, data_dir,max_value=33,column=3,split=True,target=\"train\",size=1):\n",
        "      #get all files from directory loaded in all_files list\n",
        "      self.column=column\n",
        "      self.max_value=max_value\n",
        "      self.size=size\n",
        "      #should shuffle the data here?\n",
        "      self.files = glob.glob(data_dir + '/*.csv')\n",
        "      self.len=int((len(self.files))*self.size)\n",
        "      #print(f\"len:{self.len}\")\n",
        "      self.cut1=int(self.len*0.8)\n",
        "      #print(f\"cut1:{self.cut1}\")\n",
        "      self.cut2=int(self.len*0.9)\n",
        "      #print(f\"cut2:{self.cut2}\")\n",
        "      self.train_files=self.files[0:self.cut1]\n",
        "      self.test_files=self.files[self.cut1:self.cut2]\n",
        "      self.val_files=self.files[self.cut2:self.len]\n",
        "      self.target=target\n",
        "      self.split=split\n",
        "\n",
        "    def __len__(self):\n",
        "      if self.split is True:\n",
        "        if self.target is \"train\":\n",
        "          return len(self.train_files)\n",
        "        if self.target is \"test\":\n",
        "          return len(self.test_files)\n",
        "        if self.target is \"val\":\n",
        "          return len(self.val_files)\n",
        "      if self.split is not True:\n",
        "        return len(self.files)\n",
        "\n",
        "    def __getitem__(self,idx):\n",
        "      header=[\"I\", \"II\", \"III\", \"aVF\", \"aVR\", \"aVL\", \"V1\", \"V2\", \"V3\", \"V4\", \"V5\", \"V6\"]\n",
        "      #turn list of dataframes into Tensor\n",
        "      if self.split is True:\n",
        "        if self.target is \"train\":\n",
        "          temp_df=pd.read_csv(self.train_files[idx],index_col=0,header=0,names=header)\n",
        "        if self.target is \"test\":\n",
        "          temp_df=pd.read_csv(self.test_files[idx],index_col=0,header=0,names=header)\n",
        "        if self.target is \"val\":\n",
        "          temp_df=pd.read_csv(self.val_files[idx],index_col=0,header=0,names=header)\n",
        "      if self.split is not True:\n",
        "        temp_df=pd.read_csv(self.files[idx],index_col=0,header=0,names=header)\n",
        "      temp_df/=self.max_value\n",
        "      #load input tensor\n",
        "      \n",
        "      temp_list_in=temp_df.iloc[:,0]\n",
        "      #temp_list_in=normalize([temp_list_in], norm=\"max\")\n",
        "      temp_tensor_in = torch.tensor(temp_list_in,dtype=torch.float32)\n",
        "      temp_tensor_in=temp_tensor_in.unsqueeze(0)\n",
        "      #load label Tensor\n",
        "      temp_list_out=temp_df.iloc[:,[1,6,7,8,9,10,11]].values\n",
        "      #temp_list_out=normalize([temp_list_out], norm=\"max\")\n",
        "      temp_tensor_out=torch.tensor(temp_list_out,dtype=torch.float32)\n",
        "      temp_tensor_out=temp_tensor_out.T\n",
        "      #combine input and label and output\n",
        "      temp_tensor_pair= temp_tensor_in,temp_tensor_out\n",
        "      return temp_tensor_pair"
      ]
    },
    {
      "cell_type": "code",
      "execution_count": null,
      "metadata": {
        "colab": {
          "base_uri": "https://localhost:8080/"
        },
        "id": "b1lg4MJPC6ig",
        "outputId": "1379a09d-fddb-46a7-faf2-116e5aad9868"
      },
      "outputs": [
        {
          "data": {
            "text/plain": [
              "<All keys matched successfully>"
            ]
          },
          "execution_count": 57,
          "metadata": {},
          "output_type": "execute_result"
        }
      ],
      "source": [
        "import torch\n",
        "import torch.nn as nn\n",
        "import torch.nn.functional as F\n",
        "import torch.utils.data\n",
        "\n",
        "class Transpose1dLayer(nn.Module):\n",
        "    def __init__(self, in_channels, out_channels, kernel_size, stride, padding=11, upsample=None, output_padding=1):\n",
        "        super(Transpose1dLayer, self).__init__()\n",
        "        self.upsample = upsample\n",
        "        self.upsample_layer = torch.nn.Upsample(scale_factor=upsample)\n",
        "        reflection_pad = kernel_size // 2\n",
        "        self.reflection_pad = nn.ConstantPad1d(reflection_pad, value=0)\n",
        "        self.conv1d = torch.nn.Conv1d(in_channels, out_channels, kernel_size, stride)\n",
        "        self.Conv1dTrans = nn.ConvTranspose1d(in_channels, out_channels, kernel_size, stride, padding, output_padding)\n",
        "\n",
        "    def forward(self, x):\n",
        "        if self.upsample:\n",
        "            #x = torch.cat((x, in_feature), 1)\n",
        "            return self.conv1d(self.reflection_pad(self.upsample_layer(x)))\n",
        "        else:\n",
        "            return self.Conv1dTrans(x)\n",
        "\n",
        "\n",
        "class Pulse2pulseGenerator(nn.Module):\n",
        "    def __init__(self,latent_dim=100, post_proc_filt_len=512,upsample=True):\n",
        "        super(Pulse2pulseGenerator, self).__init__()\n",
        "        # \"Dense\" is the same meaning as fully connection.\n",
        "        stride = 4\n",
        "        if upsample:\n",
        "            stride = 1\n",
        "            upsample = 5\n",
        "        # if upsample is anything but none Transpose1dLayer will do\n",
        "        # self.conv1d(self.reflection_pad(self.upsample_layer(x)))\n",
        "        # which is a 1d convolution on padded and upsampled data x\n",
        "        self.deconv_1 = Transpose1dLayer(250 , 250, 25, stride, upsample=upsample)\n",
        "        self.deconv_2 = Transpose1dLayer(250, 150, 25, stride, upsample=upsample)\n",
        "        self.deconv_3 = Transpose1dLayer(150, 50, 25, stride, upsample=upsample)\n",
        "        self.deconv_4 = Transpose1dLayer( 50, 25, 25, stride, upsample=2)\n",
        "        self.deconv_5 = Transpose1dLayer( 25, 10, 25, stride, upsample=upsample)\n",
        "        self.deconv_6 = Transpose1dLayer(  10, 7, 25, stride, upsample=2)\n",
        "\n",
        "\n",
        "        #new convolutional layers\n",
        "        self.conv_1 = nn.Conv1d(1, 10, 25, stride=2, padding=25 // 2)\n",
        "        self.conv_2 = nn.Conv1d(10, 25, 25, stride=5, padding= 25 // 2)\n",
        "        self.conv_3 = nn.Conv1d(25, 50 , 25, stride=2, padding= 25 // 2)\n",
        "        self.conv_4 = nn.Conv1d(50, 150 , 25, stride=5, padding= 25 // 2)\n",
        "        self.conv_5 = nn.Conv1d(150, 250 , 25, stride=5, padding= 25 // 2)\n",
        "        self.conv_6 = nn.Conv1d(250, 250 , 25, stride=5, padding= 25 // 2)\n",
        "        self.flatt = nn.Flatten()\n",
        "        self.linear1 = nn.Linear(500,100)\n",
        "        self.linear2 = nn.Linear(100,500)\n",
        "\n",
        "        for m in self.modules():\n",
        "            if isinstance(m, nn.ConvTranspose1d) or isinstance(m, nn.Linear):\n",
        "                nn.init.kaiming_normal_(m.weight.data)\n",
        "\n",
        "    def forward(self, x, LS=False):\n",
        "        self.LS=LS\n",
        "        if x.ndim==2:\n",
        "          x=x.unsqueeze(0)\n",
        "        x = F.leaky_relu(self.conv_1(x)) #(1,1,5000 --> 1, 10, 2500)\n",
        "        x = F.leaky_relu(self.conv_2(x)) #( --> 1, 25, 500)\n",
        "        x = F.leaky_relu(self.conv_3(x)) #(--> 1, 50, 250)\n",
        "        x = F.leaky_relu(self.conv_4(x)) # --> 1, 150, 50)\n",
        "        x = F.leaky_relu(self.conv_5(x)) #(--> 1, 250, 10)\n",
        "        x = F.leaky_relu(self.conv_6(x)) #(--> 1, 250, 2)-->flatten into (1,500)), then to linear ((1,100)), and then back\n",
        "        x = self.flatt(x) # (1,500)\n",
        "        LS = self.linear1(x) #(1,100)\n",
        "        if self.LS is True:\n",
        "          return LS\n",
        "        x = self.linear2(LS) #(1,500)\n",
        "        zero_dim=x.shape[0]\n",
        "        x=torch.reshape(x,(zero_dim,250,2)) #1(1,250,2)\n",
        "        x = F.relu(self.deconv_1(x)) #(--> 1, 250, 10)\n",
        "        x = F.relu(self.deconv_2(x)) #(--> 1, 150, 50)\n",
        "        x = F.relu(self.deconv_3(x)) #( --> 1, 50, 250)\n",
        "        x = F.relu(self.deconv_4(x)) #(--> 1, 25, 500)\n",
        "        x = F.relu(self.deconv_5(x)) #(--> 1, 10, 2500)\n",
        "        x = torch.tanh(self.deconv_6(x)) #(1, 7, 5000)\n",
        "        x=x.squeeze()\n",
        "        return x\n",
        "\n",
        "model=Pulse2pulseGenerator().to(device)\n",
        "artifact_dir_string=str(artifact_dir.joinpath(\"model\"))\n",
        "model_path= artifact_dir_string\n",
        "model.load_state_dict(torch.load(model_path, map_location=device))"
      ]
    },
    {
      "cell_type": "code",
      "execution_count": null,
      "metadata": {
        "id": "DYxYBpDmDEm6"
      },
      "outputs": [],
      "source": [
        "import wandb\n",
        "\n",
        "# 🐝 initialise a wandb run\n",
        "config = dict(\n",
        "    epochs=20,\n",
        "    batch_size=32,\n",
        "    learning_rate=0.0001,)  #learing rate from puls to puls paper\n",
        "\n",
        "\n",
        "def model_pipeline(hyperparameters,model=model):\n",
        "    # tell wandb to get started\n",
        "    wandb.init(project=\"AE_pTOP_PTB_Normal_colab_test\", config=hyperparameters)\n",
        "    # access all HPs through wandb.config, so logging matches execution!\n",
        "    config = wandb.config\n",
        "    # make the model, data, and optimization problem\n",
        "    train_loader, val_loader,test_dataset, criterion, optimizer,val_dataset = make(config)\n",
        "    # and use them to train the model\n",
        "    train(model, train_loader,val_loader,test_dataset, criterion, optimizer,val_dataset,config)\n",
        "    return model"
      ]
    },
    {
      "cell_type": "code",
      "execution_count": null,
      "metadata": {
        "id": "BrK5SeXBDYYe"
      },
      "outputs": [],
      "source": [
        "def make(config):\n",
        "    # Make the data\n",
        "    print(\"making data\")\n",
        "    data_dir=str(train_dir)\n",
        "    train_dataset = Custom_dataset(data_dir=data_dir,split=True,target=\"train\",size=1)\n",
        "    val_dataset = Custom_dataset(data_dir=data_dir,split=True,target=\"val\",size=1)\n",
        "    test_dataset = Custom_dataset(data_dir=data_dir,split=True,target=\"test\",size=1)\n",
        "    train_loader = ml(train_dataset, batch_size=config.batch_size)\n",
        "    val_loader = ml(val_dataset, batch_size=config.batch_size)\n",
        "    \n",
        "\n",
        "    # Make the loss and optimizer\n",
        "    criterion = nn.MSELoss()\n",
        "    optimizer = torch.optim.Adam(model.parameters(), lr=config.learning_rate)\n",
        "    \n",
        "    return train_loader, val_loader,test_dataset, criterion, optimizer,val_dataset\n"
      ]
    },
    {
      "cell_type": "code",
      "execution_count": null,
      "metadata": {
        "id": "AcXsXC8MQJ6B"
      },
      "outputs": [],
      "source": [
        "# import torch\n",
        "# import pandas as pd\n",
        "\n",
        "# def get_pred(dataset=None,Set=None,model=None,random=True,upscale=None):\n",
        "#   \"\"\"\n",
        "#   Function takes a Tensor Dataset as input,first a random file from the dataset is selected,\n",
        "#   then the Tensor pair is recombined and shaped into a df-->df_Input. \n",
        "#   X is used afterwards as input into the model. The predictions are safed as --> df_output.\n",
        "#   Both dataframes are now unscaled by 5011, the max value of the whole dataset.\n",
        "#   Then a tuple pair of input and output is returned.\n",
        "#   \"\"\"\n",
        "#   if random:\n",
        "#     import random\n",
        "#     limit=len(dataset)\n",
        "#     rand_idx=random.randint(0,limit)\n",
        "#     X,y=dataset[rand_idx]\n",
        "#   if random is False:\n",
        "#       X,y=Set\n",
        "#   #need to combine tensors to make dataframe for plotting input and output side by side\n",
        "#   full_tensor=torch.cat((X,y.squeeze()))\n",
        "#   full_tensor=full_tensor.numpy()\n",
        "#   df_input=pd.DataFrame(full_tensor).T\n",
        "#   df_input.columns = [\"R1\",\"R2\",\"Rv1\",\"Rv2\",\"Rv3\",\"Rv4\",\"Rv5\",\"Rv6\"]\n",
        "#   model.to(\"cpu\")\n",
        "#   model.eval()\n",
        "#   with torch.inference_mode():\n",
        "#     output=model(X)\n",
        "#   output=output.detach().numpy()\n",
        "#   output=output.squeeze().T\n",
        "#   #unscale data\n",
        "#   df_output = pd.DataFrame(output,columns=[\"F2\",\"Fv1\",\"Fv2\",\"Fv3\",\"Fv4\",\"Fv5\",\"Fv6\"])\n",
        "#   if upscale:\n",
        "#     df_input=df_input*upscale\n",
        "#     df_output=df_output*upscale\n",
        "#   return df_input,df_output"
      ]
    },
    {
      "cell_type": "code",
      "execution_count": null,
      "metadata": {
        "id": "UcRU7UipDcv6"
      },
      "outputs": [],
      "source": [
        "def train(model, train_loader,val_loader,test_dataset, criterion, optimizer,val_dataset, config):\n",
        "  # Tell wandb to watch what the model gets up to: gradients, weights, and more!\n",
        "  wandb.watch(model, criterion, log=\"all\")\n",
        "  for epoch in tqdm((range(config.epochs))):\n",
        "    train_loss=0\n",
        "    for batch,(X,y) in tqdm((enumerate(train_loader))):\n",
        "      # Forward pass ➡\n",
        "      X, y = X.to(device), y.to(device)\n",
        "      #print(f\"shape of input{x.shape},shape of label_y{y.shape}\") \n",
        "      model.train()\n",
        "      #print(f\"x.shape is{X.max()} y.shape is {y.max()}\")\n",
        "      output=model(X)\n",
        "      #print(f\"output is {output.max()}\")\n",
        "      #print(f\"shape of model_output_raw{output.shape}\") \n",
        "      # output=torch.reshape(output,(config.batch_size, 1, 7, 5000))\n",
        "      loss = criterion(output,y)\n",
        "      train_loss += loss\n",
        "      # Backward pass ⬅\n",
        "      optimizer.zero_grad()\n",
        "      loss.backward()\n",
        "      # Step with optimizer\n",
        "      optimizer.step()\n",
        "    #average loss per batch\n",
        "    train_loss /= len(train_loader)\n",
        "\n",
        "\n",
        "    val_loss = 0\n",
        "    model.eval()\n",
        "    with torch.inference_mode():\n",
        "      for batch,(X,y) in tqdm(enumerate(val_loader)):\n",
        "        #print(\"doing test loop\")\n",
        "        X, y = X.to(device), y.to(device)\n",
        "        val_pred = model(X)\n",
        "        # val_pred=torch.reshape(val_pred,(config.batch_size, 1, 7, 5000))\n",
        "        loss=criterion(val_pred,y)\n",
        "        val_loss += loss\n",
        "      val_loss /= len(val_loader)  \n",
        "      wandb.log({\"train_loss\": train_loss, \n",
        "                 \"val_loss\": val_loss,\n",
        "                 \"Epoch\":epoch})\n",
        "      \n",
        "\n",
        "    if (epoch) % 1==0:\n",
        "      df_input,df_output=get_pred(dataset=val_dataset,model=model,random=True,upscale=33)\n",
        "      model.to(device)\n",
        "      #plotting the ECG and creating the combined DF\n",
        "      combined_df=plotECG(df_input,df_output,path=str(ecg_dir))\n",
        "      #saving combined DF as table on wandB\n",
        "      input_prediction_table = wandb.Table(dataframe=combined_df)\n",
        "      ecg_dir_file=ecg_dir.joinpath(\"ecg.png\")\n",
        "      wandb.log({\"ECG\": wandb.Image(str(ecg_dir_file))})\n",
        "      wandb.log({\"Input and predictions\": input_prediction_table}) \n",
        "      \n",
        "    if (epoch) % 1==0:\n",
        "      print(\"one\")\n",
        "      model_dir_model=model_dir.joinpath(\"model\")\n",
        "      torch.save(model.state_dict(),str(model_dir_model))\n",
        "      print(\"two\")\n",
        "      wandb.log_artifact(str(model_dir_model), name='Model', type='Model')"
      ]
    },
    {
      "cell_type": "code",
      "execution_count": null,
      "metadata": {
        "colab": {
          "background_save": true,
          "base_uri": "https://localhost:8080/",
          "height": 414,
          "referenced_widgets": [
            "6ca1bab9ac044ac090ed7b36a330ea3a",
            "8273d7d3463b451eab48cb0b2f05db8b",
            "31a6cd56a59f46eebd5d8359fe4fdf69",
            "2dd70de4daca4d38a41ca9a76e91be2c",
            "a0a05fd529f646498366a18599eb4f95",
            "01a7c8e514904e0cb0b91ca14739ea0d",
            "897416abb89c49c3a139128bb368813f",
            "69a90f24dc9c4ef4b7aabd39b9ad35a3",
            "96a1c5c19a774d208a6fa7da05c01b08",
            "7d9ad7455ea94272b56fed85aaa3d5be",
            "e5c9b884177542cb8d0ae0eb7b6e29ad",
            "077267c1d4ac43a89ad6e481b60033b8",
            "72d5fc5dd38c460e8efa99233a95d366",
            "e3815d095d0241709d6e16a11d53d1f6",
            "cfc3d1686d4344f8a8066b3831427550",
            "4e46167b195a4707a9a2e4759e110653",
            "1754c5226731463b885e6a4cd4112698",
            "aebe2d6bcac04f5eb4b1b7a0fac0e06b",
            "f7c5721cf8bf452fa8e869178626e52f",
            "8c0066c8614d4f69a076cb51e2d2c7a4",
            "dae9872f2e3e4ed98e46003001845bb8",
            "32c76ce925c34d59a53f6cb78468c583"
          ]
        },
        "id": "kovxklw0De-p",
        "outputId": "dbf0fa51-efc4-49fc-aded-a07d504748f0"
      },
      "outputs": [
        {
          "data": {
            "text/html": [
              "Finishing last run (ID:2q9eql5j) before initializing another..."
            ],
            "text/plain": [
              "<IPython.core.display.HTML object>"
            ]
          },
          "metadata": {},
          "output_type": "display_data"
        },
        {
          "data": {
            "text/html": [
              "Waiting for W&B process to finish... <strong style=\"color:green\">(success).</strong>"
            ],
            "text/plain": [
              "<IPython.core.display.HTML object>"
            ]
          },
          "metadata": {},
          "output_type": "display_data"
        },
        {
          "data": {
            "text/html": [
              "<style>\n",
              "    table.wandb td:nth-child(1) { padding: 0 10px; text-align: left ; width: auto;} td:nth-child(2) {text-align: left ; width: 100%}\n",
              "    .wandb-row { display: flex; flex-direction: row; flex-wrap: wrap; justify-content: flex-start; width: 100% }\n",
              "    .wandb-col { display: flex; flex-direction: column; flex-basis: 100%; flex: 1; padding: 10px; }\n",
              "    </style>\n",
              "<div class=\"wandb-row\"><div class=\"wandb-col\"><h3>Run history:</h3><br/><table class=\"wandb\"><tr><td>Epoch</td><td>▁</td></tr><tr><td>train_loss</td><td>▁</td></tr><tr><td>val_loss</td><td>▁</td></tr></table><br/></div><div class=\"wandb-col\"><h3>Run summary:</h3><br/><table class=\"wandb\"><tr><td>Epoch</td><td>0</td></tr><tr><td>train_loss</td><td>1e-05</td></tr><tr><td>val_loss</td><td>0.0</td></tr></table><br/></div></div>"
            ],
            "text/plain": [
              "<IPython.core.display.HTML object>"
            ]
          },
          "metadata": {},
          "output_type": "display_data"
        },
        {
          "data": {
            "text/html": [
              "Synced <strong style=\"color:#cdcd00\">jumping-energy-2</strong>: <a href=\"https://wandb.ai/ecg_simula/AE_pTOP_PTB_Normal_colab_test/runs/2q9eql5j\" target=\"_blank\">https://wandb.ai/ecg_simula/AE_pTOP_PTB_Normal_colab_test/runs/2q9eql5j</a><br/>Synced 5 W&B file(s), 0 media file(s), 0 artifact file(s) and 0 other file(s)"
            ],
            "text/plain": [
              "<IPython.core.display.HTML object>"
            ]
          },
          "metadata": {},
          "output_type": "display_data"
        },
        {
          "data": {
            "text/html": [
              "Find logs at: <code>./wandb/run-20221106_141115-2q9eql5j/logs</code>"
            ],
            "text/plain": [
              "<IPython.core.display.HTML object>"
            ]
          },
          "metadata": {},
          "output_type": "display_data"
        },
        {
          "data": {
            "text/html": [
              "Successfully finished last run (ID:2q9eql5j). Initializing new run:<br/>"
            ],
            "text/plain": [
              "<IPython.core.display.HTML object>"
            ]
          },
          "metadata": {},
          "output_type": "display_data"
        },
        {
          "data": {
            "text/html": [
              "Tracking run with wandb version 0.13.5"
            ],
            "text/plain": [
              "<IPython.core.display.HTML object>"
            ]
          },
          "metadata": {},
          "output_type": "display_data"
        },
        {
          "data": {
            "text/html": [
              "Run data is saved locally in <code>/content/wandb/run-20221106_142211-2xbcruhr</code>"
            ],
            "text/plain": [
              "<IPython.core.display.HTML object>"
            ]
          },
          "metadata": {},
          "output_type": "display_data"
        },
        {
          "data": {
            "text/html": [
              "Syncing run <strong><a href=\"https://wandb.ai/ecg_simula/AE_pTOP_PTB_Normal_colab_test/runs/2xbcruhr\" target=\"_blank\">eager-paper-3</a></strong> to <a href=\"https://wandb.ai/ecg_simula/AE_pTOP_PTB_Normal_colab_test\" target=\"_blank\">Weights & Biases</a> (<a href=\"https://wandb.me/run\" target=\"_blank\">docs</a>)<br/>"
            ],
            "text/plain": [
              "<IPython.core.display.HTML object>"
            ]
          },
          "metadata": {},
          "output_type": "display_data"
        },
        {
          "name": "stdout",
          "output_type": "stream",
          "text": [
            "making data\n"
          ]
        },
        {
          "data": {
            "application/vnd.jupyter.widget-view+json": {
              "model_id": "6ca1bab9ac044ac090ed7b36a330ea3a",
              "version_major": 2,
              "version_minor": 0
            },
            "text/plain": [
              "  0%|          | 0/20 [00:00<?, ?it/s]"
            ]
          },
          "metadata": {},
          "output_type": "display_data"
        },
        {
          "data": {
            "application/vnd.jupyter.widget-view+json": {
              "model_id": "077267c1d4ac43a89ad6e481b60033b8",
              "version_major": 2,
              "version_minor": 0
            },
            "text/plain": [
              "0it [00:00, ?it/s]"
            ]
          },
          "metadata": {},
          "output_type": "display_data"
        }
      ],
      "source": [
        "model = model_pipeline(config)"
      ]
    },
    {
      "cell_type": "code",
      "execution_count": null,
      "metadata": {
        "id": "o0lGHAC7Qpk-"
      },
      "outputs": [],
      "source": []
    }
  ],
  "metadata": {
    "colab": {
      "collapsed_sections": [],
      "provenance": [],
      "authorship_tag": "ABX9TyM7/DgDrjn9Lhyknw/yOAQD",
      "include_colab_link": true
    },
    "kernelspec": {
      "display_name": "Python 3",
      "name": "python3"
    },
    "language_info": {
      "name": "python"
    },
    "widgets": {
      "application/vnd.jupyter.widget-state+json": {
        "01a7c8e514904e0cb0b91ca14739ea0d": {
          "model_module": "@jupyter-widgets/base",
          "model_module_version": "1.2.0",
          "model_name": "LayoutModel",
          "state": {
            "_model_module": "@jupyter-widgets/base",
            "_model_module_version": "1.2.0",
            "_model_name": "LayoutModel",
            "_view_count": null,
            "_view_module": "@jupyter-widgets/base",
            "_view_module_version": "1.2.0",
            "_view_name": "LayoutView",
            "align_content": null,
            "align_items": null,
            "align_self": null,
            "border": null,
            "bottom": null,
            "display": null,
            "flex": null,
            "flex_flow": null,
            "grid_area": null,
            "grid_auto_columns": null,
            "grid_auto_flow": null,
            "grid_auto_rows": null,
            "grid_column": null,
            "grid_gap": null,
            "grid_row": null,
            "grid_template_areas": null,
            "grid_template_columns": null,
            "grid_template_rows": null,
            "height": null,
            "justify_content": null,
            "justify_items": null,
            "left": null,
            "margin": null,
            "max_height": null,
            "max_width": null,
            "min_height": null,
            "min_width": null,
            "object_fit": null,
            "object_position": null,
            "order": null,
            "overflow": null,
            "overflow_x": null,
            "overflow_y": null,
            "padding": null,
            "right": null,
            "top": null,
            "visibility": null,
            "width": null
          }
        },
        "077267c1d4ac43a89ad6e481b60033b8": {
          "model_module": "@jupyter-widgets/controls",
          "model_module_version": "1.5.0",
          "model_name": "HBoxModel",
          "state": {
            "_dom_classes": [],
            "_model_module": "@jupyter-widgets/controls",
            "_model_module_version": "1.5.0",
            "_model_name": "HBoxModel",
            "_view_count": null,
            "_view_module": "@jupyter-widgets/controls",
            "_view_module_version": "1.5.0",
            "_view_name": "HBoxView",
            "box_style": "",
            "children": [
              "IPY_MODEL_72d5fc5dd38c460e8efa99233a95d366",
              "IPY_MODEL_e3815d095d0241709d6e16a11d53d1f6",
              "IPY_MODEL_cfc3d1686d4344f8a8066b3831427550"
            ],
            "layout": "IPY_MODEL_4e46167b195a4707a9a2e4759e110653"
          }
        },
        "1754c5226731463b885e6a4cd4112698": {
          "model_module": "@jupyter-widgets/base",
          "model_module_version": "1.2.0",
          "model_name": "LayoutModel",
          "state": {
            "_model_module": "@jupyter-widgets/base",
            "_model_module_version": "1.2.0",
            "_model_name": "LayoutModel",
            "_view_count": null,
            "_view_module": "@jupyter-widgets/base",
            "_view_module_version": "1.2.0",
            "_view_name": "LayoutView",
            "align_content": null,
            "align_items": null,
            "align_self": null,
            "border": null,
            "bottom": null,
            "display": null,
            "flex": null,
            "flex_flow": null,
            "grid_area": null,
            "grid_auto_columns": null,
            "grid_auto_flow": null,
            "grid_auto_rows": null,
            "grid_column": null,
            "grid_gap": null,
            "grid_row": null,
            "grid_template_areas": null,
            "grid_template_columns": null,
            "grid_template_rows": null,
            "height": null,
            "justify_content": null,
            "justify_items": null,
            "left": null,
            "margin": null,
            "max_height": null,
            "max_width": null,
            "min_height": null,
            "min_width": null,
            "object_fit": null,
            "object_position": null,
            "order": null,
            "overflow": null,
            "overflow_x": null,
            "overflow_y": null,
            "padding": null,
            "right": null,
            "top": null,
            "visibility": null,
            "width": null
          }
        },
        "2dd70de4daca4d38a41ca9a76e91be2c": {
          "model_module": "@jupyter-widgets/controls",
          "model_module_version": "1.5.0",
          "model_name": "HTMLModel",
          "state": {
            "_dom_classes": [],
            "_model_module": "@jupyter-widgets/controls",
            "_model_module_version": "1.5.0",
            "_model_name": "HTMLModel",
            "_view_count": null,
            "_view_module": "@jupyter-widgets/controls",
            "_view_module_version": "1.5.0",
            "_view_name": "HTMLView",
            "description": "",
            "description_tooltip": null,
            "layout": "IPY_MODEL_7d9ad7455ea94272b56fed85aaa3d5be",
            "placeholder": "​",
            "style": "IPY_MODEL_e5c9b884177542cb8d0ae0eb7b6e29ad",
            "value": " 0/20 [00:00&lt;?, ?it/s]"
          }
        },
        "31a6cd56a59f46eebd5d8359fe4fdf69": {
          "model_module": "@jupyter-widgets/controls",
          "model_module_version": "1.5.0",
          "model_name": "FloatProgressModel",
          "state": {
            "_dom_classes": [],
            "_model_module": "@jupyter-widgets/controls",
            "_model_module_version": "1.5.0",
            "_model_name": "FloatProgressModel",
            "_view_count": null,
            "_view_module": "@jupyter-widgets/controls",
            "_view_module_version": "1.5.0",
            "_view_name": "ProgressView",
            "bar_style": "",
            "description": "",
            "description_tooltip": null,
            "layout": "IPY_MODEL_69a90f24dc9c4ef4b7aabd39b9ad35a3",
            "max": 20,
            "min": 0,
            "orientation": "horizontal",
            "style": "IPY_MODEL_96a1c5c19a774d208a6fa7da05c01b08",
            "value": 0
          }
        },
        "32c76ce925c34d59a53f6cb78468c583": {
          "model_module": "@jupyter-widgets/controls",
          "model_module_version": "1.5.0",
          "model_name": "DescriptionStyleModel",
          "state": {
            "_model_module": "@jupyter-widgets/controls",
            "_model_module_version": "1.5.0",
            "_model_name": "DescriptionStyleModel",
            "_view_count": null,
            "_view_module": "@jupyter-widgets/base",
            "_view_module_version": "1.2.0",
            "_view_name": "StyleView",
            "description_width": ""
          }
        },
        "4e46167b195a4707a9a2e4759e110653": {
          "model_module": "@jupyter-widgets/base",
          "model_module_version": "1.2.0",
          "model_name": "LayoutModel",
          "state": {
            "_model_module": "@jupyter-widgets/base",
            "_model_module_version": "1.2.0",
            "_model_name": "LayoutModel",
            "_view_count": null,
            "_view_module": "@jupyter-widgets/base",
            "_view_module_version": "1.2.0",
            "_view_name": "LayoutView",
            "align_content": null,
            "align_items": null,
            "align_self": null,
            "border": null,
            "bottom": null,
            "display": null,
            "flex": null,
            "flex_flow": null,
            "grid_area": null,
            "grid_auto_columns": null,
            "grid_auto_flow": null,
            "grid_auto_rows": null,
            "grid_column": null,
            "grid_gap": null,
            "grid_row": null,
            "grid_template_areas": null,
            "grid_template_columns": null,
            "grid_template_rows": null,
            "height": null,
            "justify_content": null,
            "justify_items": null,
            "left": null,
            "margin": null,
            "max_height": null,
            "max_width": null,
            "min_height": null,
            "min_width": null,
            "object_fit": null,
            "object_position": null,
            "order": null,
            "overflow": null,
            "overflow_x": null,
            "overflow_y": null,
            "padding": null,
            "right": null,
            "top": null,
            "visibility": null,
            "width": null
          }
        },
        "69a90f24dc9c4ef4b7aabd39b9ad35a3": {
          "model_module": "@jupyter-widgets/base",
          "model_module_version": "1.2.0",
          "model_name": "LayoutModel",
          "state": {
            "_model_module": "@jupyter-widgets/base",
            "_model_module_version": "1.2.0",
            "_model_name": "LayoutModel",
            "_view_count": null,
            "_view_module": "@jupyter-widgets/base",
            "_view_module_version": "1.2.0",
            "_view_name": "LayoutView",
            "align_content": null,
            "align_items": null,
            "align_self": null,
            "border": null,
            "bottom": null,
            "display": null,
            "flex": null,
            "flex_flow": null,
            "grid_area": null,
            "grid_auto_columns": null,
            "grid_auto_flow": null,
            "grid_auto_rows": null,
            "grid_column": null,
            "grid_gap": null,
            "grid_row": null,
            "grid_template_areas": null,
            "grid_template_columns": null,
            "grid_template_rows": null,
            "height": null,
            "justify_content": null,
            "justify_items": null,
            "left": null,
            "margin": null,
            "max_height": null,
            "max_width": null,
            "min_height": null,
            "min_width": null,
            "object_fit": null,
            "object_position": null,
            "order": null,
            "overflow": null,
            "overflow_x": null,
            "overflow_y": null,
            "padding": null,
            "right": null,
            "top": null,
            "visibility": null,
            "width": null
          }
        },
        "6ca1bab9ac044ac090ed7b36a330ea3a": {
          "model_module": "@jupyter-widgets/controls",
          "model_module_version": "1.5.0",
          "model_name": "HBoxModel",
          "state": {
            "_dom_classes": [],
            "_model_module": "@jupyter-widgets/controls",
            "_model_module_version": "1.5.0",
            "_model_name": "HBoxModel",
            "_view_count": null,
            "_view_module": "@jupyter-widgets/controls",
            "_view_module_version": "1.5.0",
            "_view_name": "HBoxView",
            "box_style": "",
            "children": [
              "IPY_MODEL_8273d7d3463b451eab48cb0b2f05db8b",
              "IPY_MODEL_31a6cd56a59f46eebd5d8359fe4fdf69",
              "IPY_MODEL_2dd70de4daca4d38a41ca9a76e91be2c"
            ],
            "layout": "IPY_MODEL_a0a05fd529f646498366a18599eb4f95"
          }
        },
        "72d5fc5dd38c460e8efa99233a95d366": {
          "model_module": "@jupyter-widgets/controls",
          "model_module_version": "1.5.0",
          "model_name": "HTMLModel",
          "state": {
            "_dom_classes": [],
            "_model_module": "@jupyter-widgets/controls",
            "_model_module_version": "1.5.0",
            "_model_name": "HTMLModel",
            "_view_count": null,
            "_view_module": "@jupyter-widgets/controls",
            "_view_module_version": "1.5.0",
            "_view_name": "HTMLView",
            "description": "",
            "description_tooltip": null,
            "layout": "IPY_MODEL_1754c5226731463b885e6a4cd4112698",
            "placeholder": "​",
            "style": "IPY_MODEL_aebe2d6bcac04f5eb4b1b7a0fac0e06b",
            "value": ""
          }
        },
        "7d9ad7455ea94272b56fed85aaa3d5be": {
          "model_module": "@jupyter-widgets/base",
          "model_module_version": "1.2.0",
          "model_name": "LayoutModel",
          "state": {
            "_model_module": "@jupyter-widgets/base",
            "_model_module_version": "1.2.0",
            "_model_name": "LayoutModel",
            "_view_count": null,
            "_view_module": "@jupyter-widgets/base",
            "_view_module_version": "1.2.0",
            "_view_name": "LayoutView",
            "align_content": null,
            "align_items": null,
            "align_self": null,
            "border": null,
            "bottom": null,
            "display": null,
            "flex": null,
            "flex_flow": null,
            "grid_area": null,
            "grid_auto_columns": null,
            "grid_auto_flow": null,
            "grid_auto_rows": null,
            "grid_column": null,
            "grid_gap": null,
            "grid_row": null,
            "grid_template_areas": null,
            "grid_template_columns": null,
            "grid_template_rows": null,
            "height": null,
            "justify_content": null,
            "justify_items": null,
            "left": null,
            "margin": null,
            "max_height": null,
            "max_width": null,
            "min_height": null,
            "min_width": null,
            "object_fit": null,
            "object_position": null,
            "order": null,
            "overflow": null,
            "overflow_x": null,
            "overflow_y": null,
            "padding": null,
            "right": null,
            "top": null,
            "visibility": null,
            "width": null
          }
        },
        "8273d7d3463b451eab48cb0b2f05db8b": {
          "model_module": "@jupyter-widgets/controls",
          "model_module_version": "1.5.0",
          "model_name": "HTMLModel",
          "state": {
            "_dom_classes": [],
            "_model_module": "@jupyter-widgets/controls",
            "_model_module_version": "1.5.0",
            "_model_name": "HTMLModel",
            "_view_count": null,
            "_view_module": "@jupyter-widgets/controls",
            "_view_module_version": "1.5.0",
            "_view_name": "HTMLView",
            "description": "",
            "description_tooltip": null,
            "layout": "IPY_MODEL_01a7c8e514904e0cb0b91ca14739ea0d",
            "placeholder": "​",
            "style": "IPY_MODEL_897416abb89c49c3a139128bb368813f",
            "value": "  0%"
          }
        },
        "897416abb89c49c3a139128bb368813f": {
          "model_module": "@jupyter-widgets/controls",
          "model_module_version": "1.5.0",
          "model_name": "DescriptionStyleModel",
          "state": {
            "_model_module": "@jupyter-widgets/controls",
            "_model_module_version": "1.5.0",
            "_model_name": "DescriptionStyleModel",
            "_view_count": null,
            "_view_module": "@jupyter-widgets/base",
            "_view_module_version": "1.2.0",
            "_view_name": "StyleView",
            "description_width": ""
          }
        },
        "8c0066c8614d4f69a076cb51e2d2c7a4": {
          "model_module": "@jupyter-widgets/controls",
          "model_module_version": "1.5.0",
          "model_name": "ProgressStyleModel",
          "state": {
            "_model_module": "@jupyter-widgets/controls",
            "_model_module_version": "1.5.0",
            "_model_name": "ProgressStyleModel",
            "_view_count": null,
            "_view_module": "@jupyter-widgets/base",
            "_view_module_version": "1.2.0",
            "_view_name": "StyleView",
            "bar_color": null,
            "description_width": ""
          }
        },
        "96a1c5c19a774d208a6fa7da05c01b08": {
          "model_module": "@jupyter-widgets/controls",
          "model_module_version": "1.5.0",
          "model_name": "ProgressStyleModel",
          "state": {
            "_model_module": "@jupyter-widgets/controls",
            "_model_module_version": "1.5.0",
            "_model_name": "ProgressStyleModel",
            "_view_count": null,
            "_view_module": "@jupyter-widgets/base",
            "_view_module_version": "1.2.0",
            "_view_name": "StyleView",
            "bar_color": null,
            "description_width": ""
          }
        },
        "a0a05fd529f646498366a18599eb4f95": {
          "model_module": "@jupyter-widgets/base",
          "model_module_version": "1.2.0",
          "model_name": "LayoutModel",
          "state": {
            "_model_module": "@jupyter-widgets/base",
            "_model_module_version": "1.2.0",
            "_model_name": "LayoutModel",
            "_view_count": null,
            "_view_module": "@jupyter-widgets/base",
            "_view_module_version": "1.2.0",
            "_view_name": "LayoutView",
            "align_content": null,
            "align_items": null,
            "align_self": null,
            "border": null,
            "bottom": null,
            "display": null,
            "flex": null,
            "flex_flow": null,
            "grid_area": null,
            "grid_auto_columns": null,
            "grid_auto_flow": null,
            "grid_auto_rows": null,
            "grid_column": null,
            "grid_gap": null,
            "grid_row": null,
            "grid_template_areas": null,
            "grid_template_columns": null,
            "grid_template_rows": null,
            "height": null,
            "justify_content": null,
            "justify_items": null,
            "left": null,
            "margin": null,
            "max_height": null,
            "max_width": null,
            "min_height": null,
            "min_width": null,
            "object_fit": null,
            "object_position": null,
            "order": null,
            "overflow": null,
            "overflow_x": null,
            "overflow_y": null,
            "padding": null,
            "right": null,
            "top": null,
            "visibility": null,
            "width": null
          }
        },
        "aebe2d6bcac04f5eb4b1b7a0fac0e06b": {
          "model_module": "@jupyter-widgets/controls",
          "model_module_version": "1.5.0",
          "model_name": "DescriptionStyleModel",
          "state": {
            "_model_module": "@jupyter-widgets/controls",
            "_model_module_version": "1.5.0",
            "_model_name": "DescriptionStyleModel",
            "_view_count": null,
            "_view_module": "@jupyter-widgets/base",
            "_view_module_version": "1.2.0",
            "_view_name": "StyleView",
            "description_width": ""
          }
        },
        "cfc3d1686d4344f8a8066b3831427550": {
          "model_module": "@jupyter-widgets/controls",
          "model_module_version": "1.5.0",
          "model_name": "HTMLModel",
          "state": {
            "_dom_classes": [],
            "_model_module": "@jupyter-widgets/controls",
            "_model_module_version": "1.5.0",
            "_model_name": "HTMLModel",
            "_view_count": null,
            "_view_module": "@jupyter-widgets/controls",
            "_view_module_version": "1.5.0",
            "_view_name": "HTMLView",
            "description": "",
            "description_tooltip": null,
            "layout": "IPY_MODEL_dae9872f2e3e4ed98e46003001845bb8",
            "placeholder": "​",
            "style": "IPY_MODEL_32c76ce925c34d59a53f6cb78468c583",
            "value": " 16/? [00:19&lt;00:00,  1.21s/it]"
          }
        },
        "dae9872f2e3e4ed98e46003001845bb8": {
          "model_module": "@jupyter-widgets/base",
          "model_module_version": "1.2.0",
          "model_name": "LayoutModel",
          "state": {
            "_model_module": "@jupyter-widgets/base",
            "_model_module_version": "1.2.0",
            "_model_name": "LayoutModel",
            "_view_count": null,
            "_view_module": "@jupyter-widgets/base",
            "_view_module_version": "1.2.0",
            "_view_name": "LayoutView",
            "align_content": null,
            "align_items": null,
            "align_self": null,
            "border": null,
            "bottom": null,
            "display": null,
            "flex": null,
            "flex_flow": null,
            "grid_area": null,
            "grid_auto_columns": null,
            "grid_auto_flow": null,
            "grid_auto_rows": null,
            "grid_column": null,
            "grid_gap": null,
            "grid_row": null,
            "grid_template_areas": null,
            "grid_template_columns": null,
            "grid_template_rows": null,
            "height": null,
            "justify_content": null,
            "justify_items": null,
            "left": null,
            "margin": null,
            "max_height": null,
            "max_width": null,
            "min_height": null,
            "min_width": null,
            "object_fit": null,
            "object_position": null,
            "order": null,
            "overflow": null,
            "overflow_x": null,
            "overflow_y": null,
            "padding": null,
            "right": null,
            "top": null,
            "visibility": null,
            "width": null
          }
        },
        "e3815d095d0241709d6e16a11d53d1f6": {
          "model_module": "@jupyter-widgets/controls",
          "model_module_version": "1.5.0",
          "model_name": "FloatProgressModel",
          "state": {
            "_dom_classes": [],
            "_model_module": "@jupyter-widgets/controls",
            "_model_module_version": "1.5.0",
            "_model_name": "FloatProgressModel",
            "_view_count": null,
            "_view_module": "@jupyter-widgets/controls",
            "_view_module_version": "1.5.0",
            "_view_name": "ProgressView",
            "bar_style": "info",
            "description": "",
            "description_tooltip": null,
            "layout": "IPY_MODEL_f7c5721cf8bf452fa8e869178626e52f",
            "max": 1,
            "min": 0,
            "orientation": "horizontal",
            "style": "IPY_MODEL_8c0066c8614d4f69a076cb51e2d2c7a4",
            "value": 1
          }
        },
        "e5c9b884177542cb8d0ae0eb7b6e29ad": {
          "model_module": "@jupyter-widgets/controls",
          "model_module_version": "1.5.0",
          "model_name": "DescriptionStyleModel",
          "state": {
            "_model_module": "@jupyter-widgets/controls",
            "_model_module_version": "1.5.0",
            "_model_name": "DescriptionStyleModel",
            "_view_count": null,
            "_view_module": "@jupyter-widgets/base",
            "_view_module_version": "1.2.0",
            "_view_name": "StyleView",
            "description_width": ""
          }
        },
        "f7c5721cf8bf452fa8e869178626e52f": {
          "model_module": "@jupyter-widgets/base",
          "model_module_version": "1.2.0",
          "model_name": "LayoutModel",
          "state": {
            "_model_module": "@jupyter-widgets/base",
            "_model_module_version": "1.2.0",
            "_model_name": "LayoutModel",
            "_view_count": null,
            "_view_module": "@jupyter-widgets/base",
            "_view_module_version": "1.2.0",
            "_view_name": "LayoutView",
            "align_content": null,
            "align_items": null,
            "align_self": null,
            "border": null,
            "bottom": null,
            "display": null,
            "flex": null,
            "flex_flow": null,
            "grid_area": null,
            "grid_auto_columns": null,
            "grid_auto_flow": null,
            "grid_auto_rows": null,
            "grid_column": null,
            "grid_gap": null,
            "grid_row": null,
            "grid_template_areas": null,
            "grid_template_columns": null,
            "grid_template_rows": null,
            "height": null,
            "justify_content": null,
            "justify_items": null,
            "left": null,
            "margin": null,
            "max_height": null,
            "max_width": null,
            "min_height": null,
            "min_width": null,
            "object_fit": null,
            "object_position": null,
            "order": null,
            "overflow": null,
            "overflow_x": null,
            "overflow_y": null,
            "padding": null,
            "right": null,
            "top": null,
            "visibility": null,
            "width": "20px"
          }
        }
      }
    }
  },
  "nbformat": 4,
  "nbformat_minor": 0
}