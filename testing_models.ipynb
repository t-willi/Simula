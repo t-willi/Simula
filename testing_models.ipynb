{
  "nbformat": 4,
  "nbformat_minor": 0,
  "metadata": {
    "colab": {
      "provenance": [],
      "collapsed_sections": [],
      "authorship_tag": "ABX9TyNcmoheVnZzarPAE7VNl9c3",
      "include_colab_link": true
    },
    "kernelspec": {
      "name": "python3",
      "display_name": "Python 3"
    },
    "language_info": {
      "name": "python"
    },
    "widgets": {
      "application/vnd.jupyter.widget-state+json": {
        "61382f86208b41fcaa5c04c8a2b3c797": {
          "model_module": "@jupyter-widgets/controls",
          "model_name": "HBoxModel",
          "model_module_version": "1.5.0",
          "state": {
            "_dom_classes": [],
            "_model_module": "@jupyter-widgets/controls",
            "_model_module_version": "1.5.0",
            "_model_name": "HBoxModel",
            "_view_count": null,
            "_view_module": "@jupyter-widgets/controls",
            "_view_module_version": "1.5.0",
            "_view_name": "HBoxView",
            "box_style": "",
            "children": [
              "IPY_MODEL_c21d61c81f79488cb0f2c93e5342ca7a",
              "IPY_MODEL_6478dc1eacad49a9b8adf7fb04932a47",
              "IPY_MODEL_63e8c437e9e34c5c93f97679ce1d24e9"
            ],
            "layout": "IPY_MODEL_d33678bb0e6144b28f2923d91cd1b0a0"
          }
        },
        "c21d61c81f79488cb0f2c93e5342ca7a": {
          "model_module": "@jupyter-widgets/controls",
          "model_name": "HTMLModel",
          "model_module_version": "1.5.0",
          "state": {
            "_dom_classes": [],
            "_model_module": "@jupyter-widgets/controls",
            "_model_module_version": "1.5.0",
            "_model_name": "HTMLModel",
            "_view_count": null,
            "_view_module": "@jupyter-widgets/controls",
            "_view_module_version": "1.5.0",
            "_view_name": "HTMLView",
            "description": "",
            "description_tooltip": null,
            "layout": "IPY_MODEL_98b1f7c7a0574a3ebd500748fa4b8fad",
            "placeholder": "​",
            "style": "IPY_MODEL_9f68752e778148109b872d38fe9ebadb",
            "value": "100%"
          }
        },
        "6478dc1eacad49a9b8adf7fb04932a47": {
          "model_module": "@jupyter-widgets/controls",
          "model_name": "FloatProgressModel",
          "model_module_version": "1.5.0",
          "state": {
            "_dom_classes": [],
            "_model_module": "@jupyter-widgets/controls",
            "_model_module_version": "1.5.0",
            "_model_name": "FloatProgressModel",
            "_view_count": null,
            "_view_module": "@jupyter-widgets/controls",
            "_view_module_version": "1.5.0",
            "_view_name": "ProgressView",
            "bar_style": "success",
            "description": "",
            "description_tooltip": null,
            "layout": "IPY_MODEL_eb408fcbfbfe41c7bbeac92bba0cd23d",
            "max": 2500,
            "min": 0,
            "orientation": "horizontal",
            "style": "IPY_MODEL_d104d0ca08c94ff98d1cb15fb15235be",
            "value": 2500
          }
        },
        "63e8c437e9e34c5c93f97679ce1d24e9": {
          "model_module": "@jupyter-widgets/controls",
          "model_name": "HTMLModel",
          "model_module_version": "1.5.0",
          "state": {
            "_dom_classes": [],
            "_model_module": "@jupyter-widgets/controls",
            "_model_module_version": "1.5.0",
            "_model_name": "HTMLModel",
            "_view_count": null,
            "_view_module": "@jupyter-widgets/controls",
            "_view_module_version": "1.5.0",
            "_view_name": "HTMLView",
            "description": "",
            "description_tooltip": null,
            "layout": "IPY_MODEL_a761fe5ff4774b3fa5529d9847cd4241",
            "placeholder": "​",
            "style": "IPY_MODEL_3c257dd9e23d46f39e89e8af37ecd533",
            "value": " 2500/2500 [02:01&lt;00:00, 20.88it/s]"
          }
        },
        "d33678bb0e6144b28f2923d91cd1b0a0": {
          "model_module": "@jupyter-widgets/base",
          "model_name": "LayoutModel",
          "model_module_version": "1.2.0",
          "state": {
            "_model_module": "@jupyter-widgets/base",
            "_model_module_version": "1.2.0",
            "_model_name": "LayoutModel",
            "_view_count": null,
            "_view_module": "@jupyter-widgets/base",
            "_view_module_version": "1.2.0",
            "_view_name": "LayoutView",
            "align_content": null,
            "align_items": null,
            "align_self": null,
            "border": null,
            "bottom": null,
            "display": null,
            "flex": null,
            "flex_flow": null,
            "grid_area": null,
            "grid_auto_columns": null,
            "grid_auto_flow": null,
            "grid_auto_rows": null,
            "grid_column": null,
            "grid_gap": null,
            "grid_row": null,
            "grid_template_areas": null,
            "grid_template_columns": null,
            "grid_template_rows": null,
            "height": null,
            "justify_content": null,
            "justify_items": null,
            "left": null,
            "margin": null,
            "max_height": null,
            "max_width": null,
            "min_height": null,
            "min_width": null,
            "object_fit": null,
            "object_position": null,
            "order": null,
            "overflow": null,
            "overflow_x": null,
            "overflow_y": null,
            "padding": null,
            "right": null,
            "top": null,
            "visibility": null,
            "width": null
          }
        },
        "98b1f7c7a0574a3ebd500748fa4b8fad": {
          "model_module": "@jupyter-widgets/base",
          "model_name": "LayoutModel",
          "model_module_version": "1.2.0",
          "state": {
            "_model_module": "@jupyter-widgets/base",
            "_model_module_version": "1.2.0",
            "_model_name": "LayoutModel",
            "_view_count": null,
            "_view_module": "@jupyter-widgets/base",
            "_view_module_version": "1.2.0",
            "_view_name": "LayoutView",
            "align_content": null,
            "align_items": null,
            "align_self": null,
            "border": null,
            "bottom": null,
            "display": null,
            "flex": null,
            "flex_flow": null,
            "grid_area": null,
            "grid_auto_columns": null,
            "grid_auto_flow": null,
            "grid_auto_rows": null,
            "grid_column": null,
            "grid_gap": null,
            "grid_row": null,
            "grid_template_areas": null,
            "grid_template_columns": null,
            "grid_template_rows": null,
            "height": null,
            "justify_content": null,
            "justify_items": null,
            "left": null,
            "margin": null,
            "max_height": null,
            "max_width": null,
            "min_height": null,
            "min_width": null,
            "object_fit": null,
            "object_position": null,
            "order": null,
            "overflow": null,
            "overflow_x": null,
            "overflow_y": null,
            "padding": null,
            "right": null,
            "top": null,
            "visibility": null,
            "width": null
          }
        },
        "9f68752e778148109b872d38fe9ebadb": {
          "model_module": "@jupyter-widgets/controls",
          "model_name": "DescriptionStyleModel",
          "model_module_version": "1.5.0",
          "state": {
            "_model_module": "@jupyter-widgets/controls",
            "_model_module_version": "1.5.0",
            "_model_name": "DescriptionStyleModel",
            "_view_count": null,
            "_view_module": "@jupyter-widgets/base",
            "_view_module_version": "1.2.0",
            "_view_name": "StyleView",
            "description_width": ""
          }
        },
        "eb408fcbfbfe41c7bbeac92bba0cd23d": {
          "model_module": "@jupyter-widgets/base",
          "model_name": "LayoutModel",
          "model_module_version": "1.2.0",
          "state": {
            "_model_module": "@jupyter-widgets/base",
            "_model_module_version": "1.2.0",
            "_model_name": "LayoutModel",
            "_view_count": null,
            "_view_module": "@jupyter-widgets/base",
            "_view_module_version": "1.2.0",
            "_view_name": "LayoutView",
            "align_content": null,
            "align_items": null,
            "align_self": null,
            "border": null,
            "bottom": null,
            "display": null,
            "flex": null,
            "flex_flow": null,
            "grid_area": null,
            "grid_auto_columns": null,
            "grid_auto_flow": null,
            "grid_auto_rows": null,
            "grid_column": null,
            "grid_gap": null,
            "grid_row": null,
            "grid_template_areas": null,
            "grid_template_columns": null,
            "grid_template_rows": null,
            "height": null,
            "justify_content": null,
            "justify_items": null,
            "left": null,
            "margin": null,
            "max_height": null,
            "max_width": null,
            "min_height": null,
            "min_width": null,
            "object_fit": null,
            "object_position": null,
            "order": null,
            "overflow": null,
            "overflow_x": null,
            "overflow_y": null,
            "padding": null,
            "right": null,
            "top": null,
            "visibility": null,
            "width": null
          }
        },
        "d104d0ca08c94ff98d1cb15fb15235be": {
          "model_module": "@jupyter-widgets/controls",
          "model_name": "ProgressStyleModel",
          "model_module_version": "1.5.0",
          "state": {
            "_model_module": "@jupyter-widgets/controls",
            "_model_module_version": "1.5.0",
            "_model_name": "ProgressStyleModel",
            "_view_count": null,
            "_view_module": "@jupyter-widgets/base",
            "_view_module_version": "1.2.0",
            "_view_name": "StyleView",
            "bar_color": null,
            "description_width": ""
          }
        },
        "a761fe5ff4774b3fa5529d9847cd4241": {
          "model_module": "@jupyter-widgets/base",
          "model_name": "LayoutModel",
          "model_module_version": "1.2.0",
          "state": {
            "_model_module": "@jupyter-widgets/base",
            "_model_module_version": "1.2.0",
            "_model_name": "LayoutModel",
            "_view_count": null,
            "_view_module": "@jupyter-widgets/base",
            "_view_module_version": "1.2.0",
            "_view_name": "LayoutView",
            "align_content": null,
            "align_items": null,
            "align_self": null,
            "border": null,
            "bottom": null,
            "display": null,
            "flex": null,
            "flex_flow": null,
            "grid_area": null,
            "grid_auto_columns": null,
            "grid_auto_flow": null,
            "grid_auto_rows": null,
            "grid_column": null,
            "grid_gap": null,
            "grid_row": null,
            "grid_template_areas": null,
            "grid_template_columns": null,
            "grid_template_rows": null,
            "height": null,
            "justify_content": null,
            "justify_items": null,
            "left": null,
            "margin": null,
            "max_height": null,
            "max_width": null,
            "min_height": null,
            "min_width": null,
            "object_fit": null,
            "object_position": null,
            "order": null,
            "overflow": null,
            "overflow_x": null,
            "overflow_y": null,
            "padding": null,
            "right": null,
            "top": null,
            "visibility": null,
            "width": null
          }
        },
        "3c257dd9e23d46f39e89e8af37ecd533": {
          "model_module": "@jupyter-widgets/controls",
          "model_name": "DescriptionStyleModel",
          "model_module_version": "1.5.0",
          "state": {
            "_model_module": "@jupyter-widgets/controls",
            "_model_module_version": "1.5.0",
            "_model_name": "DescriptionStyleModel",
            "_view_count": null,
            "_view_module": "@jupyter-widgets/base",
            "_view_module_version": "1.2.0",
            "_view_name": "StyleView",
            "description_width": ""
          }
        },
        "c5cb9857d18f4c92b906d1574532967a": {
          "model_module": "@jupyter-widgets/controls",
          "model_name": "HBoxModel",
          "model_module_version": "1.5.0",
          "state": {
            "_dom_classes": [],
            "_model_module": "@jupyter-widgets/controls",
            "_model_module_version": "1.5.0",
            "_model_name": "HBoxModel",
            "_view_count": null,
            "_view_module": "@jupyter-widgets/controls",
            "_view_module_version": "1.5.0",
            "_view_name": "HBoxView",
            "box_style": "",
            "children": [
              "IPY_MODEL_4de40e0715994c11afb7b85c9f9ffe9d",
              "IPY_MODEL_9f40985acdff4718a543447e1528fc5b",
              "IPY_MODEL_05d2b443feca4c55931f4a653b51dbd8"
            ],
            "layout": "IPY_MODEL_b57c543303554923b6a68d47b51137cb"
          }
        },
        "4de40e0715994c11afb7b85c9f9ffe9d": {
          "model_module": "@jupyter-widgets/controls",
          "model_name": "HTMLModel",
          "model_module_version": "1.5.0",
          "state": {
            "_dom_classes": [],
            "_model_module": "@jupyter-widgets/controls",
            "_model_module_version": "1.5.0",
            "_model_name": "HTMLModel",
            "_view_count": null,
            "_view_module": "@jupyter-widgets/controls",
            "_view_module_version": "1.5.0",
            "_view_name": "HTMLView",
            "description": "",
            "description_tooltip": null,
            "layout": "IPY_MODEL_9042d485a055407fa7d4e82bd531c44a",
            "placeholder": "​",
            "style": "IPY_MODEL_113dba4a8e5748f1a7882a3398e6fa97",
            "value": ""
          }
        },
        "9f40985acdff4718a543447e1528fc5b": {
          "model_module": "@jupyter-widgets/controls",
          "model_name": "FloatProgressModel",
          "model_module_version": "1.5.0",
          "state": {
            "_dom_classes": [],
            "_model_module": "@jupyter-widgets/controls",
            "_model_module_version": "1.5.0",
            "_model_name": "FloatProgressModel",
            "_view_count": null,
            "_view_module": "@jupyter-widgets/controls",
            "_view_module_version": "1.5.0",
            "_view_name": "ProgressView",
            "bar_style": "success",
            "description": "",
            "description_tooltip": null,
            "layout": "IPY_MODEL_1488432413ad446daae40db5dbb2965d",
            "max": 1,
            "min": 0,
            "orientation": "horizontal",
            "style": "IPY_MODEL_e9841a6eef38432c822be3762b42fe4e",
            "value": 1
          }
        },
        "05d2b443feca4c55931f4a653b51dbd8": {
          "model_module": "@jupyter-widgets/controls",
          "model_name": "HTMLModel",
          "model_module_version": "1.5.0",
          "state": {
            "_dom_classes": [],
            "_model_module": "@jupyter-widgets/controls",
            "_model_module_version": "1.5.0",
            "_model_name": "HTMLModel",
            "_view_count": null,
            "_view_module": "@jupyter-widgets/controls",
            "_view_module_version": "1.5.0",
            "_view_name": "HTMLView",
            "description": "",
            "description_tooltip": null,
            "layout": "IPY_MODEL_a1ac0d4621134c25834f3d1cddb349e6",
            "placeholder": "​",
            "style": "IPY_MODEL_56499550891941db9ee496c9cf08bb18",
            "value": " 2500/? [00:00&lt;00:00, 13470.05it/s]"
          }
        },
        "b57c543303554923b6a68d47b51137cb": {
          "model_module": "@jupyter-widgets/base",
          "model_name": "LayoutModel",
          "model_module_version": "1.2.0",
          "state": {
            "_model_module": "@jupyter-widgets/base",
            "_model_module_version": "1.2.0",
            "_model_name": "LayoutModel",
            "_view_count": null,
            "_view_module": "@jupyter-widgets/base",
            "_view_module_version": "1.2.0",
            "_view_name": "LayoutView",
            "align_content": null,
            "align_items": null,
            "align_self": null,
            "border": null,
            "bottom": null,
            "display": null,
            "flex": null,
            "flex_flow": null,
            "grid_area": null,
            "grid_auto_columns": null,
            "grid_auto_flow": null,
            "grid_auto_rows": null,
            "grid_column": null,
            "grid_gap": null,
            "grid_row": null,
            "grid_template_areas": null,
            "grid_template_columns": null,
            "grid_template_rows": null,
            "height": null,
            "justify_content": null,
            "justify_items": null,
            "left": null,
            "margin": null,
            "max_height": null,
            "max_width": null,
            "min_height": null,
            "min_width": null,
            "object_fit": null,
            "object_position": null,
            "order": null,
            "overflow": null,
            "overflow_x": null,
            "overflow_y": null,
            "padding": null,
            "right": null,
            "top": null,
            "visibility": null,
            "width": null
          }
        },
        "9042d485a055407fa7d4e82bd531c44a": {
          "model_module": "@jupyter-widgets/base",
          "model_name": "LayoutModel",
          "model_module_version": "1.2.0",
          "state": {
            "_model_module": "@jupyter-widgets/base",
            "_model_module_version": "1.2.0",
            "_model_name": "LayoutModel",
            "_view_count": null,
            "_view_module": "@jupyter-widgets/base",
            "_view_module_version": "1.2.0",
            "_view_name": "LayoutView",
            "align_content": null,
            "align_items": null,
            "align_self": null,
            "border": null,
            "bottom": null,
            "display": null,
            "flex": null,
            "flex_flow": null,
            "grid_area": null,
            "grid_auto_columns": null,
            "grid_auto_flow": null,
            "grid_auto_rows": null,
            "grid_column": null,
            "grid_gap": null,
            "grid_row": null,
            "grid_template_areas": null,
            "grid_template_columns": null,
            "grid_template_rows": null,
            "height": null,
            "justify_content": null,
            "justify_items": null,
            "left": null,
            "margin": null,
            "max_height": null,
            "max_width": null,
            "min_height": null,
            "min_width": null,
            "object_fit": null,
            "object_position": null,
            "order": null,
            "overflow": null,
            "overflow_x": null,
            "overflow_y": null,
            "padding": null,
            "right": null,
            "top": null,
            "visibility": null,
            "width": null
          }
        },
        "113dba4a8e5748f1a7882a3398e6fa97": {
          "model_module": "@jupyter-widgets/controls",
          "model_name": "DescriptionStyleModel",
          "model_module_version": "1.5.0",
          "state": {
            "_model_module": "@jupyter-widgets/controls",
            "_model_module_version": "1.5.0",
            "_model_name": "DescriptionStyleModel",
            "_view_count": null,
            "_view_module": "@jupyter-widgets/base",
            "_view_module_version": "1.2.0",
            "_view_name": "StyleView",
            "description_width": ""
          }
        },
        "1488432413ad446daae40db5dbb2965d": {
          "model_module": "@jupyter-widgets/base",
          "model_name": "LayoutModel",
          "model_module_version": "1.2.0",
          "state": {
            "_model_module": "@jupyter-widgets/base",
            "_model_module_version": "1.2.0",
            "_model_name": "LayoutModel",
            "_view_count": null,
            "_view_module": "@jupyter-widgets/base",
            "_view_module_version": "1.2.0",
            "_view_name": "LayoutView",
            "align_content": null,
            "align_items": null,
            "align_self": null,
            "border": null,
            "bottom": null,
            "display": null,
            "flex": null,
            "flex_flow": null,
            "grid_area": null,
            "grid_auto_columns": null,
            "grid_auto_flow": null,
            "grid_auto_rows": null,
            "grid_column": null,
            "grid_gap": null,
            "grid_row": null,
            "grid_template_areas": null,
            "grid_template_columns": null,
            "grid_template_rows": null,
            "height": null,
            "justify_content": null,
            "justify_items": null,
            "left": null,
            "margin": null,
            "max_height": null,
            "max_width": null,
            "min_height": null,
            "min_width": null,
            "object_fit": null,
            "object_position": null,
            "order": null,
            "overflow": null,
            "overflow_x": null,
            "overflow_y": null,
            "padding": null,
            "right": null,
            "top": null,
            "visibility": null,
            "width": "20px"
          }
        },
        "e9841a6eef38432c822be3762b42fe4e": {
          "model_module": "@jupyter-widgets/controls",
          "model_name": "ProgressStyleModel",
          "model_module_version": "1.5.0",
          "state": {
            "_model_module": "@jupyter-widgets/controls",
            "_model_module_version": "1.5.0",
            "_model_name": "ProgressStyleModel",
            "_view_count": null,
            "_view_module": "@jupyter-widgets/base",
            "_view_module_version": "1.2.0",
            "_view_name": "StyleView",
            "bar_color": null,
            "description_width": ""
          }
        },
        "a1ac0d4621134c25834f3d1cddb349e6": {
          "model_module": "@jupyter-widgets/base",
          "model_name": "LayoutModel",
          "model_module_version": "1.2.0",
          "state": {
            "_model_module": "@jupyter-widgets/base",
            "_model_module_version": "1.2.0",
            "_model_name": "LayoutModel",
            "_view_count": null,
            "_view_module": "@jupyter-widgets/base",
            "_view_module_version": "1.2.0",
            "_view_name": "LayoutView",
            "align_content": null,
            "align_items": null,
            "align_self": null,
            "border": null,
            "bottom": null,
            "display": null,
            "flex": null,
            "flex_flow": null,
            "grid_area": null,
            "grid_auto_columns": null,
            "grid_auto_flow": null,
            "grid_auto_rows": null,
            "grid_column": null,
            "grid_gap": null,
            "grid_row": null,
            "grid_template_areas": null,
            "grid_template_columns": null,
            "grid_template_rows": null,
            "height": null,
            "justify_content": null,
            "justify_items": null,
            "left": null,
            "margin": null,
            "max_height": null,
            "max_width": null,
            "min_height": null,
            "min_width": null,
            "object_fit": null,
            "object_position": null,
            "order": null,
            "overflow": null,
            "overflow_x": null,
            "overflow_y": null,
            "padding": null,
            "right": null,
            "top": null,
            "visibility": null,
            "width": null
          }
        },
        "56499550891941db9ee496c9cf08bb18": {
          "model_module": "@jupyter-widgets/controls",
          "model_name": "DescriptionStyleModel",
          "model_module_version": "1.5.0",
          "state": {
            "_model_module": "@jupyter-widgets/controls",
            "_model_module_version": "1.5.0",
            "_model_name": "DescriptionStyleModel",
            "_view_count": null,
            "_view_module": "@jupyter-widgets/base",
            "_view_module_version": "1.2.0",
            "_view_name": "StyleView",
            "description_width": ""
          }
        },
        "284c870359574b0ab440944d93e35a80": {
          "model_module": "@jupyter-widgets/controls",
          "model_name": "HBoxModel",
          "model_module_version": "1.5.0",
          "state": {
            "_dom_classes": [],
            "_model_module": "@jupyter-widgets/controls",
            "_model_module_version": "1.5.0",
            "_model_name": "HBoxModel",
            "_view_count": null,
            "_view_module": "@jupyter-widgets/controls",
            "_view_module_version": "1.5.0",
            "_view_name": "HBoxView",
            "box_style": "",
            "children": [
              "IPY_MODEL_3d0edd4b3fe74fc38e256d3570749d87",
              "IPY_MODEL_0f9c863fddc7482597afd98435df369f",
              "IPY_MODEL_cef901bf01aa4b938f2c7f36b88437fa"
            ],
            "layout": "IPY_MODEL_fd23804bb8734fefb941ee936c93f4d0"
          }
        },
        "3d0edd4b3fe74fc38e256d3570749d87": {
          "model_module": "@jupyter-widgets/controls",
          "model_name": "HTMLModel",
          "model_module_version": "1.5.0",
          "state": {
            "_dom_classes": [],
            "_model_module": "@jupyter-widgets/controls",
            "_model_module_version": "1.5.0",
            "_model_name": "HTMLModel",
            "_view_count": null,
            "_view_module": "@jupyter-widgets/controls",
            "_view_module_version": "1.5.0",
            "_view_name": "HTMLView",
            "description": "",
            "description_tooltip": null,
            "layout": "IPY_MODEL_9d6352d248494b47bdbe1b73ed4d6e24",
            "placeholder": "​",
            "style": "IPY_MODEL_f6475520f9ba4a92a2958f63a97bae91",
            "value": ""
          }
        },
        "0f9c863fddc7482597afd98435df369f": {
          "model_module": "@jupyter-widgets/controls",
          "model_name": "FloatProgressModel",
          "model_module_version": "1.5.0",
          "state": {
            "_dom_classes": [],
            "_model_module": "@jupyter-widgets/controls",
            "_model_module_version": "1.5.0",
            "_model_name": "FloatProgressModel",
            "_view_count": null,
            "_view_module": "@jupyter-widgets/controls",
            "_view_module_version": "1.5.0",
            "_view_name": "ProgressView",
            "bar_style": "success",
            "description": "",
            "description_tooltip": null,
            "layout": "IPY_MODEL_b8df7d932d1f48c189f5045927b067b4",
            "max": 1,
            "min": 0,
            "orientation": "horizontal",
            "style": "IPY_MODEL_6470f4dfa2fe4d84bcb11b5c03f38ab6",
            "value": 1
          }
        },
        "cef901bf01aa4b938f2c7f36b88437fa": {
          "model_module": "@jupyter-widgets/controls",
          "model_name": "HTMLModel",
          "model_module_version": "1.5.0",
          "state": {
            "_dom_classes": [],
            "_model_module": "@jupyter-widgets/controls",
            "_model_module_version": "1.5.0",
            "_model_name": "HTMLModel",
            "_view_count": null,
            "_view_module": "@jupyter-widgets/controls",
            "_view_module_version": "1.5.0",
            "_view_name": "HTMLView",
            "description": "",
            "description_tooltip": null,
            "layout": "IPY_MODEL_5e50cacbac964d289279f0e00c7f1c0d",
            "placeholder": "​",
            "style": "IPY_MODEL_f8f6818b0c444690b29f1ff0ac9dd50a",
            "value": " 2500/? [00:33&lt;00:00, 76.96it/s]"
          }
        },
        "fd23804bb8734fefb941ee936c93f4d0": {
          "model_module": "@jupyter-widgets/base",
          "model_name": "LayoutModel",
          "model_module_version": "1.2.0",
          "state": {
            "_model_module": "@jupyter-widgets/base",
            "_model_module_version": "1.2.0",
            "_model_name": "LayoutModel",
            "_view_count": null,
            "_view_module": "@jupyter-widgets/base",
            "_view_module_version": "1.2.0",
            "_view_name": "LayoutView",
            "align_content": null,
            "align_items": null,
            "align_self": null,
            "border": null,
            "bottom": null,
            "display": null,
            "flex": null,
            "flex_flow": null,
            "grid_area": null,
            "grid_auto_columns": null,
            "grid_auto_flow": null,
            "grid_auto_rows": null,
            "grid_column": null,
            "grid_gap": null,
            "grid_row": null,
            "grid_template_areas": null,
            "grid_template_columns": null,
            "grid_template_rows": null,
            "height": null,
            "justify_content": null,
            "justify_items": null,
            "left": null,
            "margin": null,
            "max_height": null,
            "max_width": null,
            "min_height": null,
            "min_width": null,
            "object_fit": null,
            "object_position": null,
            "order": null,
            "overflow": null,
            "overflow_x": null,
            "overflow_y": null,
            "padding": null,
            "right": null,
            "top": null,
            "visibility": null,
            "width": null
          }
        },
        "9d6352d248494b47bdbe1b73ed4d6e24": {
          "model_module": "@jupyter-widgets/base",
          "model_name": "LayoutModel",
          "model_module_version": "1.2.0",
          "state": {
            "_model_module": "@jupyter-widgets/base",
            "_model_module_version": "1.2.0",
            "_model_name": "LayoutModel",
            "_view_count": null,
            "_view_module": "@jupyter-widgets/base",
            "_view_module_version": "1.2.0",
            "_view_name": "LayoutView",
            "align_content": null,
            "align_items": null,
            "align_self": null,
            "border": null,
            "bottom": null,
            "display": null,
            "flex": null,
            "flex_flow": null,
            "grid_area": null,
            "grid_auto_columns": null,
            "grid_auto_flow": null,
            "grid_auto_rows": null,
            "grid_column": null,
            "grid_gap": null,
            "grid_row": null,
            "grid_template_areas": null,
            "grid_template_columns": null,
            "grid_template_rows": null,
            "height": null,
            "justify_content": null,
            "justify_items": null,
            "left": null,
            "margin": null,
            "max_height": null,
            "max_width": null,
            "min_height": null,
            "min_width": null,
            "object_fit": null,
            "object_position": null,
            "order": null,
            "overflow": null,
            "overflow_x": null,
            "overflow_y": null,
            "padding": null,
            "right": null,
            "top": null,
            "visibility": null,
            "width": null
          }
        },
        "f6475520f9ba4a92a2958f63a97bae91": {
          "model_module": "@jupyter-widgets/controls",
          "model_name": "DescriptionStyleModel",
          "model_module_version": "1.5.0",
          "state": {
            "_model_module": "@jupyter-widgets/controls",
            "_model_module_version": "1.5.0",
            "_model_name": "DescriptionStyleModel",
            "_view_count": null,
            "_view_module": "@jupyter-widgets/base",
            "_view_module_version": "1.2.0",
            "_view_name": "StyleView",
            "description_width": ""
          }
        },
        "b8df7d932d1f48c189f5045927b067b4": {
          "model_module": "@jupyter-widgets/base",
          "model_name": "LayoutModel",
          "model_module_version": "1.2.0",
          "state": {
            "_model_module": "@jupyter-widgets/base",
            "_model_module_version": "1.2.0",
            "_model_name": "LayoutModel",
            "_view_count": null,
            "_view_module": "@jupyter-widgets/base",
            "_view_module_version": "1.2.0",
            "_view_name": "LayoutView",
            "align_content": null,
            "align_items": null,
            "align_self": null,
            "border": null,
            "bottom": null,
            "display": null,
            "flex": null,
            "flex_flow": null,
            "grid_area": null,
            "grid_auto_columns": null,
            "grid_auto_flow": null,
            "grid_auto_rows": null,
            "grid_column": null,
            "grid_gap": null,
            "grid_row": null,
            "grid_template_areas": null,
            "grid_template_columns": null,
            "grid_template_rows": null,
            "height": null,
            "justify_content": null,
            "justify_items": null,
            "left": null,
            "margin": null,
            "max_height": null,
            "max_width": null,
            "min_height": null,
            "min_width": null,
            "object_fit": null,
            "object_position": null,
            "order": null,
            "overflow": null,
            "overflow_x": null,
            "overflow_y": null,
            "padding": null,
            "right": null,
            "top": null,
            "visibility": null,
            "width": "20px"
          }
        },
        "6470f4dfa2fe4d84bcb11b5c03f38ab6": {
          "model_module": "@jupyter-widgets/controls",
          "model_name": "ProgressStyleModel",
          "model_module_version": "1.5.0",
          "state": {
            "_model_module": "@jupyter-widgets/controls",
            "_model_module_version": "1.5.0",
            "_model_name": "ProgressStyleModel",
            "_view_count": null,
            "_view_module": "@jupyter-widgets/base",
            "_view_module_version": "1.2.0",
            "_view_name": "StyleView",
            "bar_color": null,
            "description_width": ""
          }
        },
        "5e50cacbac964d289279f0e00c7f1c0d": {
          "model_module": "@jupyter-widgets/base",
          "model_name": "LayoutModel",
          "model_module_version": "1.2.0",
          "state": {
            "_model_module": "@jupyter-widgets/base",
            "_model_module_version": "1.2.0",
            "_model_name": "LayoutModel",
            "_view_count": null,
            "_view_module": "@jupyter-widgets/base",
            "_view_module_version": "1.2.0",
            "_view_name": "LayoutView",
            "align_content": null,
            "align_items": null,
            "align_self": null,
            "border": null,
            "bottom": null,
            "display": null,
            "flex": null,
            "flex_flow": null,
            "grid_area": null,
            "grid_auto_columns": null,
            "grid_auto_flow": null,
            "grid_auto_rows": null,
            "grid_column": null,
            "grid_gap": null,
            "grid_row": null,
            "grid_template_areas": null,
            "grid_template_columns": null,
            "grid_template_rows": null,
            "height": null,
            "justify_content": null,
            "justify_items": null,
            "left": null,
            "margin": null,
            "max_height": null,
            "max_width": null,
            "min_height": null,
            "min_width": null,
            "object_fit": null,
            "object_position": null,
            "order": null,
            "overflow": null,
            "overflow_x": null,
            "overflow_y": null,
            "padding": null,
            "right": null,
            "top": null,
            "visibility": null,
            "width": null
          }
        },
        "f8f6818b0c444690b29f1ff0ac9dd50a": {
          "model_module": "@jupyter-widgets/controls",
          "model_name": "DescriptionStyleModel",
          "model_module_version": "1.5.0",
          "state": {
            "_model_module": "@jupyter-widgets/controls",
            "_model_module_version": "1.5.0",
            "_model_name": "DescriptionStyleModel",
            "_view_count": null,
            "_view_module": "@jupyter-widgets/base",
            "_view_module_version": "1.2.0",
            "_view_name": "StyleView",
            "description_width": ""
          }
        }
      }
    }
  },
  "cells": [
    {
      "cell_type": "markdown",
      "metadata": {
        "id": "view-in-github",
        "colab_type": "text"
      },
      "source": [
        "<a href=\"https://colab.research.google.com/github/t-willi/Simula/blob/main/testing_models.ipynb\" target=\"_parent\"><img src=\"https://colab.research.google.com/assets/colab-badge.svg\" alt=\"Open In Colab\"/></a>"
      ]
    },
    {
      "cell_type": "code",
      "execution_count": 115,
      "metadata": {
        "colab": {
          "base_uri": "https://localhost:8080/"
        },
        "id": "lamPdHv75qmd",
        "outputId": "72cb1f7c-4e79-4359-9543-bad5ade28fe5"
      },
      "outputs": [
        {
          "output_type": "stream",
          "name": "stdout",
          "text": [
            "Looking in indexes: https://pypi.org/simple, https://us-python.pkg.dev/colab-wheels/public/simple/\n",
            "Requirement already satisfied: wandb in /usr/local/lib/python3.7/dist-packages (0.13.4)\n",
            "Requirement already satisfied: GitPython>=1.0.0 in /usr/local/lib/python3.7/dist-packages (from wandb) (3.1.29)\n",
            "Requirement already satisfied: setproctitle in /usr/local/lib/python3.7/dist-packages (from wandb) (1.3.2)\n",
            "Requirement already satisfied: Click!=8.0.0,>=7.0 in /usr/local/lib/python3.7/dist-packages (from wandb) (7.1.2)\n",
            "Requirement already satisfied: PyYAML in /usr/local/lib/python3.7/dist-packages (from wandb) (6.0)\n",
            "Requirement already satisfied: docker-pycreds>=0.4.0 in /usr/local/lib/python3.7/dist-packages (from wandb) (0.4.0)\n",
            "Requirement already satisfied: requests<3,>=2.0.0 in /usr/local/lib/python3.7/dist-packages (from wandb) (2.23.0)\n",
            "Requirement already satisfied: setuptools in /usr/local/lib/python3.7/dist-packages (from wandb) (57.4.0)\n",
            "Requirement already satisfied: protobuf!=4.0.*,!=4.21.0,<5,>=3.12.0 in /usr/local/lib/python3.7/dist-packages (from wandb) (3.17.3)\n",
            "Requirement already satisfied: pathtools in /usr/local/lib/python3.7/dist-packages (from wandb) (0.1.2)\n",
            "Requirement already satisfied: sentry-sdk>=1.0.0 in /usr/local/lib/python3.7/dist-packages (from wandb) (1.9.0)\n",
            "Requirement already satisfied: shortuuid>=0.5.0 in /usr/local/lib/python3.7/dist-packages (from wandb) (1.0.9)\n",
            "Requirement already satisfied: promise<3,>=2.0 in /usr/local/lib/python3.7/dist-packages (from wandb) (2.3)\n",
            "Requirement already satisfied: psutil>=5.0.0 in /usr/local/lib/python3.7/dist-packages (from wandb) (5.4.8)\n",
            "Requirement already satisfied: six>=1.13.0 in /usr/local/lib/python3.7/dist-packages (from wandb) (1.15.0)\n",
            "Requirement already satisfied: gitdb<5,>=4.0.1 in /usr/local/lib/python3.7/dist-packages (from GitPython>=1.0.0->wandb) (4.0.9)\n",
            "Requirement already satisfied: typing-extensions>=3.7.4.3 in /usr/local/lib/python3.7/dist-packages (from GitPython>=1.0.0->wandb) (4.1.1)\n",
            "Requirement already satisfied: smmap<6,>=3.0.1 in /usr/local/lib/python3.7/dist-packages (from gitdb<5,>=4.0.1->GitPython>=1.0.0->wandb) (5.0.0)\n",
            "Requirement already satisfied: idna<3,>=2.5 in /usr/local/lib/python3.7/dist-packages (from requests<3,>=2.0.0->wandb) (2.10)\n",
            "Requirement already satisfied: certifi>=2017.4.17 in /usr/local/lib/python3.7/dist-packages (from requests<3,>=2.0.0->wandb) (2022.9.24)\n",
            "Requirement already satisfied: urllib3!=1.25.0,!=1.25.1,<1.26,>=1.21.1 in /usr/local/lib/python3.7/dist-packages (from requests<3,>=2.0.0->wandb) (1.24.3)\n",
            "Requirement already satisfied: chardet<4,>=3.0.2 in /usr/local/lib/python3.7/dist-packages (from requests<3,>=2.0.0->wandb) (3.0.4)\n",
            "Looking in indexes: https://pypi.org/simple, https://us-python.pkg.dev/colab-wheels/public/simple/\n",
            "Requirement already satisfied: ecg_plot in /usr/local/lib/python3.7/dist-packages (0.2.8)\n"
          ]
        },
        {
          "output_type": "stream",
          "name": "stderr",
          "text": [
            "\u001b[34m\u001b[1mwandb\u001b[0m: Downloading large artifact ecg_25000.zip:v0, 1383.92MB. 1 files... \n",
            "\u001b[34m\u001b[1mwandb\u001b[0m:   1 of 1 files downloaded.  \n",
            "Done. 0:0:0.1\n"
          ]
        },
        {
          "output_type": "execute_result",
          "data": {
            "text/plain": [
              "<torch._C.Generator at 0x7f0fcacd3330>"
            ]
          },
          "metadata": {},
          "execution_count": 115
        }
      ],
      "source": [
        "!pip install wandb\n",
        "!pip install ecg_plot\n",
        "import wandb\n",
        "import pandas as pd\n",
        "import torch\n",
        "from torch import nn\n",
        "import matplotlib.pyplot as plt\n",
        "import pandas as pd\n",
        "import numpy as np\n",
        "from torch.utils.data import Dataset, DataLoader\n",
        "import glob\n",
        "import torch.optim as optim\n",
        "from random import shuffle\n",
        "from tqdm.auto import tqdm\n",
        "import requests\n",
        "import zipfile\n",
        "from pathlib import Path\n",
        "\n",
        "api = wandb.Api()\n",
        "artifact = api.artifact('ecg_simula/setup_weights and biases/ecg_25000.zip:v0')\n",
        "artifact.download()\n",
        "torch.manual_seed(42)\n"
      ]
    },
    {
      "cell_type": "code",
      "source": [
        "#load model state\n",
        "previous_model = api.artifact(\"ecg_simula/AE_pTOP_serious_try2/Model:v19\", type='Model')\n",
        "previous_model.download()"
      ],
      "metadata": {
        "colab": {
          "base_uri": "https://localhost:8080/",
          "height": 53
        },
        "id": "zwd-mbgD510m",
        "outputId": "fbe9d4be-511a-4eea-dc89-3f9bd6b90c3b"
      },
      "execution_count": 116,
      "outputs": [
        {
          "output_type": "stream",
          "name": "stderr",
          "text": [
            "\u001b[34m\u001b[1mwandb\u001b[0m:   1 of 1 files downloaded.  \n"
          ]
        },
        {
          "output_type": "execute_result",
          "data": {
            "text/plain": [
              "'./artifacts/Model:v19'"
            ],
            "application/vnd.google.colaboratory.intrinsic+json": {
              "type": "string"
            }
          },
          "metadata": {},
          "execution_count": 116
        }
      ]
    },
    {
      "cell_type": "code",
      "execution_count": 117,
      "metadata": {
        "id": "BpY8EHOt-Syy"
      },
      "outputs": [],
      "source": [
        "def request(path=None,name=None):\n",
        "  import requests\n",
        "  from pathlib import Path\n",
        "  request = requests.get(path)\n",
        "  name=name+\".py\"\n",
        "  with open(name,\"wb\") as f:\n",
        "    f.write(request.content)\n",
        "\n",
        "unzip_git_dir=\"https://raw.githubusercontent.com/t-willi/NeuralNetworks/main/unzip.py\"\n",
        "Dataloader_git_dir=\"https://raw.githubusercontent.com/t-willi/NeuralNetworks/main/dataset_and_loader.py\"\n",
        "#model_git_dir=\"https://raw.githubusercontent.com/t-willi/NeuralNetworks/main/Networks.py\"\n",
        "get_pred_no_reshape_git_dir=\"https://raw.githubusercontent.com/t-willi/NeuralNetworks/main/get_predictions_no_reshape.py\"\n",
        "get_pred_git_dir=\"https://raw.githubusercontent.com/t-willi/NeuralNetworks/main/get_predictions.py\"\n",
        "plt_ECG_git_dir=\"https://raw.githubusercontent.com/t-willi/NeuralNetworks/main/plot_ECG.py\"\n",
        "\n",
        "request(unzip_git_dir,\"Unzip\")\n",
        "from Unzip import unzip\n",
        "\n",
        "request(Dataloader_git_dir,\"dataset_and_loader\")\n",
        "from dataset_and_loader import Custom_dataset as CD\n",
        "from dataset_and_loader import make_loader as ml\n",
        "\n",
        "#Download and instantialize model\n",
        "# request(model_git_dir,\"Networks\")\n",
        "# from Networks import ECG_stacked_AE\n",
        "# model=ECG_AE_v1()\n",
        "\n",
        "#download prediction generator\n",
        "request(get_pred_no_reshape_git_dir,\"get_predictions\")\n",
        "from get_predictions import get_pred\n",
        "#download ECG plotter\n",
        "request(plt_ECG_git_dir,\"plot_ECG\")\n",
        "from plot_ECG import plotECG\n"
      ]
    },
    {
      "cell_type": "code",
      "source": [
        "unzip(save_path=\"custom_data/train\",zip_path=\"/content/artifacts/ecg_25000.zip:v0/ecg_25000.zip\")"
      ],
      "metadata": {
        "colab": {
          "base_uri": "https://localhost:8080/"
        },
        "id": "QMLrkTPF6atO",
        "outputId": "a91428b7-6d89-43f8-a083-0f38629bc538"
      },
      "execution_count": 118,
      "outputs": [
        {
          "output_type": "stream",
          "name": "stdout",
          "text": [
            "custom_data/train directory exists.\n"
          ]
        }
      ]
    },
    {
      "cell_type": "code",
      "source": [
        "import torch\n",
        "import torch.nn as nn\n",
        "import torch.nn.functional as F\n",
        "import torch.utils.data\n",
        "\n",
        "class Transpose1dLayer(nn.Module):\n",
        "    def __init__(self, in_channels, out_channels, kernel_size, stride, padding=11, upsample=None, output_padding=1):\n",
        "        super(Transpose1dLayer, self).__init__()\n",
        "        self.upsample = upsample\n",
        "        self.upsample_layer = torch.nn.Upsample(scale_factor=upsample)\n",
        "        reflection_pad = kernel_size // 2\n",
        "        self.reflection_pad = nn.ConstantPad1d(reflection_pad, value=0)\n",
        "        self.conv1d = torch.nn.Conv1d(in_channels, out_channels, kernel_size, stride)\n",
        "        self.Conv1dTrans = nn.ConvTranspose1d(in_channels, out_channels, kernel_size, stride, padding, output_padding)\n",
        "\n",
        "    def forward(self, x):\n",
        "        if self.upsample:\n",
        "            #x = torch.cat((x, in_feature), 1)\n",
        "            return self.conv1d(self.reflection_pad(self.upsample_layer(x)))\n",
        "        else:\n",
        "            return self.Conv1dTrans(x)\n",
        "\n",
        "\n",
        "class Pulse2pulseGenerator(nn.Module):\n",
        "    def __init__(self,latent_dim=100, post_proc_filt_len=512,upsample=True):\n",
        "        super(Pulse2pulseGenerator, self).__init__()\n",
        "        # \"Dense\" is the same meaning as fully connection.\n",
        "        stride = 4\n",
        "        if upsample:\n",
        "            stride = 1\n",
        "            upsample = 5\n",
        "        # if upsample is anything but none Transpose1dLayer will do\n",
        "        # self.conv1d(self.reflection_pad(self.upsample_layer(x)))\n",
        "        # which is a 1d convolution on padded and upsampled data x\n",
        "        self.deconv_1 = Transpose1dLayer(250 , 250, 25, stride, upsample=upsample)\n",
        "        self.deconv_2 = Transpose1dLayer(250, 150, 25, stride, upsample=upsample)\n",
        "        self.deconv_3 = Transpose1dLayer(150, 50, 25, stride, upsample=upsample)\n",
        "        self.deconv_4 = Transpose1dLayer( 50, 25, 25, stride, upsample=2)\n",
        "        self.deconv_5 = Transpose1dLayer( 25, 10, 25, stride, upsample=upsample)\n",
        "        self.deconv_6 = Transpose1dLayer(  10, 7, 25, stride, upsample=2)\n",
        "\n",
        "        #new convolutional layers\n",
        "        self.conv_1 = nn.Conv1d(1, 10, 25, stride=2, padding=25 // 2)\n",
        "        self.conv_2 = nn.Conv1d(10, 25, 25, stride=5, padding= 25 // 2)\n",
        "        self.conv_3 = nn.Conv1d(25, 50 , 25, stride=2, padding= 25 // 2)\n",
        "        self.conv_4 = nn.Conv1d(50, 150 , 25, stride=5, padding= 25 // 2)\n",
        "        self.conv_5 = nn.Conv1d(150, 250 , 25, stride=5, padding= 25 // 2)\n",
        "        self.conv_6 = nn.Conv1d(250, 250 , 25, stride=5, padding= 25 // 2)\n",
        "\n",
        "        for m in self.modules():\n",
        "            if isinstance(m, nn.ConvTranspose1d) or isinstance(m, nn.Linear):\n",
        "                nn.init.kaiming_normal_(m.weight.data)\n",
        "\n",
        "    def forward(self, x):\n",
        "        if x.ndim==2:\n",
        "          x=x.unsqueeze(0)\n",
        "        x = F.leaky_relu(self.conv_1(x)) #(1,1,5000 --> 1, 10, 2500)\n",
        "        x = F.leaky_relu(self.conv_2(x)) #( --> 1, 25, 500)\n",
        "        x = F.leaky_relu(self.conv_3(x)) #(--> 1, 50, 250)\n",
        "        x = F.leaky_relu(self.conv_4(x)) # --> 1, 150, 50)\n",
        "        x = F.leaky_relu(self.conv_5(x)) #(--> 1, 250, 10)\n",
        "        x = F.leaky_relu(self.conv_6(x)) #(--> 1, 250, 2)\n",
        "        x = F.relu(self.deconv_1(x)) #(--> 1, 250, 10)\n",
        "        x = F.relu(self.deconv_2(x)) #(--> 1, 150, 50)\n",
        "        x = F.relu(self.deconv_3(x)) #( --> 1, 50, 250)\n",
        "        x = F.relu(self.deconv_4(x)) #(--> 1, 25, 500)\n",
        "        x = F.relu(self.deconv_5(x)) #(--> 1, 10, 2500)\n",
        "        x = torch.tanh(self.deconv_6(x)) #(1, 7, 5000)\n",
        "        x=x.squeeze()\n",
        "        return x\n",
        "\n",
        "model=Pulse2pulseGenerator()\n",
        "# PATH=\"/content/artifacts/Model:v19/model\"\n",
        "# model.load_state_dict(torch.load(PATH))"
      ],
      "metadata": {
        "id": "eTZy3Pqz6SkK"
      },
      "execution_count": 119,
      "outputs": []
    },
    {
      "cell_type": "code",
      "source": [
        "data_dir=\"custom_data/train\"\n",
        "test_dataset = CD(data_dir=data_dir,split=True,target=\"test\")\n",
        "model.to(\"cpu\")\n",
        "input,output=get_pred(test_dataset,model=model)\n",
        "combined_df=plotECG(input,output,path=\"/content/testECG\")\n",
        "\n",
        "  "
      ],
      "metadata": {
        "colab": {
          "base_uri": "https://localhost:8080/"
        },
        "id": "dJGxJ88r6poX",
        "outputId": "0acb97d6-5ec6-49c4-abea-cae9e7fb24b7"
      },
      "execution_count": 120,
      "outputs": [
        {
          "output_type": "stream",
          "name": "stdout",
          "text": [
            "/content/testECG directory exists.\n"
          ]
        }
      ]
    },
    {
      "cell_type": "code",
      "source": [
        "import torch\n",
        "import pandas as pd\n",
        "\n",
        "def get_pred(dataset=None,Set=None,model=None,random=True):\n",
        "  \"\"\"\n",
        "  Function takes a Tensor Dataset as input,first a random file from the dataset is selected,\n",
        "  then the Tensor pair is recombined and shaped into a df-->df_Input. \n",
        "  X is used afterwards as input into the model. The predictions are safed as --> df_output.\n",
        "  Both dataframes are now unscaled by 5011, the max value of the whole dataset.\n",
        "  Then a tuple pair of input and output is returned.\n",
        "  \"\"\"\n",
        "  if random:\n",
        "    import random\n",
        "    limit=len(dataset)\n",
        "    rand_idx=random.randint(0,limit)\n",
        "    X,y=dataset[rand_idx]\n",
        "  if random is False:\n",
        "      X,y=Set\n",
        "  #need to combine tensors to make dataframe for plotting input and output side by side\n",
        "  full_tensor=torch.cat((X,y.squeeze()))\n",
        "  full_tensor=full_tensor.numpy()\n",
        "  df_input=pd.DataFrame(full_tensor).T\n",
        "  df_input.columns = [\"R1\",\"R2\",\"Rv1\",\"Rv2\",\"Rv3\",\"Rv4\",\"Rv5\",\"Rv6\"]\n",
        "  model.to(\"cpu\")\n",
        "  model.eval()\n",
        "  with torch.inference_mode():\n",
        "    output=model(X)\n",
        "  output=output.detach().numpy()\n",
        "  output=output.squeeze().T\n",
        "  #unscale data\n",
        "  df_output = pd.DataFrame(output,columns=[\"F2\",\"Fv1\",\"Fv2\",\"Fv3\",\"Fv4\",\"Fv5\",\"Fv6\"])*5011\n",
        "  df_input=df_input*5011\n",
        "  return df_input,df_output"
      ],
      "metadata": {
        "id": "Duhh6yljNkGM"
      },
      "execution_count": 121,
      "outputs": []
    },
    {
      "cell_type": "code",
      "source": [
        "import pandas as pd\n",
        "from pathlib import Path\n",
        "def plotECG(df1=None,df2=None,title=None,pad_df2=True,path=None,createECG=True):\n",
        "  \"\"\"\n",
        "  takes two dataframes with identical columns, concats them and plots them as ecg using ecg_plot\n",
        "  it also takes the first column of df1 and ads it to df1 if pad_df2 is True\n",
        "  \"\"\"\n",
        "  index=[\"real1\",\"realR2\",\"realv1\",\"realv2\",\"realv3\",\"realv4\",\"realv5\",\"realv6\",\"real_lead1\",\n",
        "         \"pred2\",\"predv1\",\"predv2\",\"predv3\",\"predv4\",\"predv5\",\"predv6\"]\n",
        "  if createECG==True:\n",
        "    ecg_path=path\n",
        "    if Path(ecg_path).is_dir():\n",
        "        print(f\"{ecg_path} directory exists.\")\n",
        "    else:\n",
        "        print(f\"Did not find {ecg_path} directory, creating one...\")\n",
        "        Path(ecg_path).mkdir(parents=True, exist_ok=True)\n",
        "    import ecg_plot\n",
        "  if pad_df2 is True:\n",
        "    if len(df1.columns)>len(df2.columns):\n",
        "      df2.insert(0, 'real_lead1', df1[\"R1\"])\n",
        "  frames=[df1/1000,df2/1000]\n",
        "  combined_df=pd.concat(frames,axis=1,join=\"outer\",)\n",
        "  if createECG is True:\n",
        "    ecg_plot.plot(combined_df.values.T, sample_rate = 500,title = title,\n",
        "                      lead_index = index )\n",
        "    ecg_plot.save_as_png('ecg',ecg_path+\"/\")\n",
        "  return combined_df"
      ],
      "metadata": {
        "id": "d-9RqL3CO7Be"
      },
      "execution_count": 122,
      "outputs": []
    },
    {
      "cell_type": "code",
      "source": [
        "model=Pulse2pulseGenerator()\n",
        "PATH=\"/content/artifacts/Model:v19/model\"\n",
        "model.load_state_dict(torch.load(PATH))"
      ],
      "metadata": {
        "colab": {
          "base_uri": "https://localhost:8080/"
        },
        "id": "DvWD7P6XRPWD",
        "outputId": "485232f8-9e87-44c2-acdb-827348342ae1"
      },
      "execution_count": 395,
      "outputs": [
        {
          "output_type": "execute_result",
          "data": {
            "text/plain": [
              "<All keys matched successfully>"
            ]
          },
          "metadata": {},
          "execution_count": 395
        }
      ]
    },
    {
      "cell_type": "code",
      "source": [
        "all_loss_list=[]\n",
        "all_loss_over_time_list=[]\n",
        "all_lead_pair_list=[]\n",
        "for Set in tqdm(test_dataset):\n",
        "  df_in,df_out=get_pred(Set=Set,model=model,random=False)\n",
        "  combined_df=plotECG(df_in,df_out,createECG=False)\n",
        "  #list of averages losses betwen lead pairs\n",
        "  loss_list=[]\n",
        "  #list of losses between lead pairs over time\n",
        "  loss_over_time_list=[]\n",
        "  #lead pair list for plotting lead pairs on top of each other\n",
        "  lead_pair_list=[]\n",
        "  criterion = nn.MSELoss()\n",
        "  #going over all columns in combined dataframe\n",
        "  for i in range(8):\n",
        "    t1=(torch.Tensor(combined_df.iloc[:,i]))\n",
        "    t2=(torch.Tensor(combined_df.iloc[:,i+8]))\n",
        "    lead_pair=(t1,t2)\n",
        "    lead_pair_list.append(lead_pair)\n",
        "    loss=criterion(t1,t2)\n",
        "    loss_list.append(loss)\n",
        "    loss_over_time=(t1-t2)**2\n",
        "    loss_over_time_list.append(loss_over_time) \n",
        "  all_loss_list.append(loss_list)\n",
        "  all_loss_over_time_list.append(loss_over_time_list)\n",
        "  all_lead_pair_list.append(lead_pair_list)\n",
        "\n",
        "  \n",
        "  "
      ],
      "metadata": {
        "colab": {
          "base_uri": "https://localhost:8080/",
          "height": 49,
          "referenced_widgets": [
            "61382f86208b41fcaa5c04c8a2b3c797",
            "c21d61c81f79488cb0f2c93e5342ca7a",
            "6478dc1eacad49a9b8adf7fb04932a47",
            "63e8c437e9e34c5c93f97679ce1d24e9",
            "d33678bb0e6144b28f2923d91cd1b0a0",
            "98b1f7c7a0574a3ebd500748fa4b8fad",
            "9f68752e778148109b872d38fe9ebadb",
            "eb408fcbfbfe41c7bbeac92bba0cd23d",
            "d104d0ca08c94ff98d1cb15fb15235be",
            "a761fe5ff4774b3fa5529d9847cd4241",
            "3c257dd9e23d46f39e89e8af37ecd533"
          ]
        },
        "id": "OvW153YI8xa0",
        "outputId": "560ef81c-4610-49ea-fa9a-8ea5a937ba44"
      },
      "execution_count": 396,
      "outputs": [
        {
          "output_type": "display_data",
          "data": {
            "text/plain": [
              "  0%|          | 0/2500 [00:00<?, ?it/s]"
            ],
            "application/vnd.jupyter.widget-view+json": {
              "version_major": 2,
              "version_minor": 0,
              "model_id": "61382f86208b41fcaa5c04c8a2b3c797"
            }
          },
          "metadata": {}
        }
      ]
    },
    {
      "cell_type": "code",
      "source": [
        "all_loss_over_time_list[0][7]"
      ],
      "metadata": {
        "colab": {
          "base_uri": "https://localhost:8080/"
        },
        "id": "rqJ1dFjCMCX0",
        "outputId": "3d2f54cb-f213-4ea2-d2d3-9ac285071dba"
      },
      "execution_count": 325,
      "outputs": [
        {
          "output_type": "execute_result",
          "data": {
            "text/plain": [
              "tensor([0.0013, 0.0018, 0.0079,  ..., 0.0050, 0.0075, 0.0026])"
            ]
          },
          "metadata": {},
          "execution_count": 325
        }
      ]
    },
    {
      "cell_type": "code",
      "source": [
        "#get average loss over time\n",
        "loss1=torch.empty(1,5000)\n",
        "loss2=torch.empty(1,5000)\n",
        "loss3=torch.empty(1,5000)\n",
        "loss4=torch.empty(1,5000)\n",
        "loss5=torch.empty(1,5000)\n",
        "loss6=torch.empty(1,5000)\n",
        "loss7=torch.empty(1,5000)\n",
        "loss8=torch.empty(1,5000)\n",
        "List_of_average_losses=[loss1,loss2,loss3,loss4,loss5,loss6,loss7,loss8]\n",
        "for k,loss_list in tqdm(enumerate(all_loss_over_time_list)):\n",
        "  for i in range(8):\n",
        "    List_of_average_losses[i]+=loss_list[i]\n",
        "for item in List_of_average_losses:\n",
        "  item/=2500\n",
        "\n",
        "\n"
      ],
      "metadata": {
        "colab": {
          "base_uri": "https://localhost:8080/",
          "height": 49,
          "referenced_widgets": [
            "c5cb9857d18f4c92b906d1574532967a",
            "4de40e0715994c11afb7b85c9f9ffe9d",
            "9f40985acdff4718a543447e1528fc5b",
            "05d2b443feca4c55931f4a653b51dbd8",
            "b57c543303554923b6a68d47b51137cb",
            "9042d485a055407fa7d4e82bd531c44a",
            "113dba4a8e5748f1a7882a3398e6fa97",
            "1488432413ad446daae40db5dbb2965d",
            "e9841a6eef38432c822be3762b42fe4e",
            "a1ac0d4621134c25834f3d1cddb349e6",
            "56499550891941db9ee496c9cf08bb18"
          ]
        },
        "id": "VN05SmLOCqIm",
        "outputId": "03dfc7f4-e6f0-4358-9697-46b274a1a94c"
      },
      "execution_count": 397,
      "outputs": [
        {
          "output_type": "display_data",
          "data": {
            "text/plain": [
              "0it [00:00, ?it/s]"
            ],
            "application/vnd.jupyter.widget-view+json": {
              "version_major": 2,
              "version_minor": 0,
              "model_id": "c5cb9857d18f4c92b906d1574532967a"
            }
          },
          "metadata": {}
        }
      ]
    },
    {
      "cell_type": "code",
      "source": [
        "loss_dict={\"I\":0,\n",
        "          \"II\":0,\n",
        "          \"v1\":0,\n",
        "          \"v2\":0,\n",
        "          \"v3\":0,\n",
        "          \"v4\":0,\n",
        "          \"v5\":0,\n",
        "          \"v6\":0}\n",
        "dictionaryofleads={\"0\":\"I\",\n",
        "                  \"1\":\"II\",\n",
        "                  \"2\":\"v1\",\n",
        "                  \"3\":\"v2\",\n",
        "                  \"4\":\"v3\",\n",
        "                  \"5\":\"v4\",\n",
        "                  \"6\":\"v5\",\n",
        "                  \"7\":\"v6\"}\n",
        "for k,loss_list in tqdm(enumerate(all_loss_list)):\n",
        "  for i in range(8):\n",
        "    t1=(torch.Tensor(combined_df.iloc[:,i]))\n",
        "    t2=(torch.Tensor(combined_df.iloc[:,i+8]))\n",
        "    loss=criterion(t1,t2)\n",
        "    index=dictionaryofleads[f\"{i}\"]\n",
        "    loss_dict[index]+=loss\n",
        "result = {key: value / len(all_loss_list) for key, value in loss_dict.items()}\n",
        "\n",
        "  \n",
        "\n",
        "\n",
        "\n",
        "\n"
      ],
      "metadata": {
        "colab": {
          "base_uri": "https://localhost:8080/",
          "height": 49,
          "referenced_widgets": [
            "284c870359574b0ab440944d93e35a80",
            "3d0edd4b3fe74fc38e256d3570749d87",
            "0f9c863fddc7482597afd98435df369f",
            "cef901bf01aa4b938f2c7f36b88437fa",
            "fd23804bb8734fefb941ee936c93f4d0",
            "9d6352d248494b47bdbe1b73ed4d6e24",
            "f6475520f9ba4a92a2958f63a97bae91",
            "b8df7d932d1f48c189f5045927b067b4",
            "6470f4dfa2fe4d84bcb11b5c03f38ab6",
            "5e50cacbac964d289279f0e00c7f1c0d",
            "f8f6818b0c444690b29f1ff0ac9dd50a"
          ]
        },
        "id": "_gUxRAlp__v-",
        "outputId": "14c0a56b-698d-4212-e2d5-a3149c0be364"
      },
      "execution_count": 398,
      "outputs": [
        {
          "output_type": "display_data",
          "data": {
            "text/plain": [
              "0it [00:00, ?it/s]"
            ],
            "application/vnd.jupyter.widget-view+json": {
              "version_major": 2,
              "version_minor": 0,
              "model_id": "284c870359574b0ab440944d93e35a80"
            }
          },
          "metadata": {}
        }
      ]
    },
    {
      "cell_type": "code",
      "source": [
        "result"
      ],
      "metadata": {
        "colab": {
          "base_uri": "https://localhost:8080/"
        },
        "id": "f6Po_4jQGdM9",
        "outputId": "5339499e-d6ea-4b72-a0d3-ea1e510206eb"
      },
      "execution_count": 399,
      "outputs": [
        {
          "output_type": "execute_result",
          "data": {
            "text/plain": [
              "{'I': tensor(0.),\n",
              " 'II': tensor(0.0157),\n",
              " 'v1': tensor(0.0147),\n",
              " 'v2': tensor(0.0227),\n",
              " 'v3': tensor(0.0147),\n",
              " 'v4': tensor(0.0117),\n",
              " 'v5': tensor(0.0088),\n",
              " 'v6': tensor(0.0069)}"
            ]
          },
          "metadata": {},
          "execution_count": 399
        }
      ]
    },
    {
      "cell_type": "code",
      "source": [],
      "metadata": {
        "colab": {
          "base_uri": "https://localhost:8080/"
        },
        "id": "dBm3jiaqZrDz",
        "outputId": "3b770d6e-73c3-4b5b-ab14-b4fe9eb0b74d"
      },
      "execution_count": 371,
      "outputs": [
        {
          "output_type": "execute_result",
          "data": {
            "text/plain": [
              "<All keys matched successfully>"
            ]
          },
          "metadata": {},
          "execution_count": 371
        }
      ]
    },
    {
      "cell_type": "code",
      "source": [
        "#create lists for averge loss and loss over time from random samples\n",
        "df_1,df_2=get_pred(dataset=test_dataset,Set=None,model=model,random=True)\n",
        "combined_df=plotECG(df_1,df_2,path=None,createECG=False)\n",
        "#list of averages losses betwen lead pairs\n",
        "loss_list=[]\n",
        "#list of losses between lead pairs over time\n",
        "loss_over_time_list=[]\n",
        "#lead pair list for plotting lead pairs on top of each other\n",
        "lead_pair_list=[]\n",
        "criterion = nn.MSELoss()\n",
        "#going over all columns in combined dataframe\n",
        "for i in range(8):\n",
        "  t1=(torch.Tensor(combined_df.iloc[:,i]))\n",
        "  t2=(torch.Tensor(combined_df.iloc[:,i+8]))\n",
        "  lead_pair=(t1,t2)\n",
        "  lead_pair_list.append(lead_pair)\n",
        "  loss=criterion(t1,t2)\n",
        "  loss_list.append(loss)\n",
        "  loss_over_time=(t1-t2)**2\n",
        "  loss_over_time_list.append(loss_over_time)\n",
        "\n",
        "\n"
      ],
      "metadata": {
        "id": "Y--SFx-fNJ-I"
      },
      "execution_count": 400,
      "outputs": []
    },
    {
      "cell_type": "code",
      "source": [
        "fig,axs=plt.subplots(8,figsize=(10,6))\n",
        "plt.ylabel(\"mV\")\n",
        "plt.xlabel(\"timesteps\")\n",
        "plt.title(\"Real and predicted lead pairs 1,2,v1,v2,v3,v4,v5,v6\", x=0.5,y=9.9)\n",
        "for k,(real,synth) in enumerate(lead_pair_list):\n",
        "  axs[k].plot(real.tolist(),label=\"real\",linewidth=0.5,c=\"g\",alpha=1)\n",
        "  axs[k].plot(synth.tolist(),label=\"prediction\",linewidth=0.5,c=\"r\",alpha=0.5)\n",
        "plt.legend(loc=1, bbox_to_anchor=(1,11))\n",
        "plt.savefig(f\"ECG_pairs{k}.pdf\", format=\"pdf\", bbox_inches=\"tight\")"
      ],
      "metadata": {
        "colab": {
          "base_uri": "https://localhost:8080/",
          "height": 439
        },
        "id": "7EvswlV4rjvo",
        "outputId": "719e5033-2403-4bd9-9122-d50d14f0a042"
      },
      "execution_count": 401,
      "outputs": [
        {
          "output_type": "display_data",
          "data": {
            "text/plain": [
              "<Figure size 720x432 with 8 Axes>"
            ],
            "image/png": "[encoded data removed]"
          },
          "metadata": {
            "needs_background": "light"
          }
        }
      ]
    },
    {
      "cell_type": "code",
      "source": [
        "def plot_ECG_loss_over_time(input=None):\n",
        "  \"\"\"\n",
        "  enter a list of losses over time \n",
        "  \"\"\"\n",
        "  import matplotlib.pyplot as plt\n",
        "  fig, axs = plt.subplots(8,figsize=(15,6))\n",
        "\n",
        "  for k,item in enumerate(input):\n",
        "    axs[k].plot(item.squeeze())\n",
        "\n",
        "plot_ECG_loss_over_time(List_of_average_losses)"
      ],
      "metadata": {
        "colab": {
          "base_uri": "https://localhost:8080/",
          "height": 385
        },
        "id": "LIgBjpY-YJsT",
        "outputId": "e7866c4a-46d2-41f8-8038-5455fb938b95"
      },
      "execution_count": 402,
      "outputs": [
        {
          "output_type": "display_data",
          "data": {
            "text/plain": [
              "<Figure size 1080x432 with 8 Axes>"
            ],
            "image/png": "[encoded data removed]"
          },
          "metadata": {
            "needs_background": "light"
          }
        }
      ]
    },
    {
      "cell_type": "code",
      "source": [],
      "metadata": {
        "id": "Q3osffL9b-X_"
      },
      "execution_count": null,
      "outputs": []
    }
  ]
}